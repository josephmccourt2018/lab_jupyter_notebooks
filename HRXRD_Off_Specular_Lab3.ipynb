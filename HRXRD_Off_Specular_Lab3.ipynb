{
 "cells": [
  {
   "cell_type": "markdown",
   "metadata": {},
   "source": [
    "&copy; Bedzyk Research Group 2020, Northwestern University"
   ]
  },
  {
   "cell_type": "markdown",
   "metadata": {},
   "source": [
    "<div class=\"alert alert-block alert-warning\">\n",
    "To start this project, in the top menu bar click $\\text{Cell}\\to \\text{ Run All}$. Then, scroll back up to the top of this document.\n",
    "</div>"
   ]
  },
  {
   "cell_type": "code",
   "execution_count": 1,
   "metadata": {},
   "outputs": [
    {
     "data": {
      "text/html": [
       "<script>\n",
       "code_show_2=true; \n",
       "function code_toggle_2() {\n",
       " if (code_show_2){\n",
       " $('div.input').hide();\n",
       " } else {\n",
       " $('div.input').show();\n",
       " }\n",
       " code_show_2 = !code_show_2\n",
       "} \n",
       "$( document ).ready(code_toggle_2);\n",
       "</script>\n",
       "The raw code for this Jupyter Notebook is by default hidden for easier reading.\n",
       "To toggle on/off the raw code for this entire notebook, click <a href=\"javascript:code_toggle_2()\">here</a>."
      ],
      "text/plain": [
       "<IPython.core.display.HTML object>"
      ]
     },
     "execution_count": 1,
     "metadata": {},
     "output_type": "execute_result"
    }
   ],
   "source": [
    "#http://blog.nextgenetics.net/?e=102\n",
    "from IPython.display import HTML\n",
    "HTML('''<script>\n",
    "code_show_2=true; \n",
    "function code_toggle_2() {\n",
    " if (code_show_2){\n",
    " $('div.input').hide();\n",
    " } else {\n",
    " $('div.input').show();\n",
    " }\n",
    " code_show_2 = !code_show_2\n",
    "} \n",
    "$( document ).ready(code_toggle_2);\n",
    "</script>\n",
    "The raw code for this Jupyter Notebook is by default hidden for easier reading.\n",
    "To toggle on/off the raw code for this entire notebook, click <a href=\"javascript:code_toggle_2()\">here</a>.''')\n"
   ]
  },
  {
   "cell_type": "markdown",
   "metadata": {},
   "source": [
    "<div class=\"alert alert-block alert-warning\">\n",
    "Raw code is hidden by default for the entire notebook. You can toggle on/off the raw code for this entire notebook by clicking the button above. More importantly, raw code for individual cells can be shown/hidden by using the message/button: <img src=\"images/show_hide_button.png\"/> Hiding the code is mainly for visual purposes and may be useful if you would like a hard copy (i.e. pdf) of this document. However, there are also instances where you will need to show the code cell so you can input different parameters. This button will show up repeatedly throughout this document. Try showing and hiding the code in the cell block below as an example.\n",
    "</div>"
   ]
  },
  {
   "cell_type": "code",
   "execution_count": 2,
   "metadata": {},
   "outputs": [
    {
     "data": {
      "text/html": [
       "<script>\n",
       "code_show=true; \n",
       "function code_toggle() {\n",
       "    if (code_show){\n",
       "        $('div.cell.code_cell.rendered.selected div.input').hide();\n",
       "    } else {\n",
       "        $('div.cell.code_cell.rendered.selected div.input').show();\n",
       "    }\n",
       "    code_show = !code_show\n",
       "} \n",
       "$( document ).ready(code_toggle);\n",
       "</script>\n",
       "(To show/hide this cell's raw code input, click <a href=\"javascript:code_toggle()\">here</a>.)"
      ],
      "text/plain": [
       "<IPython.core.display.HTML object>"
      ]
     },
     "metadata": {},
     "output_type": "display_data"
    }
   ],
   "source": [
    "# importing the necessary libraries and packages for XRR.ipynb\n",
    "import ipywidgets as widgets\n",
    "from ipywidgets import Label, Layout\n",
    "from IPython.display import display, Markdown, clear_output\n",
    "from IPython.display import display\n",
    "from IPython.display import Image\n",
    "#%matplotlib notebook\n",
    "import matplotlib.pyplot as plt\n",
    "import numpy as np\n",
    "import pandas as pd\n",
    "import math\n",
    "from scipy.optimize import curve_fit\n",
    "from scipy.special import erfc\n",
    "from scipy import integrate\n",
    "from IPython.display import IFrame\n",
    "\n",
    "\n",
    "\n",
    "# Taken from https://stackoverflow.com/questions/31517194/how-to-hide-one-specific-cell-input-or-output-in-ipython-notebook\n",
    "# https://gist.github.com/Zsailer/5d1f4e357c78409dd9a5a4e5c61be552\n",
    "\n",
    "# This tag allows the supression of input cells that have to deal with formatting and code.\n",
    "# You are viewing the \"code\" version of the \"click here\" button you just pressed\n",
    "tag = HTML('''<script>\n",
    "code_show=true; \n",
    "function code_toggle() {\n",
    "    if (code_show){\n",
    "        $('div.cell.code_cell.rendered.selected div.input').hide();\n",
    "    } else {\n",
    "        $('div.cell.code_cell.rendered.selected div.input').show();\n",
    "    }\n",
    "    code_show = !code_show\n",
    "} \n",
    "$( document ).ready(code_toggle);\n",
    "</script>\n",
    "(To show/hide this cell's raw code input, click <a href=\"javascript:code_toggle()\">here</a>.)''')\n",
    "display(tag)"
   ]
  },
  {
   "cell_type": "markdown",
   "metadata": {},
   "source": [
    "# Jupyter Notebook Introduction\n",
    "\n",
    "Jupyter Notebook is a an open source web application/user interface that allows users to create and share documents containing code, equations, visualizations, and narrative text by using a combination of different programming languages. In this Jupyter Notebook (*XRR.ipynb*), we will be using **Python 3** for all analysis purposes (in the top right corner of this page, you will see the tag Python 3 which tells you the programming language of the notebook). The most important concept of Jupyter Notebooks is the concept of a **cell block**. Clicking on a block of text or code will highlight (in blue in this case) the current cell block you are viewing. Click on this block of text. In the menu bar at the top of this document, you will see a drop down menu: <img src=\"images/markdown_dropdown.png\"/> \n",
    "\n",
    "**Markdown** is referring the type of this cell block. Markdown is a text formatting language supported in Jupyter Notebook. By *double clicking* on the text you are reading right now, you will see the Markdown version of the cell block. You will see the other types of supported cell blocks by clicking the drop down menu. For example, \"Code\" is another type of cell block you will be seeing in this document and they all contain snippets of Python 3 code. \n",
    "\n",
    "To run code of a particular cell block, click into the cell and either click the run button above: \n",
    "\n",
    "<img src=\"images/run_jupyter.png\"/>\n",
    "\n",
    "or click \"Shift+Enter\" on your keyboard. Running a cell will also allow you to exit the \"code view\" version of a Markdown cell block. \n",
    "\n",
    "That is all you will need to know for this laboratory exercise. Have fun and we welcome any positive/negative feedback!\n",
    "\n",
    ">**NOTE:** *Do not worry if you do not know Python or Markdown as there is no coding necessary for completing this project. In fact, most code cells can be left hidden for the entire exercise and you never even have to see code!*"
   ]
  },
  {
   "cell_type": "markdown",
   "metadata": {},
   "source": [
    "# Re-accessing X-ray Lab Server\n",
    "\n",
    "<div class=\"alert alert-block alert-danger\">\n",
    "Before beginning, make sure to locate your netID folder. This is where you will be saving all of your data. You should have already created a folder during the X-ray Reflectivity Exercise (Lab 1).\n",
    "\n",
    "<br/>\n",
    "    \n",
    "In general, to save a scan: $\\text{ Right click on scan } \\to \\text{ Save data }\\to \\text{ to File}$ \n",
    "<br/><br/>\n",
    "On the lab computer, the location of the server is:\n",
    "<br/><br/>\n",
    "$\\text{This PC} \\to \\text{mrc_xrayfac (\\\\\\\\resfiles.northwestern.edu)(Z:)} \\to \\text{netID folders} \\to \\text{[your_net_ID]}$\n",
    "\n",
    "    \n",
    "You may also wish to mount the server onto your computer. Click the following link and follow the appropriate steps if you would like to do so:\n",
    ">https://kb.northwestern.edu/page.php?id=70525\n",
    "\n",
    "For further clarification, see *XRR.ipynb* in this same directory.\n",
    "\n",
    " \n",
    "</div>"
   ]
  },
  {
   "cell_type": "markdown",
   "metadata": {},
   "source": [
    "# *Before You Begin...*\n",
    "Please verify what SmartLab model you are using. In the cell block below, please click on the machine and software that corresponds to your SmartLab. You will see a screen shot of the software for the machine you click on.\n",
    "\n",
    "After selecting, navigate into the cell block below the screen shot. Click $\\text{Cell}\\to \\text{ Run All Below}$ to update the instructions tailored to your machine.\n",
    "\n",
    "Most of the lab will be performed within the *Pro/Manual Control* window of the Smartlab softwares (circled in red in the screenshots)."
   ]
  },
  {
   "cell_type": "code",
   "execution_count": 3,
   "metadata": {},
   "outputs": [
    {
     "data": {
      "text/html": [
       "<script>\n",
       "code_show=true; \n",
       "function code_toggle() {\n",
       "    if (code_show){\n",
       "        $('div.cell.code_cell.rendered.selected div.input').hide();\n",
       "    } else {\n",
       "        $('div.cell.code_cell.rendered.selected div.input').show();\n",
       "    }\n",
       "    code_show = !code_show\n",
       "} \n",
       "$( document ).ready(code_toggle);\n",
       "</script>\n",
       "(To show/hide this cell's raw code input, click <a href=\"javascript:code_toggle()\">here</a>.)"
      ],
      "text/plain": [
       "<IPython.core.display.HTML object>"
      ]
     },
     "metadata": {},
     "output_type": "display_data"
    },
    {
     "data": {
      "application/vnd.jupyter.widget-view+json": {
       "model_id": "7f4d13f5052a4b1a88844a4bb9edc71c",
       "version_major": 2,
       "version_minor": 0
      },
      "text/plain": [
       "VBox(children=(Button(button_style='warning', description='Smartlab Gen 1, Guidance', layout=Layout(width='300…"
      ]
     },
     "metadata": {},
     "output_type": "display_data"
    }
   ],
   "source": [
    "display(tag)\n",
    "\n",
    "machine_toggle_1 = widgets.ToggleButton(\n",
    "    value=False,\n",
    ")\n",
    "\n",
    "machine_button_1 = widgets.Button(\n",
    "    description='Smartlab Gen 1, Guidance',\n",
    "    disabled=False,\n",
    "    button_style='Warning', # 'success', 'info', 'warning', 'danger' or ''\n",
    "    layout={'width': '300px'}\n",
    ")\n",
    "\n",
    "machine_toggle_2 = widgets.ToggleButton(\n",
    "    value=False,\n",
    ")\n",
    "\n",
    "machine_button_2 = widgets.Button(\n",
    "    description='Smartlab Gen 2, Studio II',\n",
    "    disabled=False,\n",
    "    button_style='Warning', # 'success', 'info', 'warning', 'danger' or ''\n",
    "    layout={'width': '300px'}\n",
    ")\n",
    "\n",
    "#defining what the button will do on clicking: output a screenshot of each software\n",
    "def on_button_clicked_machine_1(b):\n",
    "    clear_output()\n",
    "    display(machines)\n",
    "    machine_toggle_1.value = True\n",
    "    machine_toggle_2.value = False\n",
    "    display(Image(filename='images/guidance_3.png'))   \n",
    "def on_button_clicked_machine_2(b):\n",
    "    clear_output()\n",
    "    display(machines)\n",
    "    machine_toggle_1.value = False\n",
    "    machine_toggle_2.value = True\n",
    "    display(Image(filename='images/studio_II_3.png'))\n",
    "    \n",
    "\n",
    "machine_button_1.on_click(on_button_clicked_machine_1)\n",
    "machine_button_2.on_click(on_button_clicked_machine_2)\n",
    "        \n",
    "#displaying the buttons for the two types of machines\n",
    "machine_button_layout = widgets.Layout(align_items='center')\n",
    "machines = widgets.VBox(children=[machine_button_1,machine_button_2],layout=machine_button_layout)\n",
    "display(machines)"
   ]
  },
  {
   "cell_type": "markdown",
   "metadata": {},
   "source": [
    "# Click $\\text{Cell}\\to \\text{Run  All  Below}$ when inside of this cell after selecting your instrument."
   ]
  },
  {
   "cell_type": "markdown",
   "metadata": {},
   "source": [
    "<br/><br/>\n",
    "<div align=\"center\">\n",
    "<font size=\"18\" color=\"#990000\"><b> Thin Film <br/> <br/> Off-Specular X-ray Diffraction </b></font>\n",
    "</div>\n",
    "\n",
    "# Overview of the technique"
   ]
  },
  {
   "cell_type": "markdown",
   "metadata": {},
   "source": [
    "Lab 2 (HRXRD Specular) established the out-of-plane lattice orientation with respect to the substrate ($\\alpha$ $\\text{Al}_2\\text{O}_3$ (006)) (Pt (111) or $\\alpha$ Fe2O3 (006) parallel to $\\alpha$ $\\text{Al}_2\\text{O}_3$ (006)). You also determined domain size and strain (i.e. d-spacing). In lab 3, we will find if the film in-plane lattice vectors of the film and substrate are aligned (versus out-of-plane as done in lab 2). This exercise is to prove that the film is indeed an epitaxial film. The film could in fact be *textured*. If the film had a definite orientation in the out of plane direction, it could be that the film was textured such that in-plane domains were random. You should find that the film is not textured but has in plane epitaxial relation to the underlying substrate. To do this, we need to move the diffractometer axis such that we can line up off-specular Bragg peaks.\n",
    "\n",
    "Prior to the lab, you need to plan this exercise by using CrystalMaker and subsidiary program SingleCrystal to judicioulsy locate *families* of off-specular Bagg peaks. $\\phi$ scans about the $c$ axis at fixed $\\chi$ and $2\\theta / \\omega$ at specified (hkl) Bragg reflections will give you the in-plane orientation of the film to substrate. You should have used Single Crystal to determine what off-specular film and substrate (hkl) reflections you will target for this exercise.\n",
    "\n",
    "To do the $\\phi$ scan and hit each of the reflections in a given family, you need to first align the $\\text{Al}_2\\text{O}_3$ G$_{(006)}$ along the $\\phi$ axis by adjusting R$_x$ and R$_y$ at the $2\\theta / \\omega$ value of the sapphire (006) peak.\n",
    "\n",
    "<div align=\"center\">\n",
    "<FIGURE> \n",
    "   <img src=\"images/Fig1_HXRD_SmartLab_v2.png\" />\n",
    "   <FIGCAPTION> <b>Fig. 1:</b> <i> SmartLab Diffractometer with Ge (220) 2-bounce monochromator option inserted to increase the resolution. \n",
    "</FIGURE>\n",
    "</div>\n"
   ]
  },
  {
   "cell_type": "markdown",
   "metadata": {},
   "source": [
    "## 1. CrystalMaker and SingleCrystal\n",
    "\n",
    "If you have not already done so, install *CrystalMaker* and *SingleCrystal* (you may as well install *CrystalDiffract* as well, but we will not be using that application here).\n",
    "> https://www.mccormick.northwestern.edu/materials-science/crystalmaker/\n",
    "\n",
    "**NOTE**: There is no Linux distribution avaialble for the CrystalMaker Suite softwares.\n",
    "\n",
    "Open up CrystalMaker\n",
    "\n",
    "In <strong>Single Crystal</strong>, in top menu bar, select Diffraction -> Select X-ray and Weighted Reciprocal Lattice\n",
    "\n",
    "Then set direcion to (0 0 6) (or (0 0 1)) within the Single Crystal window\n",
    "\n",
    "Go to layer 4\n",
    "\n",
    "Click Stereogram, make sure view Stereogram is selected\n",
    "\n",
    "Click on an (hkl) pole that you have entered (have to figure out what pole you will be looking for)\n",
    "\n",
    "Notice that when you look at stereographic projections, it will give you value of elevation angle and its bearing angle. The elevation angle is the compliment of $\\chi$ on the SmartLab diffractometer ($\\chi$ is tilt, see figure). The bearing angle is equivalent to the $\\phi$ (azimuthal) angle plus some offset in $\\phi$. Also in SingleCrystal, you can find the $2\\theta$ value if you eneter $\\lambda = 1.5405 \\text{ nm}$ and your $\\omega$ value will be $\\frac{1}{2}2\\theta$\n",
    "\n",
    "Within the Stereogram in Single Crystal, record the bearing (relative $\\phi$, absolute determined once we find a peak) and the elevation (90 - $\\chi$). Make sure you pick (hkl) that are sufficiently strong. This you can see by selecting the point in the Single Crystal weighted reciprocal lattice. You will find $\\frac{I}{I{_\\text{max}}}$. Also within the weighted reciprocal lattice, you will find a $2\\theta$ value. Also make sure they are sufficiently off-specular.\n",
    "- Example: For $\\text{Al}_2\\text{O}_3$, ($\\bar{1} 1 4$), bearing = 90 (+n120), elevation = 51.8 (family = ($0\\bar{1}4$) and ($104$)), 3 fold $\\phi$ scan at $\\chi = 90 - 51.8 = 38.2$ (this relatively storng reflection (34%) was found in layer 4 of Single Crystal. A weaker but more off-specular family will be found in layer 1 ($2\\bar{1}1$) with 6-fold symmetry (bearing = 0 +/- n60 for 6 fold, elevation = 10.4 (90 - 10.4 = $\\chi$))\n"
   ]
  },
  {
   "cell_type": "markdown",
   "metadata": {},
   "source": [
    "### _Important Parameters_\n",
    "\n",
    "The cell below is place where you can record various important parameters that will come up throughout the experiment. \n",
    "\n",
    "Whenever you update the values, make sure to run the cell by clicking into the cell and either clicking the run button above: <img src=\"images/run_jupyter.png\"/>\n",
    "or by clicking \"Shift+Enter\" on your keyboard.\n",
    "\n",
    "To test if you executed the cell, the parameters and their values will all be listed in the drop down menu below where you can click \"Print Variable\" to see its value.\n",
    "\n",
    "Show the cell block's raw code by clicking the toggle button below and then input your parameter values."
   ]
  },
  {
   "cell_type": "code",
   "execution_count": 4,
   "metadata": {},
   "outputs": [
    {
     "data": {
      "text/html": [
       "<script>\n",
       "code_show=true; \n",
       "function code_toggle() {\n",
       "    if (code_show){\n",
       "        $('div.cell.code_cell.rendered.selected div.input').hide();\n",
       "    } else {\n",
       "        $('div.cell.code_cell.rendered.selected div.input').show();\n",
       "    }\n",
       "    code_show = !code_show\n",
       "} \n",
       "$( document ).ready(code_toggle);\n",
       "</script>\n",
       "(To show/hide this cell's raw code input, click <a href=\"javascript:code_toggle()\">here</a>.)"
      ],
      "text/plain": [
       "<IPython.core.display.HTML object>"
      ]
     },
     "metadata": {},
     "output_type": "display_data"
    }
   ],
   "source": [
    "# Here is a list of important parameters for you to fill out\n",
    "display(tag)\n",
    "\n",
    "th_true_zero = 0.02\n",
    "straight_through_beam = 5e8 #cps"
   ]
  },
  {
   "cell_type": "code",
   "execution_count": 5,
   "metadata": {},
   "outputs": [
    {
     "data": {
      "application/vnd.jupyter.widget-view+json": {
       "model_id": "5d52d374896a41a1ae8fc778ad57f8d1",
       "version_major": 2,
       "version_minor": 0
      },
      "text/plain": [
       "VBox(children=(Dropdown(options=('th_true_zero', 'straight_through_beam'), value='th_true_zero'), Button(descr…"
      ]
     },
     "metadata": {},
     "output_type": "display_data"
    }
   ],
   "source": [
    "# selecting variables for button\n",
    "button_variables = ['th_true_zero','straight_through_beam']\n",
    "funcs = []\n",
    "for i in button_variables:\n",
    "    funcs.append(i)\n",
    " \n",
    "# creating menu with them   \n",
    "button_vars = widgets.Dropdown(\n",
    "    options=funcs)\n",
    "# button, output, function and linkage\n",
    "butt = widgets.Button(description='Print Variable')\n",
    "outt = widgets.Output()\n",
    "def on_butt_clicked(b):\n",
    "    with outt:\n",
    "        clear_output()\n",
    "        #print(type(globals()[button_vars.value]))\n",
    "        print(globals()[button_vars.value])\n",
    "        \n",
    "butt.on_click(on_butt_clicked)\n",
    "# display\n",
    "widgets.VBox([button_vars,butt,outt])"
   ]
  },
  {
   "cell_type": "markdown",
   "metadata": {},
   "source": [
    "## 2. Sample Alignment (Thin Film Off Specular)\n",
    "\n",
    "Make sure the Ge (220) monochromator is in place. In addition, we will insert a $2$mm length limiting slit. Check with your lab supervisor that your equipment is set up correctly.\n",
    "\n",
    "##### Prior to  sample alignment, the optics, sample goniometer, and detector slits have been prealigned by the XRD facility staff.  You can eventually learn how to do this alignment on your own with a set of automated procedures that are part of the SmartLab software control system. "
   ]
  },
  {
   "cell_type": "markdown",
   "metadata": {},
   "source": [
    "## Before Aligning Sample...\n",
    "\n",
    "As we did in Lab 2, before we perform the X-ray Diffraction experiment, we need to look a little more into the alignment of the diffractometer. \n",
    "\n",
    "We are going to perform a $2\\theta$ scan (<b>NOT</b> $2\\theta$/$\\omega$ or $\\theta/ 2\\theta$) to see how well the slits on the detector arm are aligned with the incident beam. The located peak position will tell us our true zero for all of our future $2\\theta$/$\\omega$ scans. This number, should be subtracted from all measured peak values in $2\\theta$/$\\omega$ scans to acquire the true $2\\theta$ peak position value, which in turn is used to calulate the d-spacing of the Bragg peak by Braggs' Law. Note the slight offset of the center of the peak from zero in the example scan below.\n",
    "\n",
    "To perform this scan, set up the slits to the following: IS$=0.5$ mm, RS$_1=0.7$ mm, RS$_2=0.7$ mm. Move the $Z$ position to $-3$ mm (to move the sample out of the incident beam). Perform a relative $2\\theta$ scan from $-0.2$ to $0.2$ with a $0.02$ step size at $0.5$ degree per minute. Note down the value of the $2\\theta$ peak FWHM center position in the <b>Important Parameters</b> section above. You will need this value for your future analysis. This is also the $2\\theta$ position you want for the sample when doing the straight through beam (STB) intensity (cps) measurement and Z-scan sample alignment. The width of the flat top region corresponds to the part of the scan where the width of the incident beam fits inside RS2 slit width without being clipped. The bigger this flat top the more background is included in the scan. The smaller the width, the more susceptible the scan will be to misalignment at different angles of the scan."
   ]
  },
  {
   "cell_type": "code",
   "execution_count": 6,
   "metadata": {},
   "outputs": [
    {
     "data": {
      "text/html": [
       "<script>\n",
       "code_show=true; \n",
       "function code_toggle() {\n",
       "    if (code_show){\n",
       "        $('div.cell.code_cell.rendered.selected div.input').hide();\n",
       "    } else {\n",
       "        $('div.cell.code_cell.rendered.selected div.input').show();\n",
       "    }\n",
       "    code_show = !code_show\n",
       "} \n",
       "$( document ).ready(code_toggle);\n",
       "</script>\n",
       "(To show/hide this cell's raw code input, click <a href=\"javascript:code_toggle()\">here</a>.)"
      ],
      "text/plain": [
       "<IPython.core.display.HTML object>"
      ]
     },
     "metadata": {},
     "output_type": "display_data"
    },
    {
     "data": {
      "image/png": "[encoded data removed]",
      "text/plain": [
       "<Figure size 432x288 with 1 Axes>"
      ]
     },
     "metadata": {
      "needs_background": "light"
     },
     "output_type": "display_data"
    }
   ],
   "source": [
    "display(tag)\n",
    "df_2theta = pd.read_table('https://raw.githubusercontent.com/josephmccourt2018/lab_jupyter_notebooks/master/example/461_test/PLD50nmFe2O3_Al2O3/HRXRD_Lab/2th_stb.ras',sep = '\\s+',comment='*',names = [\"2TH\",\"Intensity\", \"attenuatation\"],header = None)\n",
    "plt.figure()\n",
    "plt.suptitle('Fig. 3:', fontsize=14, fontweight='bold')\n",
    "plt.title('Example $2\\\\theta$ Scan')\n",
    "plt.plot(df_2theta[df_2theta.columns[0]],df_2theta[df_2theta.columns[1]]*df_2theta[df_2theta.columns[2]])\n",
    "plt.yscale('log')\n",
    "plt.xlabel(\"$2\\\\theta$($^{\\circ}$)\")\n",
    "plt.ylabel(df_2theta.columns[1]+\" (counts)\")\n",
    "plt.show()"
   ]
  },
  {
   "cell_type": "markdown",
   "metadata": {},
   "source": [
    "### Follow the instructions and put a check mark in each step as you advance. These steps are to align the thin film sample in preparation for measurements."
   ]
  },
  {
   "cell_type": "code",
   "execution_count": 7,
   "metadata": {},
   "outputs": [
    {
     "data": {
      "text/html": [
       "<script>\n",
       "code_show=true; \n",
       "function code_toggle() {\n",
       "    if (code_show){\n",
       "        $('div.cell.code_cell.rendered.selected div.input').hide();\n",
       "    } else {\n",
       "        $('div.cell.code_cell.rendered.selected div.input').show();\n",
       "    }\n",
       "    code_show = !code_show\n",
       "} \n",
       "$( document ).ready(code_toggle);\n",
       "</script>\n",
       "(To show/hide this cell's raw code input, click <a href=\"javascript:code_toggle()\">here</a>.)"
      ],
      "text/plain": [
       "<IPython.core.display.HTML object>"
      ]
     },
     "metadata": {},
     "output_type": "display_data"
    },
    {
     "name": "stdout",
     "output_type": "stream",
     "text": [
      "Instructions for SmartLab Studio II\n"
     ]
    },
    {
     "data": {
      "application/vnd.jupyter.widget-view+json": {
       "model_id": "a2a6ba72bf4d46f89712aefc0c9dc217",
       "version_major": 2,
       "version_minor": 0
      },
      "text/plain": [
       "GridBox(children=(Checkbox(value=False, description='<strong> Step </strong>1:'), HTMLMath(value='Make sure th…"
      ]
     },
     "metadata": {},
     "output_type": "display_data"
    },
    {
     "data": {
      "application/vnd.jupyter.widget-view+json": {
       "model_id": "f69baccdd91b4dc08d69fb2e4ba163e4",
       "version_major": 2,
       "version_minor": 0
      },
      "text/plain": [
       "GridBox(children=(Checkbox(value=False, description='<strong> Step </strong>2:'), HTMLMath(value='In Pro Contr…"
      ]
     },
     "metadata": {},
     "output_type": "display_data"
    },
    {
     "data": {
      "application/vnd.jupyter.widget-view+json": {
       "model_id": "adfaff20b4fe45db82f3c0f29819c66b",
       "version_major": 2,
       "version_minor": 0
      },
      "text/plain": [
       "GridBox(children=(Checkbox(value=False, description='<strong> Step </strong>3:'), HTMLMath(value='Make sure Au…"
      ]
     },
     "metadata": {},
     "output_type": "display_data"
    },
    {
     "data": {
      "application/vnd.jupyter.widget-view+json": {
       "model_id": "9650d4be0d104fa78ca8ade6a3e5899b",
       "version_major": 2,
       "version_minor": 0
      },
      "text/plain": [
       "GridBox(children=(Checkbox(value=False, description='<strong> Step </strong>4:'), HTMLMath(value='Perform an A…"
      ]
     },
     "metadata": {},
     "output_type": "display_data"
    },
    {
     "data": {
      "application/vnd.jupyter.widget-view+json": {
       "model_id": "50c9ce82d17540ce920de97fb09574b1",
       "version_major": 2,
       "version_minor": 0
      },
      "text/plain": [
       "GridBox(children=(Checkbox(value=False, description='<strong> Step </strong>5:'), HTMLMath(value='The scan sho…"
      ]
     },
     "metadata": {},
     "output_type": "display_data"
    },
    {
     "data": {
      "application/vnd.jupyter.widget-view+json": {
       "model_id": "4df047038c1a4ed981196322216e267d",
       "version_major": 2,
       "version_minor": 0
      },
      "text/plain": [
       "GridBox(children=(Checkbox(value=False, description='<strong> Step </strong>6:'), HTMLMath(value='Select R$_y$…"
      ]
     },
     "metadata": {},
     "output_type": "display_data"
    },
    {
     "data": {
      "application/vnd.jupyter.widget-view+json": {
       "model_id": "ae15806189f04411ba062c8c4eb2d639",
       "version_major": 2,
       "version_minor": 0
      },
      "text/plain": [
       "GridBox(children=(Checkbox(value=False, description='<strong> Step </strong>7:'), HTMLMath(value='Perform a R$…"
      ]
     },
     "metadata": {},
     "output_type": "display_data"
    },
    {
     "data": {
      "application/vnd.jupyter.widget-view+json": {
       "model_id": "165f5e9f0d2e450bbf7e5d2b4727057c",
       "version_major": 2,
       "version_minor": 0
      },
      "text/plain": [
       "GridBox(children=(Checkbox(value=False, description='<strong> Step </strong>8:'), HTMLMath(value='Select the $…"
      ]
     },
     "metadata": {},
     "output_type": "display_data"
    },
    {
     "data": {
      "application/vnd.jupyter.widget-view+json": {
       "model_id": "9a8ffb17de104d56bbae79b1ef23151e",
       "version_major": 2,
       "version_minor": 0
      },
      "text/plain": [
       "GridBox(children=(Checkbox(value=False, description='<strong> Step </strong>3:'), HTMLMath(value='Make sure Au…"
      ]
     },
     "metadata": {},
     "output_type": "display_data"
    },
    {
     "data": {
      "application/vnd.jupyter.widget-view+json": {
       "model_id": "aa13e1adf8494436954291b9bb3c7ff9",
       "version_major": 2,
       "version_minor": 0
      },
      "text/plain": [
       "GridBox(children=(Checkbox(value=False, description='<strong> Step </strong>10:'), HTMLMath(value='Perform ano…"
      ]
     },
     "metadata": {},
     "output_type": "display_data"
    },
    {
     "data": {
      "application/vnd.jupyter.widget-view+json": {
       "model_id": "8edb72ea378a46e9a074039f4bc73706",
       "version_major": 2,
       "version_minor": 0
      },
      "text/plain": [
       "GridBox(children=(Checkbox(value=False, description='<strong> Step </strong>11:'), HTMLMath(value='Save $Z$ sc…"
      ]
     },
     "metadata": {},
     "output_type": "display_data"
    },
    {
     "data": {
      "application/vnd.jupyter.widget-view+json": {
       "model_id": "3c5a04107bcc4efab16fff865c42253d",
       "version_major": 2,
       "version_minor": 0
      },
      "text/plain": [
       "GridBox(children=(Checkbox(value=False, description='<strong> Step </strong>12:'), HTMLMath(value='Record the …"
      ]
     },
     "metadata": {},
     "output_type": "display_data"
    },
    {
     "data": {
      "application/vnd.jupyter.widget-view+json": {
       "model_id": "d71fba9517d246d99632060ce20403be",
       "version_major": 2,
       "version_minor": 0
      },
      "text/plain": [
       "GridBox(children=(Checkbox(value=False, description='<strong> Step </strong>13:'), HTMLMath(value='Now, move t…"
      ]
     },
     "metadata": {},
     "output_type": "display_data"
    },
    {
     "data": {
      "application/vnd.jupyter.widget-view+json": {
       "model_id": "b32a0a829a434678adf443df357a9f6d",
       "version_major": 2,
       "version_minor": 0
      },
      "text/plain": [
       "Button(button_style='info', description='Finish!', style=ButtonStyle())"
      ]
     },
     "metadata": {},
     "output_type": "display_data"
    }
   ],
   "source": [
    "display(tag)\n",
    "\n",
    "#Displaying a checklist for to do list\n",
    "#https://stackoverflow.com/questions/41469554/python-jupyter-notebook-create-dynamic-checklist-user-input-that-runs-code\n",
    "\n",
    "alignment_guidance = ['Make sure the sample is centered on the stage (circular plate). If not, ask the XRD facility staff to reposition the sample.',\n",
    "            'In Manual Control, select $Z$ from the Axis list. Make sure slits are the same as they were for the $2\\\\theta$ scan. These slit values were determined specifically for your lab experiment. The reduced intensity caused by the monochromator will be somewhat mitigated by larger slits (compared to the XRR experiment). Ask your supervisor for more information.',\n",
    "            'Make sure Automatic Attenuator is checked in the Scan Tab.',\n",
    "            'Perform an Absolute $Z$ scan by entering the following values [range = $-3$ to $0$ mm, step $= 0.02$ mm/step, speed$=4$ mm/min] and clicking on Scan to start. This is a coarse $Z$ scan done to locate our sample. <b><i>NOTE:</b> The units for the scan speed will actually be mm/min even though the template shows deg/min.',\n",
    "            'The scan should show a flat line, followed by a drop to zero once the beam crosses the sample. You can read off the $Z$ postion values by moving the cross hairs in the Display Area. Move the $Z$ position to the halfway point of this \"drop\" by entering the $Z$ value you read off in the Move box and clicking Move (i.e. when the incoming beam reaches half its intensity).',\n",
    "            'Select R$_y$ from the Axis List. Check the option Move to Peak.',\n",
    "            'Perform a R$_y$ scan [relative -$1$ to $1$, step$=0.01$ deg/step, speed$=4$ deg/min]. Again, make sure Automatic Attenuator is checked. The located peak will be labeled with a red X.',\n",
    "            'Now perform another $Z$ scan [Relative -$0.25$ to $0.25$, step$=0.002$ mm/step, speed$=2$ mm/min]. Make sure the option Relative is selected. Notice, your most recent scan will be colored RED. Again, move to the same \"halfway\" point',\n",
    "            'Save $Z$ scan by clicking on the save icon (\"floppy disk\"). Save in your netID directory in the following format: \"z_stb.ras\".',\n",
    "            'Record the Straight Through Beam Intensity (STB) in the $\\\\textbf{Important Parameters}$ section above. To find the STB, in the top of the screen select the chart tab. Click on Coordinate and place the cursor at the maximum value of your scan. It should be around ($5\\\\times 10^{7}$ cps)',\n",
    "            'Now, move the sample out of the way of the incoming beam (i.e. move the sample down 2 mm). Perform a $2\\\\theta / \\chi$ scan [relative -$2.5$ to $2.5$ deg, step = $0.05$ deg, speed = $5$ deg/min]. Move to the center of the peak. This is the first time you have used the $\\chi$ motor in your lab experiments. Refer to the diffractometer figure above to understand how $\\chi$ is defined.']\n",
    "\n",
    "\n",
    "# To do list containing all the steps for XRR on SmartLab Gen 2\n",
    "alignment_studio = ['Make sure the sample is centered on the stage (circular plate). If not, ask the XRD facility staff to reposition the sample.',\n",
    "            'In Pro Control, select $Z$ from the Axis list. Make sure slits are the same as they were for the $2\\\\theta$ scan. These slit values were determined specifically for your lab experiment. The reduced intensity caused by the monochromator will be somewhat mitigated by larger slits (compared to the XRR experiment). Ask your supervisor for more information.',\n",
    "            'Make sure Automatic Attenuator is checked in the Scan Tab.',\n",
    "            'Perform an Absolute $Z$ scan by entering the following values [range = $-3$ to $0$ mm, step $= 0.02$ mm/step, speed$=4$ mm/min] and clicking on Scan to start. This is a coarse $Z$ scan done to locate our sample.',\n",
    "            'The scan should show a flat line, followed by a drop to zero once the beam crosses the sample. You can read off the $Z$ postion values by moving the cross hairs in the Display Area. Move the $Z$ position to the halfway point of this \"drop\" by entering the $Z$ value you read off in the Move box and clicking Move (i.e. when the incoming beam reaches half its intensity).',\n",
    "            'Select R$_y$ from the Axis List. Check the option Move to Peak in the Post scan Tab. There, click on the option $\\\\text{Set...}$ and select Full Width at Half Maximum Center (or Maxium Intensity) for Peak Search Method. Click $\\\\text{Ok}$.',\n",
    "            'Perform a R$_y$ scan [relative -$1$ to $1$, step$=0.01$ deg/step, speed$=4$ deg/min]. Again, make sure Automatic Attenuator is checked. The located peak will be shown with a RED point. We will continuously use this SmartLab feature throughout the lab.',\n",
    "            'Select the $Z$ tab and check the option Move to Peak in the Post scan Tab. There, click on the option $\\\\text{Set...}$ and select Edge Search for peak search method. Click $\\\\text{Ok}$.',\n",
    "            'Make sure Automatic Attenuator is checked in the Scan Tab.',\n",
    "            'Perform another $Z$ scan [Relative -$0.25$ to $0.25$, step$=0.002$ mm/step, speed$=2$ mm/min]. Make sure the option Relative is selected. Click on Scan to start. Notice, your most recent scan will be colored RED.',  \n",
    "            'Save $Z$ scan. Right click on your last $Z$ scan in Data Browser. Select $\\\\text{Export data}\\\\to\\\\text{to File}$ and save in your netID directory in the following format: \"z_stb.ras\". <i><b>NOTE: </b> Make sure to save the scan in the \"ras\" format, NOT \"rasx\". </i>',\n",
    "            'Record the Straight Through Beam Intensity (STB) in the $\\\\textbf{Important Parameters}$ section above. To find the STB, in the top of the screen select the chart tab. Click on Coordinate and place the cursor at the maximum value of your scan. It should be around ($5\\\\times 10^{7}$ cps)',\n",
    "            'Now, move the sample out of the way of the incoming beam (i.e. move the sample down 2 mm). Perform a $2\\\\theta / \\chi$ scan [relative -$2.5$ to $2.5$ deg, step = $0.05$ deg, speed = $5$ deg/min]. Move to the center of the peak. This is the first time you have used the $\\chi$ motor in your lab experiments. Refer to the diffractometer figure above to understand how $\\chi$ is defined.']\n",
    "\n",
    "if (machine_toggle_1.value):\n",
    "    step_list_alignment = alignment_guidance\n",
    "    print(\"Instructions for SmartLab Guidance\")\n",
    "else:\n",
    "    step_list_alignment = alignment_studio\n",
    "    print(\"Instructions for SmartLab Studio II\")\n",
    "\n",
    "checkbox_array_alignment= []\n",
    "for step in step_list_alignment:\n",
    "    step_index = str(step_list_alignment.index(step)+1)\n",
    "    checkbox = widgets.Checkbox(description = \"<strong> Step </strong>\"+step_index+\":\")\n",
    "    checkbox_array_alignment.append(checkbox)\n",
    "    #use HTMLMath widget to get text right\n",
    "    temp_step = widgets.HTMLMath(step)\n",
    "    #set up a GridBox to display properly\n",
    "    box = widgets.GridBox([checkbox, temp_step],layout=Layout(width='100%',\n",
    "            grid_template_columns='20% 80% ',\n",
    "            grid_template_areas='''\n",
    "            \"checkbox temp_step\"\n",
    "            '''))\n",
    "    display(box)\n",
    "    \n",
    "#create finish button that verifies all steps have been completed\n",
    "pb2 = widgets.Button(\n",
    "    description='Finish!',\n",
    "    disabled=False,\n",
    "    button_style='info', # 'success', 'info', 'warning', 'danger' or ''\n",
    ")\n",
    "    \n",
    "#defining what the button will do on clicking\n",
    "def on_button_clicked(b):\n",
    "    print(\"------------------------------------------------------------------------------------\")\n",
    "    print(\"clicked on: Finish!\")\n",
    "    steps_completed=0\n",
    "    for checkbox in checkbox_array_alignment:\n",
    "        if checkbox.value ==True:\n",
    "            steps_completed+=1\n",
    "            continue;\n",
    "        else:\n",
    "            print(\"You did not complete step \" + str(checkbox_array_alignment.index(checkbox)+1))\n",
    "            pb2.button_style='danger'\n",
    "    if steps_completed == len(checkbox_array_alignment):\n",
    "        print(\"You finished Sample Alignment. Good Job! Now we are ready to perform High Resolution X-ray Diffraction (HRXRD) on our sample.\")\n",
    "        pb2.button_style='success'\n",
    "        \n",
    "pb2.on_click(on_button_clicked)\n",
    "display(pb2)"
   ]
  },
  {
   "cell_type": "markdown",
   "metadata": {},
   "source": [
    "## Aligning to the Substrate for In Plane Measurements\n",
    "\n",
    "In order to perform in-plane scans (i.e. $\\phi$ scans), we first have to make sure that the $c$-axis sample is along the $\\phi$ axis. That way, when we rotate in $\\phi$, we remain in the plane of interest as the sample normal is along the $\\phi$ axis. To perform this alignment, we perform successive $\\omega$ scans at different $\\phi$ values and adjust R$_x$ and R$_y$ accordingly. We are rocking the sample back and forth until the normal is aligned with the $\\phi$ axis.\n",
    "\n",
    "These next alignment steps are crucial for the success of the experiment. Read the instructions carefully and ask your lab supervisor for assistance if you are confused or having difficulty. Fill in the table below as you go through the steps to help keep track of different values. To do this, show the cell's raw code input and enter your values for the appropriate parameters as you progress through the step list."
   ]
  },
  {
   "cell_type": "code",
   "execution_count": 31,
   "metadata": {},
   "outputs": [
    {
     "data": {
      "text/html": [
       "<script>\n",
       "code_show=true; \n",
       "function code_toggle() {\n",
       "    if (code_show){\n",
       "        $('div.cell.code_cell.rendered.selected div.input').hide();\n",
       "    } else {\n",
       "        $('div.cell.code_cell.rendered.selected div.input').show();\n",
       "    }\n",
       "    code_show = !code_show\n",
       "} \n",
       "$( document ).ready(code_toggle);\n",
       "</script>\n",
       "(To show/hide this cell's raw code input, click <a href=\"javascript:code_toggle()\">here</a>.)"
      ],
      "text/plain": [
       "<IPython.core.display.HTML object>"
      ]
     },
     "metadata": {},
     "output_type": "display_data"
    },
    {
     "data": {
      "text/markdown": [
       "These tables correspond to the tables shown in the step list below. The default values should be changed based on your own measurements."
      ],
      "text/plain": [
       "<IPython.core.display.Markdown object>"
      ]
     },
     "metadata": {},
     "output_type": "display_data"
    },
    {
     "data": {
      "text/markdown": [
       "|$\\phi$($\\circ$) | $\\omega$($\\circ$) | R$_y$($\\circ$) | R$_x$($\\circ$) |          \n",
       "|------|------|------|-----|         \n",
       "|   0 | 20.8606|-0.076|0|         \n",
       "|   180 | 20.9164|-0.076|0|"
      ],
      "text/plain": [
       "<IPython.core.display.Markdown object>"
      ]
     },
     "metadata": {},
     "output_type": "display_data"
    },
    {
     "data": {
      "text/markdown": [
       "The value of R$_y$ is now updated based on the average of the two $\\omega$ scans at $\\phi=0\\text{, } 180$."
      ],
      "text/plain": [
       "<IPython.core.display.Markdown object>"
      ]
     },
     "metadata": {},
     "output_type": "display_data"
    },
    {
     "data": {
      "text/markdown": [
       "|$\\phi$($\\circ$) | $\\omega$($\\circ$) | R$_y$($\\circ$) | R$_x$($\\circ$) |          \n",
       "|------|------|------|-----|         \n",
       "|   0 | 20.888|-0.1039|0|         \n",
       "|   90 | 21.0179|-0.1039|0|         \n",
       "|   270 | 20.7578|-0.1039|0|"
      ],
      "text/plain": [
       "<IPython.core.display.Markdown object>"
      ]
     },
     "metadata": {},
     "output_type": "display_data"
    },
    {
     "data": {
      "text/markdown": [
       "The value of R$_x$ is now updated based on the average of the two $\\omega$ scans at $\\phi=90\\text{, } 270$."
      ],
      "text/plain": [
       "<IPython.core.display.Markdown object>"
      ]
     },
     "metadata": {},
     "output_type": "display_data"
    },
    {
     "data": {
      "text/markdown": [
       "|$\\phi$($\\circ$) | $\\omega$($\\circ$) | R$_y$($\\circ$) | R$_x$($\\circ$) |          \n",
       "|------|------|------|-----|         \n",
       "|   0 | 20.8854|-0.1039|-0.1301|         \n",
       "|   180 | 20.8908|-0.1039|-0.1301|"
      ],
      "text/plain": [
       "<IPython.core.display.Markdown object>"
      ]
     },
     "metadata": {},
     "output_type": "display_data"
    },
    {
     "data": {
      "text/markdown": [
       "The value of R$_y$ is now updated again based on the average of the two most recent $\\omega$ scans at $\\phi=0\\text{, } 180$. The table belows shows your final values for R$_y$, R$_x$, and $\\omega$. We <strong>never</strong> move these values again (THIS IS VERY PRECISE ALIGNMENT)."
      ],
      "text/plain": [
       "<IPython.core.display.Markdown object>"
      ]
     },
     "metadata": {},
     "output_type": "display_data"
    },
    {
     "data": {
      "text/markdown": [
       "|$\\omega$($\\circ$) Final | R$_y$ Final ($\\circ$) | R$_x$ Final ($\\circ$) |          \n",
       "|------|------|-----|         \n",
       "|   20.887 | -0.1066|-0.1301|"
      ],
      "text/plain": [
       "<IPython.core.display.Markdown object>"
      ]
     },
     "metadata": {},
     "output_type": "display_data"
    }
   ],
   "source": [
    "display(tag)\n",
    "# Enter your measured values for the parameters below\n",
    "\n",
    "# For aligning phi (omega scans (+/- 0.05, 0.0008,.8), Ry (+/- 1, 0.01, 4), Rx(+/- 2, 0.05, 4))\n",
    "Ry_1 = -0.076\n",
    "Rx_1 = 0\n",
    "omega_phi0 = 20.8606\n",
    "omega_phi180 = 20.9164\n",
    "omega_new = 20.888 # at Ry = Ry_2\n",
    "omega_phi90 = 21.0179\n",
    "omega_phi270 = 20.7578\n",
    "omega_phi0_2 = 20.8854\n",
    "omega_phi180_2 = 20.8908\n",
    "omega_final = 20.887\n",
    "\n",
    "\n",
    "\n",
    "# updating Ry value based on omega scans\n",
    "if omega_phi180>omega_phi0:\n",
    "    Ry_2 =  round(Ry_1 - (omega_phi180 - omega_phi0)/2,4)\n",
    "else:\n",
    "    Ry_2 =  round(Ry_1 + (omega_phi180 - omega_phi0)/2,4)\n",
    "    \n",
    "# updating Rx value based on omega scans\n",
    "if omega_phi270>omega_phi90:\n",
    "    Rx_2 = round(Rx_1 - (omega_phi270-omega_phi90)/2,4)\n",
    "else:\n",
    "    Rx_2 = round(Rx_1 + (omega_phi270-omega_phi90)/2,4)\n",
    "#Then do omega scan at phi = 0 and Rx_new and Ry_new (20.8854)\n",
    "#Then do omega scan at phi = 180 and Rx_new and Ry_new (20.8908)\n",
    "if omega_phi180_2>omega_phi0_2:\n",
    "    Ry_3 = round(Ry_2 - (omega_phi180_2 - omega_phi0_2)/2,4)\n",
    "else:\n",
    "    Ry_3 = round(Ry_2 + (omega_phi180_2 - omega_phi0_2)/2,4)\n",
    "# Then do omega scan at phi = 0\n",
    "\n",
    "# Tables displaying the calculations as you go through the alignment steps\n",
    "n0 = Markdown(\"These tables correspond to the tables shown in the step list below. The default values should be changed based on your own measurements.\")\n",
    "\n",
    "t1 = Markdown(\"|$\\phi$($\\circ$) | $\\omega$($\\circ$) | R$_y$($\\circ$) | R$_x$($\\circ$) | \\\n",
    "         \\n|------|------|------|-----|\\\n",
    "         \\n|   {} | {}|{}|{}|\\\n",
    "         \\n|   {} | {}|{}|{}|\".format(0,omega_phi0,Ry_1,Rx_1,180,omega_phi180,Ry_1,Rx_1))\n",
    "\n",
    "n1 = Markdown(\"The value of R$_y$ is now updated based on the average of the two $\\omega$ scans at $\\phi=0\\\\text{, } 180$.\")\n",
    "\n",
    "t2 = Markdown(\"|$\\phi$($\\circ$) | $\\omega$($\\circ$) | R$_y$($\\circ$) | R$_x$($\\circ$) | \\\n",
    "         \\n|------|------|------|-----|\\\n",
    "         \\n|   {} | {}|{}|{}|\\\n",
    "         \\n|   {} | {}|{}|{}|\\\n",
    "         \\n|   {} | {}|{}|{}|\".format(0, omega_new,Ry_2,Rx_1, 90, omega_phi90,Ry_2,Rx_1,270, omega_phi270,Ry_2,Rx_1))\n",
    "\n",
    "n2 = Markdown(\"The value of R$_x$ is now updated based on the average of the two $\\omega$ scans at $\\phi=90\\\\text{, } 270$.\")\n",
    "\n",
    "t3 = Markdown(\"|$\\phi$($\\circ$) | $\\omega$($\\circ$) | R$_y$($\\circ$) | R$_x$($\\circ$) | \\\n",
    "         \\n|------|------|------|-----|\\\n",
    "         \\n|   {} | {}|{}|{}|\\\n",
    "         \\n|   {} | {}|{}|{}|\".format(0, omega_phi0_2,Ry_2,Rx_2, 180, omega_phi180_2,Ry_2,Rx_2))\n",
    "\n",
    "n3 = Markdown(\"The value of R$_y$ is now updated again based on the average of the two most recent $\\omega$ scans at $\\phi=0\\\\text{, } 180$. The table belows shows your final values for R$_y$, R$_x$, and $\\omega$. We <strong>never</strong> move these values again (THIS IS VERY PRECISE ALIGNMENT).\")\n",
    "\n",
    "t4 = Markdown(\"|$\\omega$($\\circ$) Final | R$_y$ Final ($\\circ$) | R$_x$ Final ($\\circ$) | \\\n",
    "         \\n|------|------|-----|\\\n",
    "         \\n|   {} | {}|{}|\".format(omega_final,Ry_3,Rx_2))\n",
    "\n",
    "display(n0,t1,n1,t2,n2,t3,n3,t4)"
   ]
  },
  {
   "cell_type": "markdown",
   "metadata": {},
   "source": [
    "### Follow the instructions and put a check mark in each step as you advance. These steps are to measure the (006) diffraction peak of the substrate (Al$_2$O$_3$) and align in R$_x$ and R$_y$ such that the $\\phi$ axis is along the direction of the $c$-axis of the substrate."
   ]
  },
  {
   "cell_type": "code",
   "execution_count": 9,
   "metadata": {},
   "outputs": [
    {
     "data": {
      "text/html": [
       "<script>\n",
       "code_show=true; \n",
       "function code_toggle() {\n",
       "    if (code_show){\n",
       "        $('div.cell.code_cell.rendered.selected div.input').hide();\n",
       "    } else {\n",
       "        $('div.cell.code_cell.rendered.selected div.input').show();\n",
       "    }\n",
       "    code_show = !code_show\n",
       "} \n",
       "$( document ).ready(code_toggle);\n",
       "</script>\n",
       "(To show/hide this cell's raw code input, click <a href=\"javascript:code_toggle()\">here</a>.)"
      ],
      "text/plain": [
       "<IPython.core.display.HTML object>"
      ]
     },
     "metadata": {},
     "output_type": "display_data"
    },
    {
     "name": "stdout",
     "output_type": "stream",
     "text": [
      "Instructions for SmartLab Studio II\n"
     ]
    },
    {
     "data": {
      "application/vnd.jupyter.widget-view+json": {
       "model_id": "def22d0d5e4440df8865c02c7606a591",
       "version_major": 2,
       "version_minor": 0
      },
      "text/plain": [
       "GridBox(children=(Checkbox(value=False, description='<strong> Step </strong>1:'), HTMLMath(value='Select the $…"
      ]
     },
     "metadata": {},
     "output_type": "display_data"
    },
    {
     "data": {
      "application/vnd.jupyter.widget-view+json": {
       "model_id": "5c368b7932564c52abacb68c04e53408",
       "version_major": 2,
       "version_minor": 0
      },
      "text/plain": [
       "GridBox(children=(Checkbox(value=False, description='<strong> Step </strong>2:'), HTMLMath(value='Select the $…"
      ]
     },
     "metadata": {},
     "output_type": "display_data"
    },
    {
     "data": {
      "application/vnd.jupyter.widget-view+json": {
       "model_id": "e84bcac31a124439b327faede5cc8c28",
       "version_major": 2,
       "version_minor": 0
      },
      "text/plain": [
       "GridBox(children=(Checkbox(value=False, description='<strong> Step </strong>3:'), HTMLMath(value='Make sure $\\…"
      ]
     },
     "metadata": {},
     "output_type": "display_data"
    },
    {
     "data": {
      "application/vnd.jupyter.widget-view+json": {
       "model_id": "cf7f930e929e4ea3b29815881dd5bc06",
       "version_major": 2,
       "version_minor": 0
      },
      "text/plain": [
       "GridBox(children=(Checkbox(value=False, description='<strong> Step </strong>4:'), HTMLMath(value='Now move $\\\\…"
      ]
     },
     "metadata": {},
     "output_type": "display_data"
    },
    {
     "data": {
      "text/markdown": [
       "|$\\phi$($\\circ$) | $\\omega$($\\circ$) | R$_y$($\\circ$) | R$_x$($\\circ$) |          \n",
       "|------|------|------|-----|         \n",
       "|   0 | 20.8606|-0.076|0|         \n",
       "|   180 | 20.9164|-0.076|0|"
      ],
      "text/plain": [
       "<IPython.core.display.Markdown object>"
      ]
     },
     "metadata": {},
     "output_type": "display_data"
    },
    {
     "data": {
      "application/vnd.jupyter.widget-view+json": {
       "model_id": "ea9f4c3d7f0b49b0957dd7480e1fdcc5",
       "version_major": 2,
       "version_minor": 0
      },
      "text/plain": [
       "GridBox(children=(Checkbox(value=False, description='<strong> Step </strong>5:'), HTMLMath(value='We now want …"
      ]
     },
     "metadata": {},
     "output_type": "display_data"
    },
    {
     "data": {
      "application/vnd.jupyter.widget-view+json": {
       "model_id": "00300c8c3b1f4678b9794adaaee2a461",
       "version_major": 2,
       "version_minor": 0
      },
      "text/plain": [
       "GridBox(children=(Checkbox(value=False, description='<strong> Step </strong>6:'), HTMLMath(value='Perform an $…"
      ]
     },
     "metadata": {},
     "output_type": "display_data"
    },
    {
     "data": {
      "application/vnd.jupyter.widget-view+json": {
       "model_id": "8aa92c2c13704dcda8d9ccd5ba8cd6fd",
       "version_major": 2,
       "version_minor": 0
      },
      "text/plain": [
       "GridBox(children=(Checkbox(value=False, description='<strong> Step </strong>7:'), HTMLMath(value='Select the R…"
      ]
     },
     "metadata": {},
     "output_type": "display_data"
    },
    {
     "data": {
      "text/markdown": [
       "|$\\phi$($\\circ$) | $\\omega$($\\circ$) | R$_y$($\\circ$) | R$_x$($\\circ$) |          \n",
       "|------|------|------|-----|         \n",
       "|   0 | 20.888|-0.1039|0|         \n",
       "|   90 | 21.0179|-0.1039|0|         \n",
       "|   270 | 20.7578|-0.1039|0|"
      ],
      "text/plain": [
       "<IPython.core.display.Markdown object>"
      ]
     },
     "metadata": {},
     "output_type": "display_data"
    },
    {
     "data": {
      "application/vnd.jupyter.widget-view+json": {
       "model_id": "ac8f37a8ff734703abf8331dd672f646",
       "version_major": 2,
       "version_minor": 0
      },
      "text/plain": [
       "GridBox(children=(Checkbox(value=False, description='<strong> Step </strong>8:'), HTMLMath(value='Update the v…"
      ]
     },
     "metadata": {},
     "output_type": "display_data"
    },
    {
     "data": {
      "application/vnd.jupyter.widget-view+json": {
       "model_id": "802328f123c848cbb34a368f821e0f90",
       "version_major": 2,
       "version_minor": 0
      },
      "text/plain": [
       "GridBox(children=(Checkbox(value=False, description='<strong> Step </strong>9:'), HTMLMath(value='We are now g…"
      ]
     },
     "metadata": {},
     "output_type": "display_data"
    },
    {
     "data": {
      "text/markdown": [
       "|$\\phi$($\\circ$) | $\\omega$($\\circ$) | R$_y$($\\circ$) | R$_x$($\\circ$) |          \n",
       "|------|------|------|-----|         \n",
       "|   0 | 20.8854|-0.1039|-0.1301|         \n",
       "|   180 | 20.8908|-0.1039|-0.1301|"
      ],
      "text/plain": [
       "<IPython.core.display.Markdown object>"
      ]
     },
     "metadata": {},
     "output_type": "display_data"
    },
    {
     "data": {
      "application/vnd.jupyter.widget-view+json": {
       "model_id": "91953a2681f542ddb092e4faffedc9c3",
       "version_major": 2,
       "version_minor": 0
      },
      "text/plain": [
       "GridBox(children=(Checkbox(value=False, description='<strong> Step </strong>10:'), HTMLMath(value='Update your…"
      ]
     },
     "metadata": {},
     "output_type": "display_data"
    },
    {
     "data": {
      "application/vnd.jupyter.widget-view+json": {
       "model_id": "5c09b5e09a7745219d0b84d6d46a2de3",
       "version_major": 2,
       "version_minor": 0
      },
      "text/plain": [
       "GridBox(children=(Checkbox(value=False, description='<strong> Step </strong>11:'), HTMLMath(value='Finally, pe…"
      ]
     },
     "metadata": {},
     "output_type": "display_data"
    },
    {
     "data": {
      "text/markdown": [
       "|$\\omega$($\\circ$) Final | R$_y$ Final ($\\circ$) | R$_x$ Final ($\\circ$) |          \n",
       "|------|------|-----|         \n",
       "|   20.887 | -0.1066|-0.1301|"
      ],
      "text/plain": [
       "<IPython.core.display.Markdown object>"
      ]
     },
     "metadata": {},
     "output_type": "display_data"
    },
    {
     "data": {
      "application/vnd.jupyter.widget-view+json": {
       "model_id": "510e92b8c7c94f5fb63b7eb4ff875bf6",
       "version_major": 2,
       "version_minor": 0
      },
      "text/plain": [
       "Button(button_style='info', description='Finish!', style=ButtonStyle())"
      ]
     },
     "metadata": {},
     "output_type": "display_data"
    }
   ],
   "source": [
    "display(tag)\n",
    "#Displaying a checklist for to do list\n",
    "#https://stackoverflow.com/questions/41469554/python-jupyter-notebook-create-dynamic-checklist-user-input-that-runs-code\n",
    "\n",
    "step_list_sub_guidance = ['Select the $2\\\\theta$/$\\omega$ axis  in Manual Control. Move to the substrate peak (you should now know this location having completed Lab 2).',\n",
    "            'Select the $\\omega$ axis in Manual Control. Make sure Automatic Attenuator is on.',\n",
    "            'Make sure $\\phi = 0^{\\circ}$. Perform an $\\omega$ scan [Relative -.05 to .05, step=0.0008 deg/step, speed=.8 deg/min]. Note down the location of the peak.',\n",
    "            'Now move $\\phi$ to $180^{\\circ}$. Perform the same $\\omega$ scan. Note down the location of the peak. The table below shows what you have done so far.',\n",
    "            'We now want to update our R$_y$ based on these $\\omega$ scans. Notice how the peak shifts after rotating in $\\phi$. If the sample normal was along the $\\phi$ axis, this would not happen. We want to update our R$_y$ value (which is the same direction as $\\omega$) to go in between these two peaks. This is done by offsetting R$_y$ by difference of the $\\omega$ peak values divided by 2 (i.e. R$_{y\\\\text{, new}}$ = R$_{y\\\\text{,initial}}$ $\\pm$ $\\\\frac{\\Delta \\omega}{2}$). The $+/-$ depends on whether your second peak is located to the left/right of your first peak, respecitively. If you enter your measurements in the cell above and run the cell, this value will be calculated for you. Move R$_y$ to this value.',   \n",
    "            'Perform an $\\omega$ scan at the updated R$_y$ value at $\\phi = 0$. Move to the center and note down the location of the peak.',\n",
    "            'Select the R$_x$ axis in Pro Control. We are now going to perform the same steps for R$_x$ as we did for R$_y$ only at $\\phi = 90^{\\circ}$ and $\\phi = 270^{\\circ}$. Note: R$_x$ is equivalent to R$_y$ when $\\phi$ is rotated by $90^{\\circ}$. Therefore, now $\\omega$ will not be rotating along the same axis as R$_x$. The table belows shows what measurements you should perform.',\n",
    "            'Update the value for R$_x$ based on the two $\\omega$ scans at $\\phi = 90^{\\circ},270^{\\circ}$ as you did in <strong> Step 5 </strong> for R$_{y}$.',\n",
    "            'We are now going to repeat the alignment for R$_y$. Perform $\\omega$ scans at the updated values for R$_y$ and R$_x$ at both $\\phi = 0^{\\circ}$ and $\\phi = 180^{\\circ}$. The table below shows those scans.',\n",
    "            'Update your R$_y$ value again based on these two most recent $\\omega$ scans at $\\phi = 0^{\\circ}$ and $\\phi = 180^{\\circ}$',\n",
    "            'Finally, perform an $\\omega$ scan at this new value of R$_y$ and $\\phi = 0^{\\circ}$. Move to the center. The table belows shows your final values for R$_y$, R$_x$, and $\\omega$. We <strong>never</strong> move these values again (THIS IS VERY PRECISE ALIGNMENT).']\n",
    "\n",
    "# To do list containing all the steps for HRXRD\n",
    "step_list_sub_studio = ['Select the $2\\\\theta$/$\\omega$ axis  in Pro Control. Move to the substrate peak (you should now know this location having completed Lab 2).',\n",
    "            'Select the $\\omega$ axis in Pro Control. Make sure Automatic Attenuator is on.',\n",
    "            'Make sure $\\phi = 0^{\\circ}$. Perform an $\\omega$ scan [Relative -.05 to .05, step=0.0008 deg/step, speed=.8 deg/min]. Note down the location of the peak.',\n",
    "            'Now move $\\phi$ to $180^{\\circ}$. Perform the same $\\omega$ scan. Note down the location of the peak. The table below shows what you have done so far.',\n",
    "            'We now want to update our R$_y$ based on these $\\omega$ scans. Notice how the peak shifts after rotating in $\\phi$. If the sample normal was along the $\\phi$ axis, this would not happen. We want to update our R$_y$ value (which is the same direction as $\\omega$) to go in between these two peaks. This is done by offsetting R$_y$ by difference of the $\\omega$ peak values divided by 2 (i.e. R$_{y\\\\text{, new}}$ = R$_{y\\\\text{,initial}}$ $\\pm$ $\\\\frac{\\Delta \\omega}{2}$). The $+/-$ depends on whether your second peak is located to the left/right of your first peak, respecitively. If you enter your measurements in the cell above and run the cell, this value will be calculated for you. Move R$_y$ to this value.',   \n",
    "            'Perform an $\\omega$ scan at the updated R$_y$ value at $\\phi = 0$. Move to the center and note down the location of the peak.',\n",
    "            'Select the R$_x$ axis in Pro Control. We are now going to perform the same steps for R$_x$ as we did for R$_y$ only at $\\phi = 90^{\\circ}$ and $\\phi = 270^{\\circ}$. Note: R$_x$ is equivalent to R$_y$ when $\\phi$ is rotated by $90^{\\circ}$. Therefore, now $\\omega$ will not be rotating along the same axis as R$_x$. The table belows shows what measurements you should perform.',\n",
    "            'Update the value for R$_x$ based on the two $\\omega$ scans at $\\phi = 90^{\\circ},270^{\\circ}$ as you did in <strong> Step 5 </strong> for R$_{y}$.',\n",
    "            'We are now going to repeat the alignment for R$_y$. Perform $\\omega$ scans at the updated values for R$_y$ and R$_x$ at both $\\phi = 0^{\\circ}$ and $\\phi = 180^{\\circ}$. The table below shows those scans.',\n",
    "            'Update your R$_y$ value again based on these two most recent $\\omega$ scans at $\\phi = 0^{\\circ}$ and $\\phi = 180^{\\circ}$',\n",
    "            'Finally, perform an $\\omega$ scan at this new value of R$_y$ and $\\phi = 0^{\\circ}$. Move to the center. The table belows shows your final values for R$_y$, R$_x$, and $\\omega$. We <strong>never</strong> move these values again (THIS IS VERY PRECISE ALIGNMENT).']\n",
    "\n",
    "if (machine_toggle_1.value):\n",
    "    step_list_sub = step_list_sub_guidance\n",
    "    print(\"Instructions for SmartLab Guidance\")\n",
    "else:\n",
    "    step_list_sub = step_list_sub_studio\n",
    "    print(\"Instructions for SmartLab Studio II\")\n",
    "\n",
    "checkbox_array_sub = []\n",
    "for step in step_list_sub:\n",
    "    step_index = str(step_list_sub.index(step)+1)\n",
    "    checkbox = widgets.Checkbox(description = \"<strong> Step </strong>\"+step_index+\":\")\n",
    "    checkbox_array_sub.append(checkbox)\n",
    "    #use HTMLMath widget to get text right\n",
    "    temp_step = widgets.HTMLMath(step)\n",
    "    #set up a GridBox to display properly\n",
    "    box = widgets.GridBox([checkbox, temp_step],layout=Layout(width='100%',\n",
    "            grid_template_columns='20% 80%',\n",
    "            grid_template_areas='''\n",
    "            \"checkbox temp_step\"\n",
    "            '''))\n",
    "    display(box)\n",
    "    if step_list_sub.index(step)+1 == 4:\n",
    "        display(t1)\n",
    "    if step_list_sub.index(step)+1 == 7:\n",
    "        display(t2)\n",
    "    if step_list_sub.index(step)+1 == 9:\n",
    "        display(t3)\n",
    "    if step_list_sub.index(step)+1 == 11:\n",
    "        display(t4)\n",
    "    \n",
    "#create finish button that verifies all steps have been completed\n",
    "pb4 = widgets.Button(\n",
    "    description='Finish!',\n",
    "    disabled=False,\n",
    "    button_style='info', # 'success', 'info', 'warning', 'danger' or ''\n",
    ")\n",
    "#defining what the button will do on clicking\n",
    "def on_button_clicked(b):\n",
    "    print(\"------------------------------------------------------------------------------------\")\n",
    "    print(\"clicked on: Finish!\")\n",
    "    steps_completed=0\n",
    "    for checkbox in checkbox_array_sub:\n",
    "        if checkbox.value ==True:\n",
    "            steps_completed+=1\n",
    "            continue;\n",
    "        else:\n",
    "            print(\"You did not complete step \" + str(checkbox_array_sub.index(checkbox)+1))\n",
    "            pb4.button_style='danger'\n",
    "    if steps_completed == len(checkbox_array_sub):\n",
    "        print(\"This is a very precise alignment. Nice job on completing the steps!\")\n",
    "        pb4.button_style='success'\n",
    "        \n",
    "pb4.on_click(on_button_clicked)\n",
    "display(pb4)"
   ]
  },
  {
   "cell_type": "markdown",
   "metadata": {},
   "source": [
    "## 3. Performing HRXRD (Off-Specular)\n",
    "\n",
    "Now we move to Bragg peak for the off-specular reflection (for example, $2\\theta/\\omega$ = 35.135 for the ($\\bar{1}14$) reflection of $\\text{Al}_2\\text{O}_3$). We also need to move $\\chi$ to the appropriate elevation value for this reflection. The (hkl) incidices, the $2\\theta/\\omega$ value, and the $\\chi$ value of the appropriate off-specular reflection plane are found using CrystalMaker and SingleCrystal."
   ]
  },
  {
   "cell_type": "markdown",
   "metadata": {},
   "source": [
    "### Follow the instructions and put a check mark in each step as you advance. These steps are to measure off-specular reflection of your substrate and film."
   ]
  },
  {
   "cell_type": "code",
   "execution_count": 27,
   "metadata": {},
   "outputs": [
    {
     "data": {
      "text/html": [
       "<script>\n",
       "code_show=true; \n",
       "function code_toggle() {\n",
       "    if (code_show){\n",
       "        $('div.cell.code_cell.rendered.selected div.input').hide();\n",
       "    } else {\n",
       "        $('div.cell.code_cell.rendered.selected div.input').show();\n",
       "    }\n",
       "    code_show = !code_show\n",
       "} \n",
       "$( document ).ready(code_toggle);\n",
       "</script>\n",
       "(To show/hide this cell's raw code input, click <a href=\"javascript:code_toggle()\">here</a>.)"
      ],
      "text/plain": [
       "<IPython.core.display.HTML object>"
      ]
     },
     "metadata": {},
     "output_type": "display_data"
    },
    {
     "name": "stdout",
     "output_type": "stream",
     "text": [
      "Instructions for SmartLab Studio II\n"
     ]
    },
    {
     "data": {
      "application/vnd.jupyter.widget-view+json": {
       "model_id": "cfbfa5c9bf1b45489c820fca9dc51259",
       "version_major": 2,
       "version_minor": 0
      },
      "text/plain": [
       "GridBox(children=(Checkbox(value=False, description='<strong> Step </strong>1:'), HTMLMath(value='First we wil…"
      ]
     },
     "metadata": {},
     "output_type": "display_data"
    },
    {
     "data": {
      "application/vnd.jupyter.widget-view+json": {
       "model_id": "52efafca1eaa4feb874d6ba2e3fe174e",
       "version_major": 2,
       "version_minor": 0
      },
      "text/plain": [
       "GridBox(children=(Checkbox(value=False, description='<strong> Step </strong>2:'), HTMLMath(value='Select the $…"
      ]
     },
     "metadata": {},
     "output_type": "display_data"
    },
    {
     "data": {
      "application/vnd.jupyter.widget-view+json": {
       "model_id": "1a8d425393b34863ac3cb1f39a9df0fb",
       "version_major": 2,
       "version_minor": 0
      },
      "text/plain": [
       "GridBox(children=(Checkbox(value=False, description='<strong> Step </strong>3:'), HTMLMath(value='We are now g…"
      ]
     },
     "metadata": {},
     "output_type": "display_data"
    },
    {
     "data": {
      "application/vnd.jupyter.widget-view+json": {
       "model_id": "4c0aeeb601bf422c9484a11c605fc7de",
       "version_major": 2,
       "version_minor": 0
      },
      "text/plain": [
       "GridBox(children=(Checkbox(value=False, description='<strong> Step </strong>4:'), HTMLMath(value='Move to the …"
      ]
     },
     "metadata": {},
     "output_type": "display_data"
    },
    {
     "data": {
      "application/vnd.jupyter.widget-view+json": {
       "model_id": "f97986fc2cda43938c080a8540ab2167",
       "version_major": 2,
       "version_minor": 0
      },
      "text/plain": [
       "GridBox(children=(Checkbox(value=False, description='<strong> Step </strong>5:'), HTMLMath(value='Save the pre…"
      ]
     },
     "metadata": {},
     "output_type": "display_data"
    },
    {
     "data": {
      "application/vnd.jupyter.widget-view+json": {
       "model_id": "8b54d3b255a64343b1326ccbfe27a75a",
       "version_major": 2,
       "version_minor": 0
      },
      "text/plain": [
       "GridBox(children=(Checkbox(value=False, description='<strong> Step </strong>6:'), HTMLMath(value='Now we want …"
      ]
     },
     "metadata": {},
     "output_type": "display_data"
    },
    {
     "data": {
      "application/vnd.jupyter.widget-view+json": {
       "model_id": "9bc9f141a5ac421092353f85a15b1fa8",
       "version_major": 2,
       "version_minor": 0
      },
      "text/plain": [
       "GridBox(children=(Checkbox(value=False, description='<strong> Step </strong>7:'), HTMLMath(value='Perform a re…"
      ]
     },
     "metadata": {},
     "output_type": "display_data"
    },
    {
     "data": {
      "application/vnd.jupyter.widget-view+json": {
       "model_id": "e2e1c897e1424a55946dbeb2176ed9e7",
       "version_major": 2,
       "version_minor": 0
      },
      "text/plain": [
       "GridBox(children=(Checkbox(value=False, description='<strong> Step </strong>8:'), HTMLMath(value='After optimi…"
      ]
     },
     "metadata": {},
     "output_type": "display_data"
    },
    {
     "data": {
      "application/vnd.jupyter.widget-view+json": {
       "model_id": "4460c753f4d846128b1fbbdf2fb39d59",
       "version_major": 2,
       "version_minor": 0
      },
      "text/plain": [
       "GridBox(children=(Checkbox(value=False, description='<strong> Step </strong>9:'), HTMLMath(value='Repeat steps…"
      ]
     },
     "metadata": {},
     "output_type": "display_data"
    },
    {
     "data": {
      "application/vnd.jupyter.widget-view+json": {
       "model_id": "2ed172b5fd2e491992c26046c5a4c88b",
       "version_major": 2,
       "version_minor": 0
      },
      "text/plain": [
       "Button(button_style='info', description='Finish!', style=ButtonStyle())"
      ]
     },
     "metadata": {},
     "output_type": "display_data"
    }
   ],
   "source": [
    "display(tag)\n",
    "#Displaying a checklist for to do list\n",
    "#https://stackoverflow.com/questions/41469554/python-jupyter-notebook-create-dynamic-checklist-user-input-that-runs-code\n",
    "\n",
    "step_list_off_spec_guidance = ['First we will look at the substrate. In Manual Control, select the $\\chi$ axis. Move to the appropriate $\\chi$ position for the substrate based on the elevation value you found in SingleCrystal $(\\chi = 90^{\\circ} - \\\\text{elevation})$.',\n",
    "            'Select the $2\\\\theta$/$\\omega$ axis  in Pro Control. Move to the expected off-specular peak position for the substrate.',\n",
    "            'We are now going to perform an in-plane scan. Select the $\\phi$ axis in Pro Control. Make sure Automatic Attenuator is on. Do a coarse $\\phi$ scan [Absolute 0 to 360 deg, step=0.03 deg, speed=36 deg/min ]. You should see peaks appearing as we rotate all the way around in $\\phi$ based on the symmetry of your reflection (e.g. the $(\\\\bar{1}14)$ reflection of $\\\\text{Al}_2\\\\text{O}_3$ has 3-fold symmetry and we see 3 peaks)',\n",
    "            'Move to the highest intensity peak and perform a relative $\\phi$ scan [+/- 1 deg, step=0.004, speed=2 deg/min]. Move to the center.',\n",
    "            'Save the previous $\\phi$ scan: \"PHI_FINE_Al2O3.ras\"',\n",
    "            'Now we want to optimize $2\\\\theta/\\omega$ and $\\chi$ values. Perform a relative $2\\\\theta/\\omega$ scan [+/- 0.25, step=0.008, speed=0.5)]. Move to center.',\n",
    "            'Perform a relative $\\chi$ scan [+/- 1, step=0.01, speed=3)]. Move to center.',   \n",
    "            'After optimization, repeat your $\\phi$ scan. Save the scan: \"PHI_FULL_Al2O3.ras\".',\n",
    "            'Repeat steps 1-7 for your film. Remember, you have to adjust $2\\\\theta/\\omega$ and $\\chi$ based on what you found in SingleCrystal for your film.']\n",
    "\n",
    "# To do list containing all the steps for HRXRD\n",
    "step_list_off_spec_studio = ['First we will look at the substrate. In Pro Control, select the $\\chi$ axis. Move to the appropriate $\\chi$ position for the substrate based on the elevation value you found in SingleCrystal $(\\chi = 90^{\\circ} - \\\\text{elevation})$.',\n",
    "            'Select the $2\\\\theta$/$\\omega$ axis  in Pro Control. Move to the expected off-specular peak position for the substrate.',\n",
    "            'We are now going to perform an in-plane scan. Select the $\\phi$ axis in Pro Control. Make sure Automatic Attenuator is on. Do a coarse $\\phi$ scan [Absolute 0 to 360 deg, step=0.03 deg, speed=36 deg/min ]. You should see peaks appearing as we rotate all the way around in $\\phi$ based on the symmetry of your reflection (e.g. the $(\\\\bar{1}14)$ reflection of $\\\\text{Al}_2\\\\text{O}_3$ has 3-fold symmetry and we see 3 peaks)',\n",
    "            'Move to the highest intensity peak and perform a relative $\\phi$ scan [+/- 1 deg, step=0.004, speed=2 deg/min]. Move to the center.',\n",
    "            'Save the previous $\\phi$ scan: \"PHI_FINE_Al2O3.ras\"',\n",
    "            'Now we want to optimize $2\\\\theta/\\omega$ and $\\chi$ values. Perform a relative $2\\\\theta/\\omega$ scan [+/- 0.25, step=0.008, speed=0.5)]. Move to center.',\n",
    "            'Perform a relative $\\chi$ scan [+/- 1, step=0.01, speed=3)]. Move to center.',   \n",
    "            'After optimization, repeat your $\\phi$ scan. Save the scan: \"PHI_FULL_Al2O3.ras\".',\n",
    "            'Repeat steps 1-7 for your film. Remember, you have to adjust $2\\\\theta/\\omega$ and $\\chi$ based on what you found in SingleCrystal for your film.']\n",
    "\n",
    "if (machine_toggle_1.value):\n",
    "    step_list_off_spec = step_list_off_spec_guidance\n",
    "    print(\"Instructions for SmartLab Guidance\")\n",
    "else:\n",
    "    step_list_off_spec = step_list_off_spec_studio\n",
    "    print(\"Instructions for SmartLab Studio II\")\n",
    "\n",
    "checkbox_array_off_spec = []\n",
    "for step in step_list_off_spec:\n",
    "    step_index = str(step_list_off_spec.index(step)+1)\n",
    "    checkbox = widgets.Checkbox(description = \"<strong> Step </strong>\"+step_index+\":\")\n",
    "    checkbox_array_off_spec.append(checkbox)\n",
    "    #use HTMLMath widget to get text right\n",
    "    temp_step = widgets.HTMLMath(step)\n",
    "    #set up a GridBox to display properly\n",
    "    box = widgets.GridBox([checkbox, temp_step],layout=Layout(width='100%',\n",
    "            grid_template_columns='20% 80%',\n",
    "            grid_template_areas='''\n",
    "            \"checkbox temp_step\"\n",
    "            '''))\n",
    "    display(box)\n",
    "    \n",
    "#create finish button that verifies all steps have been completed\n",
    "pb5 = widgets.Button(\n",
    "    description='Finish!',\n",
    "    disabled=False,\n",
    "    button_style='info', # 'success', 'info', 'warning', 'danger' or ''\n",
    ")\n",
    "#defining what the button will do on clicking\n",
    "def on_button_clicked(b):\n",
    "    print(\"------------------------------------------------------------------------------------\")\n",
    "    print(\"clicked on: Finish!\")\n",
    "    steps_completed=0\n",
    "    for checkbox in checkbox_array_off_spec:\n",
    "        if checkbox.value ==True:\n",
    "            steps_completed+=1\n",
    "            continue;\n",
    "        else:\n",
    "            print(\"You did not complete step \" + str(checkbox_array_off_spec.index(checkbox)+1))\n",
    "            pb5.button_style='danger'\n",
    "    if steps_completed == len(checkbox_array_off_spec):\n",
    "        print(\"Congrats on performing off-specular X-ray diffraction!\")\n",
    "        pb5.button_style='success'\n",
    "        \n",
    "pb5.on_click(on_button_clicked)\n",
    "display(pb5)"
   ]
  },
  {
   "cell_type": "code",
   "execution_count": 11,
   "metadata": {},
   "outputs": [
    {
     "data": {
      "text/html": [
       "<script>\n",
       "code_show=true; \n",
       "function code_toggle() {\n",
       "    if (code_show){\n",
       "        $('div.cell.code_cell.rendered.selected div.input').hide();\n",
       "    } else {\n",
       "        $('div.cell.code_cell.rendered.selected div.input').show();\n",
       "    }\n",
       "    code_show = !code_show\n",
       "} \n",
       "$( document ).ready(code_toggle);\n",
       "</script>\n",
       "(To show/hide this cell's raw code input, click <a href=\"javascript:code_toggle()\">here</a>.)"
      ],
      "text/plain": [
       "<IPython.core.display.HTML object>"
      ]
     },
     "metadata": {},
     "output_type": "display_data"
    },
    {
     "data": {
      "image/png": "[encoded data removed]",
      "text/plain": [
       "<Figure size 432x288 with 1 Axes>"
      ]
     },
     "metadata": {
      "needs_background": "light"
     },
     "output_type": "display_data"
    },
    {
     "data": {
      "image/png": "[encoded data removed]",
      "text/plain": [
       "<Figure size 432x288 with 1 Axes>"
      ]
     },
     "metadata": {
      "needs_background": "light"
     },
     "output_type": "display_data"
    },
    {
     "data": {
      "image/png": "[encoded data removed]",
      "text/plain": [
       "<Figure size 432x288 with 1 Axes>"
      ]
     },
     "metadata": {
      "needs_background": "light"
     },
     "output_type": "display_data"
    }
   ],
   "source": [
    "#Reading in example data files\n",
    "\n",
    "display(tag)\n",
    "df_2tw_fe2o3 = pd.read_table('example/461_test/PLD50nmFe2O3_Al2O3/Off_Specular_Lab/2TW_Fe2O3_014_0014_Scan2020Sep10-193543.dat',sep = '\\s+',comment='*',names = [\"2TH\",\"Intensity\"],header = 1)\n",
    "plt.figure()\n",
    "plt.suptitle('Fig. 3:', fontsize=14, fontweight='bold')\n",
    "plt.title('$2\\\\theta\\omega$ scan Fe2O3')\n",
    "plt.plot(df_2tw_fe2o3[df_2tw_fe2o3.columns[0]],df_2tw_fe2o3[df_2tw_fe2o3.columns[1]])\n",
    "plt.yscale('log')\n",
    "plt.xlabel(\"2$\\\\theta$($^{\\circ}$)\")\n",
    "plt.ylabel(df_2tw_fe2o3.columns[1]+\" (cps)\")\n",
    "plt.show()\n",
    "\n",
    "df_2tw_al2o3 = pd.read_table('example/461_test/PLD50nmFe2O3_Al2O3/Off_Specular_Lab/2TW_Al2O3_014_0012_Scan2020Sep10-174204.dat',sep = '\\s+',comment='*',names = [\"2TH\",\"Intensity\"],header = 1)\n",
    "plt.figure()\n",
    "plt.suptitle('Fig. 4:', fontsize=14, fontweight='bold')\n",
    "plt.title('$2\\\\theta\\omega$ scan $\\text{Al}_2\\text{O}_3$')\n",
    "plt.plot(df_2tw_al2o3[df_2tw_al2o3.columns[0]],df_2tw_al2o3[df_2tw_al2o3.columns[1]])\n",
    "plt.yscale('log')\n",
    "plt.xlabel(\"2$\\\\theta$($^{\\circ}$)\")\n",
    "plt.ylabel(df_2tw_al2o3.columns[1]+\" (cps)\")\n",
    "plt.show()\n",
    "\n",
    "\n",
    "df_2tw_phi_full_fe2o3 = pd.read_table('example/461_test/PLD50nmFe2O3_Al2O3/Off_Specular_Lab/PHIFULL_Fe2O3_014_0007_Scan2020Sep10-194250.dat',sep = '\\s+',comment='*',names = [\"2TH\",\"Intensity\"],header = 1)\n",
    "plt.figure()\n",
    "plt.suptitle('Fig. 5:', fontsize=14, fontweight='bold')\n",
    "plt.title('$\\phi$ Full Scan Fe2O3')\n",
    "plt.plot(df_2tw_phi_full_fe2o3[df_2tw_phi_full_fe2o3.columns[0]],df_2tw_phi_full_fe2o3[df_2tw_phi_full_fe2o3.columns[1]])\n",
    "plt.yscale('log')\n",
    "plt.xlabel(\"$\\phi$($^{\\circ}$)\")\n",
    "plt.ylabel(df_2tw_phi_full_fe2o3.columns[1]+\" (cps)\")\n",
    "plt.show()"
   ]
  },
  {
   "cell_type": "markdown",
   "metadata": {},
   "source": [
    "# GUIDE AND NOTES ON PERFORMING OFF SPECULAR\n",
    "\n",
    "Do rough $\\phi$ scan from 0 to 360 (10 minute scan, 0.03 step, 36 deg/min)\n",
    "\n",
    "Go to highest intensity phi peak. Do fine $\\phi$ scan (+/- 1 deg, 0.004 step, 2 deg/min). Optimize $2\\theta/\\omega$ (+/- 0.25, 0.008, 0.5), $\\chi$ (+/- 1, 0.01, 3). Do fine $\\phi$ scan of that single peak. Run complete $\\phi$ scan again (0 to 360, 0.032, 36).\n",
    "\n",
    "Now do it for the film, steps are the same only we will move to a different $2\\theta/\\omega$ and $\\chi$ based on film crystal maker stuff (find $2\\theta/\\omega$ and elevation (33.1155 and 51.8 for Fe2O3))\n",
    "\n",
    "For $\\phi$ scans (+/- 2, step 0.05, 2deg/min)\n",
    "\n",
    "## Example \n",
    "10nm Fe2O3\n",
    "\n",
    "2$\\theta_{0}$ = 0.017\n",
    "\n",
    "2$\\theta\\chi_0$ = -0.206\n",
    "\n",
    "$Z$ = -0.940\n",
    "\n",
    "Rx, Ry, and $\\omega$ shown below.\n",
    "\n",
    "$\\phi_{\\text{peak}}$ =73.37 (saphhire)\n",
    "\n",
    "$\\phi_{\\text{peak}}$ = 73.83 (hematitie) (100cps)\n",
    "\n",
    "\n",
    "### Measured for Fe_2O_3 10nm\n",
    "Ry_1 = -0.076 \\\n",
    "Rx_1 = 0 \\\n",
    "omega_phi0 = 20.8606 \\\n",
    "omega_phi180 = 20.9164 \\\n",
    "omega_new = 20.888 # at Ry = Ry_2 \\\n",
    "omega_phi90 = 21.0179 \\\n",
    "omega_phi270 = 20.7578 \\\n",
    "omega_phi0_2 = 20.8854 \\\n",
    "omega_phi180_2 = 20.8908 \\\n",
    "omega_final = 20.887 \\"
   ]
  },
  {
   "cell_type": "code",
   "execution_count": null,
   "metadata": {},
   "outputs": [],
   "source": []
  },
  {
   "cell_type": "code",
   "execution_count": null,
   "metadata": {},
   "outputs": [],
   "source": []
  }
 ],
 "metadata": {
  "kernelspec": {
   "display_name": "Python 3",
   "language": "python",
   "name": "python3"
  },
  "language_info": {
   "codemirror_mode": {
    "name": "ipython",
    "version": 3
   },
   "file_extension": ".py",
   "mimetype": "text/x-python",
   "name": "python",
   "nbconvert_exporter": "python",
   "pygments_lexer": "ipython3",
   "version": "3.7.3"
  }
 },
 "nbformat": 4,
 "nbformat_minor": 2
}
