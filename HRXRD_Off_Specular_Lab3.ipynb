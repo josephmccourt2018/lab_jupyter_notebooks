{
 "cells": [
  {
   "cell_type": "markdown",
   "metadata": {},
   "source": [
    "&copy; Bedzyk Research Group 2020, Northwestern University"
   ]
  },
  {
   "cell_type": "markdown",
   "metadata": {},
   "source": [
    "<div class=\"alert alert-block alert-warning\">\n",
    "To start this project, in the top menu bar click $\\text{Cell}\\to \\text{ Run All}$. Then, scroll back up to the top of this document.\n",
    "</div>"
   ]
  },
  {
   "cell_type": "code",
   "execution_count": 3,
   "metadata": {},
   "outputs": [
    {
     "data": {
      "text/html": [
       "<script>\n",
       "code_show_2=true; \n",
       "function code_toggle_2() {\n",
       " if (code_show_2){\n",
       " $('div.input').hide();\n",
       " } else {\n",
       " $('div.input').show();\n",
       " }\n",
       " code_show_2 = !code_show_2\n",
       "} \n",
       "$( document ).ready(code_toggle_2);\n",
       "</script>\n",
       "The raw code for this Jupyter Notebook is by default hidden for easier reading.\n",
       "To toggle on/off the raw code for this entire notebook, click <a href=\"javascript:code_toggle_2()\">here</a>."
      ],
      "text/plain": [
       "<IPython.core.display.HTML object>"
      ]
     },
     "execution_count": 3,
     "metadata": {},
     "output_type": "execute_result"
    }
   ],
   "source": [
    "#http://blog.nextgenetics.net/?e=102\n",
    "from IPython.display import HTML\n",
    "HTML('''<script>\n",
    "code_show_2=true; \n",
    "function code_toggle_2() {\n",
    " if (code_show_2){\n",
    " $('div.input').hide();\n",
    " } else {\n",
    " $('div.input').show();\n",
    " }\n",
    " code_show_2 = !code_show_2\n",
    "} \n",
    "$( document ).ready(code_toggle_2);\n",
    "</script>\n",
    "The raw code for this Jupyter Notebook is by default hidden for easier reading.\n",
    "To toggle on/off the raw code for this entire notebook, click <a href=\"javascript:code_toggle_2()\">here</a>.''')\n"
   ]
  },
  {
   "cell_type": "markdown",
   "metadata": {},
   "source": [
    "<div class=\"alert alert-block alert-warning\">\n",
    "Raw code is hidden by default for the entire notebook. You can toggle on/off the raw code for this entire notebook by clicking the button above. More importantly, raw code for individual cells can be shown/hidden by using the message/button: <img src=\"images/show_hide_button.png\"/> Hiding the code is mainly for visual purposes and may be useful if you would like a hard copy (i.e. pdf) of this document. However, there are also instances where you will need to show the code cell so you can input different parameters. This button will show up repeatedly throughout this document. Try showing and hiding the code in the cell block below as an example.\n",
    "</div>"
   ]
  },
  {
   "cell_type": "code",
   "execution_count": 4,
   "metadata": {},
   "outputs": [
    {
     "data": {
      "text/html": [
       "<script>\n",
       "code_show=true; \n",
       "function code_toggle() {\n",
       "    if (code_show){\n",
       "        $('div.cell.code_cell.rendered.selected div.input').hide();\n",
       "    } else {\n",
       "        $('div.cell.code_cell.rendered.selected div.input').show();\n",
       "    }\n",
       "    code_show = !code_show\n",
       "} \n",
       "$( document ).ready(code_toggle);\n",
       "</script>\n",
       "(To show/hide this cell's raw code input, click <a href=\"javascript:code_toggle()\">here</a>.)"
      ],
      "text/plain": [
       "<IPython.core.display.HTML object>"
      ]
     },
     "metadata": {},
     "output_type": "display_data"
    }
   ],
   "source": [
    "# importing the necessary libraries and packages for XRR.ipynb\n",
    "import ipywidgets as widgets\n",
    "from ipywidgets import Label, Layout\n",
    "from IPython.display import display, Markdown, clear_output\n",
    "from IPython.display import display\n",
    "from IPython.display import Image\n",
    "#%matplotlib notebook\n",
    "import matplotlib.pyplot as plt\n",
    "import numpy as np\n",
    "import pandas as pd\n",
    "import math\n",
    "from scipy.optimize import curve_fit\n",
    "from scipy.special import erfc\n",
    "from scipy import integrate\n",
    "from IPython.display import IFrame\n",
    "\n",
    "\n",
    "\n",
    "# Taken from https://stackoverflow.com/questions/31517194/how-to-hide-one-specific-cell-input-or-output-in-ipython-notebook\n",
    "# https://gist.github.com/Zsailer/5d1f4e357c78409dd9a5a4e5c61be552\n",
    "\n",
    "# This tag allows the supression of input cells that have to deal with formatting and code.\n",
    "# You are viewing the \"code\" version of the \"click here\" button you just pressed\n",
    "tag = HTML('''<script>\n",
    "code_show=true; \n",
    "function code_toggle() {\n",
    "    if (code_show){\n",
    "        $('div.cell.code_cell.rendered.selected div.input').hide();\n",
    "    } else {\n",
    "        $('div.cell.code_cell.rendered.selected div.input').show();\n",
    "    }\n",
    "    code_show = !code_show\n",
    "} \n",
    "$( document ).ready(code_toggle);\n",
    "</script>\n",
    "(To show/hide this cell's raw code input, click <a href=\"javascript:code_toggle()\">here</a>.)''')\n",
    "display(tag)"
   ]
  },
  {
   "cell_type": "markdown",
   "metadata": {},
   "source": [
    "# Jupyter Notebook Introduction\n",
    "\n",
    "Jupyter Notebook is a an open source web application/user interface that allows users to create and share documents containing code, equations, visualizations, and narrative text by using a combination of different programming languages. In this Jupyter Notebook (*XRR.ipynb*), we will be using **Python 3** for all analysis purposes (in the top right corner of this page, you will see the tag Python 3 which tells you the programming language of the notebook). The most important concept of Jupyter Notebooks is the concept of a **cell block**. Clicking on a block of text or code will highlight (in blue in this case) the current cell block you are viewing. Click on this block of text. In the menu bar at the top of this document, you will see a drop down menu: <img src=\"images/markdown_dropdown.png\"/> \n",
    "\n",
    "**Markdown** is referring the type of this cell block. Markdown is a text formatting language supported in Jupyter Notebook. By *double clicking* on the text you are reading right now, you will see the Markdown version of the cell block. You will see the other types of supported cell blocks by clicking the drop down menu. For example, \"Code\" is another type of cell block you will be seeing in this document and they all contain snippets of Python 3 code. \n",
    "\n",
    "To run code of a particular cell block, click into the cell and either click the run button above: \n",
    "\n",
    "<img src=\"images/run_jupyter.png\"/>\n",
    "\n",
    "or click \"Shift+Enter\" on your keyboard. Running a cell will also allow you to exit the \"code view\" version of a Markdown cell block. \n",
    "\n",
    "That is all you will need to know for this laboratory exercise. Have fun and we welcome any positive/negative feedback!\n",
    "\n",
    ">**NOTE:** *Do not worry if you do not know Python or Markdown as there is no coding necessary for completing this project. In fact, most code cells can be left hidden for the entire exercise and you never even have to see code!*"
   ]
  },
  {
   "cell_type": "markdown",
   "metadata": {},
   "source": [
    "# Re-accessing X-ray Lab Server\n",
    "\n",
    "<div class=\"alert alert-block alert-danger\">\n",
    "Before beginning, make sure to locate your netID folder. This is where you will be saving all of your data. You should have already created a folder during the X-ray Reflectivity Exercise (Lab 1).\n",
    "\n",
    "<br/>\n",
    "    \n",
    "In general, to save a scan: $\\text{ Right click on scan } \\to \\text{ Save data }\\to \\text{ to File}$ \n",
    "<br/><br/>\n",
    "On the lab computer, the location of the server is:\n",
    "<br/><br/>\n",
    "$\\text{This PC} \\to \\text{mrc_xrayfac (\\\\\\\\resfiles.northwestern.edu)(Z:)} \\to \\text{netID folders} \\to \\text{[your_net_ID]}$\n",
    "\n",
    "    \n",
    "You may also wish to mount the server onto your computer. Click the following link and follow the appropriate steps if you would like to do so:\n",
    ">https://kb.northwestern.edu/page.php?id=70525\n",
    "\n",
    "For further clarification, see *XRR.ipynb* in this same directory.\n",
    "\n",
    " \n",
    "</div>"
   ]
  },
  {
   "cell_type": "markdown",
   "metadata": {},
   "source": [
    "<br/><br/>\n",
    "<div align=\"center\">\n",
    "<font size=\"18\" color=\"#990000\"><b> Thin Film <br/> <br/> Off-Specular X-ray Diffraction </b></font>\n",
    "</div>\n",
    "\n",
    "# Overview of the technique"
   ]
  },
  {
   "cell_type": "markdown",
   "metadata": {},
   "source": [
    "In lab 3, we will find if the film in-plane lattice vectors of the film and substrate are aligned (versus out of plane as done in lab 2). This exercise is to prove that the film is indeed an epitaxial film. The film could in fact be *textured*. If the film had a definite orientation in the out of plane direction, it could be that the film was textured such that in-plane domains were random. You should find that the film is not textured but has in plane epitaxial relation to the underlying substrate. To do this, we need to move the diffractometer axis such that we can line up off specular Bragg peaks. Prior to the lab, you need to plan this exercise by using CrystalMaker and subsidiary program SingleCrystal to judicioulsy locate *families* of off specular bragg peaks.\n",
    "\n",
    "Going to use stereographic projection part of SingleCrystal. **FIND JOHN EMORY'S INTRODUCTION TO REFERENCE**\n",
    "- Use SingleCrystal to show a stereographic projction of the (006) pole (elevation $90^{\\circ}$, coming out at you) and elevations smaller than $90^{\\circ}$ and greater than $0^{\\circ}$.\n",
    "- Show at least 4 families (one is (006) and the two families that have elevation angles 0 < elevation < 90, and family equal to 0 (Hint: one of the strong off-specular reflections is the (10-14) reflection, which on your stereogram, you should find as having an elevation angle of $51.8^{\\circ}$ (North) if you have set the view direction in the 000-1 direction. This should be true for both Al_{2}O_{3} corrundum crystal structure). Also show the $\\Delta\\phi$ for these families\n",
    "- The hematite 10-14 could have a slightly different elevation angle depending on the c/a ratio\n",
    "\n",
    "\n",
    "Notice that when you look at stereographic projections, it will give you value of elevation angle and its bearing angle. The elevation angle is the compliment of $\\chi$ on the SmartLab diffractometer ($\\chi$ is tilt, see figure). The bearing angle is equivalent to the $\\phi$ (azimuthal) angle plus some offset in $\\phi$. Also in SingleCrystal, you can find the $2\\theta$ value if you eneter $\\lambda = 1.5405 \\text{ nm}$ and your $\\omega$ value will be $\\frac{1}{2}2\\theta$\n"
   ]
  },
  {
   "cell_type": "markdown",
   "metadata": {},
   "source": [
    "#  Determine Miscut of Surface and Align Phi-Axis\n",
    "*Date of Test Run: 20200910*\n",
    "\n",
    "**A.** Align $\\phi$ axis of the diffractomter with the $c$-axis of the substrate. In doing so, you will be determining the miscut angle of the surface relative to the $c$-planes (basal planes) of the substrate. This should be  between $0^{\\circ}$ and $1^{\\circ}$. The miscut is the result of how the crystal was cut and polished and usually a specification given by the manufacturer. In some cases, there is an intentional miscut of the surface to enhance epitaxial growth in a process where the nucleation occurs at step edges (a particular orientaion). \n",
    "    - Align by adjusting R$_x$ and R$_y$.\n",
    "**B.** $\\phi$ scans as fixed $\\omega$, $\\chi$"
   ]
  },
  {
   "cell_type": "markdown",
   "metadata": {},
   "source": [
    "### Follow the steps below to determine the miscut of the substrate:\n",
    "1. IS = 0.1mm, RS1 = RS2 = 0.2mm for alignment, Soller Slit = $5^{\\circ}$.\n",
    "    - 2$\\theta\\chi$ scan should be around $10^{6}$ cps (-2 to 2 $^{\\circ}$)\n",
    "    - 2$\\theta$ scan, -0.2 to 0.2, flat top looking peak, should be at 0.0018$^{\\circ}$\n",
    "    \n",
    "    \n",
    "2. Align the sample (z-scan) (same steps as before) (also involves R$_y$ scan -1 to 1) ($2\\theta\\omega$ was moved to 1 degree for this part)\n",
    "3. Now move $2\\theta$ to Al$_2$O$_3$ (006) peak ($2\\theta  = 41.6666^{\\circ}$), do a $\\omega$ scan (relative -0.2 to 0.2, 0.001 deg step, 1 deg/min)\n",
    "    - $2\\theta\\omega$, -0.1 to 0.1 relative, 0.002 step, 1 deg/min, peak might not be exactly 41.667 (move to that peak), we will keep $2\\theta$ equal to this value (~41.6674)\n",
    "    - Now do $\\omega$ scans stepping $45^{\\circ}$ in $\\phi$ ($\\phi = $ 0, 45, 90 135, 180, ..., 360), $\\omega$ scans can now be from -0.1 to 0.1 (make a **table** of the $\\omega$ peak values at each $\\phi$ value). Then fit to the equation below.\n",
    "    - Rotate to $\\phi = \\phi_0$\n",
    "    - Do R$_y$ -0.05 to 0.05 relative, 0.01 step, 0.5 deg/min and R$_x$ -2 to 2, 0.1 step, 8 deg/min"
   ]
  },
  {
   "cell_type": "markdown",
   "metadata": {},
   "source": [
    "### Calculating Miscut\n",
    "\n",
    "0. Align in surface normal (you could do this with a laser, but otherwise you use specular reflection from surface to find surface normal, low angle)\n",
    "1. Determine miscut\n",
    "1. Go to (006) peak of sapphire\n",
    "3. $\\omega$ vs. $\\phi$ plot"
   ]
  },
  {
   "cell_type": "markdown",
   "metadata": {},
   "source": [
    "# STEP LIST IN-PLANE SCANS (GENERAL)"
   ]
  },
  {
   "cell_type": "code",
   "execution_count": 5,
   "metadata": {},
   "outputs": [
    {
     "name": "stdout",
     "output_type": "stream",
     "text": [
      "gamma = 0.18577666018804442\n",
      "phi_0 = -0.0036216554159825415\n",
      "omega_0 = 20.8728625\n",
      "2_theta = 41.745725\n"
     ]
    },
    {
     "data": {
      "text/plain": [
       "20.8337"
      ]
     },
     "execution_count": 5,
     "metadata": {},
     "output_type": "execute_result"
    },
    {
     "data": {
      "image/png": "[encoded data removed]",
      "text/plain": [
       "<Figure size 432x288 with 1 Axes>"
      ]
     },
     "metadata": {
      "needs_background": "light"
     },
     "output_type": "display_data"
    }
   ],
   "source": [
    "import math\n",
    "import numpy as np\n",
    "import matplotlib.pyplot as plt\n",
    "from scipy.optimize import curve_fit\n",
    "\n",
    "# For test run of 461 lab 3\n",
    "# fitting the miscut curve\n",
    "phi = [0.,45.,90.,135.,180.,-45.,-90.,-135.]\n",
    "phi2 = [i * math.pi/180 for i in phi]\n",
    "omega = [20.8754,21.0048,21.0587,21.0033, 20.8708, 20.7394, 20.6869, 20.7436]\n",
    "\n",
    "def fit(x,gamma,phi_0,omega_0):\n",
    "    return gamma*np.sin(x-phi_0)+omega_0\n",
    "\n",
    "popt, pcov = curve_fit(fit, phi2, omega)\n",
    "\n",
    "x=np.arange(-135,180)\n",
    "x2 =[i * math.pi/180 for i in x]\n",
    "x3 =[i * 180 / math.pi for i in x2]\n",
    "\n",
    "plt.scatter(phi,omega)\n",
    "plt.plot(x3,fit(x2,*popt),'g--')\n",
    "plt.xlabel(\"$\\phi$\")\n",
    "plt.ylabel(\"$\\omega$\")\n",
    "\n",
    "print(\"gamma = \" + str(popt[0]))\n",
    "print(\"phi_0 = \" + str(popt[1]))\n",
    "print(\"omega_0 = \" + str(popt[2]))\n",
    "print(\"2_theta = \"+str(popt[2]*2))\n",
    "41.6674/2"
   ]
  },
  {
   "cell_type": "markdown",
   "metadata": {},
   "source": [
    "$\\phi_0$ is the azimuthal angle at which plane is defined perpendicular to the scattering plane"
   ]
  },
  {
   "cell_type": "markdown",
   "metadata": {},
   "source": [
    "### Off-specular\n",
    "\n",
    "1. Move to 006 peak substrate normal, then have to align Rx and Ry as suggested in Carlos's picture"
   ]
  },
  {
   "cell_type": "code",
   "execution_count": 16,
   "metadata": {},
   "outputs": [
    {
     "data": {
      "text/html": [
       "<script>\n",
       "code_show=true; \n",
       "function code_toggle() {\n",
       "    if (code_show){\n",
       "        $('div.cell.code_cell.rendered.selected div.input').hide();\n",
       "    } else {\n",
       "        $('div.cell.code_cell.rendered.selected div.input').show();\n",
       "    }\n",
       "    code_show = !code_show\n",
       "} \n",
       "$( document ).ready(code_toggle);\n",
       "</script>\n",
       "(To show/hide this cell's raw code input, click <a href=\"javascript:code_toggle()\">here</a>.)"
      ],
      "text/plain": [
       "<IPython.core.display.HTML object>"
      ]
     },
     "metadata": {},
     "output_type": "display_data"
    },
    {
     "data": {
      "image/png": "[encoded data removed]",
      "text/plain": [
       "<Figure size 432x288 with 1 Axes>"
      ]
     },
     "metadata": {
      "needs_background": "light"
     },
     "output_type": "display_data"
    },
    {
     "data": {
      "image/png": "[encoded data removed]",
      "text/plain": [
       "<Figure size 432x288 with 1 Axes>"
      ]
     },
     "metadata": {
      "needs_background": "light"
     },
     "output_type": "display_data"
    },
    {
     "data": {
      "image/png": "[encoded data removed]",
      "text/plain": [
       "<Figure size 432x288 with 1 Axes>"
      ]
     },
     "metadata": {
      "needs_background": "light"
     },
     "output_type": "display_data"
    }
   ],
   "source": [
    "#Reading in example data files\n",
    "\n",
    "display(tag)\n",
    "df_2tw_fe2o3 = pd.read_table('example/461_test/PLD50nmFe2O3_Al2O3/Off_Specular_Lab/2TW_Fe2O3_014_0014_Scan2020Sep10-193543.dat',sep = '\\s+',comment='*',names = [\"2TH\",\"Intensity\"],header = 1)\n",
    "plt.figure()\n",
    "plt.suptitle('Fig. 3:', fontsize=14, fontweight='bold')\n",
    "plt.title('$2\\\\theta\\omega$ scan Fe2O3')\n",
    "plt.plot(df_2tw_fe2o3[df_2tw_fe2o3.columns[0]],df_2tw_fe2o3[df_2tw_fe2o3.columns[1]])\n",
    "plt.yscale('log')\n",
    "plt.xlabel(\"2$\\\\theta$($^{\\circ}$)\")\n",
    "plt.ylabel(df_2tw_fe2o3.columns[1]+\" (cps)\")\n",
    "plt.show()\n",
    "\n",
    "df_2tw_al2o3 = pd.read_table('example/461_test/PLD50nmFe2O3_Al2O3/Off_Specular_Lab/2TW_Al2O3_014_0012_Scan2020Sep10-174204.dat',sep = '\\s+',comment='*',names = [\"2TH\",\"Intensity\"],header = 1)\n",
    "plt.figure()\n",
    "plt.suptitle('Fig. 4:', fontsize=14, fontweight='bold')\n",
    "plt.title('$2\\\\theta\\omega$ scan Al2O3')\n",
    "plt.plot(df_2tw_al2o3[df_2tw_al2o3.columns[0]],df_2tw_al2o3[df_2tw_al2o3.columns[1]])\n",
    "plt.yscale('log')\n",
    "plt.xlabel(\"2$\\\\theta$($^{\\circ}$)\")\n",
    "plt.ylabel(df_2tw_al2o3.columns[1]+\" (cps)\")\n",
    "plt.show()\n",
    "\n",
    "\n",
    "df_2tw_phi_full_fe2o3 = pd.read_table('example/461_test/PLD50nmFe2O3_Al2O3/Off_Specular_Lab/PHIFULL_Fe2O3_014_0007_Scan2020Sep10-194250.dat',sep = '\\s+',comment='*',names = [\"2TH\",\"Intensity\"],header = 1)\n",
    "plt.figure()\n",
    "plt.suptitle('Fig. 5:', fontsize=14, fontweight='bold')\n",
    "plt.title('$\\phi$ Full Scan Fe2O3')\n",
    "plt.plot(df_2tw_phi_full_fe2o3[df_2tw_phi_full_fe2o3.columns[0]],df_2tw_phi_full_fe2o3[df_2tw_phi_full_fe2o3.columns[1]])\n",
    "plt.yscale('log')\n",
    "plt.xlabel(\"$\\phi$($^{\\circ}$)\")\n",
    "plt.ylabel(df_2tw_phi_full_fe2o3.columns[1]+\" (cps)\")\n",
    "plt.show()"
   ]
  },
  {
   "cell_type": "code",
   "execution_count": null,
   "metadata": {},
   "outputs": [],
   "source": []
  }
 ],
 "metadata": {
  "kernelspec": {
   "display_name": "Python 3",
   "language": "python",
   "name": "python3"
  },
  "language_info": {
   "codemirror_mode": {
    "name": "ipython",
    "version": 3
   },
   "file_extension": ".py",
   "mimetype": "text/x-python",
   "name": "python",
   "nbconvert_exporter": "python",
   "pygments_lexer": "ipython3",
   "version": "3.6.7"
  }
 },
 "nbformat": 4,
 "nbformat_minor": 2
}
