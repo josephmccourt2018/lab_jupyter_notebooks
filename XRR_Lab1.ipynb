{
 "cells": [
  {
   "cell_type": "markdown",
   "metadata": {},
   "source": [
    "&copy; Bedzyk Research Group 2020, Northwestern University"
   ]
  },
  {
   "cell_type": "markdown",
   "metadata": {},
   "source": [
    "<div class=\"alert alert-block alert-warning\">\n",
    "To start this project, in the top menu bar click $\\text{Cell}\\to \\text{ Run All}$. Then, scroll back up to the top of this document.\n",
    "</div>"
   ]
  },
  {
   "cell_type": "code",
   "execution_count": 25,
   "metadata": {},
   "outputs": [
    {
     "data": {
      "text/html": [
       "<script>\n",
       "code_show_2=true; \n",
       "function code_toggle_2() {\n",
       " if (code_show_2){\n",
       " $('div.input').hide();\n",
       " } else {\n",
       " $('div.input').show();\n",
       " }\n",
       " code_show_2 = !code_show_2\n",
       "} \n",
       "$( document ).ready(code_toggle_2);\n",
       "</script>\n",
       "The raw code for this Jupyter Notebook is by default hidden for easier reading.\n",
       "To toggle on/off the raw code for this entire notebook, click <a href=\"javascript:code_toggle_2()\">here</a>."
      ],
      "text/plain": [
       "<IPython.core.display.HTML object>"
      ]
     },
     "execution_count": 25,
     "metadata": {},
     "output_type": "execute_result"
    }
   ],
   "source": [
    "#http://blog.nextgenetics.net/?e=102\n",
    "from IPython.display import HTML\n",
    "HTML('''<script>\n",
    "code_show_2=true; \n",
    "function code_toggle_2() {\n",
    " if (code_show_2){\n",
    " $('div.input').hide();\n",
    " } else {\n",
    " $('div.input').show();\n",
    " }\n",
    " code_show_2 = !code_show_2\n",
    "} \n",
    "$( document ).ready(code_toggle_2);\n",
    "</script>\n",
    "The raw code for this Jupyter Notebook is by default hidden for easier reading.\n",
    "To toggle on/off the raw code for this entire notebook, click <a href=\"javascript:code_toggle_2()\">here</a>.''')\n"
   ]
  },
  {
   "cell_type": "markdown",
   "metadata": {},
   "source": [
    "<div class=\"alert alert-block alert-warning\">\n",
    "Raw code is hidden by default for the entire notebook. You can toggle on/off the raw code for this entire notebook by clicking the button above. More importantly, raw code for individual cells can be shown/hidden by using the message/button: <img src=\"images/show_hide_button.png\"/> Hiding the code is mainly for visual purposes and may be useful if you would like a hard copy (i.e. pdf) of this document. However, there are also instances where you will need to show the code cell so you can input different parameters. This button will show up repeatedly throughout this document. Try showing and hiding the code in the cell block below as an example.\n",
    "</div>"
   ]
  },
  {
   "cell_type": "code",
   "execution_count": 26,
   "metadata": {},
   "outputs": [
    {
     "data": {
      "text/html": [
       "<script>\n",
       "code_show=true; \n",
       "function code_toggle() {\n",
       "    if (code_show){\n",
       "        $('div.cell.code_cell.rendered.selected div.input').hide();\n",
       "    } else {\n",
       "        $('div.cell.code_cell.rendered.selected div.input').show();\n",
       "    }\n",
       "    code_show = !code_show\n",
       "} \n",
       "$( document ).ready(code_toggle);\n",
       "</script>\n",
       "(To show/hide this cell's raw code input, click <a href=\"javascript:code_toggle()\">here</a>.)"
      ],
      "text/plain": [
       "<IPython.core.display.HTML object>"
      ]
     },
     "metadata": {},
     "output_type": "display_data"
    }
   ],
   "source": [
    "# importing the necessary libraries and packages for XRR.ipynb\n",
    "import ipywidgets as widgets\n",
    "from ipywidgets import Label, Layout\n",
    "from IPython.display import display, Markdown, clear_output\n",
    "from IPython.display import display\n",
    "from IPython.display import Image\n",
    "#%matplotlib notebook\n",
    "import matplotlib.pyplot as plt\n",
    "import numpy as np\n",
    "import pandas as pd\n",
    "import math\n",
    "from scipy.optimize import curve_fit\n",
    "from scipy.special import erfc\n",
    "from scipy import integrate\n",
    "from IPython.display import IFrame\n",
    "\n",
    "\n",
    "\n",
    "# Taken from https://stackoverflow.com/questions/31517194/how-to-hide-one-specific-cell-input-or-output-in-ipython-notebook\n",
    "# https://gist.github.com/Zsailer/5d1f4e357c78409dd9a5a4e5c61be552\n",
    "\n",
    "# This tag allows the supression of input cells that have to deal with formatting and code.\n",
    "# You are viewing the \"code\" version of the \"click here\" button you just pressed\n",
    "tag = HTML('''<script>\n",
    "code_show=true; \n",
    "function code_toggle() {\n",
    "    if (code_show){\n",
    "        $('div.cell.code_cell.rendered.selected div.input').hide();\n",
    "    } else {\n",
    "        $('div.cell.code_cell.rendered.selected div.input').show();\n",
    "    }\n",
    "    code_show = !code_show\n",
    "} \n",
    "$( document ).ready(code_toggle);\n",
    "</script>\n",
    "(To show/hide this cell's raw code input, click <a href=\"javascript:code_toggle()\">here</a>.)''')\n",
    "display(tag)"
   ]
  },
  {
   "cell_type": "code",
   "execution_count": 27,
   "metadata": {},
   "outputs": [],
   "source": [
    "# Strings I have to define for pro vs manual control and for different samples:\n",
    "\n",
    "sample = [\"Fe2O3\",\"Pt\"]\n",
    "\n",
    "sample_string = [\"hematite\", \"platinum\"]\n",
    "\n",
    "sample_size = [\"10\",\"20\",\"50\"] "
   ]
  },
  {
   "cell_type": "markdown",
   "metadata": {},
   "source": [
    "# Jupyter Notebook Introduction\n",
    "\n",
    "Jupyter Notebook is a an open source web application/user interface that allows users to create and share documents containing code, equations, visualizations, and narrative text by using a combination of different programming languages. In this Jupyter Notebook (*XRR.ipynb*), we will be using **Python 3** for all analysis purposes (in the top right corner of this page, you will see the tag Python 3 which tells you the programming language of the notebook). The most important concept of Jupyter Notebooks is the concept of a **cell block**. Clicking on a block of text or code will highlight (in blue in this case) the current cell block you are viewing. Click on this block of text. In the menu bar at the top of this document, you will see a drop down menu: <img src=\"images/markdown_dropdown.png\"/> \n",
    "\n",
    "**Markdown** is referring the type of this cell block. Markdown is a text formatting language supported in Jupyter Notebook. By *double clicking* on the text you are reading right now, you will see the Markdown version of the cell block. You will see the other types of supported cell blocks by clicking the drop down menu. For example, \"Code\" is another type of cell block you will be seeing in this document and they all contain snippets of Python 3 code. \n",
    "\n",
    "To run code of a particular cell block, click into the cell and either click the run button above: \n",
    "\n",
    "<img src=\"images/run_jupyter.png\"/>\n",
    "\n",
    "or click \"Shift+Enter\" on your keyboard. Running a cell will also allow you to exit the \"code view\" version of a Markdown cell block. \n",
    "\n",
    "That is all you will need to know for this laboratory exercise. Have fun and we welcome any positive/negative feedback!\n",
    "\n",
    ">**NOTE:** *Do not worry if you do not know Python or Markdown as there is no coding necessary for completing this project. In fact, most code cells can be left hidden for the entire exercise and you never even have to see code!*"
   ]
  },
  {
   "cell_type": "markdown",
   "metadata": {},
   "source": [
    "# *Before You Begin...*\n",
    "Please verify what SmartLab model you are using. In the cell block below, please click on the machine and software that corresponds to your SmartLab. You will see a screen shot of the software for the machine you click on.\n",
    "\n",
    "After selecting, navigate into the cell block below the screen shot. Click $\\text{Cell}\\to \\text{ Run All Below}$ to update the instructions tailored to your machine.\n",
    "\n",
    "Most of the lab will be performed within the *Pro/Manual Control* window of the Smartlab softwares (circled in red in the screenshots)."
   ]
  },
  {
   "cell_type": "code",
   "execution_count": 28,
   "metadata": {},
   "outputs": [
    {
     "data": {
      "application/vnd.jupyter.widget-view+json": {
       "model_id": "5b0f3cf864084dc9998bd9a208d16df4",
       "version_major": 2,
       "version_minor": 0
      },
      "text/plain": [
       "VBox(children=(Button(button_style='warning', description='Smartlab Gen 1, Guidance', layout=Layout(width='300…"
      ]
     },
     "metadata": {},
     "output_type": "display_data"
    },
    {
     "data": {
      "image/png": "[encoded data removed]",
      "text/plain": [
       "<IPython.core.display.Image object>"
      ]
     },
     "metadata": {},
     "output_type": "display_data"
    }
   ],
   "source": [
    "display(tag)\n",
    "\n",
    "machine_toggle_1 = widgets.ToggleButton(\n",
    "    value=False,\n",
    ")\n",
    "\n",
    "machine_button_1 = widgets.Button(\n",
    "    description='Smartlab Gen 1, Guidance',\n",
    "    disabled=False,\n",
    "    button_style='Warning', # 'success', 'info', 'warning', 'danger' or ''\n",
    "    layout={'width': '300px'}\n",
    ")\n",
    "\n",
    "machine_toggle_2 = widgets.ToggleButton(\n",
    "    value=False,\n",
    ")\n",
    "\n",
    "machine_button_2 = widgets.Button(\n",
    "    description='Smartlab Gen 2, Studio II',\n",
    "    disabled=False,\n",
    "    button_style='Warning', # 'success', 'info', 'warning', 'danger' or ''\n",
    "    layout={'width': '300px'}\n",
    ")\n",
    "\n",
    "#defining what the button will do on clicking: output a screenshot of each software\n",
    "def on_button_clicked_machine_1(b):\n",
    "    clear_output()\n",
    "    display(machines)\n",
    "    machine_toggle_1.value = True\n",
    "    machine_toggle_2.value = False\n",
    "    display(Image(filename='images/guidance_3.png'))   \n",
    "def on_button_clicked_machine_2(b):\n",
    "    clear_output()\n",
    "    display(machines)\n",
    "    machine_toggle_1.value = False\n",
    "    machine_toggle_2.value = True\n",
    "    display(Image(filename='images/studio_II_3.png'))\n",
    "    \n",
    "\n",
    "machine_button_1.on_click(on_button_clicked_machine_1)\n",
    "machine_button_2.on_click(on_button_clicked_machine_2)\n",
    "        \n",
    "#displaying the buttons for the two types of machines\n",
    "machine_button_layout = widgets.Layout(align_items='center')\n",
    "machines = widgets.VBox(children=[machine_button_1,machine_button_2],layout=machine_button_layout)\n",
    "display(machines)"
   ]
  },
  {
   "cell_type": "markdown",
   "metadata": {},
   "source": [
    "# Click $\\text{Cell}\\to \\text{Run  All  Below}$ when inside of this cell after selecting your instrument."
   ]
  },
  {
   "cell_type": "markdown",
   "metadata": {
    "slideshow": {
     "slide_type": "slide"
    }
   },
   "source": [
    "<br/><br/>\n",
    "<div align=\"center\">\n",
    "<font size=\"18\" color=\"#990000\"><b> Thin Film X-ray Reflectivity (XRR) </b></font>\n",
    "</div>\n",
    "\n",
    "# Overview of the technique\n",
    "\n",
    "X-Ray Reflectivity (XRR) measures the fraction of the incident X-ray beam intensity that is specularly reflected from a mirror-like surface with or without thin film coatings. Because the index of refraction, n = 1 - $\\delta$ - i $\\beta$ , is slightly less than unity at X-ray frequencies, Snell's Law predicts total external reflection from a mirror when the incident angle is less than the critical angle, $\\theta_c$ = (2$\\delta$)$^1$$^/$$^2$.   (Typically 0.1° < $\\theta_c$ < 0.5° .) When the incident angle $\\theta$ >> $\\theta_c$  Fresnel theory predicts that the reflectivity (R) drops off  strongly as $R_F$ = (2$\\theta$/$\\theta_c$)$^-$$^4$  and the X-ray waves reflected from the parallel interfaces of a film coated mirror interfere with each other; causing the tail of the reflectivity curve to oscillate as the incident angle is increased. **Fig. 1** shows the information that can be obtained from a XRR measurement both for one and two interfaces. The oscillation period is inversely proportional to the film thickness. The oscillation amplitude senses the density contrast between the film and substrate.  The  mirror surface rms roughness  $\\sigma$ causes the reflectivity tail to be damped, as described by R = $R_F$exp[-(Q$\\sigma)^2$]. Where the scattering vector magnitude Q = 4$\\pi $ Sin$\\theta$ / $\\lambda$.\n",
    "\n",
    "<img src=\"images/xrr.png\" />\n",
    "\n",
    ">For further details about XRR and other surface sensitive X-ray techniques please refer to the following website:  \n",
    ">https://www-ssrl.slac.stanford.edu/conferences/workshops/xrs2016/documents/hgs_sxr2016_sxrd.pdf"
   ]
  },
  {
   "cell_type": "markdown",
   "metadata": {},
   "source": [
    "# XRR Lab Description\n",
    "In this lab, you will be analyzing X-ray reflectivity for a thin film of $\\alpha\\text{-Fe}_2\\text{O}_3$ (hematite) or $\\text{Pt}$ (platinum) epitaxially grown by pulsed laser deposition (PLD) on $\\alpha\\text{-Al}_2\\text{O}_3$ $(001)$ ($c$-face sapphire) substrate. $\\alpha\\text{-Fe}_2\\text{O}_3$ films are potentially of interest for water photooxidation and renewable energy (<a href=\"images/Kay_et_al.Fe2O3_photooxidation.JACS.2006.pdf\">Kay, Cesar and Gratzel, JACS,2006</a>).\n",
    "\n",
    "Here, we measure the reflectivity of the substrate/film which is caused by the difference in their electron density. This lab consists of the following steps:\n",
    "\n",
    "\n",
    "1. **Getting Started in Smartlab**\n",
    "2. **Sample Alignment** \n",
    "3. **Performing X-ray Reflectivity**\n",
    "4. **Finishing Measurement**\n",
    "\n",
    "\n",
    "<div class=\"alert alert-block alert-danger\">\n",
    "While these instructions are for a particular thin film sample and a particular SmartLab diffractometer, you should be able to use them for guidance for XRR measurements of other types of thin film samples and other diffractometers. \n",
    "</div>"
   ]
  },
  {
   "cell_type": "markdown",
   "metadata": {},
   "source": [
    "## 1. Getting Started in Smartlab (Guidance / Studio II)\n",
    "\n",
    "Here you will open Smartlab Guidance or Smartlab Studio II software and turn on the X-Ray Generator. Depending on the Smartlab you are working on, you will be using Guidance (Smartlab Gen 1) or Studio II software (Smartlab Gen 2). You will be doing your measurements in the Pro/Manual Control mode which allows you to be free to do any movement on any axis of the diffractometer. This is a preferred choice to fully understand what you are doing and is a great way to introduce the use of the diffractometer. Smartlab allows the use of routines/flows which can be very beneficial for streamlining the use of the equipment."
   ]
  },
  {
   "cell_type": "markdown",
   "metadata": {},
   "source": [
    ">You can check out these two videos about the Rigaku SmartLab system if you are interested in learning more:\n",
    "\n",
    "><div><em><span style=\"text-align: left; color: #ff0000; text-transform: none; text-indent: 0px; letter-spacing: normal; font-size: 16px; font-variant: normal; font-weight: 400; text-decoration: none; word-spacing: 0px; display: inline; white-space: normal; orphans: 2; float: none; background-color: #ffffff;\"><span style=\"background-color: #ffffff;\">About the equipment:   <a href=\"https://www.youtube.com/watch?v=wAB9VHzOA1Q\" target=\"_blank\" rel=\"noopener\">https://www.youtube.com/watch?v=wAB9VHzOA1Q</a></span></span></em></div>\n",
    "><div><em><span style=\"text-align: left; color: #ff0000; text-transform: none; text-indent: 0px; letter-spacing: normal; font-size: 16px; font-variant: normal; font-weight: 400; text-decoration: none; word-spacing: 0px; display: inline; white-space: normal; orphans: 2; float: none; background-color: #ffffff;\"><span style=\"background-color: #ffffff;\">About the applications: <a href=\"https://www.youtube.com/watch?v=Kq9jthHvVxI\" target=\"_blank\" rel=\"noopener\">https://www.youtube.com/watch?v=Kq9jthHvVxI</a></span></span></em></div>\n",
    "<div> </div>\n"
   ]
  },
  {
   "cell_type": "markdown",
   "metadata": {},
   "source": [
    "### Follow the instructions and put a check mark in each step as you advance. These steps are to set up the Smartlab software and initial conditions for the experiment.\n",
    "\n",
    "This experiment will primarily be performed in the *Manual Control* window in Guidance and *Pro Control* window in Studio II."
   ]
  },
  {
   "cell_type": "code",
   "execution_count": 39,
   "metadata": {
    "scrolled": false
   },
   "outputs": [
    {
     "data": {
      "text/html": [
       "<script>\n",
       "code_show=true; \n",
       "function code_toggle() {\n",
       "    if (code_show){\n",
       "        $('div.cell.code_cell.rendered.selected div.input').hide();\n",
       "    } else {\n",
       "        $('div.cell.code_cell.rendered.selected div.input').show();\n",
       "    }\n",
       "    code_show = !code_show\n",
       "} \n",
       "$( document ).ready(code_toggle);\n",
       "</script>\n",
       "(To show/hide this cell's raw code input, click <a href=\"javascript:code_toggle()\">here</a>.)"
      ],
      "text/plain": [
       "<IPython.core.display.HTML object>"
      ]
     },
     "metadata": {},
     "output_type": "display_data"
    },
    {
     "data": {
      "application/vnd.jupyter.widget-view+json": {
       "model_id": "8a55140f9c2f41708ae1ae146c0d0405",
       "version_major": 2,
       "version_minor": 0
      },
      "text/plain": [
       "GridBox(children=(Checkbox(value=False, description='<strong> Step </strong>1:'), HTMLMath(value='Open XG Cont…"
      ]
     },
     "metadata": {},
     "output_type": "display_data"
    },
    {
     "data": {
      "application/vnd.jupyter.widget-view+json": {
       "model_id": "b83b4201afbb40d78bbd3a3f3949be38",
       "version_major": 2,
       "version_minor": 0
      },
      "text/plain": [
       "GridBox(children=(Checkbox(value=False, description='<strong> Step </strong>2:'), HTMLMath(value='Turn on the …"
      ]
     },
     "metadata": {},
     "output_type": "display_data"
    },
    {
     "data": {
      "application/vnd.jupyter.widget-view+json": {
       "model_id": "cec82f3d523d4126a3c5072dc9ea1309",
       "version_major": 2,
       "version_minor": 0
      },
      "text/plain": [
       "GridBox(children=(Checkbox(value=False, description='<strong> Step </strong>3:'), HTMLMath(value='Set the volt…"
      ]
     },
     "metadata": {},
     "output_type": "display_data"
    },
    {
     "data": {
      "application/vnd.jupyter.widget-view+json": {
       "model_id": "3147c225ee30432d9da5664ccbf7b0d5",
       "version_major": 2,
       "version_minor": 0
      },
      "text/plain": [
       "GridBox(children=(Checkbox(value=False, description='<strong> Step </strong>4:'), HTMLMath(value='After the vo…"
      ]
     },
     "metadata": {},
     "output_type": "display_data"
    },
    {
     "data": {
      "application/vnd.jupyter.widget-view+json": {
       "model_id": "063f4b53620c4649871dbaadad26066b",
       "version_major": 2,
       "version_minor": 0
      },
      "text/plain": [
       "GridBox(children=(Checkbox(value=False, description='<strong> Step </strong>5:'), HTMLMath(value='Close XG Con…"
      ]
     },
     "metadata": {},
     "output_type": "display_data"
    },
    {
     "data": {
      "application/vnd.jupyter.widget-view+json": {
       "model_id": "d79705244fc74f5b81c60a432fab73cf",
       "version_major": 2,
       "version_minor": 0
      },
      "text/plain": [
       "GridBox(children=(Checkbox(value=False, description='<strong> Step </strong>6:'), HTMLMath(value='Look at the …"
      ]
     },
     "metadata": {},
     "output_type": "display_data"
    },
    {
     "data": {
      "application/vnd.jupyter.widget-view+json": {
       "model_id": "1f57a3cf674b46118bc129d7cdb59d15",
       "version_major": 2,
       "version_minor": 0
      },
      "text/plain": [
       "Button(button_style='info', description='Finish!', style=ButtonStyle())"
      ]
     },
     "metadata": {},
     "output_type": "display_data"
    }
   ],
   "source": [
    "display(tag)\n",
    "\n",
    "#Displaying a checklist for to do list\n",
    "#https://stackoverflow.com/questions/41469554/python-jupyter-notebook-create-dynamic-checklist-user-input-that-runs-code\n",
    "\n",
    "\n",
    "# To do list containing all the steps for XRR on SmartLab (Gen 3? or Gen 2? the latest one)\n",
    "step_list_getting_started = ['Open XG Control (XG Control is located in the $\\\\text{Control}$ tab on SmartLab Guidance).',\n",
    "            'Turn on the X-Ray tube and wait',\n",
    "            'Set the voltage to $45$ kV. Click on $\\\\text{SET}$ and wait',\n",
    "            'After the voltage has been set, set the current to $160$ mA. Click on $\\\\text{SET}$ and wait',\n",
    "            'Close XG Control and open Pro/Manual Control in the Home Tab',\n",
    "            'Look at the H/W Status Window in the left part of the screen. Make sure the following motors are set to zero in the H/W Status Tab: 2$\\\\theta$, $\\omega$, 2$\\\\theta\\chi$, $\\chi$, $\\phi$, R$_x$, R$_y$. If not, open the tab for the specific motor in Pro Control, type zero in the Move Tab and click on Move. In addition, double-check that the voltage is $45$ kV and current is $160$ mA.']\n",
    "checkbox_array_getting_started = []\n",
    "for step in step_list_getting_started:\n",
    "    step_index = str(step_list_getting_started.index(step)+1)\n",
    "    checkbox = widgets.Checkbox(description = \"<strong> Step </strong>\"+step_index+\":\")\n",
    "    checkbox_array_getting_started.append(checkbox)\n",
    "    #use HTMLMath widget to get text right\n",
    "    temp_step = widgets.HTMLMath(step)\n",
    "    #set up a GridBox to display properly\n",
    "    box = widgets.GridBox([checkbox, temp_step],layout=Layout(width='100%',\n",
    "            grid_template_columns='20% 80% ',\n",
    "            grid_template_areas='''\n",
    "            \"checkbox temp_step\"\n",
    "            '''))\n",
    "    display(box)\n",
    "    \n",
    "#create finish button that verifies all steps have been completed\n",
    "pb1 = widgets.Button(\n",
    "    description='Finish!',\n",
    "    disabled=False,\n",
    "    button_style='info', # 'success', 'info', 'warning', 'danger' or ''\n",
    ")\n",
    "#defining what the button will do on clicking\n",
    "def on_button_clicked(b):\n",
    "    print(\"------------------------------------------------------------------------------------\")\n",
    "    print(\"clicked on: Finish!\")\n",
    "    steps_completed=0\n",
    "    for checkbox in checkbox_array_getting_started:\n",
    "        if checkbox.value ==True:\n",
    "            steps_completed+=1\n",
    "            continue;\n",
    "        else:\n",
    "            print(\"You did not complete step \" + str(checkbox_array_getting_started.index(checkbox)+1))\n",
    "            pb1.button_style='danger'\n",
    "    if steps_completed == len(checkbox_array_getting_started):\n",
    "        print(\"You finished Getting Started with Smartlab. Please, continue to Sample Alignment. Nice job!\")\n",
    "        pb1.button_style='success'\n",
    "        \n",
    "pb1.on_click(on_button_clicked)\n",
    "display(pb1)"
   ]
  },
  {
   "cell_type": "markdown",
   "metadata": {},
   "source": [
    "### Setting Up Your Own Directory for Lab Projects\n",
    "\n",
    "We have a facility file server where you will save/access all of your experimental data. All data that is generated from lab computers should be saved on the network drive labeled “mrc_xrayfac”, in the following directory: “netID folders/[your net ID]\", where you would replace your own Northwestern net ID. To be more explicit, you should save your data in the following directory:\n",
    "\n",
    "$\\text{This PC} \\to \\text{mrc_xrayfac (\\\\\\\\resfiles.northwestern.edu)(Z:)} \\to \\text{netID folders} \\to \\text{[your_net_ID]}$\n",
    "\n",
    "\n",
    "### Follow the instructions and put a check mark in each step as you advance. These steps are to set up your own directory in the X-ray facility server for the XRR experiment."
   ]
  },
  {
   "cell_type": "code",
   "execution_count": 40,
   "metadata": {},
   "outputs": [
    {
     "data": {
      "text/html": [
       "<script>\n",
       "code_show=true; \n",
       "function code_toggle() {\n",
       "    if (code_show){\n",
       "        $('div.cell.code_cell.rendered.selected div.input').hide();\n",
       "    } else {\n",
       "        $('div.cell.code_cell.rendered.selected div.input').show();\n",
       "    }\n",
       "    code_show = !code_show\n",
       "} \n",
       "$( document ).ready(code_toggle);\n",
       "</script>\n",
       "(To show/hide this cell's raw code input, click <a href=\"javascript:code_toggle()\">here</a>.)"
      ],
      "text/plain": [
       "<IPython.core.display.HTML object>"
      ]
     },
     "metadata": {},
     "output_type": "display_data"
    },
    {
     "data": {
      "application/vnd.jupyter.widget-view+json": {
       "model_id": "54f3935b7f43456380df6b668ea2f891",
       "version_major": 2,
       "version_minor": 0
      },
      "text/plain": [
       "GridBox(children=(Checkbox(value=False, description='<strong> Step </strong>1:'), HTMLMath(value='On the lab c…"
      ]
     },
     "metadata": {},
     "output_type": "display_data"
    },
    {
     "data": {
      "application/vnd.jupyter.widget-view+json": {
       "model_id": "97566fdd928a4bd48e0c148d4d12b243",
       "version_major": 2,
       "version_minor": 0
      },
      "text/plain": [
       "GridBox(children=(Checkbox(value=False, description='<strong> Step </strong>2:'), HTMLMath(value='Go to or Cre…"
      ]
     },
     "metadata": {},
     "output_type": "display_data"
    },
    {
     "data": {
      "application/vnd.jupyter.widget-view+json": {
       "model_id": "313db3f2feec439abfea64b13f671896",
       "version_major": 2,
       "version_minor": 0
      },
      "text/plain": [
       "GridBox(children=(Checkbox(value=False, description='<strong> Step </strong>3:'), HTMLMath(value='Go to or Cre…"
      ]
     },
     "metadata": {},
     "output_type": "display_data"
    },
    {
     "data": {
      "application/vnd.jupyter.widget-view+json": {
       "model_id": "4fc89b7d95bf4315b293f9c7d192eb7f",
       "version_major": 2,
       "version_minor": 0
      },
      "text/plain": [
       "GridBox(children=(Checkbox(value=False, description='<strong> Step </strong>4:'), HTMLMath(value='Within $\\\\te…"
      ]
     },
     "metadata": {},
     "output_type": "display_data"
    },
    {
     "data": {
      "application/vnd.jupyter.widget-view+json": {
       "model_id": "4654d4f9b8384b6fb1332365d06cb633",
       "version_major": 2,
       "version_minor": 0
      },
      "text/plain": [
       "GridBox(children=(Checkbox(value=False, description='<strong> Step </strong>5:'), HTMLMath(value='Finally, wit…"
      ]
     },
     "metadata": {},
     "output_type": "display_data"
    },
    {
     "data": {
      "application/vnd.jupyter.widget-view+json": {
       "model_id": "30fed093a03f4b4ca2c389a875a4f207",
       "version_major": 2,
       "version_minor": 0
      },
      "text/plain": [
       "Button(button_style='info', description='Finish!', style=ButtonStyle())"
      ]
     },
     "metadata": {},
     "output_type": "display_data"
    }
   ],
   "source": [
    "display(tag)\n",
    "\n",
    "#Displaying a checklist for to do list\n",
    "#https://stackoverflow.com/questions/41469554/python-jupyter-notebook-create-dynamic-checklist-user-input-that-runs-code\n",
    "\n",
    "\n",
    "# To do list containing all the steps for XRR on SmartLab (Gen 3? or Gen 2? the latest one)\n",
    "step_list_directory = ['On the lab computer, navigate to the $\\\\text{netID folders}$ directory following the flow chart above.',\n",
    "                      'Go to or Create a new folder within this directory with the folder name as your own net ID',\n",
    "                      'Go to or Create a new folder named $\\\\text{461}$ within your net ID folder.',\n",
    "                      'Within $\\\\text{461}$, create a folder named  $\\\\text{PLD_[film_size]_[sample]_[substrate]}$ (e.g. $\\\\text{PLD_50nm_Fe2O3_Al2O3}$ for 50nm hematite film on saphhire). <i><b>NOTE:</b> PLD refers to pulsed laser deposition, the technique used to grow the film.</i>',\n",
    "                      'Finally, within this new folder, create a new folder titled $\\\\text{XRR_lab}$. This is where you will save all of your data from this exercize.']\n",
    "checkbox_array_directory= []\n",
    "for step in step_list_directory:\n",
    "    step_index = str(step_list_directory.index(step)+1)\n",
    "    checkbox = widgets.Checkbox(description = \"<strong> Step </strong>\"+step_index+\":\")\n",
    "    checkbox_array_directory.append(checkbox)\n",
    "    #use HTMLMath widget to get text right\n",
    "    temp_step = widgets.HTMLMath(step)\n",
    "    #set up a GridBox to display properly\n",
    "    box = widgets.GridBox([checkbox, temp_step],layout=Layout(width='100%',\n",
    "            grid_template_columns='20% 80% ',\n",
    "            grid_template_areas='''\n",
    "            \"checkbox temp_step\"\n",
    "            '''))\n",
    "    display(box)\n",
    "    \n",
    "#create finish button that verifies all steps have been completed\n",
    "pb5 = widgets.Button(\n",
    "    description='Finish!',\n",
    "    disabled=False,\n",
    "    button_style='info', # 'success', 'info', 'warning', 'danger' or ''\n",
    ")\n",
    "    \n",
    "#defining what the button will do on clicking\n",
    "def on_button_clicked(b):\n",
    "    print(\"------------------------------------------------------------------------------------\")\n",
    "    print(\"clicked on: Finish!\")\n",
    "    steps_completed=0\n",
    "    for checkbox in checkbox_array_directory:\n",
    "        if checkbox.value ==True:\n",
    "            steps_completed+=1\n",
    "            continue;\n",
    "        else:\n",
    "            print(\"You did not complete step \" + str(checkbox_array_directory.index(checkbox)+1))\n",
    "            pb5.button_style='danger'\n",
    "    if steps_completed == len(checkbox_array_directory):\n",
    "        print(\"Great work. Move on to Sample Alignment.\")\n",
    "        pb5.button_style='success'\n",
    "        \n",
    "pb5.on_click(on_button_clicked)\n",
    "display(pb5)"
   ]
  },
  {
   "cell_type": "markdown",
   "metadata": {},
   "source": [
    "### Accessing X-ray Lab Server\n",
    "\n",
    "Click on the link below and follow the steps for accessing the X-ray lab server and your data files from your personal computer. The server name is **mrc_xrayfac**.\n",
    ">https://kb.northwestern.edu/page.php?id=70525"
   ]
  },
  {
   "cell_type": "markdown",
   "metadata": {},
   "source": [
    "##### Prior to  sample alignment, the optics, sample goniometer, and detector slits have been prealigned by the XRD facility staff.  You can eventually learn how to do this alignment on your own with a set of automated procedures that are part of the SmartLab software control system. \n",
    "\n",
    "## 2. Sample Alignment (Thin Film)\n",
    "\n",
    " The XRD staff has mounted your sample in the center of the sample circular plate. \n",
    "Starting at $\\omega$ = 2$\\theta$ =0, you will rotate ($R_y$) and translate (Z) of the sample until the sample surface is parallel to the straight through beam (STB) and cuts the STB in half.  \n",
    "\n",
    "Please refer to  **Fig. 2** below to become familiar with the components of the diffractometer. The $\\textbf{incident beam arm}$, which is carried by the horizontal $\\omega$ rotation axis, starts with a 50 $\\mu$m x 8 mm horizontal line source from the Cu rotating anode, followed by: a parabolic multilayer mirror set to pass Cu K$\\alpha$ X-rays, soller slits that limit the horizontal divergence to 5°, vertical slits IS and a hand selected length limiting (horizontal) slit (2,5 or 10 mm). The $\\textbf{sample stage}$ starts with a $\\chi$ arc whose rotational axis is defined by the STB at $\\omega$ = 2$\\theta$ =0. This is followed by: the $\\phi$ axis (perpendicular to the $\\chi$ axis), Z translation (parallel to $\\phi$ axis), ($R_x$) axis (parallel to $\\chi$ axis when $\\phi$ =0), and ($R_y$) axis (parallel to $\\omega$ axis when $\\phi$ =0. The $\\textbf{detector arm}$ is carried by a  2$\\theta$$\\chi$ rotation stage which rides on 2$\\theta$ rotation stage. The 2$\\theta$ axis is horizontal and coincides with the $\\omega$ axis. The 2$\\theta$$\\chi$ axis is perpendicular to the 2$\\theta$ axis. The detector arm starts with vertical receiving slit $RS_1$, followed by: 5° soller slit, vertical receiving slit $RS_2$, attenuator, and lastly the single photon counting detector that can go up to 100,000 cps.\n",
    "\n",
    "All rotation/translation stages and vertical slits mentioned above are controlled by SmartLab  Pro / Manual Control. Only the horizontal length limiting slit on the incident beam arm needs to be selected and inserted by hand. The diffractometer has a sensor system that tells it what components are mounted.\n",
    "\n",
    "In your thin film XRR measurements, $\\chi$ and $\\phi$ will be fixed at zero and not changed. 2$\\theta$$\\chi$ may be set slightly off from zero in the STB alignment step to make sure the detector arm soller slit is aligned with the incident beam arm soller slit.\n",
    "\n",
    "After alignment, you will be working mostly with the $\\omega$ and $2\\theta$ angles. $\\omega$ represent the incident angle of the X-rays. $2\\theta$ is the scattering angle or detector arm angle. It is very common that the source is fixed, for instance in synchrotrons, so the sample is rotated in $\\omega$ to change the incident beam angle. In contrast, the Smartlab source and incident beam optics rotate to change $\\omega$ and the sample can be fixed during a $\\theta$ -$2\\theta$ specular scan along a radial direction in reciprocal space. \n",
    "Note that a $\\theta$ -$2\\theta$ scan  simultaneously scans both $\\omega$ and $2\\theta$ with $\\omega$ constrained at $\\omega$ = $2\\theta$ /2.  We will use the $\\theta$/$2\\theta$ on the SmartLab to achieve this combined motion.\n",
    "Looking at Fig. 2, an icreased step in a $\\theta$ -$2\\theta$ radial scan causes the incident beam arm to rotate clockwise by the $\\theta$ step-size and the detector arm to rotate counterclockwise by  $\\theta$ step-size. A $\\theta$ -$2\\theta$ scan can be referred to as a butterfly scan. For a transverse $\\omega$ scan with $2\\theta$ fixed, an increased step in $\\omega$ causes both the incident beam and detector arms to rotate clockwise by the $\\omega$ step size. \n",
    "\n",
    "\n",
    "<div align=\"center\">\n",
    "<FIGURE> \n",
    "    \n",
    "   <IMG SRC=\"images/Fig2.png\" TITLE = \"Figure 2\">    \n",
    "    <FIGCAPTION> <b>Fig. 2:</b> <i> Diffractometer geometry</i></FIGCAPTION>\n",
    "    \n",
    "</FIGURE>\n",
    "</div>"
   ]
  },
  {
   "cell_type": "markdown",
   "metadata": {},
   "source": [
    "The substrate sample is fastened to the sample holder plate by double side tape or glue, which causes a slight offset that needs to be corrected (exagerrated in the  **Fig. 3** below). This happens due to the innacuracy of the sample mounting. The figure below shows the corrected angle $\\tau_\\text{corr}$ which is called R$_y$ in Smartlab. \n",
    "\n",
    "<div align=\"center\">\n",
    "<FIGURE> \n",
    "    \n",
    "   <img src=\"images/omega_correction.png\"  TITLE = \"Figure 3\">    \n",
    "    <FIGCAPTION><b>Fig. 3: </b> <i> Glue offset of sample (exagerrated for visual purposes)</i></FIGCAPTION>\n",
    "    \n",
    "</FIGURE>\n",
    "</div>\n",
    "\n",
    "In addition to R$_y$, you will be moving $z$ such that the X-ray beam is cut in half (**Fig. 4**). This is essential for an accurate measurement of the XRR. It insures that the beam stays cenetered on the sample as you increase $\\omega$.\n",
    "\n",
    "<div align=\"center\">\n",
    "<FIGURE> \n",
    "    \n",
    "   <img src=\"images/half_beam.png\"  TITLE = \"Figure 4\">    \n",
    "   <FIGCAPTION><b>Fig. 4: </b> <i> X-ray beam being cut in half </i></FIGCAPTION>\n",
    "    \n",
    "</FIGURE>\n",
    "</div>"
   ]
  },
  {
   "cell_type": "markdown",
   "metadata": {},
   "source": [
    "### Follow the instructions and put a check mark in each step as you advance. These steps are to align the thin film sample in preparation for measurements.\n",
    "\n",
    "The following experiment will be performed in the *Pro/Manual Control* window of Smartlab Studio 2 software. \n",
    "<div class=\"alert alert-block alert-warning\">\n",
    "    If you ever feel lost when perfroming scans, refer back to <b>Fig. 2</b> to remind yourself of the geometry of each scan type. And, of course, feel free to ask your lab supervisor any questions. They will prove to be much more helpful than any set of instructions.\n",
    "</div>"
   ]
  },
  {
   "cell_type": "code",
   "execution_count": 41,
   "metadata": {
    "scrolled": false
   },
   "outputs": [
    {
     "data": {
      "text/html": [
       "<script>\n",
       "code_show=true; \n",
       "function code_toggle() {\n",
       "    if (code_show){\n",
       "        $('div.cell.code_cell.rendered.selected div.input').hide();\n",
       "    } else {\n",
       "        $('div.cell.code_cell.rendered.selected div.input').show();\n",
       "    }\n",
       "    code_show = !code_show\n",
       "} \n",
       "$( document ).ready(code_toggle);\n",
       "</script>\n",
       "(To show/hide this cell's raw code input, click <a href=\"javascript:code_toggle()\">here</a>.)"
      ],
      "text/plain": [
       "<IPython.core.display.HTML object>"
      ]
     },
     "metadata": {},
     "output_type": "display_data"
    },
    {
     "name": "stdout",
     "output_type": "stream",
     "text": [
      "Instructions for SmartLab Guidance\n"
     ]
    },
    {
     "data": {
      "application/vnd.jupyter.widget-view+json": {
       "model_id": "2d8eb35c72014ab89481d71dcdab59b6",
       "version_major": 2,
       "version_minor": 0
      },
      "text/plain": [
       "GridBox(children=(Checkbox(value=False, description='<strong> Step </strong>1:'), HTMLMath(value='Make sure th…"
      ]
     },
     "metadata": {},
     "output_type": "display_data"
    },
    {
     "data": {
      "application/vnd.jupyter.widget-view+json": {
       "model_id": "423d4edd2ddd4e53a4b428d403c46bf9",
       "version_major": 2,
       "version_minor": 0
      },
      "text/plain": [
       "GridBox(children=(Checkbox(value=False, description='<strong> Step </strong>2:'), HTMLMath(value='In Manual Co…"
      ]
     },
     "metadata": {},
     "output_type": "display_data"
    },
    {
     "data": {
      "application/vnd.jupyter.widget-view+json": {
       "model_id": "ffc9efb0cda1447e8d428a8e7ea085e3",
       "version_major": 2,
       "version_minor": 0
      },
      "text/plain": [
       "GridBox(children=(Checkbox(value=False, description='<strong> Step </strong>3:'), HTMLMath(value='Make sure Au…"
      ]
     },
     "metadata": {},
     "output_type": "display_data"
    },
    {
     "data": {
      "application/vnd.jupyter.widget-view+json": {
       "model_id": "bb27a8f5f0284f36a12310e978e09366",
       "version_major": 2,
       "version_minor": 0
      },
      "text/plain": [
       "GridBox(children=(Checkbox(value=False, description='<strong> Step </strong>4:'), HTMLMath(value='Perform an A…"
      ]
     },
     "metadata": {},
     "output_type": "display_data"
    },
    {
     "data": {
      "application/vnd.jupyter.widget-view+json": {
       "model_id": "cde29d22d4e34cd0971fee7e7ec58ad6",
       "version_major": 2,
       "version_minor": 0
      },
      "text/plain": [
       "GridBox(children=(Checkbox(value=False, description='<strong> Step </strong>5:'), HTMLMath(value='The scan sho…"
      ]
     },
     "metadata": {},
     "output_type": "display_data"
    },
    {
     "data": {
      "application/vnd.jupyter.widget-view+json": {
       "model_id": "0d904edd3b3c40338f67605649d88dac",
       "version_major": 2,
       "version_minor": 0
      },
      "text/plain": [
       "GridBox(children=(Checkbox(value=False, description='<strong> Step </strong>6:'), HTMLMath(value='Now perform …"
      ]
     },
     "metadata": {},
     "output_type": "display_data"
    },
    {
     "data": {
      "application/vnd.jupyter.widget-view+json": {
       "model_id": "a0cf73a208b240fd85a14c331cb24fba",
       "version_major": 2,
       "version_minor": 0
      },
      "text/plain": [
       "GridBox(children=(Checkbox(value=False, description='<strong> Step </strong>7:'), HTMLMath(value='Select R$_y$…"
      ]
     },
     "metadata": {},
     "output_type": "display_data"
    },
    {
     "data": {
      "application/vnd.jupyter.widget-view+json": {
       "model_id": "8fe8834e146840edafb1b86020efa255",
       "version_major": 2,
       "version_minor": 0
      },
      "text/plain": [
       "GridBox(children=(Checkbox(value=False, description='<strong> Step </strong>8:'), HTMLMath(value='Perform a R$…"
      ]
     },
     "metadata": {},
     "output_type": "display_data"
    },
    {
     "data": {
      "application/vnd.jupyter.widget-view+json": {
       "model_id": "8dbd0008504c444cad7b17934db9bebf",
       "version_major": 2,
       "version_minor": 0
      },
      "text/plain": [
       "GridBox(children=(Checkbox(value=False, description='<strong> Step </strong>9:'), HTMLMath(value='Select the $…"
      ]
     },
     "metadata": {},
     "output_type": "display_data"
    },
    {
     "data": {
      "application/vnd.jupyter.widget-view+json": {
       "model_id": "074d39c4dc26422c98f435cd5b3d543a",
       "version_major": 2,
       "version_minor": 0
      },
      "text/plain": [
       "GridBox(children=(Checkbox(value=False, description='<strong> Step </strong>10:'), HTMLMath(value='Save $Z$ sc…"
      ]
     },
     "metadata": {},
     "output_type": "display_data"
    },
    {
     "data": {
      "application/vnd.jupyter.widget-view+json": {
       "model_id": "595e61ea84dc47a39864d1f43b3f392c",
       "version_major": 2,
       "version_minor": 0
      },
      "text/plain": [
       "GridBox(children=(Checkbox(value=False, description='<strong> Step </strong>11:'), HTMLMath(value='Record the …"
      ]
     },
     "metadata": {},
     "output_type": "display_data"
    },
    {
     "data": {
      "application/vnd.jupyter.widget-view+json": {
       "model_id": "a8ee703d05614c01986b5892d3bf1b90",
       "version_major": 2,
       "version_minor": 0
      },
      "text/plain": [
       "Button(button_style='info', description='Finish!', style=ButtonStyle())"
      ]
     },
     "metadata": {},
     "output_type": "display_data"
    }
   ],
   "source": [
    "display(tag)\n",
    "\n",
    "#Displaying a checklist for to do list\n",
    "#https://stackoverflow.com/questions/41469554/python-jupyter-notebook-create-dynamic-checklist-user-input-that-runs-code\n",
    "\n",
    "alignment_guidance = ['Make sure the sample is centered on the stage (circular plate). If not, ask the XRD facility staff to reposition the sample.',\n",
    "            'In Manual Control, select $Z$ from the Axis list. Set up the slits to the following: Incident Slit $=0.1$ mm, Receiving Slit $1=0.2$ mm, Receiving Slit $2=0.2$ mm. Make sure to click on set to update the values in the H/W status window.',\n",
    "            'Make sure Automatic Attenuator is checked in the Scan Tab.',\n",
    "            'Perform an Absolute $Z$ scan by entering the following values [range = $-3$ to $0$ mm, step $= 0.02$ mm/step, speed$=4$ mm/min] and clicking on Scan to start. This is a coarse $Z$ scan done to locate our sample. <b><i>NOTE:</b> The units for the scan speed will actually be mm/min even though the template shows deg/min.',\n",
    "            'The scan should show a flat line, followed by a drop to zero once the beam crosses the sample. Move the $Z$ position to the halfway point of this \"drop\" (i.e. when the incoming beam reaches half its intensity).',\n",
    "            'Now perform another $Z$ scan [Relative -$0.25$ to $0.25$, step$=0.002$ mm/step, speed$=2$ mm/min]. Make sure the option Relative is selected. Notice, your most recent scan will be colored RED. We will continuously use this SmartLab feature throughout the lab.',\n",
    "            'Select R$_y$ from the Axis List. Check the option Move to Peak.',\n",
    "            'Perform a R$_y$ scan [relative -$1$ to $1$, step$=0.01$ deg/step, speed$=4$ deg/min]. Again, make sure Automatic Attenuator is checked. The located peak will be labeled with a red X.',\n",
    "            'Select the $Z$ tab and perform the same $Z$ scan that you just did. Make sure the Peak Search option is in Edge Search.',\n",
    "            'Save $Z$ scan by clicking on the save icon (\"floppy disk\"). Save in your netID directory in the following format: \"z_stb.ras\".',\n",
    "            'Record the Straight Through Beam Intensity (STB) in the $\\\\textbf{Important Parameters}$ section below. To find the STB, in the top of the screen select the chart tab. Click on Coordinate and place the cursor at the maximum value of your scan. It should be around ($5\\\\times 10^{7}$ cps)']\n",
    "\n",
    "\n",
    "# To do list containing all the steps for XRR on SmartLab Gen 2\n",
    "alignment_studio = ['Make sure the sample is centered on the stage (circular plate). If not, ask the XRD facility staff to reposition the sample.',\n",
    "            'In Pro Control, select $Z$ from the Axis list. Set up the slits to the following: IS$=0.1$ mm, RS$_1=0.2$ mm, RS$_2=0.2$ mm. Make sure to click on set to update the values in the H/W status window.',\n",
    "            'Make sure Automatic Attenuator is checked in the Scan Tab.',\n",
    "            'Perform an Absolute $Z$ scan by entering the following values [range = $-3$ to $0$ mm, step $= 0.02$ mm/step, speed$=4$ mm/min] and clicking on Scan to start. This is a coarse $Z$ scan done to locate our sample. <b><i>NOTE:</b> The units for the scan speed will actually be mm/min even though the template shows deg/min.',\n",
    "            'The scan should show a flat line, followed by a drop to zero once the beam crosses the sample. Move the $Z$ position to the halfway point of this \"drop\" (i.e. when the incoming beam reaches half its intensity).',\n",
    "            'Select the $Z$ tab and check the option Move to Peak in the Post scan Tab. There, click on the option $\\\\text{Set...}$ and select edge search for peak search method. Click $\\\\text{Ok}$.',\n",
    "            'Make sure Automatic Attenuator is checked in the Scan Tab.',\n",
    "            'Perform a $Z$ scan [Relative -$0.25$ to $0.25$, step$=0.002$ mm/step, speed$=2$ mm/min]. Make sure the option Relative is selected. Click on Scan to start. Notice, your most recent scan will be colored RED.',\n",
    "            'Select R$_y$ from the Axis List. Check the option Move to Peak in the Post scan Tab. There, click on the option $\\\\text{Set...}$ and select Full Width at Half Maximum Center (or Maxium Intensity) for Peak Search Method. Click $\\\\text{Ok}$.',\n",
    "            'Perform a R$_y$ scan [relative -$1$ to $1$, step$=0.01$ deg/step, speed$=4$ deg/min]. Again, make sure Automatic Attenuator is checked. The located peak will be shown with a RED point. We will continuously use this SmartLab feature throughout the lab.',\n",
    "            'Select the $Z$ tab and perform the same $Z$ scan. Make sure the Peak Search option is in Edge Search.',\n",
    "            'Save $Z$ scan. Right click on your last $Z$ scan in Data Browser  (Smartlab Studio II) or in the graph (SmartLab Guidance). Select $\\\\text{Export data}\\\\to\\\\text{to File}$ and save in your netID directory in the following format: \"z_stb.ras\". <i><b>NOTE: </b> Make sure to save the scan in the \"ras\" format, NOT \"rasx\". </i>',\n",
    "            'Record the Straight Through Beam Intensity (STB) in the $\\\\textbf{Important Parameters}$ section below. To find the STB, in the top of the screen select the chart tab. Click on Coordinate and place the cursor at the maximum value of your scan. It should be around ($5\\\\times 10^{7}$ cps)']\n",
    "\n",
    "if (machine_toggle_1.value):\n",
    "    step_list_alignment = alignment_guidance\n",
    "    print(\"Instructions for SmartLab Guidance\")\n",
    "else:\n",
    "    step_list_alignment = alignment_studio\n",
    "    print(\"Instructions for SmartLab Studio II\")\n",
    "\n",
    "checkbox_array_alignment= []\n",
    "for step in step_list_alignment:\n",
    "    step_index = str(step_list_alignment.index(step)+1)\n",
    "    checkbox = widgets.Checkbox(description = \"<strong> Step </strong>\"+step_index+\":\")\n",
    "    checkbox_array_alignment.append(checkbox)\n",
    "    #use HTMLMath widget to get text right\n",
    "    temp_step = widgets.HTMLMath(step)\n",
    "    #set up a GridBox to display properly\n",
    "    box = widgets.GridBox([checkbox, temp_step],layout=Layout(width='100%',\n",
    "            grid_template_columns='20% 80% ',\n",
    "            grid_template_areas='''\n",
    "            \"checkbox temp_step\"\n",
    "            '''))\n",
    "    display(box)\n",
    "    \n",
    "#create finish button that verifies all steps have been completed\n",
    "pb2 = widgets.Button(\n",
    "    description='Finish!',\n",
    "    disabled=False,\n",
    "    button_style='info', # 'success', 'info', 'warning', 'danger' or ''\n",
    ")\n",
    "    \n",
    "#defining what the button will do on clicking\n",
    "def on_button_clicked(b):\n",
    "    print(\"------------------------------------------------------------------------------------\")\n",
    "    print(\"clicked on: Finish!\")\n",
    "    steps_completed=0\n",
    "    for checkbox in checkbox_array_alignment:\n",
    "        if checkbox.value ==True:\n",
    "            steps_completed+=1\n",
    "            continue;\n",
    "        else:\n",
    "            print(\"You did not complete step \" + str(checkbox_array_alignment.index(checkbox)+1))\n",
    "            pb2.button_style='danger'\n",
    "    if steps_completed == len(checkbox_array_alignment):\n",
    "        print(\"You finished Sample Alignment. Good Job! Now we are ready to perform X-Ray Reflectivity on our sample.\")\n",
    "        pb2.button_style='success'\n",
    "        \n",
    "pb2.on_click(on_button_clicked)\n",
    "display(pb2)"
   ]
  },
  {
   "cell_type": "markdown",
   "metadata": {},
   "source": [
    "Here is an example $z$ scan for the straight through beam. Your $z$-scan should look similar."
   ]
  },
  {
   "cell_type": "code",
   "execution_count": 42,
   "metadata": {
    "scrolled": true
   },
   "outputs": [
    {
     "data": {
      "text/html": [
       "<script>\n",
       "code_show=true; \n",
       "function code_toggle() {\n",
       "    if (code_show){\n",
       "        $('div.cell.code_cell.rendered.selected div.input').hide();\n",
       "    } else {\n",
       "        $('div.cell.code_cell.rendered.selected div.input').show();\n",
       "    }\n",
       "    code_show = !code_show\n",
       "} \n",
       "$( document ).ready(code_toggle);\n",
       "</script>\n",
       "(To show/hide this cell's raw code input, click <a href=\"javascript:code_toggle()\">here</a>.)"
      ],
      "text/plain": [
       "<IPython.core.display.HTML object>"
      ]
     },
     "metadata": {},
     "output_type": "display_data"
    },
    {
     "data": {
      "image/png": "[encoded data removed]",
      "text/plain": [
       "<Figure size 432x288 with 1 Axes>"
      ]
     },
     "metadata": {
      "needs_background": "light"
     },
     "output_type": "display_data"
    }
   ],
   "source": [
    "display(tag)\n",
    "file_z = \"example/ZscanSTBXRR_0014_Scan2020Jan24-124745.dat\"\n",
    "df_z = pd.read_csv(file_z,skiprows=800,sep='\\s+')\n",
    "plt.figure()\n",
    "plt.plot(df_z.index.values,df_z.values)\n",
    "plt.suptitle('Fig. 5:', fontsize=14, fontweight='bold')\n",
    "plt.title('Example $Z$ scan')\n",
    "plt.xlabel('Z (mm)')\n",
    "plt.ylabel('Intensity (cps)')\n",
    "plt.show()"
   ]
  },
  {
   "cell_type": "markdown",
   "metadata": {},
   "source": [
    "<div class=\"alert alert-block alert-info\">\n",
    "    <strong> Think about it... </strong>\n",
    "    \n",
    "One can approximate the size of the X-ray beam by looking at the $z$-scan. What is the approximate beam size of the example sample shown above?\n",
    "</div>"
   ]
  },
  {
   "cell_type": "markdown",
   "metadata": {},
   "source": [
    "We can acquire a more accurate beam size by fitting the $Z$-scan with an error function (technically, we will fit $\\text{erfc}(Z) = \\frac{1-\\text{erf}(Z)}{2}$, the complimentary error function with a factor of $\\frac{1}{2}$). The error function comes from the convolution of a step function with a Gaussian approximation of the beam. Here we will fit the $Z$-scan to see if your approximate beam size makes sense. Here is the function we will be fitting:\n",
    "$$I(Z) = I_0\\cdot\\text{erfc}\\Big[\\frac{(Z+Z_0)}{\\sigma}\\Big]+\\text{bkg}$$\n",
    "where $I_0$ is the STB intensity, $\\text{bkg}$ is the background intensity, and $\\sigma$ is related to the beam size with FWHM = $2.35\\cdot\\sigma$). "
   ]
  },
  {
   "cell_type": "code",
   "execution_count": 43,
   "metadata": {},
   "outputs": [
    {
     "data": {
      "text/html": [
       "<script>\n",
       "code_show=true; \n",
       "function code_toggle() {\n",
       "    if (code_show){\n",
       "        $('div.cell.code_cell.rendered.selected div.input').hide();\n",
       "    } else {\n",
       "        $('div.cell.code_cell.rendered.selected div.input').show();\n",
       "    }\n",
       "    code_show = !code_show\n",
       "} \n",
       "$( document ).ready(code_toggle);\n",
       "</script>\n",
       "(To show/hide this cell's raw code input, click <a href=\"javascript:code_toggle()\">here</a>.)"
      ],
      "text/plain": [
       "<IPython.core.display.HTML object>"
      ]
     },
     "metadata": {},
     "output_type": "display_data"
    },
    {
     "data": {
      "image/png": "[encoded data removed]",
      "text/plain": [
       "<Figure size 432x288 with 1 Axes>"
      ]
     },
     "metadata": {
      "needs_background": "light"
     },
     "output_type": "display_data"
    },
    {
     "name": "stdout",
     "output_type": "stream",
     "text": [
      "Straight through beam intensity = 27914929.15912143\n",
      "Background intensity = 1.730729448645718e-11\n",
      "Beam size(mm) = 0.09773037913852908\n"
     ]
    }
   ],
   "source": [
    "display(tag)\n",
    "\n",
    "#define erf complimentary fit with extra parameters\n",
    "def erfc_fit(x,I0,bkg,shift,sigma):\n",
    "    return (I0)*(erfc((x+shift)/sigma)/2)+bkg\n",
    "\n",
    "#convert data frame into lists\n",
    "data_test=[]\n",
    "x_values = []\n",
    "for value in df_z.values:\n",
    "    data_test.append(value[0])\n",
    "for value in df_z.index.values:\n",
    "    x_values.append(value)\n",
    "    \n",
    "#fit the data with initial guess\n",
    "guess = [1e7,0,1,0.1]\n",
    "popt, pcov = curve_fit(erfc_fit, x_values, data_test,p0=guess, bounds=((0, 0, 0, 0), (np.inf, np.inf, np.inf, np.inf)))\n",
    "#print out parameters and show plot of data with fit\n",
    "plt.figure()\n",
    "plt.suptitle('Fig. 6:', fontsize=14, fontweight='bold')\n",
    "plt.title('Example $Z$ scan with fit')\n",
    "plt.xlabel('z (mm)')\n",
    "plt.ylabel('Intensity (cps)')\n",
    "plt.plot(x_values,data_test)\n",
    "plt.plot(x_values,erfc_fit(x_values,*popt))\n",
    "plt.show()\n",
    "print(\"Straight through beam intensity = \" + str(popt[0]))\n",
    "print(\"Background intensity = \" + str(popt[1]))\n",
    "print(\"Beam size(mm) = \" + str(2.35*popt[3]))"
   ]
  },
  {
   "cell_type": "markdown",
   "metadata": {},
   "source": [
    "### _Important Parameters_\n",
    "\n",
    "The cell below is place where you can record various important parameters that will come up throughout the experiment. \n",
    "\n",
    "Whenever you update the values, make sure to run the cell by clicking into the cell and either clicking the run button above: <img src=\"images/run_jupyter.png\"/>\n",
    "or by clicking \"Shift+Enter\" on your keyboard.\n",
    "\n",
    "To test if you executed the cell, the parameters and their values will all be listed in the drop down menu below where you can click \"Print Variable\" to see its value.\n",
    "\n",
    "Show the cell block's raw code by clicking the toggle button below and then input your parameter values."
   ]
  },
  {
   "cell_type": "code",
   "execution_count": 44,
   "metadata": {},
   "outputs": [
    {
     "data": {
      "text/html": [
       "<script>\n",
       "code_show=true; \n",
       "function code_toggle() {\n",
       "    if (code_show){\n",
       "        $('div.cell.code_cell.rendered.selected div.input').hide();\n",
       "    } else {\n",
       "        $('div.cell.code_cell.rendered.selected div.input').show();\n",
       "    }\n",
       "    code_show = !code_show\n",
       "} \n",
       "$( document ).ready(code_toggle);\n",
       "</script>\n",
       "(To show/hide this cell's raw code input, click <a href=\"javascript:code_toggle()\">here</a>.)"
      ],
      "text/plain": [
       "<IPython.core.display.HTML object>"
      ]
     },
     "metadata": {},
     "output_type": "display_data"
    }
   ],
   "source": [
    "# Here is a list of important parameters for you to fill out\n",
    "display(tag)\n",
    "\n",
    "straight_through_beam = 5e8 #cps\n",
    "beam_size = 0.1 #mm"
   ]
  },
  {
   "cell_type": "code",
   "execution_count": 45,
   "metadata": {
    "scrolled": true
   },
   "outputs": [
    {
     "data": {
      "application/vnd.jupyter.widget-view+json": {
       "model_id": "e1e26f32819d43f5a78a3e37d994e397",
       "version_major": 2,
       "version_minor": 0
      },
      "text/plain": [
       "VBox(children=(Dropdown(options=('straight_through_beam', 'beam_size'), value='straight_through_beam'), Button…"
      ]
     },
     "metadata": {},
     "output_type": "display_data"
    }
   ],
   "source": [
    "# selecting variables for button\n",
    "button_variables = ['straight_through_beam', 'beam_size']\n",
    "funcs = []\n",
    "for i in button_variables:\n",
    "    funcs.append(i)\n",
    " \n",
    "# creating menu with them   \n",
    "button_vars = widgets.Dropdown(\n",
    "    options=funcs)\n",
    "# button, output, function and linkage\n",
    "butt = widgets.Button(description='Print Variable')\n",
    "outt = widgets.Output()\n",
    "def on_butt_clicked(b):\n",
    "    with outt:\n",
    "        clear_output()\n",
    "        #print(type(globals()[button_vars.value]))\n",
    "        print(globals()[button_vars.value])\n",
    "        \n",
    "butt.on_click(on_butt_clicked)\n",
    "# display\n",
    "widgets.VBox([button_vars,butt,outt])"
   ]
  },
  {
   "cell_type": "markdown",
   "metadata": {},
   "source": [
    "## 3. Performing X-ray Reflectivity"
   ]
  },
  {
   "cell_type": "markdown",
   "metadata": {},
   "source": [
    "### Follow the instructions and put a check mark in each step as you advance.\n",
    "\n",
    "The following experiment will be performed in the *Pro/Manual Control* window of Smartlab Studio 2 software."
   ]
  },
  {
   "cell_type": "code",
   "execution_count": 53,
   "metadata": {
    "scrolled": false,
    "tags": [
     "remove_cell"
    ]
   },
   "outputs": [
    {
     "data": {
      "text/html": [
       "<script>\n",
       "code_show=true; \n",
       "function code_toggle() {\n",
       "    if (code_show){\n",
       "        $('div.cell.code_cell.rendered.selected div.input').hide();\n",
       "    } else {\n",
       "        $('div.cell.code_cell.rendered.selected div.input').show();\n",
       "    }\n",
       "    code_show = !code_show\n",
       "} \n",
       "$( document ).ready(code_toggle);\n",
       "</script>\n",
       "(To show/hide this cell's raw code input, click <a href=\"javascript:code_toggle()\">here</a>.)"
      ],
      "text/plain": [
       "<IPython.core.display.HTML object>"
      ]
     },
     "metadata": {},
     "output_type": "display_data"
    },
    {
     "name": "stdout",
     "output_type": "stream",
     "text": [
      "Instructions for SmartLab Guidance\n"
     ]
    },
    {
     "data": {
      "application/vnd.jupyter.widget-view+json": {
       "model_id": "42e413221bd749babd6a73f46cd5e304",
       "version_major": 2,
       "version_minor": 0
      },
      "text/plain": [
       "GridBox(children=(Checkbox(value=False, description='<strong> Step </strong>1:'), HTMLMath(value='Select the $…"
      ]
     },
     "metadata": {},
     "output_type": "display_data"
    },
    {
     "data": {
      "application/vnd.jupyter.widget-view+json": {
       "model_id": "30bbbb07331c46ffa03c937f268c58e9",
       "version_major": 2,
       "version_minor": 0
      },
      "text/plain": [
       "GridBox(children=(Checkbox(value=False, description='<strong> Step </strong>2:'), HTMLMath(value='Select R$_y$…"
      ]
     },
     "metadata": {},
     "output_type": "display_data"
    },
    {
     "data": {
      "application/vnd.jupyter.widget-view+json": {
       "model_id": "f7582f7a84b54b76a9dcd13c0bbb6f22",
       "version_major": 2,
       "version_minor": 0
      },
      "text/plain": [
       "GridBox(children=(Checkbox(value=False, description='<strong> Step </strong>3:'), HTMLMath(value='Perform a $\\…"
      ]
     },
     "metadata": {},
     "output_type": "display_data"
    },
    {
     "data": {
      "application/vnd.jupyter.widget-view+json": {
       "model_id": "fc050e68a15b47f8afd76e371fa0ad21",
       "version_major": 2,
       "version_minor": 0
      },
      "text/plain": [
       "GridBox(children=(Checkbox(value=False, description='<strong> Step </strong>4:'), HTMLMath(value='Move to the …"
      ]
     },
     "metadata": {},
     "output_type": "display_data"
    },
    {
     "data": {
      "application/vnd.jupyter.widget-view+json": {
       "model_id": "07511f3939cb40bb86d65cee75363926",
       "version_major": 2,
       "version_minor": 0
      },
      "text/plain": [
       "GridBox(children=(Checkbox(value=False, description='<strong> Step </strong>5:'), HTMLMath(value='Select the R…"
      ]
     },
     "metadata": {},
     "output_type": "display_data"
    },
    {
     "data": {
      "application/vnd.jupyter.widget-view+json": {
       "model_id": "24d50100d359441fbecdb7ee6bbeb33b",
       "version_major": 2,
       "version_minor": 0
      },
      "text/plain": [
       "GridBox(children=(Checkbox(value=False, description='<strong> Step </strong>6:'), HTMLMath(value='Select the R…"
      ]
     },
     "metadata": {},
     "output_type": "display_data"
    },
    {
     "data": {
      "application/vnd.jupyter.widget-view+json": {
       "model_id": "226840cdc9b24577a0b5a403931e0d1e",
       "version_major": 2,
       "version_minor": 0
      },
      "text/plain": [
       "GridBox(children=(Checkbox(value=False, description='<strong> Step </strong>7:'), HTMLMath(value='Again, selec…"
      ]
     },
     "metadata": {},
     "output_type": "display_data"
    },
    {
     "data": {
      "application/vnd.jupyter.widget-view+json": {
       "model_id": "60473f41441c4ffc92562449b36fefe4",
       "version_major": 2,
       "version_minor": 0
      },
      "text/plain": [
       "GridBox(children=(Checkbox(value=False, description='<strong> Step </strong>8:'), HTMLMath(value='Select the $…"
      ]
     },
     "metadata": {},
     "output_type": "display_data"
    },
    {
     "data": {
      "application/vnd.jupyter.widget-view+json": {
       "model_id": "321e41ec8880463caa815209306df475",
       "version_major": 2,
       "version_minor": 0
      },
      "text/plain": [
       "GridBox(children=(Checkbox(value=False, description='<strong> Step </strong>9:'), HTMLMath(value='Save $\\\\thet…"
      ]
     },
     "metadata": {},
     "output_type": "display_data"
    },
    {
     "data": {
      "application/vnd.jupyter.widget-view+json": {
       "model_id": "606170e6e78a4cdd969553e6a5ab8203",
       "version_major": 2,
       "version_minor": 0
      },
      "text/plain": [
       "GridBox(children=(Checkbox(value=False, description='<strong> Step </strong>10:'), HTMLMath(value='Now we want…"
      ]
     },
     "metadata": {},
     "output_type": "display_data"
    },
    {
     "data": {
      "application/vnd.jupyter.widget-view+json": {
       "model_id": "4750beace9b74f90994409ce4777fb1d",
       "version_major": 2,
       "version_minor": 0
      },
      "text/plain": [
       "GridBox(children=(Checkbox(value=False, description='<strong> Step </strong>11:'), HTMLMath(value='Find the FW…"
      ]
     },
     "metadata": {},
     "output_type": "display_data"
    },
    {
     "data": {
      "application/vnd.jupyter.widget-view+json": {
       "model_id": "8430204294c04d8e9430135a9eef18e1",
       "version_major": 2,
       "version_minor": 0
      },
      "text/plain": [
       "GridBox(children=(Checkbox(value=False, description='<strong> Step </strong>12:'), HTMLMath(value='Select the …"
      ]
     },
     "metadata": {},
     "output_type": "display_data"
    },
    {
     "data": {
      "application/vnd.jupyter.widget-view+json": {
       "model_id": "ea8d51c7067a457398100b8b24dce3ce",
       "version_major": 2,
       "version_minor": 0
      },
      "text/plain": [
       "GridBox(children=(Checkbox(value=False, description='<strong> Step </strong>13:'), HTMLMath(value='Repeat the …"
      ]
     },
     "metadata": {},
     "output_type": "display_data"
    },
    {
     "data": {
      "application/vnd.jupyter.widget-view+json": {
       "model_id": "ae5002dc22954ed1a2e665eecfea5008",
       "version_major": 2,
       "version_minor": 0
      },
      "text/plain": [
       "Button(button_style='info', description='Finish!', style=ButtonStyle())"
      ]
     },
     "metadata": {},
     "output_type": "display_data"
    }
   ],
   "source": [
    "display(tag)\n",
    "\n",
    "#Displaying a checklist for to do list\n",
    "#https://stackoverflow.com/questions/41469554/python-jupyter-notebook-create-dynamic-checklist-user-input-that-runs-code\n",
    "\n",
    "# To do list containing all the steps for XRR on SmartLab (Gen 3? or Gen 2? the latest one)\n",
    "step_list_guidance = ['Select the $\\\\theta/2\\\\theta$ axis in Manual Control. Move $\\\\theta/2\\\\theta=0.6$ deg. The goal here is to move above the critical angle and to better align for reflectivity ($\\omega$ to $\\\\frac{1}{2}(2\\\\theta)$ (specular condition)).',\n",
    "            'Select R$_y$ and do the following scan:[relative -$0.1$ to $0.1$, step$=0.005$ mm/step, speed$=0.4$ deg/min]. You will be moving to the peak afterwards for most of these scans, so either make sure Move to Peak is checked off or manually move to the peak after the scan completes. ',\n",
    "            'Perform a $\\\\theta/2\\\\theta$  scan  [absolute $0$ to $5$ deg, step$=0.02$ mm/step, speed$=5$ deg/min]. This a coarse $\\\\theta/2\\\\theta$  scan to locate fringes (i.e. high speed scan). We will perform another $\\\\theta/2\\\\theta$ scan to optimize the counts with a lower speed later.',\n",
    "            'Move to the plateau of a fringe close to $2$ degrees.The idea here is to optimize the intensity for the fringes.',\n",
    "            'Select the R$_y$ axis. Perform a relative R$_y$ scan  [relative -$0.1$ to $0.1$, step$=0.005$ mm/step, speed$=0.4$ deg/min].',\n",
    "            'Select the R$_x$ axis. Perform a relative R$_x$ scan  [relative -$2$ to $2$, step$=0.05$ mm/step, speed$=8$ deg/min]. Here, you are optimizing the intensity by rotating the sample in an axis $90$ deg off of the R$_y$ axis.',\n",
    "            'Again, select the R$_y$ axis. Perform a relative R$_y$ scan  [relative -$0.1$ to $0.1$, step$=0.005$ mm/step, speed$=0.4$ deg/min]. This repeated procedure creates better alignment and allows you to optimize the intensity of the reflectivity signal.',\n",
    "            'Select the $\\\\theta/2\\\\theta$ axis. Perform a $\\\\theta/2\\\\theta$  scan  [absolute $0$ to $5$ deg, step$=0.02$, speed$=1$ deg/min].',\n",
    "            'Save $\\\\theta/2\\\\theta$ scan as \"2T_XRR_RIDGE.ras\"',\n",
    "            'Now we want to perform a background scan. This is done by offsetting the sample slightly in R$_y$. Firstly, locate your most recent R$_y$ scan',\n",
    "            'Find the FWHM. Calculate double the FWHM and record that value.',\n",
    "            'Select the R$_y$ axis and move R$_y$ up or down by the value you just recorded (e.g. if R$_y$ is at $1$ and $2\\cdot$FWHM$=1$, move R$_y$ to $2$ or $0$). R$_y$ is now offset.',\n",
    "            'Repeat the $\\\\theta/2\\\\theta$ scan and save the scan as \"2T_XRR_BKG.ras\". This data will need to be subtracted from your \"2TW_XRR_RIDGE.ras\" data when performing analysis.']\n",
    "\n",
    "\n",
    "# To do list containing all the steps for XRR on SmartLab (Gen 3? or Gen 2? the latest one)\n",
    "step_list_studio = ['Select the $\\\\theta/2\\\\theta$ axis in Pro Control. Move $\\\\theta/2\\\\theta=0.6$ deg. The goal here is to move above the critical angle and to better align for reflectivity ($\\omega$ to $\\\\frac{1}{2}(2\\\\theta)$ (specular condition)).',\n",
    "            'Select R$_y$ and do the following scan  [relative -$0.1$ to $0.1$, step$=0.005$ mm/step, speed$=0.4$ deg/min]. Make sure you change to FWHM in peak search.',\n",
    "            'Perform a $\\\\theta/2\\\\theta$  scan  [absolute $0$ to $5$ deg, step$=0.02$ mm/step, speed$=5$ deg/min]. This a coarse $\\\\theta/2\\\\theta$  scan to locate fringes (i.e. high speed scan). We will perform another $\\\\theta/2\\\\theta$ scan to optimize the counts with a lower speed later.',\n",
    "            'Move to the plateau of a fringe close to $2$ degrees. To do this put the mouse to the position you want to move to. Right click and select the option \"Send Position\" and \"To\". Then click Move in the $\\\\theta/2\\\\theta$ tab. The idea here is to optimize the intensity for the fringes.',\n",
    "            'Select the R$_y$ axis. Perform a relative R$_y$ scan  [relative -$0.1$ to $0.1$, step$=0.005$ mm/step, speed$=0.4$ deg/min]. Make sure you change to FWHM in Peak Search.',\n",
    "            'Select the R$_x$ axis. Perform a relative R$_x$ scan  [relative -$2$ to $2$, step$=0.05$ mm/step, speed$=8$ deg/min]. Here, you are optimizing the intensity by rotating the sample in an axis $90$ deg off of the R$_y$ axis.',\n",
    "            'Again, select the R$_y$ axis. Perform a relative R$_y$ scan  [relative -$0.1$ to $0.1$, step$=0.005$ mm/step, speed$=0.4$ deg/min]. Make sure you change to FWHM in peak search. This repeated procedure creates better alignment and allows you to optimize the intensity of the reflectivity signal.',\n",
    "            'Select the $\\\\theta/2\\\\theta$ axis. Perform a $\\\\theta/2\\\\theta$  scan  [absolute $0$ to $5$ deg, step$=0.02$, speed$=1$ deg/min].',\n",
    "            'Save $\\\\theta/2\\\\theta$ scan as \"2T_XRR_RIDGE.ras\"',\n",
    "            'Now we want to perform a background scan. This is done by offsetting the sample slightly in R$_y$. Firstly, locate your most recent R$_y$ scan',\n",
    "            'Find the FWHM. Calculate double the FWHM and record that value.',\n",
    "            'Select the R$_y$ axis and move R$_y$ up or down by the value you just recorded (e.g. if R$_y$ is at $1$ and $2\\cdot$FWHM$=1$, move R$_y$ to $2$ or $0$). R$_y$ is now offset.',\n",
    "            'Repeat the $\\\\theta/2\\\\theta$ scan and save the scan as \"2T_XRR_BKG.ras\". This data will need to be subtracted from your \"2T_XRR_RIDGE.ras\" data when performing analysis.']\n",
    "\n",
    "if (machine_toggle_1.value):\n",
    "    step_list = step_list_guidance\n",
    "    print(\"Instructions for SmartLab Guidance\")\n",
    "else:\n",
    "    step_list = step_list_studio\n",
    "    print(\"Instructions for SmartLab Studio II\")\n",
    "\n",
    "\n",
    "checkbox_array = []\n",
    "for step in step_list:\n",
    "    step_index = str(step_list.index(step)+1)\n",
    "    checkbox = widgets.Checkbox(description = \"<strong> Step </strong>\"+step_index+\":\")\n",
    "    checkbox_array.append(checkbox)\n",
    "    #use HTMLMath widget to get text right\n",
    "    temp_step = widgets.HTMLMath(step)\n",
    "    #set up a GridBox to display properly\n",
    "    box = widgets.GridBox([checkbox, temp_step],layout=Layout(width='100%',\n",
    "            grid_template_columns='20% 80% ',\n",
    "            grid_template_areas='''\n",
    "            \"checkbox temp_step\"\n",
    "            '''))\n",
    "    display(box)\n",
    "    \n",
    "#create finish button that verifies all steps have been completed\n",
    "pb3 = widgets.Button(\n",
    "    description='Finish!',\n",
    "    disabled=False,\n",
    "    button_style='info', # 'success', 'info', 'warning', 'danger' or ''\n",
    ")\n",
    "#defining what the button will do on clicking\n",
    "def on_button_clicked(b):\n",
    "    print(\"------------------------------------------------------------------------------------\")\n",
    "    print(\"clicked on: Finish!\")\n",
    "    steps_completed=0\n",
    "    for checkbox in checkbox_array:\n",
    "        if checkbox.value ==True:\n",
    "            steps_completed+=1\n",
    "            continue;\n",
    "        else:\n",
    "            print(\"You did not complete step \" + str(checkbox_array.index(checkbox)+1))\n",
    "            pb3.button_style='danger'\n",
    "    if steps_completed == len(checkbox_array):\n",
    "        print(\"You completed all the steps. Nice job!\")\n",
    "        pb3.button_style='success'\n",
    "        \n",
    "pb3.on_click(on_button_clicked)\n",
    "display(pb3)"
   ]
  },
  {
   "cell_type": "markdown",
   "metadata": {},
   "source": [
    "<div class=\"alert alert-block alert-info\">\n",
    "    <strong> Think about it... </strong>\n",
    "    \n",
    "The background scan becomes more and more important as you move to higher $\\theta /2\\theta$ values. Why is this the case?\n",
    "</div>"
   ]
  },
  {
   "cell_type": "markdown",
   "metadata": {},
   "source": [
    "Here is an example $\\theta/2\\theta$ background corrected scan (similar to a $\\theta/2\\theta$ scan, ask your supervisor for more details). Your scan should look similar."
   ]
  },
  {
   "cell_type": "code",
   "execution_count": 50,
   "metadata": {},
   "outputs": [
    {
     "data": {
      "text/html": [
       "<script>\n",
       "code_show=true; \n",
       "function code_toggle() {\n",
       "    if (code_show){\n",
       "        $('div.cell.code_cell.rendered.selected div.input').hide();\n",
       "    } else {\n",
       "        $('div.cell.code_cell.rendered.selected div.input').show();\n",
       "    }\n",
       "    code_show = !code_show\n",
       "} \n",
       "$( document ).ready(code_toggle);\n",
       "</script>\n",
       "(To show/hide this cell's raw code input, click <a href=\"javascript:code_toggle()\">here</a>.)"
      ],
      "text/plain": [
       "<IPython.core.display.HTML object>"
      ]
     },
     "metadata": {},
     "output_type": "display_data"
    },
    {
     "data": {
      "image/png": "[encoded data removed]",
      "text/plain": [
       "<Figure size 432x288 with 1 Axes>"
      ]
     },
     "metadata": {
      "needs_background": "light"
     },
     "output_type": "display_data"
    }
   ],
   "source": [
    "display(tag)\n",
    "file = \"example/specXRR111_Al2O3_006.dat\"\n",
    "file_background = \"example/XRRBKGPt111_Al2O3_006.dat\"\n",
    "df = pd.read_csv(file,skiprows=800,sep='\\s+')\n",
    "df_background = pd.read_csv(file_background,skiprows=800,sep='\\s+')\n",
    "df_bg_corrected = df - df_background\n",
    "plt.figure()\n",
    "plt.suptitle('Fig. 7:', fontsize=14, fontweight='bold')\n",
    "plt.title('Example $\\\\theta/2\\\\theta$ scan')\n",
    "plt.plot(df_bg_corrected.index.values[:400],df_bg_corrected.values[:400])\n",
    "plt.yscale('log')\n",
    "plt.xlabel('2 $\\\\theta$ ($^{\\circ}$)')\n",
    "plt.ylabel('Reflectivity')\n",
    "plt.show()"
   ]
  },
  {
   "cell_type": "markdown",
   "metadata": {},
   "source": [
    "# 4. Finishing Measurement\n",
    "\n",
    "Congratulations on performing an X-ray reflectivity experiment. We hope it was a good experience. It is now to complete some final steps. Always leave the Smartlab in the same state as it was before you began your experiment (e.g. X-ray source turned off, software closed, etc.).\n",
    "\n",
    "### Follow the instructions and put a check mark in each step as you advance.\n",
    "\n",
    "The following experiment will be performed in the *Pro/Manual Control* window of Smartlab Studio 2 software."
   ]
  },
  {
   "cell_type": "code",
   "execution_count": 48,
   "metadata": {},
   "outputs": [
    {
     "data": {
      "text/html": [
       "<script>\n",
       "code_show=true; \n",
       "function code_toggle() {\n",
       "    if (code_show){\n",
       "        $('div.cell.code_cell.rendered.selected div.input').hide();\n",
       "    } else {\n",
       "        $('div.cell.code_cell.rendered.selected div.input').show();\n",
       "    }\n",
       "    code_show = !code_show\n",
       "} \n",
       "$( document ).ready(code_toggle);\n",
       "</script>\n",
       "(To show/hide this cell's raw code input, click <a href=\"javascript:code_toggle()\">here</a>.)"
      ],
      "text/plain": [
       "<IPython.core.display.HTML object>"
      ]
     },
     "metadata": {},
     "output_type": "display_data"
    },
    {
     "data": {
      "application/vnd.jupyter.widget-view+json": {
       "model_id": "2c87d4c6eec64ebabbf2bf9b568ea01d",
       "version_major": 2,
       "version_minor": 0
      },
      "text/plain": [
       "GridBox(children=(Checkbox(value=False, description='<strong> Step </strong>1:'), HTMLMath(value='Make sure th…"
      ]
     },
     "metadata": {},
     "output_type": "display_data"
    },
    {
     "data": {
      "application/vnd.jupyter.widget-view+json": {
       "model_id": "ab58cdca405b4aedb4d54375b02ac6d4",
       "version_major": 2,
       "version_minor": 0
      },
      "text/plain": [
       "GridBox(children=(Checkbox(value=False, description='<strong> Step </strong>2:'), HTMLMath(value='Open XG Cont…"
      ]
     },
     "metadata": {},
     "output_type": "display_data"
    },
    {
     "data": {
      "application/vnd.jupyter.widget-view+json": {
       "model_id": "703082db08244dfdbc28860dadd51dd3",
       "version_major": 2,
       "version_minor": 0
      },
      "text/plain": [
       "GridBox(children=(Checkbox(value=False, description='<strong> Step </strong>3:'), HTMLMath(value='Turn Off the…"
      ]
     },
     "metadata": {},
     "output_type": "display_data"
    },
    {
     "data": {
      "application/vnd.jupyter.widget-view+json": {
       "model_id": "b1d85bc798c940fbb9a01e52d8fbb057",
       "version_major": 2,
       "version_minor": 0
      },
      "text/plain": [
       "GridBox(children=(Checkbox(value=False, description='<strong> Step </strong>4:'), HTMLMath(value='In the Data …"
      ]
     },
     "metadata": {},
     "output_type": "display_data"
    },
    {
     "data": {
      "application/vnd.jupyter.widget-view+json": {
       "model_id": "d67dce0ba5c147cd86f12c6317ccb123",
       "version_major": 2,
       "version_minor": 0
      },
      "text/plain": [
       "Button(button_style='info', description='Finish!', style=ButtonStyle())"
      ]
     },
     "metadata": {},
     "output_type": "display_data"
    }
   ],
   "source": [
    "display(tag)\n",
    "\n",
    "#Displaying a checklist for to do list\n",
    "#https://stackoverflow.com/questions/41469554/python-jupyter-notebook-create-dynamic-checklist-user-input-that-runs-code\n",
    "\n",
    "\n",
    "# To do list containing all the steps for XRR on SmartLab (Gen 3? or Gen 2? the latest one)\n",
    "step_list_finish = ['Make sure the following motors are set to zero in the H/W Status Tab: $2\\\\theta$, $\\omega$, $2\\\\theta\\chi$, $\\chi$, $\\phi$, R$_x$, R$_y$. If not, open the tab for the specific motor in Pro/Manual Control, put zero and click on Move.',\n",
    "            'Open XG Control.',\n",
    "            'Turn Off the X-Ray by clicking the Off button. There is no need to set the voltage or current to any value.',\n",
    "            'In the Data Browser Window, delete all your scans so next user can start with a clean workspace. Make sure you have all the necessary scans saved.']\n",
    "checkbox_array_finish = []\n",
    "for step in step_list_finish:\n",
    "    step_index = str(step_list_finish.index(step)+1)\n",
    "    checkbox = widgets.Checkbox(description = \"<strong> Step </strong>\"+step_index+\":\")\n",
    "    checkbox_array_finish.append(checkbox)\n",
    "    #use HTMLMath widget to get text right\n",
    "    temp_step = widgets.HTMLMath(step)\n",
    "    #set up a GridBox to display properly\n",
    "    box = widgets.GridBox([checkbox, temp_step],layout=Layout(width='100%',\n",
    "            grid_template_columns='20% 80% ',\n",
    "            grid_template_areas='''\n",
    "            \"checkbox temp_step\"\n",
    "            '''))\n",
    "    display(box)\n",
    "    \n",
    "#create finish button that verifies all steps have been completed\n",
    "pb4 = widgets.Button(\n",
    "    description='Finish!',\n",
    "    disabled=False,\n",
    "    button_style='info', # 'success', 'info', 'warning', 'danger' or ''\n",
    ")\n",
    "#defining what the button will do on clicking\n",
    "def on_button_clicked(b):\n",
    "    print(\"------------------------------------------------------------------------------------\")\n",
    "    print(\"clicked on: Finish!\")\n",
    "    steps_completed=0\n",
    "    for checkbox in checkbox_array_finish:\n",
    "        if checkbox.value ==True:\n",
    "            steps_completed+=1\n",
    "            continue;\n",
    "        else:\n",
    "            print(\"You did not complete step \" + str(checkbox_array_finish.index(checkbox)+1))\n",
    "            pb4.button_style='danger'\n",
    "    if steps_completed == len(checkbox_array_finish):\n",
    "        print(\"You are all set!\")\n",
    "        print(\"Please let us know if anything can be improved.\") \n",
    "        print(\"You are the first people to use this Jupyter Notebook in the 461 lab course at Northwestern. Thanks!\")\n",
    "        pb4.button_style='success'\n",
    "        \n",
    "pb4.on_click(on_button_clicked)\n",
    "display(pb4)"
   ]
  }
 ],
 "metadata": {
  "kernelspec": {
   "display_name": "Python 3",
   "language": "python",
   "name": "python3"
  },
  "language_info": {
   "codemirror_mode": {
    "name": "ipython",
    "version": 3
   },
   "file_extension": ".py",
   "mimetype": "text/x-python",
   "name": "python",
   "nbconvert_exporter": "python",
   "pygments_lexer": "ipython3",
   "version": "3.6.7"
  }
 },
 "nbformat": 4,
 "nbformat_minor": 4
}
