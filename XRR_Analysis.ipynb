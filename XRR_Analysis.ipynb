{
 "cells": [
  {
   "cell_type": "markdown",
   "metadata": {},
   "source": [
    "# XRR Analysis"
   ]
  },
  {
   "cell_type": "code",
   "execution_count": 3,
   "metadata": {},
   "outputs": [
    {
     "data": {
      "text/html": [
       "<script>\n",
       "code_show_2=true; \n",
       "function code_toggle_2() {\n",
       " if (code_show_2){\n",
       " $('div.input').hide();\n",
       " } else {\n",
       " $('div.input').show();\n",
       " }\n",
       " code_show_2 = !code_show_2\n",
       "} \n",
       "$( document ).ready(code_toggle_2);\n",
       "</script>\n",
       "The raw code for this Jupyter Notebook is by default hidden for easier reading.\n",
       "To toggle on/off the raw code for this entire notebook, click <a href=\"javascript:code_toggle_2()\">here</a>."
      ],
      "text/plain": [
       "<IPython.core.display.HTML object>"
      ]
     },
     "execution_count": 3,
     "metadata": {},
     "output_type": "execute_result"
    }
   ],
   "source": [
    "#http://blog.nextgenetics.net/?e=102\n",
    "from IPython.display import HTML\n",
    "HTML('''<script>\n",
    "code_show_2=true; \n",
    "function code_toggle_2() {\n",
    " if (code_show_2){\n",
    " $('div.input').hide();\n",
    " } else {\n",
    " $('div.input').show();\n",
    " }\n",
    " code_show_2 = !code_show_2\n",
    "} \n",
    "$( document ).ready(code_toggle_2);\n",
    "</script>\n",
    "The raw code for this Jupyter Notebook is by default hidden for easier reading.\n",
    "To toggle on/off the raw code for this entire notebook, click <a href=\"javascript:code_toggle_2()\">here</a>.''')\n"
   ]
  },
  {
   "cell_type": "code",
   "execution_count": 4,
   "metadata": {},
   "outputs": [
    {
     "data": {
      "text/html": [
       "<script>\n",
       "code_show=true; \n",
       "function code_toggle() {\n",
       "    if (code_show){\n",
       "        $('div.cell.code_cell.rendered.selected div.input').hide();\n",
       "    } else {\n",
       "        $('div.cell.code_cell.rendered.selected div.input').show();\n",
       "    }\n",
       "    code_show = !code_show\n",
       "} \n",
       "$( document ).ready(code_toggle);\n",
       "</script>\n",
       "(To show/hide this cell's raw code input, click <a href=\"javascript:code_toggle()\">here</a>.)"
      ],
      "text/plain": [
       "<IPython.core.display.HTML object>"
      ]
     },
     "metadata": {},
     "output_type": "display_data"
    }
   ],
   "source": [
    "# importing the necessary libraries and packages for XRR.ipynb\n",
    "import ipywidgets as widgets\n",
    "from ipywidgets import Label, Layout\n",
    "from IPython.display import display, Markdown, clear_output\n",
    "from IPython.display import display\n",
    "from IPython.display import Image\n",
    "#%matplotlib notebook\n",
    "import matplotlib.pyplot as plt\n",
    "import numpy as np\n",
    "import pandas as pd\n",
    "import math\n",
    "from scipy.optimize import curve_fit\n",
    "from scipy.special import erfc\n",
    "from scipy import integrate\n",
    "from IPython.display import IFrame\n",
    "\n",
    "\n",
    "\n",
    "# Taken from https://stackoverflow.com/questions/31517194/how-to-hide-one-specific-cell-input-or-output-in-ipython-notebook\n",
    "# https://gist.github.com/Zsailer/5d1f4e357c78409dd9a5a4e5c61be552\n",
    "\n",
    "# This tag allows the supression of input cells that have to deal with formatting and code.\n",
    "# You are viewing the \"code\" version of the \"click here\" button you just pressed\n",
    "tag = HTML('''<script>\n",
    "code_show=true; \n",
    "function code_toggle() {\n",
    "    if (code_show){\n",
    "        $('div.cell.code_cell.rendered.selected div.input').hide();\n",
    "    } else {\n",
    "        $('div.cell.code_cell.rendered.selected div.input').show();\n",
    "    }\n",
    "    code_show = !code_show\n",
    "} \n",
    "$( document ).ready(code_toggle);\n",
    "</script>\n",
    "(To show/hide this cell's raw code input, click <a href=\"javascript:code_toggle()\">here</a>.)''')\n",
    "display(tag)"
   ]
  },
  {
   "cell_type": "markdown",
   "metadata": {},
   "source": [
    "# Data Reduction and Analysis\n",
    "\n",
    "*Data has no meaning until you analyze.*"
   ]
  },
  {
   "cell_type": "markdown",
   "metadata": {},
   "source": [
    "### Data Reduction: Following Lab1_XRR_Assignment_v2.pdf\n",
    "\n",
    "The \"Lab1_XRR_Assignment_v2.pdf\" on CANVAS provides you with guidelines and hints that are important for understanding your measured data. Follow the steps listed and read through each section carefully. For example, within the \"hints\" section, you will find the structure of your data files (i.e. what each column represents).\n",
    "\n",
    "The method to calculate error bars is also outlined. Pay close attention to the units of different parameters and column values.\n"
   ]
  },
  {
   "cell_type": "markdown",
   "metadata": {},
   "source": [
    "### Inspecting the Data: First step to Analysis\n",
    "\n",
    "<img src=\"images/xrr.png\" />\n",
    "\n",
    "Following **Fig. 1**, we will now do approximations of certain features of the data. It is a good practice to inspect the data first before immediately performing a fit. This way, you will be able to tell whether or not your data makes sense and understand more about what the fit is telling you.\n",
    "\n",
    "  1. Find $\\theta_\\text{critical}$\n",
    "  2. Approximate thickness (related period of oscillations)\n",
    "  3. Approximate roughness \n",
    "  \n",
    "You may wish to enter your approximate values for these 3 values into the drop down menu below. To do so, show the cell's raw code input by clicking the blue text \"here\" button and entering your values into the respective variables. Make sure to run the cell afterwards to update the values. Also, pay close attentions to the units of the parameters."
   ]
  },
  {
   "cell_type": "code",
   "execution_count": 5,
   "metadata": {},
   "outputs": [
    {
     "data": {
      "text/html": [
       "<script>\n",
       "code_show=true; \n",
       "function code_toggle() {\n",
       "    if (code_show){\n",
       "        $('div.cell.code_cell.rendered.selected div.input').hide();\n",
       "    } else {\n",
       "        $('div.cell.code_cell.rendered.selected div.input').show();\n",
       "    }\n",
       "    code_show = !code_show\n",
       "} \n",
       "$( document ).ready(code_toggle);\n",
       "</script>\n",
       "(To show/hide this cell's raw code input, click <a href=\"javascript:code_toggle()\">here</a>.)"
      ],
      "text/plain": [
       "<IPython.core.display.HTML object>"
      ]
     },
     "metadata": {},
     "output_type": "display_data"
    }
   ],
   "source": [
    "# Here is a list of important parameters for you to fill out\n",
    "display(tag)\n",
    "\n",
    "critical_angle = 0.3 # deg\n",
    "thickness = 250 # Angstroms\n",
    "roughness = 7 # Angstroms\n"
   ]
  },
  {
   "cell_type": "code",
   "execution_count": 6,
   "metadata": {},
   "outputs": [
    {
     "data": {
      "application/vnd.jupyter.widget-view+json": {
       "model_id": "7434dce851bd418bad24af76f3eb8e97",
       "version_major": 2,
       "version_minor": 0
      },
      "text/plain": [
       "VBox(children=(Dropdown(options=('critical_angle', 'thickness', 'roughness'), value='critical_angle'), Button(…"
      ]
     },
     "metadata": {},
     "output_type": "display_data"
    }
   ],
   "source": [
    "# selecting variables for button\n",
    "button_variables = ['critical_angle', 'thickness', 'roughness']\n",
    "funcs = []\n",
    "for i in button_variables:\n",
    "    funcs.append(i)\n",
    " \n",
    "# creating menu with them   \n",
    "button_vars = widgets.Dropdown(\n",
    "    options=funcs)\n",
    "# button, output, function and linkage\n",
    "butt = widgets.Button(description='Print Variable')\n",
    "outt = widgets.Output()\n",
    "def on_butt_clicked(b):\n",
    "    with outt:\n",
    "        clear_output()\n",
    "        #print(type(globals()[button_vars.value]))\n",
    "        print(globals()[button_vars.value])\n",
    "        \n",
    "butt.on_click(on_butt_clicked)\n",
    "# display\n",
    "widgets.VBox([button_vars,butt,outt])"
   ]
  },
  {
   "cell_type": "markdown",
   "metadata": {},
   "source": [
    "#### Theory and Fitting the Data\n",
    "\n",
    "One way to fit your reflectivity data is to use the interface reflectivity model discussed in class. The slide below should look familiar to you:\n",
    "\n",
    "<img src=\"images/thin_film_reflectivity_class_slide.png\" />\n"
   ]
  },
  {
   "cell_type": "markdown",
   "metadata": {},
   "source": [
    "We can use the equation above to fit our reflectivity data, where I have replaced $R_{F}(Q)$ by its functional form:\n",
    "\n",
    "$$R(Q) = \\Big[2\\Big(\\frac{Q}{Q_c}\\Big)^{2}-1-2\\Big(\\frac{Q}{Q_c}\\Big)\\sqrt{\\Big(\\frac{Q}{Q_c}\\Big)^2-1}\\Big]^{2}\\Big(1-4B(1-B)\\Big(\\sin\\frac{Qt}{2}\\Big)^{2}\\Big)\\exp^{-Q^2\\sigma^2}$$"
   ]
  },
  {
   "cell_type": "code",
   "execution_count": 8,
   "metadata": {},
   "outputs": [
    {
     "data": {
      "text/html": [
       "<script>\n",
       "code_show=true; \n",
       "function code_toggle() {\n",
       "    if (code_show){\n",
       "        $('div.cell.code_cell.rendered.selected div.input').hide();\n",
       "    } else {\n",
       "        $('div.cell.code_cell.rendered.selected div.input').show();\n",
       "    }\n",
       "    code_show = !code_show\n",
       "} \n",
       "$( document ).ready(code_toggle);\n",
       "</script>\n",
       "(To show/hide this cell's raw code input, click <a href=\"javascript:code_toggle()\">here</a>.)"
      ],
      "text/plain": [
       "<IPython.core.display.HTML object>"
      ]
     },
     "metadata": {},
     "output_type": "display_data"
    },
    {
     "data": {
      "image/png": "[encoded data removed]",
      "text/plain": [
       "<Figure size 432x288 with 1 Axes>"
      ]
     },
     "metadata": {
      "needs_background": "light"
     },
     "output_type": "display_data"
    },
    {
     "name": "stdout",
     "output_type": "stream",
     "text": [
      "B = 1.1635224931773538\n",
      "thickness (t) [Angstroms] = 529.6936314519822\n",
      "sigma (roughness) [Angstroms] = 7.65190221099023\n"
     ]
    }
   ],
   "source": [
    "display(tag)\n",
    "\n",
    "# need to add in a way to locate the q_critical (q_c) instead of just manually inputting the value\n",
    "qc = 0.045\n",
    "\n",
    "data = pd.read_csv(\"example/xrr.csv\",header = None)\n",
    "\n",
    "def rf(q):\n",
    "    return (2*(q/qc)**2-1-2*(q/qc)*np.sqrt((q/qc)**2-1))**2\n",
    "\n",
    "def r_lowq(q,B,t,sigma):\n",
    "    return (1-4*B*(1-B)*(np.sin(q*t/2))**2)*np.exp(-q**2*sigma**2)\n",
    "\n",
    "def r(q,B,t,sigma):\n",
    "    return rf(q)*r_lowq(q,B,t,sigma)\n",
    "\n",
    "#only fit certain range of low q data\n",
    "sliceobj=slice(30,180)\n",
    "\n",
    "guess = [1.3,525,8]\n",
    "popt, pcov = curve_fit(r, data[0][sliceobj], data[1][sliceobj],sigma = data[1][sliceobj],p0 = guess)\n",
    "\n",
    "plt.yscale('log')\n",
    "plt.plot(data[0][sliceobj],r(data[0][sliceobj],*popt),label = \"Calculated Fit\",color ='g')\n",
    "plt.errorbar(data[0][sliceobj], data[1][sliceobj],label=\"Experimental\",ecolor='r')\n",
    "plt.legend()\n",
    "plt.xlabel('q ($\\AA^{-1}$)')\n",
    "plt.ylabel('Reflectivity')\n",
    "plt.show()\n",
    "\n",
    "print(\"B = \" + str(popt[0]))\n",
    "print(\"thickness (t) [Angstroms] = \" + str(popt[1]))\n",
    "print(\"sigma (roughness) [Angstroms] = \" + str(popt[2]))"
   ]
  },
  {
   "cell_type": "markdown",
   "metadata": {},
   "source": [
    "<div class=\"alert alert-block alert-info\">\n",
    "    <strong> Think about it... </strong>\n",
    "    \n",
    "What are units of the $B$ parameter and what does it represent? Does this value make sense for the sample you measured?\n",
    "</div>"
   ]
  },
  {
   "cell_type": "code",
   "execution_count": 22,
   "metadata": {},
   "outputs": [],
   "source": [
    "data_2 = pd.read_csv(\"example/461_test/PLD50nmFe2O3_Al2O3/XRR_Lab/2TW_XRR_RIDGE_p1x2mm.ras\",comment = \"*\",header = None,sep = \"\\s+\")"
   ]
  },
  {
   "cell_type": "code",
   "execution_count": 23,
   "metadata": {},
   "outputs": [
    {
     "data": {
      "text/html": [
       "<div>\n",
       "<style scoped>\n",
       "    .dataframe tbody tr th:only-of-type {\n",
       "        vertical-align: middle;\n",
       "    }\n",
       "\n",
       "    .dataframe tbody tr th {\n",
       "        vertical-align: top;\n",
       "    }\n",
       "\n",
       "    .dataframe thead th {\n",
       "        text-align: right;\n",
       "    }\n",
       "</style>\n",
       "<table border=\"1\" class=\"dataframe\">\n",
       "  <thead>\n",
       "    <tr style=\"text-align: right;\">\n",
       "      <th></th>\n",
       "      <th>0</th>\n",
       "      <th>1</th>\n",
       "      <th>2</th>\n",
       "    </tr>\n",
       "  </thead>\n",
       "  <tbody>\n",
       "    <tr>\n",
       "      <th>0</th>\n",
       "      <td>0.00</td>\n",
       "      <td>3308.0</td>\n",
       "      <td>12284.3415</td>\n",
       "    </tr>\n",
       "    <tr>\n",
       "      <th>1</th>\n",
       "      <td>0.02</td>\n",
       "      <td>4754.0</td>\n",
       "      <td>12284.3415</td>\n",
       "    </tr>\n",
       "    <tr>\n",
       "      <th>2</th>\n",
       "      <td>0.04</td>\n",
       "      <td>3414.0</td>\n",
       "      <td>12284.3415</td>\n",
       "    </tr>\n",
       "    <tr>\n",
       "      <th>3</th>\n",
       "      <td>0.06</td>\n",
       "      <td>1552.0</td>\n",
       "      <td>12284.3415</td>\n",
       "    </tr>\n",
       "    <tr>\n",
       "      <th>4</th>\n",
       "      <td>0.08</td>\n",
       "      <td>890.0</td>\n",
       "      <td>12284.3415</td>\n",
       "    </tr>\n",
       "    <tr>\n",
       "      <th>...</th>\n",
       "      <td>...</td>\n",
       "      <td>...</td>\n",
       "      <td>...</td>\n",
       "    </tr>\n",
       "    <tr>\n",
       "      <th>748</th>\n",
       "      <td>4.92</td>\n",
       "      <td>121.0</td>\n",
       "      <td>1.0000</td>\n",
       "    </tr>\n",
       "    <tr>\n",
       "      <th>749</th>\n",
       "      <td>4.94</td>\n",
       "      <td>127.0</td>\n",
       "      <td>1.0000</td>\n",
       "    </tr>\n",
       "    <tr>\n",
       "      <th>750</th>\n",
       "      <td>4.96</td>\n",
       "      <td>102.0</td>\n",
       "      <td>1.0000</td>\n",
       "    </tr>\n",
       "    <tr>\n",
       "      <th>751</th>\n",
       "      <td>4.98</td>\n",
       "      <td>123.0</td>\n",
       "      <td>1.0000</td>\n",
       "    </tr>\n",
       "    <tr>\n",
       "      <th>752</th>\n",
       "      <td>5.00</td>\n",
       "      <td>141.0</td>\n",
       "      <td>1.0000</td>\n",
       "    </tr>\n",
       "  </tbody>\n",
       "</table>\n",
       "<p>753 rows × 3 columns</p>\n",
       "</div>"
      ],
      "text/plain": [
       "        0       1           2\n",
       "0    0.00  3308.0  12284.3415\n",
       "1    0.02  4754.0  12284.3415\n",
       "2    0.04  3414.0  12284.3415\n",
       "3    0.06  1552.0  12284.3415\n",
       "4    0.08   890.0  12284.3415\n",
       "..    ...     ...         ...\n",
       "748  4.92   121.0      1.0000\n",
       "749  4.94   127.0      1.0000\n",
       "750  4.96   102.0      1.0000\n",
       "751  4.98   123.0      1.0000\n",
       "752  5.00   141.0      1.0000\n",
       "\n",
       "[753 rows x 3 columns]"
      ]
     },
     "execution_count": 23,
     "metadata": {},
     "output_type": "execute_result"
    }
   ],
   "source": [
    "data_2"
   ]
  },
  {
   "cell_type": "code",
   "execution_count": 25,
   "metadata": {},
   "outputs": [
    {
     "data": {
      "text/plain": [
       "[<matplotlib.lines.Line2D at 0x7f9dc8808e10>]"
      ]
     },
     "execution_count": 25,
     "metadata": {},
     "output_type": "execute_result"
    },
    {
     "data": {
      "image/png": "[encoded data removed]",
      "text/plain": [
       "<Figure size 432x288 with 1 Axes>"
      ]
     },
     "metadata": {
      "needs_background": "light"
     },
     "output_type": "display_data"
    }
   ],
   "source": [
    "\n",
    "plt.loglog(data_2[0],data_2[1])"
   ]
  },
  {
   "cell_type": "code",
   "execution_count": null,
   "metadata": {},
   "outputs": [],
   "source": []
  }
 ],
 "metadata": {
  "kernelspec": {
   "display_name": "Python 3",
   "language": "python",
   "name": "python3"
  },
  "language_info": {
   "codemirror_mode": {
    "name": "ipython",
    "version": 3
   },
   "file_extension": ".py",
   "mimetype": "text/x-python",
   "name": "python",
   "nbconvert_exporter": "python",
   "pygments_lexer": "ipython3",
   "version": "3.7.3"
  }
 },
 "nbformat": 4,
 "nbformat_minor": 2
}
