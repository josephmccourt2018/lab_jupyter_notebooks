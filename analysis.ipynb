{
 "cells": [
  {
   "cell_type": "markdown",
   "metadata": {},
   "source": [
    "# XRR Analysis"
   ]
  },
  {
   "cell_type": "code",
   "execution_count": 6,
   "metadata": {},
   "outputs": [
    {
     "data": {
      "text/html": [
       "<script>\n",
       "code_show_2=true; \n",
       "function code_toggle_2() {\n",
       " if (code_show_2){\n",
       " $('div.input').hide();\n",
       " } else {\n",
       " $('div.input').show();\n",
       " }\n",
       " code_show_2 = !code_show_2\n",
       "} \n",
       "$( document ).ready(code_toggle_2);\n",
       "</script>\n",
       "The raw code for this Jupyter Notebook is by default hidden for easier reading.\n",
       "To toggle on/off the raw code for this entire notebook, click <a href=\"javascript:code_toggle_2()\">here</a>."
      ],
      "text/plain": [
       "<IPython.core.display.HTML object>"
      ]
     },
     "execution_count": 6,
     "metadata": {},
     "output_type": "execute_result"
    }
   ],
   "source": [
    "#http://blog.nextgenetics.net/?e=102\n",
    "from IPython.display import HTML\n",
    "HTML('''<script>\n",
    "code_show_2=true; \n",
    "function code_toggle_2() {\n",
    " if (code_show_2){\n",
    " $('div.input').hide();\n",
    " } else {\n",
    " $('div.input').show();\n",
    " }\n",
    " code_show_2 = !code_show_2\n",
    "} \n",
    "$( document ).ready(code_toggle_2);\n",
    "</script>\n",
    "The raw code for this Jupyter Notebook is by default hidden for easier reading.\n",
    "To toggle on/off the raw code for this entire notebook, click <a href=\"javascript:code_toggle_2()\">here</a>.''')\n"
   ]
  },
  {
   "cell_type": "code",
   "execution_count": 7,
   "metadata": {},
   "outputs": [
    {
     "data": {
      "text/html": [
       "<script>\n",
       "code_show=true; \n",
       "function code_toggle() {\n",
       "    if (code_show){\n",
       "        $('div.cell.code_cell.rendered.selected div.input').hide();\n",
       "    } else {\n",
       "        $('div.cell.code_cell.rendered.selected div.input').show();\n",
       "    }\n",
       "    code_show = !code_show\n",
       "} \n",
       "$( document ).ready(code_toggle);\n",
       "</script>\n",
       "(To show/hide this cell's raw code input, click <a href=\"javascript:code_toggle()\">here</a>.)"
      ],
      "text/plain": [
       "<IPython.core.display.HTML object>"
      ]
     },
     "metadata": {},
     "output_type": "display_data"
    }
   ],
   "source": [
    "# importing the necessary libraries and packages for XRR.ipynb\n",
    "import ipywidgets as widgets\n",
    "from ipywidgets import Label, Layout\n",
    "from IPython.display import display, Markdown, clear_output\n",
    "from IPython.display import display\n",
    "from IPython.display import Image\n",
    "#%matplotlib notebook\n",
    "import matplotlib.pyplot as plt\n",
    "import numpy as np\n",
    "import pandas as pd\n",
    "import math\n",
    "from scipy.optimize import curve_fit\n",
    "from scipy.special import erfc\n",
    "from scipy import integrate\n",
    "from IPython.display import IFrame\n",
    "\n",
    "\n",
    "\n",
    "# Taken from https://stackoverflow.com/questions/31517194/how-to-hide-one-specific-cell-input-or-output-in-ipython-notebook\n",
    "# https://gist.github.com/Zsailer/5d1f4e357c78409dd9a5a4e5c61be552\n",
    "\n",
    "# This tag allows the supression of input cells that have to deal with formatting and code.\n",
    "# You are viewing the \"code\" version of the \"click here\" button you just pressed\n",
    "tag = HTML('''<script>\n",
    "code_show=true; \n",
    "function code_toggle() {\n",
    "    if (code_show){\n",
    "        $('div.cell.code_cell.rendered.selected div.input').hide();\n",
    "    } else {\n",
    "        $('div.cell.code_cell.rendered.selected div.input').show();\n",
    "    }\n",
    "    code_show = !code_show\n",
    "} \n",
    "$( document ).ready(code_toggle);\n",
    "</script>\n",
    "(To show/hide this cell's raw code input, click <a href=\"javascript:code_toggle()\">here</a>.)''')\n",
    "display(tag)"
   ]
  },
  {
   "cell_type": "markdown",
   "metadata": {},
   "source": [
    "# 5. Data Reduction and Analysis\n",
    "\n",
    "Data has no meaning until you analyze. Here we will visualize and perform a basic analysis of the XRR data you just recorded. In the cell below, please replace the default file name with your file name. Then, you can run the cell blocks below to plot and fit your XRR sample data."
   ]
  },
  {
   "cell_type": "markdown",
   "metadata": {},
   "source": [
    "###### xrr.csv example (Fe2O3 on Al2O3 from Joseph McCourt and Roger Reinertsen 461 project 2019)"
   ]
  },
  {
   "cell_type": "code",
   "execution_count": 8,
   "metadata": {},
   "outputs": [
    {
     "data": {
      "text/html": [
       "<script>\n",
       "code_show=true; \n",
       "function code_toggle() {\n",
       "    if (code_show){\n",
       "        $('div.cell.code_cell.rendered.selected div.input').hide();\n",
       "    } else {\n",
       "        $('div.cell.code_cell.rendered.selected div.input').show();\n",
       "    }\n",
       "    code_show = !code_show\n",
       "} \n",
       "$( document ).ready(code_toggle);\n",
       "</script>\n",
       "(To show/hide this cell's raw code input, click <a href=\"javascript:code_toggle()\">here</a>.)"
      ],
      "text/plain": [
       "<IPython.core.display.HTML object>"
      ]
     },
     "metadata": {},
     "output_type": "display_data"
    },
    {
     "data": {
      "image/png": "[encoded data removed]",
      "text/plain": [
       "<Figure size 432x288 with 1 Axes>"
      ]
     },
     "metadata": {
      "needs_background": "light"
     },
     "output_type": "display_data"
    }
   ],
   "source": [
    "# The default file_name refers to example data for XRR. Please reassign file_name to the name of your file\n",
    "# e.g. file_name = \"your_file_name.ras\"\n",
    "display(tag)\n",
    "file_name = \"example/xrr.csv\"\n",
    "\n",
    "# The code below will show a plot of your data on a log scale with appropriate axes labels\n",
    "data = pd.read_csv(file_name,header=None)\n",
    "plt.plot(data[0],data[1])\n",
    "plt.yscale('log')\n",
    "plt.xlabel('q ($\\AA^{-1}$)')\n",
    "plt.ylabel('Reflectivity')\n",
    "plt.show()"
   ]
  },
  {
   "cell_type": "markdown",
   "metadata": {},
   "source": [
    "### Inspecting the Data: First step to Analysis\n",
    "\n",
    "Following **Fig. 1**, we will now do approximations of certain features of the data. It is a good practice to inspect the data first before immediately performing a fit. This way, you will be able to tell whether or not your data makes sense and understand more about what the fit is telling you.\n",
    "\n",
    "  1. Find $\\theta_\\text{critical}$\n",
    "  2. Approximate thickness (related period of oscillations)\n",
    "  3. Approximate roughness "
   ]
  },
  {
   "cell_type": "markdown",
   "metadata": {},
   "source": [
    "#### Theory and Fitting the Data\n",
    "\n",
    "Here is the equation we will be using to fit the data. \n",
    "\n",
    "$$R = \\Big[\\Big(\\frac{2q}{q_c}\\Big)^{2}-1-\\Big(\\frac{2q}{q_c}\\Big)\\sqrt{\\Big(\\frac{q}{qc}\\Big)^2-1}\\Big]\\Big(1-4B(1-B)\\Big(\\sin\\frac{qt}{2}\\Big)^{2}\\Big)\\exp^{-q^2\\sigma^2}$$"
   ]
  },
  {
   "cell_type": "code",
   "execution_count": 9,
   "metadata": {},
   "outputs": [
    {
     "data": {
      "text/html": [
       "<script>\n",
       "code_show=true; \n",
       "function code_toggle() {\n",
       "    if (code_show){\n",
       "        $('div.cell.code_cell.rendered.selected div.input').hide();\n",
       "    } else {\n",
       "        $('div.cell.code_cell.rendered.selected div.input').show();\n",
       "    }\n",
       "    code_show = !code_show\n",
       "} \n",
       "$( document ).ready(code_toggle);\n",
       "</script>\n",
       "(To show/hide this cell's raw code input, click <a href=\"javascript:code_toggle()\">here</a>.)"
      ],
      "text/plain": [
       "<IPython.core.display.HTML object>"
      ]
     },
     "metadata": {},
     "output_type": "display_data"
    },
    {
     "data": {
      "image/png": "[encoded data removed]",
      "text/plain": [
       "<Figure size 432x288 with 1 Axes>"
      ]
     },
     "metadata": {
      "needs_background": "light"
     },
     "output_type": "display_data"
    },
    {
     "name": "stdout",
     "output_type": "stream",
     "text": [
      "B = 1.1635224931773538\n",
      "thickness (t) [Angstroms] = 529.6936314519822\n",
      "sigma (roughness) [Angstroms] = 7.65190221099023\n"
     ]
    }
   ],
   "source": [
    "display(tag)\n",
    "\n",
    "# need to add in a way to locate the q_critical (q_c) instead of just manually inputting the value\n",
    "qc = 0.045\n",
    "\n",
    "def rf(q):\n",
    "    return (2*(q/qc)**2-1-2*(q/qc)*np.sqrt((q/qc)**2-1))**2\n",
    "\n",
    "def r_lowq(q,B,t,sigma):\n",
    "    return (1-4*B*(1-B)*(np.sin(q*t/2))**2)*np.exp(-q**2*sigma**2)\n",
    "\n",
    "def r(q,B,t,sigma):\n",
    "    return rf(q)*r_lowq(q,B,t,sigma)\n",
    "\n",
    "#only fit certain range of low q data\n",
    "sliceobj=slice(30,180)\n",
    "\n",
    "guess = [1.3,525,8]\n",
    "popt, pcov = curve_fit(r, data[0][sliceobj], data[1][sliceobj],sigma = data[1][sliceobj],p0 = guess)\n",
    "\n",
    "plt.yscale('log')\n",
    "plt.plot(data[0][sliceobj],r(data[0][sliceobj],*popt),label = \"Calculated Fit\",color ='g')\n",
    "plt.errorbar(data[0][sliceobj], data[1][sliceobj],label=\"Experimental\",ecolor='r')\n",
    "plt.legend()\n",
    "plt.xlabel('q ($\\AA^{-1}$)')\n",
    "plt.ylabel('Reflectivity')\n",
    "plt.show()\n",
    "\n",
    "print(\"B = \" + str(popt[0]))\n",
    "print(\"thickness (t) [Angstroms] = \" + str(popt[1]))\n",
    "print(\"sigma (roughness) [Angstroms] = \" + str(popt[2]))"
   ]
  },
  {
   "cell_type": "markdown",
   "metadata": {},
   "source": [
    "<div class=\"alert alert-block alert-info\">\n",
    "    <strong> Think about it... </strong>\n",
    "    \n",
    "What are units of the $B$ parameter and what does it represent? Does this value make sense for the sample you measured?\n",
    "</div>"
   ]
  },
  {
   "cell_type": "markdown",
   "metadata": {},
   "source": [
    "Here is a slide from your class lecture on thin film reflectivity. The formula above should now look more familiar.\n",
    "\n",
    "<img src=\"images/thin_film_reflectivity_class_slide.png\" />"
   ]
  },
  {
   "cell_type": "code",
   "execution_count": 10,
   "metadata": {},
   "outputs": [
    {
     "data": {
      "text/html": [
       "<script>\n",
       "code_show=true; \n",
       "function code_toggle() {\n",
       "    if (code_show){\n",
       "        $('div.cell.code_cell.rendered.selected div.input').hide();\n",
       "    } else {\n",
       "        $('div.cell.code_cell.rendered.selected div.input').show();\n",
       "    }\n",
       "    code_show = !code_show\n",
       "} \n",
       "$( document ).ready(code_toggle);\n",
       "</script>\n",
       "(To show/hide this cell's raw code input, click <a href=\"javascript:code_toggle()\">here</a>.)"
      ],
      "text/plain": [
       "<IPython.core.display.HTML object>"
      ]
     },
     "metadata": {},
     "output_type": "display_data"
    }
   ],
   "source": [
    "display(tag)\n",
    "# # Instead of setting the cell to Markdown, create Markdown from withnin a code cell!\n",
    "# # We can just use python variable replacement syntax to make the text dynamic\n",
    "# Markdown(\"| Parameter | Value   | \\\n",
    "#          \\n|------|------|\\\n",
    "#          \\n|   a  | {}|\\\n",
    "#          \\n|   b  | {}|\\\n",
    "#          \\n|   Straight Through Beam  | {}|\\\n",
    "#          \\n|   Slit Size  | {}|\".format(a,b,straight_through_beam,slit_size))"
   ]
  },
  {
   "cell_type": "code",
   "execution_count": null,
   "metadata": {},
   "outputs": [],
   "source": []
  }
 ],
 "metadata": {
  "kernelspec": {
   "display_name": "Python 3",
   "language": "python",
   "name": "python3"
  },
  "language_info": {
   "codemirror_mode": {
    "name": "ipython",
    "version": 3
   },
   "file_extension": ".py",
   "mimetype": "text/x-python",
   "name": "python",
   "nbconvert_exporter": "python",
   "pygments_lexer": "ipython3",
   "version": "3.6.7"
  }
 },
 "nbformat": 4,
 "nbformat_minor": 2
}
