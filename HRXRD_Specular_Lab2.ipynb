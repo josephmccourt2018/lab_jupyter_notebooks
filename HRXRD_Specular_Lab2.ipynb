{
 "cells": [
  {
   "cell_type": "markdown",
   "metadata": {},
   "source": [
    "&copy; Bedzyk Research Group 2020, Northwestern University"
   ]
  },
  {
   "cell_type": "markdown",
   "metadata": {},
   "source": [
    "<div class=\"alert alert-block alert-warning\">\n",
    "To start this project, in the top menu bar click $\\text{Cell}\\to \\text{ Run All}$. Then, scroll back up to the top of this document.\n",
    "</div>"
   ]
  },
  {
   "cell_type": "code",
   "execution_count": 180,
   "metadata": {
    "scrolled": true
   },
   "outputs": [
    {
     "data": {
      "text/html": [
       "<script>\n",
       "code_show_2=true; \n",
       "function code_toggle_2() {\n",
       " if (code_show_2){\n",
       " $('div.input').hide();\n",
       " } else {\n",
       " $('div.input').show();\n",
       " }\n",
       " code_show_2 = !code_show_2\n",
       "} \n",
       "$( document ).ready(code_toggle_2);\n",
       "</script>\n",
       "The raw code for this Jupyter Notebook is by default hidden for easier reading.\n",
       "To toggle on/off the raw code for this entire notebook, click <a href=\"javascript:code_toggle_2()\">here</a>."
      ],
      "text/plain": [
       "<IPython.core.display.HTML object>"
      ]
     },
     "execution_count": 180,
     "metadata": {},
     "output_type": "execute_result"
    }
   ],
   "source": [
    "#http://blog.nextgenetics.net/?e=102\n",
    "from IPython.display import HTML\n",
    "HTML('''<script>\n",
    "code_show_2=true; \n",
    "function code_toggle_2() {\n",
    " if (code_show_2){\n",
    " $('div.input').hide();\n",
    " } else {\n",
    " $('div.input').show();\n",
    " }\n",
    " code_show_2 = !code_show_2\n",
    "} \n",
    "$( document ).ready(code_toggle_2);\n",
    "</script>\n",
    "The raw code for this Jupyter Notebook is by default hidden for easier reading.\n",
    "To toggle on/off the raw code for this entire notebook, click <a href=\"javascript:code_toggle_2()\">here</a>.''')\n"
   ]
  },
  {
   "cell_type": "markdown",
   "metadata": {},
   "source": [
    "<div class=\"alert alert-block alert-warning\">\n",
    "Raw code is hidden by default for the entire notebook. You can toggle on/off the raw code for this entire notebook by clicking the button above. More importantly, raw code for individual cells can be shown/hidden by using the message/button: <img src=\"images/show_hide_button.png\"/> Hiding the code is mainly for visual purposes and may be useful if you would like a hard copy (i.e. pdf) of this document. However, there are also instances where you will need to show the code cell so you can input different parameters. This button will show up repeatedly throughout this document. Try showing and hiding the code in the cell block below as an example.\n",
    "</div>"
   ]
  },
  {
   "cell_type": "code",
   "execution_count": 181,
   "metadata": {},
   "outputs": [
    {
     "data": {
      "text/html": [
       "<script>\n",
       "code_show=true; \n",
       "function code_toggle() {\n",
       "    if (code_show){\n",
       "        $('div.cell.code_cell.rendered.selected div.input').hide();\n",
       "    } else {\n",
       "        $('div.cell.code_cell.rendered.selected div.input').show();\n",
       "    }\n",
       "    code_show = !code_show\n",
       "} \n",
       "$( document ).ready(code_toggle);\n",
       "</script>\n",
       "(To show/hide this cell's raw code input, click <a href=\"javascript:code_toggle()\">here</a>.)"
      ],
      "text/plain": [
       "<IPython.core.display.HTML object>"
      ]
     },
     "metadata": {},
     "output_type": "display_data"
    }
   ],
   "source": [
    "# importing the necessary libraries and packages for XRR.ipynb\n",
    "import ipywidgets as widgets\n",
    "from ipywidgets import Label, Layout\n",
    "from IPython.display import display, Markdown, clear_output\n",
    "from IPython.display import display\n",
    "from IPython.display import Image\n",
    "#%matplotlib notebook\n",
    "import matplotlib.pyplot as plt\n",
    "import numpy as np\n",
    "import pandas as pd\n",
    "import math\n",
    "from scipy.optimize import curve_fit\n",
    "from scipy.special import erfc\n",
    "from scipy import integrate\n",
    "from IPython.display import IFrame\n",
    "\n",
    "\n",
    "\n",
    "# Taken from https://stackoverflow.com/questions/31517194/how-to-hide-one-specific-cell-input-or-output-in-ipython-notebook\n",
    "# https://gist.github.com/Zsailer/5d1f4e357c78409dd9a5a4e5c61be552\n",
    "\n",
    "# This tag allows the supression of input cells that have to deal with formatting and code.\n",
    "# You are viewing the \"code\" version of the \"click here\" button you just pressed\n",
    "tag = HTML('''<script>\n",
    "code_show=true; \n",
    "function code_toggle() {\n",
    "    if (code_show){\n",
    "        $('div.cell.code_cell.rendered.selected div.input').hide();\n",
    "    } else {\n",
    "        $('div.cell.code_cell.rendered.selected div.input').show();\n",
    "    }\n",
    "    code_show = !code_show\n",
    "} \n",
    "$( document ).ready(code_toggle);\n",
    "</script>\n",
    "(To show/hide this cell's raw code input, click <a href=\"javascript:code_toggle()\">here</a>.)''')\n",
    "display(tag)"
   ]
  },
  {
   "cell_type": "markdown",
   "metadata": {},
   "source": [
    "# Jupyter Notebook Introduction\n",
    "\n",
    "Jupyter Notebook is a an open source web application/user interface that allows users to create and share documents containing code, equations, visualizations, and narrative text by using a combination of different programming languages. In this Jupyter Notebook (*HRXRD.ipynb*), we will be using **Python 3** for all analysis purposes (in the top right corner of this page, you will see the tag Python 3 which tells you the programming language of the notebook). The most important concept of Jupyter Notebooks is the concept of a **cell block**. Clicking on a block of text or code will highlight (in blue in this case) the current cell block you are viewing. Click on this block of text. In the menu bar at the top of this document, you will see a drop down menu: <img src=\"images/markdown_dropdown.png\"/> \n",
    "\n",
    "**Markdown** is referring the type of this cell block. Markdown is a text formatting language supported in Jupyter Notebook. By *double clicking* on the text you are reading right now, you will see the Markdown version of the cell block. You will see the other types of supported cell blocks by clicking the drop down menu. For example, \"Code\" is another type of cell block you will be seeing in this document and they all contain snippets of Python 3 code. \n",
    "\n",
    "To run code of a particular cell block, click into the cell and either click the run button above: \n",
    "\n",
    "<img src=\"images/run_jupyter.png\"/>\n",
    "\n",
    "or click \"Shift+Enter\" on your keyboard. Running a cell will also allow you to exit the \"code view\" version of a Markdown cell block. \n",
    "\n",
    "That is all you will need to know for this laboratory exercise. Have fun and we welcome any positive/negative feedback!\n",
    "\n",
    ">**NOTE:** *Do not worry if you do not know Python or Markdown as there is no coding necessary for completing this project. In fact, most code cells can be left hidden for the entire exercise and you never even have to see code!*"
   ]
  },
  {
   "cell_type": "markdown",
   "metadata": {},
   "source": [
    "# Re-accessing X-ray Lab Server\n",
    "\n",
    "<div class=\"alert alert-block alert-danger\">\n",
    "Before beginning, make sure to locate your netID folder. This is where you will be saving all of your data. You should have already created a folder during the X-ray Reflectivity Exercise (Lab 1).\n",
    "<br/><br/>\n",
    "On the lab computer, the location of the server is:\n",
    "<br/><br/>\n",
    "$\\text{This PC} \\to \\text{mrc_xrayfac (\\\\\\\\resfiles.northwestern.edu)(Z:)} \\to \\text{netID folders} \\to \\text{[your_net_ID]}$\n",
    "\n",
    "    \n",
    "You may also wish to mount the server onto your computer. Click the following link and follow the appropriate steps if you would like to do so:\n",
    ">https://kb.northwestern.edu/page.php?id=70525\n",
    "\n",
    "For further clarification, see *XRR.ipynb* in this same directory.\n",
    "\n",
    " \n",
    "</div>"
   ]
  },
  {
   "cell_type": "markdown",
   "metadata": {},
   "source": [
    "# *Before You Begin...*\n",
    "Please verify what SmartLab model you are using. In the cell block below, please click on the machine and software that corresponds to your SmartLab. You will see a screen shot of the software for the machine you click on.\n",
    "\n",
    "After selecting, navigate into the cell block below the screen shot. Click $\\text{Cell}\\to \\text{ Run All Below}$ to update the instructions tailored to your machine.\n",
    "\n",
    "Most of the lab will be performed within the *Pro/Manual Control* window of the Smartlab softwares (circled in red in the screenshots)."
   ]
  },
  {
   "cell_type": "code",
   "execution_count": 182,
   "metadata": {},
   "outputs": [
    {
     "data": {
      "text/html": [
       "<script>\n",
       "code_show=true; \n",
       "function code_toggle() {\n",
       "    if (code_show){\n",
       "        $('div.cell.code_cell.rendered.selected div.input').hide();\n",
       "    } else {\n",
       "        $('div.cell.code_cell.rendered.selected div.input').show();\n",
       "    }\n",
       "    code_show = !code_show\n",
       "} \n",
       "$( document ).ready(code_toggle);\n",
       "</script>\n",
       "(To show/hide this cell's raw code input, click <a href=\"javascript:code_toggle()\">here</a>.)"
      ],
      "text/plain": [
       "<IPython.core.display.HTML object>"
      ]
     },
     "metadata": {},
     "output_type": "display_data"
    },
    {
     "data": {
      "application/vnd.jupyter.widget-view+json": {
       "model_id": "b3a7872444d74a63a4d89f550a1dc256",
       "version_major": 2,
       "version_minor": 0
      },
      "text/plain": [
       "VBox(children=(Button(button_style='warning', description='Smartlab Gen 1, Guidance', layout=Layout(width='300…"
      ]
     },
     "metadata": {},
     "output_type": "display_data"
    }
   ],
   "source": [
    "display(tag)\n",
    "\n",
    "machine_toggle_1 = widgets.ToggleButton(\n",
    "    value=False,\n",
    ")\n",
    "\n",
    "machine_button_1 = widgets.Button(\n",
    "    description='Smartlab Gen 1, Guidance',\n",
    "    disabled=False,\n",
    "    button_style='Warning', # 'success', 'info', 'warning', 'danger' or ''\n",
    "    layout={'width': '300px'}\n",
    ")\n",
    "\n",
    "machine_toggle_2 = widgets.ToggleButton(\n",
    "    value=False,\n",
    ")\n",
    "\n",
    "machine_button_2 = widgets.Button(\n",
    "    description='Smartlab Gen 2, Studio II',\n",
    "    disabled=False,\n",
    "    button_style='Warning', # 'success', 'info', 'warning', 'danger' or ''\n",
    "    layout={'width': '300px'}\n",
    ")\n",
    "\n",
    "#defining what the button will do on clicking: output a screenshot of each software\n",
    "def on_button_clicked_machine_1(b):\n",
    "    clear_output()\n",
    "    display(machines)\n",
    "    machine_toggle_1.value = True\n",
    "    machine_toggle_2.value = False\n",
    "    display(Image(filename='images/guidance_3.png'))   \n",
    "def on_button_clicked_machine_2(b):\n",
    "    clear_output()\n",
    "    display(machines)\n",
    "    machine_toggle_1.value = False\n",
    "    machine_toggle_2.value = True\n",
    "    display(Image(filename='images/studio_II_3.png'))\n",
    "    \n",
    "\n",
    "machine_button_1.on_click(on_button_clicked_machine_1)\n",
    "machine_button_2.on_click(on_button_clicked_machine_2)\n",
    "        \n",
    "#displaying the buttons for the two types of machines\n",
    "machine_button_layout = widgets.Layout(align_items='center')\n",
    "machines = widgets.VBox(children=[machine_button_1,machine_button_2],layout=machine_button_layout)\n",
    "display(machines)"
   ]
  },
  {
   "cell_type": "markdown",
   "metadata": {},
   "source": [
    "# Click $\\text{Cell}\\to \\text{Run  All  Below}$ when inside of this cell after selecting your instrument."
   ]
  },
  {
   "cell_type": "markdown",
   "metadata": {},
   "source": [
    "### <br/><br/>\n",
    "<div align=\"center\">\n",
    "<font size=\"18\" color=\"#990000\"><b> Thin Film <br/> <br/> High Resolution X-ray Diffraction <br/><br/> (HRXRD) </b></font>\n",
    "</div>\n",
    "\n",
    "# Overview of the technique\n",
    "\n",
    "In the X-ray reflectivity (XRR) measurement of Lab 1 you scanned along the low-Q end of the specular rod in reciprocal space to determine the film thickness, density and interface roughnesses. Here in Lab 2 you will continue to scan along this same specular rod but at a higher Q range that covers the Bragg peaks from the substrate and film. These are for reciprocal space vectors <strong>G</strong><sub>hkl</sub> that are nominally perpendicular to the surface. Because these features are narrower in reciprocal space you need to measure with higher Q resolution.(i.e., Smaller wavelength spread and smaller angular divergence of the incident beam.)  To achieve this we inserted a Ge(220) 2-bounce channel-cut monochromator crystal on the incident beam arm in the position previously occupied by the soller slit. See diagram below. This monochromator only passes Cu K$\\alpha_1$ radiation (and not K$\\alpha_2$). You will use this so-called High-Resolution X-ray Diffraction (HRXRD) method to investigate the out-of-plane registry of the epitaxial film lattice with respect to the single crystal substrate lattice. The cost of higher resolution is lower intensity for the incident beam.\n",
    "<div align=\"center\">\n",
    "<FIGURE> \n",
    "   <img src=\"images/Fig1_HXRD_SmartLab_v2.png\" />\n",
    "   <FIGCAPTION> <b>Fig. 1:</b> <i> SmartLab Diffractometer with Ge (220) 2-bounce monochromator option inserted to increase the resolution. \n",
    "</FIGURE>\n",
    "</div>\n",
    "\n",
    "Your substrate is a 10 x 10 x 0.5 mm c-plane sapphire $\\alpha$-Al$_2$O$_3$(001) single crystal. The PLD grown film will be  $\\alpha$-Fe$_2$O$_3$ or Pt with a thickness between 10 and 100 nm.  HRXRD will allow you to determine the  film's crystallinity (single crystal or textured polycrystalline), out-of-plane lattice constant and single crystal domain size. More specifically for your case, HRXRD  shows whether or not the hexagonal basal planes of the film are parallel to the basal $c$-planes of the substrate.  Prior to starting the HRXRD experiment, you should have used CrystalMaker and SingleCrystal to study the crystal structures of the substrate and film and determined what you expect for the alignment of the film's crystallographic hkl direction with the substrate crystal c-axis, and what are the d-spacings ( and Bragg angles) for the first allowed reflections along surface normal direction for both the substrate and film.  \n",
    "\n",
    "In this lab you will perform 2 types of scans:\n",
    "\n",
    "1. $2\\theta\\omega$ scan (also referred to as a radial scan or longitudinal scan in reciprocal space where you are scanning along Q<sub>⊥</sub> direction): This is a <strong>coupled scan</strong>, with the incident beam arm and detector arm rotating with equal steps in opposite directions.(For a positive 2° step in 2$\\theta$ the incident arm rotates   1° clockwise and the detector arm rotates  1° counterclockwise.) Remember that the SmartLab keeps the sample fixed in a horizontal position during these scans. The diffraction peak positions will obey Bragg's Law. The instrument resolution of this scan can be determined from the width of the substrate Bragg peak. The width of the film's Bragg peak is used to determine the single crystal domain size of the film. Compare this to what you found for the film thickness in your Lab 1 XRR measurement.\n",
    "\n",
    "\n",
    "2. $\\omega$ scan (also referred to as a transverse scan in reciprocal space): The incident beam arm and detector arm rotate with equal steps in the same direction with 2$\\theta$  <strong>fixed</strong> at the Bragg condition. This is also know as a <strong>Rocking Curve</strong> (RC) scan. The $\\Delta$$\\omega$ instrument resolution of this scan is determined from the width of the substrate Bragg peak RC. The film's RC width has contributions from the mosaic spread and in-plane domain size. A mosaic crystal or a film is built up by many cristallites (grains) with different tilt angles (δΩ). This is shown in **Fig. 2**. According to δΩ the crystallites can group in ensembles for which Bragg equation will be fulfilled. The rocking curve measurement is commonly used as a figure of merit to evaluate the mosaicity of a thin epitaxial film. The smaller the width of the peak, the better the individual crystallites are aligned and the larger their size.\n",
    "\n",
    "\n",
    "<div align=\"center\">\n",
    "<FIGURE> \n",
    "   <img src=\"images/hrxrd_mosaic.png\" />\n",
    "    <br/><br/>\n",
    "   <FIGCAPTION> <b>Fig. 2: </b> <i> X-ray diffraction for (a) ideal single crystal and (b) a mosaic crystal or film</i></FIGCAPTION>\n",
    "    \n",
    "</FIGURE>\n",
    "</div>"
   ]
  },
  {
   "cell_type": "markdown",
   "metadata": {},
   "source": [
    "## What Do We Expect?\n",
    "\n",
    "At what $2\\theta$ value do you expect to find the find the substrate and film diffraction peaks ($\\alpha$-Fe$_2$O$_3$ or Pt and c-plane sapphire $\\alpha$-Al$_2$O$_3$(001))? You should be able to calculate this based on class discussions or preliminary work done with CrystalMaker. Input those values in the table below (show the cell's raw code input below and enter your values). We will compare these expected values to what you measure in this lab exercise."
   ]
  },
  {
   "cell_type": "code",
   "execution_count": 183,
   "metadata": {},
   "outputs": [
    {
     "data": {
      "text/html": [
       "<script>\n",
       "code_show=true; \n",
       "function code_toggle() {\n",
       "    if (code_show){\n",
       "        $('div.cell.code_cell.rendered.selected div.input').hide();\n",
       "    } else {\n",
       "        $('div.cell.code_cell.rendered.selected div.input').show();\n",
       "    }\n",
       "    code_show = !code_show\n",
       "} \n",
       "$( document ).ready(code_toggle);\n",
       "</script>\n",
       "(To show/hide this cell's raw code input, click <a href=\"javascript:code_toggle()\">here</a>.)"
      ],
      "text/plain": [
       "<IPython.core.display.HTML object>"
      ]
     },
     "metadata": {},
     "output_type": "display_data"
    }
   ],
   "source": [
    "display(tag)\n",
    "film = \"Film\"\n",
    "film_2th = \"N/A\"\n",
    "sub_2th = \"N/A\"\n",
    "substrate = \"Substrate\"\n",
    "film_measured = \"N/A\"\n",
    "sub_measured = \"N/A\""
   ]
  },
  {
   "cell_type": "code",
   "execution_count": 184,
   "metadata": {},
   "outputs": [
    {
     "data": {
      "text/markdown": [
       "| Material | 2$\\theta$($\\circ$) (Theoretical) |2$\\theta$($\\circ$) (Measured)  |          \n",
       "|------|------|------|         \n",
       "|   Film | N/A|N/A|         \n",
       "|   Substrate | N/A|N/A|"
      ],
      "text/plain": [
       "<IPython.core.display.Markdown object>"
      ]
     },
     "execution_count": 184,
     "metadata": {},
     "output_type": "execute_result"
    }
   ],
   "source": [
    "Markdown(\"| Material | 2$\\\\theta$($\\circ$) (Theoretical) |2$\\\\theta$($\\circ$) (Measured)  | \\\n",
    "         \\n|------|------|------|\\\n",
    "         \\n|   {} | {}|{}|\\\n",
    "         \\n|   {} | {}|{}|\".format(film,film_2th,film_measured,substrate,sub_2th,sub_measured))"
   ]
  },
  {
   "cell_type": "markdown",
   "metadata": {},
   "source": [
    "## 1. Working with SmartLab"
   ]
  },
  {
   "cell_type": "markdown",
   "metadata": {},
   "source": [
    "Having completed the XRR lab, you should feel more comfortable navigating the SmartLab Guidance or Studio II softwares."
   ]
  },
  {
   "cell_type": "markdown",
   "metadata": {},
   "source": [
    "### Follow the instructions and put a check mark in each step as you advance. These steps are to set up the Smartlab software and initial conditions for the experiment.\n",
    "\n",
    "The following experiment will be performed in the *Pro Control* window of Smartlab Studio 2 software."
   ]
  },
  {
   "cell_type": "code",
   "execution_count": 185,
   "metadata": {},
   "outputs": [
    {
     "data": {
      "text/html": [
       "<script>\n",
       "code_show=true; \n",
       "function code_toggle() {\n",
       "    if (code_show){\n",
       "        $('div.cell.code_cell.rendered.selected div.input').hide();\n",
       "    } else {\n",
       "        $('div.cell.code_cell.rendered.selected div.input').show();\n",
       "    }\n",
       "    code_show = !code_show\n",
       "} \n",
       "$( document ).ready(code_toggle);\n",
       "</script>\n",
       "(To show/hide this cell's raw code input, click <a href=\"javascript:code_toggle()\">here</a>.)"
      ],
      "text/plain": [
       "<IPython.core.display.HTML object>"
      ]
     },
     "metadata": {},
     "output_type": "display_data"
    },
    {
     "data": {
      "application/vnd.jupyter.widget-view+json": {
       "model_id": "6fe6b4a4afd44f0baddc215862aa322b",
       "version_major": 2,
       "version_minor": 0
      },
      "text/plain": [
       "GridBox(children=(Checkbox(value=False, description='<strong> Step </strong>1:'), HTMLMath(value='Open XG Cont…"
      ]
     },
     "metadata": {},
     "output_type": "display_data"
    },
    {
     "data": {
      "application/vnd.jupyter.widget-view+json": {
       "model_id": "7d6a9d23fcc24241a9b667765b2cf175",
       "version_major": 2,
       "version_minor": 0
      },
      "text/plain": [
       "GridBox(children=(Checkbox(value=False, description='<strong> Step </strong>2:'), HTMLMath(value='Turn on the …"
      ]
     },
     "metadata": {},
     "output_type": "display_data"
    },
    {
     "data": {
      "application/vnd.jupyter.widget-view+json": {
       "model_id": "c71ed86da6bd48f3869f696add964acf",
       "version_major": 2,
       "version_minor": 0
      },
      "text/plain": [
       "GridBox(children=(Checkbox(value=False, description='<strong> Step </strong>3:'), HTMLMath(value='Set the volt…"
      ]
     },
     "metadata": {},
     "output_type": "display_data"
    },
    {
     "data": {
      "application/vnd.jupyter.widget-view+json": {
       "model_id": "0cba21451c624f00ade6af009b7a2a79",
       "version_major": 2,
       "version_minor": 0
      },
      "text/plain": [
       "GridBox(children=(Checkbox(value=False, description='<strong> Step </strong>4:'), HTMLMath(value='After the vo…"
      ]
     },
     "metadata": {},
     "output_type": "display_data"
    },
    {
     "data": {
      "application/vnd.jupyter.widget-view+json": {
       "model_id": "a852c9031d2240329f38736d0b9254e9",
       "version_major": 2,
       "version_minor": 0
      },
      "text/plain": [
       "GridBox(children=(Checkbox(value=False, description='<strong> Step </strong>5:'), HTMLMath(value='Close XG Con…"
      ]
     },
     "metadata": {},
     "output_type": "display_data"
    },
    {
     "data": {
      "application/vnd.jupyter.widget-view+json": {
       "model_id": "d08965e1db4f4e3b9f01219025d362f3",
       "version_major": 2,
       "version_minor": 0
      },
      "text/plain": [
       "GridBox(children=(Checkbox(value=False, description='<strong> Step </strong>6:'), HTMLMath(value='Look at the …"
      ]
     },
     "metadata": {},
     "output_type": "display_data"
    },
    {
     "data": {
      "application/vnd.jupyter.widget-view+json": {
       "model_id": "2431c80bafc4477d965cf3fcf3e969dd",
       "version_major": 2,
       "version_minor": 0
      },
      "text/plain": [
       "Button(button_style='info', description='Finish!', style=ButtonStyle())"
      ]
     },
     "metadata": {},
     "output_type": "display_data"
    }
   ],
   "source": [
    "display(tag)\n",
    "\n",
    "#Displaying a checklist for to do list\n",
    "#https://stackoverflow.com/questions/41469554/python-jupyter-notebook-create-dynamic-checklist-user-input-that-runs-code\n",
    "\n",
    "\n",
    "# To do list containing all the steps for XRR on SmartLab (Gen 3? or Gen 2? the latest one)\n",
    "step_list_getting_started = ['Open XG Control (XG Control is located in the $\\\\text{Control}$ tab on SmartLab Guidance).',\n",
    "            'Turn on the X-Ray tube and wait',\n",
    "            'Set the voltage to $45$ kV. Click on $\\\\text{SET}$ and wait',\n",
    "            'After the voltage has been set, set the current to $160$ mA. Click on $\\\\text{SET}$ and wait',\n",
    "            'Close XG Control and open Pro/Manual Control in the Home Tab',\n",
    "            'Look at the H/W Status Window in the left part of the screen. Make sure the following motors are set to zero in the H/W Status Tab: 2$\\\\theta$, $\\omega$, 2$\\\\theta\\chi$, $\\chi$, $\\phi$, R$_x$, R$_y$. If not, open the tab for the specific motor in Pro Control, type zero in the Move Tab and click on Move. In addition, double-check that the voltage is $45$ kV and current is $160$ mA.']\n",
    "checkbox_array_getting_started = []\n",
    "for step in step_list_getting_started:\n",
    "    step_index = str(step_list_getting_started.index(step)+1)\n",
    "    checkbox = widgets.Checkbox(description = \"<strong> Step </strong>\"+step_index+\":\")\n",
    "    checkbox_array_getting_started.append(checkbox)\n",
    "    #use HTMLMath widget to get text right\n",
    "    temp_step = widgets.HTMLMath(step)\n",
    "    #set up a GridBox to display properly\n",
    "    box = widgets.GridBox([checkbox, temp_step],layout=Layout(width='100%',\n",
    "            grid_template_columns='20% 80% ',\n",
    "            grid_template_areas='''\n",
    "            \"checkbox temp_step\"\n",
    "            '''))\n",
    "    display(box)\n",
    "    \n",
    "#create finish button that verifies all steps have been completed\n",
    "pb1 = widgets.Button(\n",
    "    description='Finish!',\n",
    "    disabled=False,\n",
    "    button_style='info', # 'success', 'info', 'warning', 'danger' or ''\n",
    ")\n",
    "#defining what the button will do on clicking\n",
    "def on_button_clicked(b):\n",
    "    print(\"------------------------------------------------------------------------------------\")\n",
    "    print(\"clicked on: Finish!\")\n",
    "    steps_completed=0\n",
    "    for checkbox in checkbox_array_getting_started:\n",
    "        if checkbox.value ==True:\n",
    "            steps_completed+=1\n",
    "            continue;\n",
    "        else:\n",
    "            print(\"You did not complete step \" + str(checkbox_array_getting_started.index(checkbox)+1))\n",
    "            pb1.button_style='danger'\n",
    "    if steps_completed == len(checkbox_array_getting_started):\n",
    "        print(\"You finished Getting Started with Smartlab. Please, continue to Sample Alignment. Nice job!\")\n",
    "        pb1.button_style='success'\n",
    "        \n",
    "pb1.on_click(on_button_clicked)\n",
    "display(pb1)"
   ]
  },
  {
   "cell_type": "markdown",
   "metadata": {},
   "source": [
    "## 2. Sample Alignment (Thin Film)\n",
    "\n",
    "The steps below should look familiar to you; they are the same steps you performed when aligning your sample for XRR. The difference lies in the set-up of the diffractometer (i.e. the Ge (220) monochromator and removal of incident soller slits). In addition, we will insert a $5$mm length limiting slit. Check with your lab supervisor that your equipment is set up correctly.\n",
    "\n",
    "<div class=\"alert alert-block alert-warning\">\n",
    "    If you ever feel lost when perfroming scans, refer back to <b>Fig. 1</b> to remind yourself of the geometry of each scan type. And, of course, feel free to ask your lab supervisor any questions. They will prove to be much more helpful than any set of instructions.\n",
    "</div>\n",
    "\n",
    "##### Prior to  sample alignment, the optics, sample goniometer, and detector slits have been prealigned by the XRD facility staff.  You can eventually learn how to do this alignment on your own with a set of automated procedures that are part of the SmartLab software control system. "
   ]
  },
  {
   "cell_type": "markdown",
   "metadata": {},
   "source": [
    "### _Important Parameters_\n",
    "\n",
    "The cell below is place where you can record various important parameters that will come up throughout the experiment. \n",
    "\n",
    "Whenever you update the values, make sure to run the cell by clicking into the cell and either clicking the run button above: <img src=\"images/run_jupyter.png\"/>\n",
    "or by clicking \"Shift+Enter\" on your keyboard.\n",
    "\n",
    "To test if you executed the cell, the parameters and their values will all be listed in the drop down menu below where you can click \"Print Variable\" to see its value.\n",
    "\n",
    "Show the cell block's raw code by clicking the toggle button below and then input your parameter values.|"
   ]
  },
  {
   "cell_type": "code",
   "execution_count": 186,
   "metadata": {},
   "outputs": [
    {
     "data": {
      "text/html": [
       "<script>\n",
       "code_show=true; \n",
       "function code_toggle() {\n",
       "    if (code_show){\n",
       "        $('div.cell.code_cell.rendered.selected div.input').hide();\n",
       "    } else {\n",
       "        $('div.cell.code_cell.rendered.selected div.input').show();\n",
       "    }\n",
       "    code_show = !code_show\n",
       "} \n",
       "$( document ).ready(code_toggle);\n",
       "</script>\n",
       "(To show/hide this cell's raw code input, click <a href=\"javascript:code_toggle()\">here</a>.)"
      ],
      "text/plain": [
       "<IPython.core.display.HTML object>"
      ]
     },
     "metadata": {},
     "output_type": "display_data"
    }
   ],
   "source": [
    "# Here is a list of important parameters for you to fill out\n",
    "display(tag)\n",
    "\n",
    "th_true_zero = 0.02\n",
    "straight_through_beam = 5e8 #cps\n",
    "film_bragg_FWHM = 1\n",
    "film_bragg_position = 1 \n",
    "film_bragg_intensity = 1\n",
    "film_rocking_FWHM = 1\n",
    "film_rocking_position = 1\n",
    "film_rocking_intensity = 1\n",
    "al2O3_bragg_FWHM = 1\n",
    "al2O3_bragg_position = 1\n",
    "al2O3_bragg_intensity = 1\n",
    "al2O3_rocking_FWHM = 1\n",
    "al2O3_rocking_position = 1\n",
    "al2O3_rocking_intensity = 1"
   ]
  },
  {
   "cell_type": "code",
   "execution_count": 187,
   "metadata": {},
   "outputs": [
    {
     "data": {
      "application/vnd.jupyter.widget-view+json": {
       "model_id": "101b8c08e4d941f3bd4d64975dc1420f",
       "version_major": 2,
       "version_minor": 0
      },
      "text/plain": [
       "VBox(children=(Dropdown(options=('th_true_zero', 'straight_through_beam', 'film_bragg_FWHM', 'film_bragg_posit…"
      ]
     },
     "metadata": {},
     "output_type": "display_data"
    }
   ],
   "source": [
    "# selecting variables for button\n",
    "button_variables = ['th_true_zero','straight_through_beam',\n",
    "                    'film_bragg_FWHM','film_bragg_position','film_bragg_intensity',\n",
    "                    'film_rocking_FWHM','film_rocking_position','film_rocking_intensity',\n",
    "                    'al2O3_bragg_FWHM','al2O3_bragg_position','al2O3_bragg_intensity',\n",
    "                    'al2O3_rocking_FWHM','al2O3_rocking_position','al2O3_rocking_intensity']\n",
    "funcs = []\n",
    "for i in button_variables:\n",
    "    funcs.append(i)\n",
    " \n",
    "# creating menu with them   \n",
    "button_vars = widgets.Dropdown(\n",
    "    options=funcs)\n",
    "# button, output, function and linkage\n",
    "butt = widgets.Button(description='Print Variable')\n",
    "outt = widgets.Output()\n",
    "def on_butt_clicked(b):\n",
    "    with outt:\n",
    "        clear_output()\n",
    "        #print(type(globals()[button_vars.value]))\n",
    "        print(globals()[button_vars.value])\n",
    "        \n",
    "butt.on_click(on_butt_clicked)\n",
    "# display\n",
    "widgets.VBox([button_vars,butt,outt])"
   ]
  },
  {
   "cell_type": "markdown",
   "metadata": {},
   "source": [
    "### Follow the instructions and put a check mark in each step as you advance. These steps are to align the thin film sample in preparation for measurements.\n",
    "\n",
    "The following experiment will be performed in the *Pro Control* window of Smartlab Studio 2 software."
   ]
  },
  {
   "cell_type": "code",
   "execution_count": 188,
   "metadata": {},
   "outputs": [
    {
     "data": {
      "text/html": [
       "<script>\n",
       "code_show=true; \n",
       "function code_toggle() {\n",
       "    if (code_show){\n",
       "        $('div.cell.code_cell.rendered.selected div.input').hide();\n",
       "    } else {\n",
       "        $('div.cell.code_cell.rendered.selected div.input').show();\n",
       "    }\n",
       "    code_show = !code_show\n",
       "} \n",
       "$( document ).ready(code_toggle);\n",
       "</script>\n",
       "(To show/hide this cell's raw code input, click <a href=\"javascript:code_toggle()\">here</a>.)"
      ],
      "text/plain": [
       "<IPython.core.display.HTML object>"
      ]
     },
     "metadata": {},
     "output_type": "display_data"
    },
    {
     "name": "stdout",
     "output_type": "stream",
     "text": [
      "Instructions for SmartLab Studio II\n"
     ]
    },
    {
     "data": {
      "application/vnd.jupyter.widget-view+json": {
       "model_id": "bcfc0f435cd04f4799aa6d63f6e149b7",
       "version_major": 2,
       "version_minor": 0
      },
      "text/plain": [
       "GridBox(children=(Checkbox(value=False, description='<strong> Step </strong>1:'), HTMLMath(value='Make sure th…"
      ]
     },
     "metadata": {},
     "output_type": "display_data"
    },
    {
     "data": {
      "application/vnd.jupyter.widget-view+json": {
       "model_id": "12a8940b2bf344879095c2f565c1af75",
       "version_major": 2,
       "version_minor": 0
      },
      "text/plain": [
       "GridBox(children=(Checkbox(value=False, description='<strong> Step </strong>2:'), HTMLMath(value='In Pro Contr…"
      ]
     },
     "metadata": {},
     "output_type": "display_data"
    },
    {
     "data": {
      "application/vnd.jupyter.widget-view+json": {
       "model_id": "a9d5d2c0ae1349638699c6a2e242afaa",
       "version_major": 2,
       "version_minor": 0
      },
      "text/plain": [
       "GridBox(children=(Checkbox(value=False, description='<strong> Step </strong>3:'), HTMLMath(value='Make sure Au…"
      ]
     },
     "metadata": {},
     "output_type": "display_data"
    },
    {
     "data": {
      "application/vnd.jupyter.widget-view+json": {
       "model_id": "302dd902362c4c87af8e0a618961f4d9",
       "version_major": 2,
       "version_minor": 0
      },
      "text/plain": [
       "GridBox(children=(Checkbox(value=False, description='<strong> Step </strong>4:'), HTMLMath(value='Perform an A…"
      ]
     },
     "metadata": {},
     "output_type": "display_data"
    },
    {
     "data": {
      "application/vnd.jupyter.widget-view+json": {
       "model_id": "fb3efed8419e471f9e68080abce424f9",
       "version_major": 2,
       "version_minor": 0
      },
      "text/plain": [
       "GridBox(children=(Checkbox(value=False, description='<strong> Step </strong>5:'), HTMLMath(value='The scan sho…"
      ]
     },
     "metadata": {},
     "output_type": "display_data"
    },
    {
     "data": {
      "application/vnd.jupyter.widget-view+json": {
       "model_id": "29244013b87b42609b950ad0fdbc03d5",
       "version_major": 2,
       "version_minor": 0
      },
      "text/plain": [
       "GridBox(children=(Checkbox(value=False, description='<strong> Step </strong>6:'), HTMLMath(value='Select R$_y$…"
      ]
     },
     "metadata": {},
     "output_type": "display_data"
    },
    {
     "data": {
      "application/vnd.jupyter.widget-view+json": {
       "model_id": "ac8b15452d15404cb09e4b19640cffbc",
       "version_major": 2,
       "version_minor": 0
      },
      "text/plain": [
       "GridBox(children=(Checkbox(value=False, description='<strong> Step </strong>7:'), HTMLMath(value='Perform a R$…"
      ]
     },
     "metadata": {},
     "output_type": "display_data"
    },
    {
     "data": {
      "application/vnd.jupyter.widget-view+json": {
       "model_id": "c11e8e71a11a4fa4a663787a2e3f0443",
       "version_major": 2,
       "version_minor": 0
      },
      "text/plain": [
       "GridBox(children=(Checkbox(value=False, description='<strong> Step </strong>8:'), HTMLMath(value='Select the $…"
      ]
     },
     "metadata": {},
     "output_type": "display_data"
    },
    {
     "data": {
      "application/vnd.jupyter.widget-view+json": {
       "model_id": "5d28a9b059854422b611ae03d973a061",
       "version_major": 2,
       "version_minor": 0
      },
      "text/plain": [
       "GridBox(children=(Checkbox(value=False, description='<strong> Step </strong>3:'), HTMLMath(value='Make sure Au…"
      ]
     },
     "metadata": {},
     "output_type": "display_data"
    },
    {
     "data": {
      "application/vnd.jupyter.widget-view+json": {
       "model_id": "ebc720e79bde47d6bf1c9f328c920a24",
       "version_major": 2,
       "version_minor": 0
      },
      "text/plain": [
       "GridBox(children=(Checkbox(value=False, description='<strong> Step </strong>10:'), HTMLMath(value='Perform ano…"
      ]
     },
     "metadata": {},
     "output_type": "display_data"
    },
    {
     "data": {
      "application/vnd.jupyter.widget-view+json": {
       "model_id": "3e1a46e3cc9d424a9923f33e066281f4",
       "version_major": 2,
       "version_minor": 0
      },
      "text/plain": [
       "GridBox(children=(Checkbox(value=False, description='<strong> Step </strong>11:'), HTMLMath(value='Save $Z$ sc…"
      ]
     },
     "metadata": {},
     "output_type": "display_data"
    },
    {
     "data": {
      "application/vnd.jupyter.widget-view+json": {
       "model_id": "8a31d93efad744599aef5d271af2ce10",
       "version_major": 2,
       "version_minor": 0
      },
      "text/plain": [
       "GridBox(children=(Checkbox(value=False, description='<strong> Step </strong>12:'), HTMLMath(value='Record the …"
      ]
     },
     "metadata": {},
     "output_type": "display_data"
    },
    {
     "data": {
      "application/vnd.jupyter.widget-view+json": {
       "model_id": "5208915e885c448c99f3187ac348902b",
       "version_major": 2,
       "version_minor": 0
      },
      "text/plain": [
       "Button(button_style='info', description='Finish!', style=ButtonStyle())"
      ]
     },
     "metadata": {},
     "output_type": "display_data"
    }
   ],
   "source": [
    "display(tag)\n",
    "\n",
    "#Displaying a checklist for to do list\n",
    "#https://stackoverflow.com/questions/41469554/python-jupyter-notebook-create-dynamic-checklist-user-input-that-runs-code\n",
    "\n",
    "alignment_guidance = ['Make sure the sample is centered on the stage (circular plate). If not, ask the XRD facility staff to reposition the sample.',\n",
    "            'In Manual Control, select $Z$ from the Axis list. Set up the slits to the following: Incident Slit $=0.5$ mm, Receiving Slit $1=0.7$ mm, Receiving Slit $2=0.7$ mm. Make sure to click on set to update the values in the H/W status window. These slit values were determined specifically for your lab experiment. The reduced intensity caused by the monochromator will be somewhat mitigated by larger slits (compared to the XRR experiment). Ask your supervisor for more information.',\n",
    "            'Make sure Automatic Attenuator is checked in the Scan Tab.',\n",
    "            'Perform an Absolute $Z$ scan by entering the following values [range = $-3$ to $0$ mm, step $= 0.02$ mm/step, speed$=4$ mm/min] and clicking on Scan to start. This is a coarse $Z$ scan done to locate our sample. <b><i>NOTE:</b> The units for the scan speed will actually be mm/min even though the template shows deg/min.',\n",
    "            'The scan should show a flat line, followed by a drop to zero once the beam crosses the sample. You can read off the $Z$ postion values by moving the cross hairs in the Display Area. Move the $Z$ position to the halfway point of this \"drop\" by entering the $Z$ value you read off in the Move box and clicking Move (i.e. when the incoming beam reaches half its intensity).',\n",
    "            'Select R$_y$ from the Axis List. Check the option Move to Peak.',\n",
    "            'Perform a R$_y$ scan [relative -$1$ to $1$, step$=0.01$ deg/step, speed$=4$ deg/min]. Again, make sure Automatic Attenuator is checked. The located peak will be labeled with a red X.',\n",
    "            'Now perform another $Z$ scan [Relative -$0.25$ to $0.25$, step$=0.002$ mm/step, speed$=2$ mm/min]. Make sure the option Relative is selected. Notice, your most recent scan will be colored RED. Again, move to the same \"halfway\" point',\n",
    "            'Save $Z$ scan by clicking on the save icon (\"floppy disk\"). Save in your netID directory in the following format: \"z_stb.ras\".',\n",
    "            'Record the Straight Through Beam Intensity (STB) in the $\\\\textbf{Important Parameters}$ section above. To find the STB, in the top of the screen select the chart tab. Click on Coordinate and place the cursor at the maximum value of your scan. It should be around ($5\\\\times 10^{7}$ cps)']\n",
    "\n",
    "\n",
    "# To do list containing all the steps for XRR on SmartLab Gen 2\n",
    "alignment_studio = ['Make sure the sample is centered on the stage (circular plate). If not, ask the XRD facility staff to reposition the sample.',\n",
    "            'In Pro Control, select $Z$ from the Axis list. Set up the slits to the following: IS$=0.5$ mm, RS$_1=0.7$ mm, RS$_2=0.7$ mm. Make sure to click on set to update the values in the H/W status window. These slit values were determined specifically for your lab experiment. The reduced intensity caused by the monochromator will be somewhat mitigated by larger slits (compared to the XRR experiment). Ask your supervisor for more information.',\n",
    "            'Make sure Automatic Attenuator is checked in the Scan Tab.',\n",
    "            'Perform an Absolute $Z$ scan by entering the following values [range = $-3$ to $0$ mm, step $= 0.02$ mm/step, speed$=4$ mm/min] and clicking on Scan to start. This is a coarse $Z$ scan done to locate our sample.',\n",
    "            'The scan should show a flat line, followed by a drop to zero once the beam crosses the sample. You can read off the $Z$ postion values by moving the cross hairs in the Display Area. Move the $Z$ position to the halfway point of this \"drop\" by entering the $Z$ value you read off in the Move box and clicking Move (i.e. when the incoming beam reaches half its intensity).',\n",
    "            'Select R$_y$ from the Axis List. Check the option Move to Peak in the Post scan Tab. There, click on the option $\\\\text{Set...}$ and select Full Width at Half Maximum Center (or Maxium Intensity) for Peak Search Method. Click $\\\\text{Ok}$.',\n",
    "            'Perform a R$_y$ scan [relative -$1$ to $1$, step$=0.01$ deg/step, speed$=4$ deg/min]. Again, make sure Automatic Attenuator is checked. The located peak will be shown with a RED point. We will continuously use this SmartLab feature throughout the lab.',\n",
    "            'Select the $Z$ tab and check the option Move to Peak in the Post scan Tab. There, click on the option $\\\\text{Set...}$ and select Edge Search for peak search method. Click $\\\\text{Ok}$.',\n",
    "            'Make sure Automatic Attenuator is checked in the Scan Tab.',\n",
    "            'Perform another $Z$ scan [Relative -$0.25$ to $0.25$, step$=0.002$ mm/step, speed$=2$ mm/min]. Make sure the option Relative is selected. Click on Scan to start. Notice, your most recent scan will be colored RED.',  \n",
    "            'Save $Z$ scan. Right click on your last $Z$ scan in Data Browser. Select $\\\\text{Export data}\\\\to\\\\text{to File}$ and save in your netID directory in the following format: \"z_stb.ras\". <i><b>NOTE: </b> Make sure to save the scan in the \"ras\" format, NOT \"rasx\". </i>',\n",
    "            'Record the Straight Through Beam Intensity (STB) in the $\\\\textbf{Important Parameters}$ section above. To find the STB, in the top of the screen select the chart tab. Click on Coordinate and place the cursor at the maximum value of your scan. It should be around ($5\\\\times 10^{7}$ cps)']\n",
    "\n",
    "if (machine_toggle_1.value):\n",
    "    step_list_alignment = alignment_guidance\n",
    "    print(\"Instructions for SmartLab Guidance\")\n",
    "else:\n",
    "    step_list_alignment = alignment_studio\n",
    "    print(\"Instructions for SmartLab Studio II\")\n",
    "\n",
    "checkbox_array_alignment= []\n",
    "for step in step_list_alignment:\n",
    "    step_index = str(step_list_alignment.index(step)+1)\n",
    "    checkbox = widgets.Checkbox(description = \"<strong> Step </strong>\"+step_index+\":\")\n",
    "    checkbox_array_alignment.append(checkbox)\n",
    "    #use HTMLMath widget to get text right\n",
    "    temp_step = widgets.HTMLMath(step)\n",
    "    #set up a GridBox to display properly\n",
    "    box = widgets.GridBox([checkbox, temp_step],layout=Layout(width='100%',\n",
    "            grid_template_columns='20% 80% ',\n",
    "            grid_template_areas='''\n",
    "            \"checkbox temp_step\"\n",
    "            '''))\n",
    "    display(box)\n",
    "    \n",
    "#create finish button that verifies all steps have been completed\n",
    "pb2 = widgets.Button(\n",
    "    description='Finish!',\n",
    "    disabled=False,\n",
    "    button_style='info', # 'success', 'info', 'warning', 'danger' or ''\n",
    ")\n",
    "    \n",
    "#defining what the button will do on clicking\n",
    "def on_button_clicked(b):\n",
    "    print(\"------------------------------------------------------------------------------------\")\n",
    "    print(\"clicked on: Finish!\")\n",
    "    steps_completed=0\n",
    "    for checkbox in checkbox_array_alignment:\n",
    "        if checkbox.value ==True:\n",
    "            steps_completed+=1\n",
    "            continue;\n",
    "        else:\n",
    "            print(\"You did not complete step \" + str(checkbox_array_alignment.index(checkbox)+1))\n",
    "            pb2.button_style='danger'\n",
    "    if steps_completed == len(checkbox_array_alignment):\n",
    "        print(\"You finished Sample Alignment. Good Job! Now we are ready to perform High Resolution X-ray Diffraction (HRXRD) on our sample.\")\n",
    "        pb2.button_style='success'\n",
    "        \n",
    "pb2.on_click(on_button_clicked)\n",
    "display(pb2)"
   ]
  },
  {
   "cell_type": "markdown",
   "metadata": {},
   "source": [
    "## 3. Performing HRXRD"
   ]
  },
  {
   "cell_type": "markdown",
   "metadata": {},
   "source": [
    "Before we perform the X-ray Diffraction experiment, we need to look a little more into the alignment of the diffractometer. \n",
    "\n",
    "Note down the $Z$ position of your aligned sample. We are going to move the sample out of the beam, perform a $2\\theta$ scan (<b>NOT</b> $2\\theta\\omega$ or $\\theta/ 2\\theta$) to see how are beam is aligned. The located peak position will tell us our true zero for all of our future $2\\theta\\omega$ scans. This number, should be subtracted from all measured peak values in $2\\theta\\omega$ scans to acquire the true peak position value. Note the slight offset of the center of the peak from zero in the example scan below."
   ]
  },
  {
   "cell_type": "code",
   "execution_count": 189,
   "metadata": {},
   "outputs": [
    {
     "data": {
      "text/html": [
       "<script>\n",
       "code_show=true; \n",
       "function code_toggle() {\n",
       "    if (code_show){\n",
       "        $('div.cell.code_cell.rendered.selected div.input').hide();\n",
       "    } else {\n",
       "        $('div.cell.code_cell.rendered.selected div.input').show();\n",
       "    }\n",
       "    code_show = !code_show\n",
       "} \n",
       "$( document ).ready(code_toggle);\n",
       "</script>\n",
       "(To show/hide this cell's raw code input, click <a href=\"javascript:code_toggle()\">here</a>.)"
      ],
      "text/plain": [
       "<IPython.core.display.HTML object>"
      ]
     },
     "metadata": {},
     "output_type": "display_data"
    },
    {
     "data": {
      "image/png": "[encoded data removed]",
      "text/plain": [
       "<Figure size 432x288 with 1 Axes>"
      ]
     },
     "metadata": {
      "needs_background": "light"
     },
     "output_type": "display_data"
    }
   ],
   "source": [
    "display(tag)\n",
    "df_2theta = pd.read_table('https://raw.githubusercontent.com/josephmccourt2018/lab_jupyter_notebooks/master/example/461_test/PLD50nmFe2O3_Al2O3/HRXRD_Lab/2th_stb.ras',sep = '\\s+',comment='*',names = [\"2TH\",\"Intensity\", \"attenuatation\"],header = None)\n",
    "plt.figure()\n",
    "plt.suptitle('Fig. 3:', fontsize=14, fontweight='bold')\n",
    "plt.title('Example $2\\\\theta$ Scan')\n",
    "plt.plot(df_2theta[df_2theta.columns[0]],df_2theta[df_2theta.columns[1]]*df_2theta[df_2theta.columns[2]])\n",
    "plt.yscale('log')\n",
    "plt.xlabel(\"$2\\\\theta$($^{\\circ}$)\")\n",
    "plt.ylabel(df_2theta.columns[1]+\" (counts)\")\n",
    "plt.show()"
   ]
  },
  {
   "cell_type": "markdown",
   "metadata": {},
   "source": [
    "To perform this scan, move the $Z$ position to $-3$ mm (to move the sample out of the way). Perform a relative $2\\theta$ scan from $-0.2$ to $0.2$ with a $0.02$ step size at $0.5$ degree per minute. Note down the value of the $2\\theta$ peak center position in the <b>Important Parameters</b> section above. You will need this value for your future analysis."
   ]
  },
  {
   "cell_type": "markdown",
   "metadata": {},
   "source": [
    "### Follow the instructions and put a check mark in each step as you advance. These steps are to measure the (006) diffraction peak of the film (Fe$_2$O$_3$) and to perform a rocking curve."
   ]
  },
  {
   "cell_type": "code",
   "execution_count": 190,
   "metadata": {
    "scrolled": false
   },
   "outputs": [
    {
     "data": {
      "text/html": [
       "<script>\n",
       "code_show=true; \n",
       "function code_toggle() {\n",
       "    if (code_show){\n",
       "        $('div.cell.code_cell.rendered.selected div.input').hide();\n",
       "    } else {\n",
       "        $('div.cell.code_cell.rendered.selected div.input').show();\n",
       "    }\n",
       "    code_show = !code_show\n",
       "} \n",
       "$( document ).ready(code_toggle);\n",
       "</script>\n",
       "(To show/hide this cell's raw code input, click <a href=\"javascript:code_toggle()\">here</a>.)"
      ],
      "text/plain": [
       "<IPython.core.display.HTML object>"
      ]
     },
     "metadata": {},
     "output_type": "display_data"
    },
    {
     "name": "stdout",
     "output_type": "stream",
     "text": [
      "Instructions for SmartLab Studio II\n"
     ]
    },
    {
     "data": {
      "application/vnd.jupyter.widget-view+json": {
       "model_id": "68a7502439f542e5a94a6b4c72a1f44b",
       "version_major": 2,
       "version_minor": 0
      },
      "text/plain": [
       "GridBox(children=(Checkbox(value=False, description='<strong> Step </strong>1:'), HTMLMath(value='We will perf…"
      ]
     },
     "metadata": {},
     "output_type": "display_data"
    },
    {
     "data": {
      "application/vnd.jupyter.widget-view+json": {
       "model_id": "b2df75e2b9bf4b39b1b653bd7c99be8f",
       "version_major": 2,
       "version_minor": 0
      },
      "text/plain": [
       "GridBox(children=(Checkbox(value=False, description='<strong> Step </strong>2:'), HTMLMath(value='Save the pre…"
      ]
     },
     "metadata": {},
     "output_type": "display_data"
    },
    {
     "data": {
      "application/vnd.jupyter.widget-view+json": {
       "model_id": "6e9f5dd66e7a4145807ca34dbc6e4860",
       "version_major": 2,
       "version_minor": 0
      },
      "text/plain": [
       "GridBox(children=(Checkbox(value=False, description='<strong> Step </strong>3:'), HTMLMath(value='Select the $…"
      ]
     },
     "metadata": {},
     "output_type": "display_data"
    },
    {
     "data": {
      "application/vnd.jupyter.widget-view+json": {
       "model_id": "6cdb35d66ed0406d81bbb2441c8e2028",
       "version_major": 2,
       "version_minor": 0
      },
      "text/plain": [
       "GridBox(children=(Checkbox(value=False, description='<strong> Step </strong>4:'), HTMLMath(value='Perform a  $…"
      ]
     },
     "metadata": {},
     "output_type": "display_data"
    },
    {
     "data": {
      "application/vnd.jupyter.widget-view+json": {
       "model_id": "f972c6f05860444590dff374ef15c5ee",
       "version_major": 2,
       "version_minor": 0
      },
      "text/plain": [
       "GridBox(children=(Checkbox(value=False, description='<strong> Step </strong>5:'), HTMLMath(value='Write in the…"
      ]
     },
     "metadata": {},
     "output_type": "display_data"
    },
    {
     "data": {
      "application/vnd.jupyter.widget-view+json": {
       "model_id": "33640dd127b642bd8b0c47ed2adc77dc",
       "version_major": 2,
       "version_minor": 0
      },
      "text/plain": [
       "GridBox(children=(Checkbox(value=False, description='<strong> Step </strong>6:'), HTMLMath(value='Select the $…"
      ]
     },
     "metadata": {},
     "output_type": "display_data"
    },
    {
     "data": {
      "application/vnd.jupyter.widget-view+json": {
       "model_id": "8bc149b2c68247b9b167d5adc1e3f9f6",
       "version_major": 2,
       "version_minor": 0
      },
      "text/plain": [
       "GridBox(children=(Checkbox(value=False, description='<strong> Step </strong>7:'), HTMLMath(value='Save $\\\\omeg…"
      ]
     },
     "metadata": {},
     "output_type": "display_data"
    },
    {
     "data": {
      "application/vnd.jupyter.widget-view+json": {
       "model_id": "6c95aa0018cf49b4a905256e95f3367d",
       "version_major": 2,
       "version_minor": 0
      },
      "text/plain": [
       "GridBox(children=(Checkbox(value=False, description='<strong> Step </strong>8:'), HTMLMath(value='Write in the…"
      ]
     },
     "metadata": {},
     "output_type": "display_data"
    },
    {
     "data": {
      "application/vnd.jupyter.widget-view+json": {
       "model_id": "e31f6dcc308f4e8590eab34a577f7f84",
       "version_major": 2,
       "version_minor": 0
      },
      "text/plain": [
       "GridBox(children=(Checkbox(value=False, description='<strong> Step </strong>9:'), HTMLMath(value='Select the $…"
      ]
     },
     "metadata": {},
     "output_type": "display_data"
    },
    {
     "data": {
      "application/vnd.jupyter.widget-view+json": {
       "model_id": "0ea9db56029a4c1d81a11de5146206f2",
       "version_major": 2,
       "version_minor": 0
      },
      "text/plain": [
       "GridBox(children=(Checkbox(value=False, description='<strong> Step </strong>10:'), HTMLMath(value='Perform a b…"
      ]
     },
     "metadata": {},
     "output_type": "display_data"
    },
    {
     "data": {
      "application/vnd.jupyter.widget-view+json": {
       "model_id": "6c99866ddfcb45f0867174e347a9f429",
       "version_major": 2,
       "version_minor": 0
      },
      "text/plain": [
       "GridBox(children=(Checkbox(value=False, description='<strong> Step </strong>11:'), HTMLMath(value='Save the tw…"
      ]
     },
     "metadata": {},
     "output_type": "display_data"
    },
    {
     "data": {
      "application/vnd.jupyter.widget-view+json": {
       "model_id": "1566916ab7e54d108d569268ecf50003",
       "version_major": 2,
       "version_minor": 0
      },
      "text/plain": [
       "Button(button_style='info', description='Finish!', style=ButtonStyle())"
      ]
     },
     "metadata": {},
     "output_type": "display_data"
    }
   ],
   "source": [
    "display(tag)\n",
    "#Displaying a checklist for to do list\n",
    "#https://stackoverflow.com/questions/41469554/python-jupyter-notebook-create-dynamic-checklist-user-input-that-runs-code\n",
    "\n",
    "step_list_film_guidance = ['We will perform a survey scan over $2\\\\theta\\omega$. Select the $2\\\\theta\\omega$ axis in Manual Control and perform an absolute scan from 35 to 45° with step size 0.02° at speed of 2°/minute. The units are in terms of 2$\\\\theta$.',\n",
    "                  'Save the previous scan into your netID directory in the following format: \"th2th_SURVEY.ras\".',\n",
    "            'Select the $2\\\\theta\\omega$ axis in Manual Control. Move to the Fe$_2$O$_3$ (006) or Pt (111) film peak. You should have seen this peak in your survey scan.',\n",
    "            'Perform a  $2\\\\theta\\omega$ scan. [Relative -1° to 1°, step = 0.01°/step, speed=1°/min]',\n",
    "            'Write in the <strong>Important Parameters</strong> section above:  FWHM, position, and intensity of the  Fe$_2$O$_3$ (006) or Pt(111)  Bragg Peak.',\n",
    "            'Select the $\\omega$ Axis  in Manual Control. Perform a omega scan [Relative -.5° to .5°, step=0.01°/step, speed=0.5°/min].',\n",
    "            'Save $\\omega$ scan. Right click on your last $\\omega$ scan in Data Browser. Select export, to File and save in your folder in following format: \"W_Fe2O3_006.ras\" or \"W_Pt111.ras\" This is known as the <strong>Rocking Curve</strong> of the film.',\n",
    "            'Write in the <strong>Important Parameters</strong> section above:  FWHM, position, and intensity of the rocking curve of Fe$_2$O$_3$ (006).',\n",
    "            'Select the $2\\\\theta\\omega$ axis  in Manual Control.  Click on the option Absolute. Perform a long $2\\\\theta\\omega$ scan. [Set the scan range to be 10x the FWHM of the film Bragg peak, speed=0.25°/min].  For the step size do approximately 1/10 of the FWHM of this peak (10 data points per peak is a good \"rule of thumb\").',\n",
    "            'Perform a background $2\\\\theta\\omega$ scan as well. Do you remember how to do this?',\n",
    "            'Save the two $2\\\\theta\\omega$ scans. \"th2th_HRXRD_Ridge.ras\" and \"th2th_HRXRD_Ridge_BKG.ras\" ']\n",
    "\n",
    "# To do list containing all the steps for HRXRD\n",
    "step_list_film_studio = ['We will perform a survey scan over $2\\\\theta\\omega$. Select the $2\\\\theta\\omega$ axis in Pro Control and perform an absolute scan from 35 to 45° with step size 0.02° at speed of 2°/minute. The units are in terms of 2$\\\\theta$.',\n",
    "                  'Save the previous scan into your netID directory in the following format: \"th2th_SURVEY.ras\".',\n",
    "            'Select the $2\\\\theta\\omega$ axis in Pro Control. Move to the Fe$_2$O$_3$ (006) or Pt (111) film peak. You should have seen this peak in your survey scan.',\n",
    "            'Perform a  $2\\\\theta\\omega$ scan. [Relative -1° to 1°, step = 0.01°/step, speed=1°/min]',\n",
    "            'Write in the <strong>Important Parameters</strong> section above:  FWHM, position, and intensity of the  Fe$_2$O$_3$ (006) or Pt(111)  Bragg Peak.',\n",
    "            'Select the $\\omega$ Axis  in Pro Control. Perform a omega scan [Relative -.5° to .5°, step=0.01°/step, speed=0.5°/min].',\n",
    "            'Save $\\omega$ scan. Right click on your last $\\omega$ scan in Data Browser. Select export, to File and save in your folder in following format: \"W_Fe2O3_006.ras\" or \"W_Pt111.ras\" This is known as the <strong>Rocking Curve</strong> of the film.',\n",
    "            'Write in the <strong>Important Parameters</strong> section above:  FWHM, position, and intensity of the rocking curve of Fe$_2$O$_3$ (006).',\n",
    "            'Select the $2\\\\theta\\omega$ axis  in Pro Control.  Click on the option Absolute. Perform a long $2\\\\theta\\omega$ scan. [Set the scan range to be 10x the FWHM of the film Bragg peak, speed=0.25°/min].  For the step size do approximately 1/10 of the FWHM of this peak (10 data points per peak is a good \"rule of thumb\").',\n",
    "            'Perform a background $2\\\\theta\\omega$ scan as well. Do you remember how to do this?',\n",
    "            'Save the two $2\\\\theta\\omega$ scans. \"th2th_HRXRD_Ridge.ras\" and \"th2th_HRXRD_Ridge_BKG.ras\" ']\n",
    "\n",
    "if (machine_toggle_1.value):\n",
    "    step_list_film = step_list_film_guidance\n",
    "    print(\"Instructions for SmartLab Guidance\")\n",
    "else:\n",
    "    step_list_film = step_list_film_studio\n",
    "    print(\"Instructions for SmartLab Studio II\")\n",
    "\n",
    "checkbox_array_film = []\n",
    "for step in step_list_film:\n",
    "    step_index = str(step_list_film.index(step)+1)\n",
    "    checkbox = widgets.Checkbox(description = \"<strong> Step </strong>\"+step_index+\":\")\n",
    "    checkbox_array_film.append(checkbox)\n",
    "    #use HTMLMath widget to get text right\n",
    "    temp_step = widgets.HTMLMath(step)\n",
    "    #set up a GridBox to display properly\n",
    "    box = widgets.GridBox([checkbox, temp_step],layout=Layout(width='100%',\n",
    "            grid_template_columns='20% 80% ',\n",
    "            grid_template_areas='''\n",
    "            \"checkbox temp_step\"\n",
    "            '''))\n",
    "    display(box)\n",
    "    \n",
    "#create finish button that verifies all steps have been completed\n",
    "pb3 = widgets.Button(\n",
    "    description='Finish!',\n",
    "    disabled=False,\n",
    "    button_style='info', # 'success', 'info', 'warning', 'danger' or ''\n",
    ")\n",
    "#defining what the button will do on clicking\n",
    "def on_button_clicked(b):\n",
    "    print(\"------------------------------------------------------------------------------------\")\n",
    "    print(\"clicked on: Finish!\")\n",
    "    steps_completed=0\n",
    "    for checkbox in checkbox_array_film:\n",
    "        if checkbox.value ==True:\n",
    "            steps_completed+=1\n",
    "            continue;\n",
    "        else:\n",
    "            print(\"You did not complete step \" + str(checkbox_array_film.index(checkbox)+1))\n",
    "            pb3.button_style='danger'\n",
    "    if steps_completed == len(checkbox_array_film):\n",
    "        print(\"You completed all the steps. Nice job!\")\n",
    "        pb3.button_style='success'\n",
    "        \n",
    "pb3.on_click(on_button_clicked)\n",
    "display(pb3)"
   ]
  },
  {
   "cell_type": "markdown",
   "metadata": {},
   "source": [
    "Here is an example scan over $2\\theta\\omega$ that shows peaks due to the film and substrate:"
   ]
  },
  {
   "cell_type": "code",
   "execution_count": 191,
   "metadata": {},
   "outputs": [
    {
     "data": {
      "text/html": [
       "<script>\n",
       "code_show=true; \n",
       "function code_toggle() {\n",
       "    if (code_show){\n",
       "        $('div.cell.code_cell.rendered.selected div.input').hide();\n",
       "    } else {\n",
       "        $('div.cell.code_cell.rendered.selected div.input').show();\n",
       "    }\n",
       "    code_show = !code_show\n",
       "} \n",
       "$( document ).ready(code_toggle);\n",
       "</script>\n",
       "(To show/hide this cell's raw code input, click <a href=\"javascript:code_toggle()\">here</a>.)"
      ],
      "text/plain": [
       "<IPython.core.display.HTML object>"
      ]
     },
     "metadata": {},
     "output_type": "display_data"
    },
    {
     "data": {
      "image/png": "[encoded data removed]",
      "text/plain": [
       "<Figure size 432x288 with 1 Axes>"
      ]
     },
     "metadata": {
      "needs_background": "light"
     },
     "output_type": "display_data"
    }
   ],
   "source": [
    "display(tag)\n",
    "df_surv = pd.read_table('example/461_test/PLD50nmFe2O3_Al2O3/HRXRD_Lab/2thW_both_006.ras',sep = '\\s+',comment='*',names = [\"2TH\",\"Intensity\", \"attenuatation\"],header = None)\n",
    "plt.figure()\n",
    "plt.suptitle('Fig. 4:', fontsize=14, fontweight='bold')\n",
    "plt.title('Example $2\\\\theta\\omega$ scan')\n",
    "plt.plot(df_surv[df_surv.columns[0]],df_surv[df_surv.columns[1]]*df_surv[df_surv.columns[2]]/2.4)\n",
    "#2.4 is seconds per point based on scan speed and step size\n",
    "plt.yscale('log')\n",
    "plt.xlabel(\"2$\\\\theta$($^{\\circ}$)\")\n",
    "plt.ylabel(df_surv.columns[1]+\" (cps)\")\n",
    "plt.show()\n",
    "\n",
    "#scan speed 0.5 deg/min, 0.02 step"
   ]
  },
  {
   "cell_type": "markdown",
   "metadata": {},
   "source": [
    "<div class=\"alert alert-block alert-info\">\n",
    "    <strong> Think about it... </strong>\n",
    "    \n",
    "   As stated in the introduction, the single crystal domain size of the film can be determined by the film Bragg peak. Does this value make sense based on your Lab 1 XRR measurement for the thickness of your film?\n",
    "</div>"
   ]
  },
  {
   "cell_type": "markdown",
   "metadata": {},
   "source": [
    "In addition, your rocking curve for the film should look similar to the following:"
   ]
  },
  {
   "cell_type": "code",
   "execution_count": 192,
   "metadata": {},
   "outputs": [
    {
     "data": {
      "text/html": [
       "<script>\n",
       "code_show=true; \n",
       "function code_toggle() {\n",
       "    if (code_show){\n",
       "        $('div.cell.code_cell.rendered.selected div.input').hide();\n",
       "    } else {\n",
       "        $('div.cell.code_cell.rendered.selected div.input').show();\n",
       "    }\n",
       "    code_show = !code_show\n",
       "} \n",
       "$( document ).ready(code_toggle);\n",
       "</script>\n",
       "(To show/hide this cell's raw code input, click <a href=\"javascript:code_toggle()\">here</a>.)"
      ],
      "text/plain": [
       "<IPython.core.display.HTML object>"
      ]
     },
     "metadata": {},
     "output_type": "display_data"
    },
    {
     "data": {
      "image/png": "[encoded data removed]",
      "text/plain": [
       "<Figure size 432x288 with 1 Axes>"
      ]
     },
     "metadata": {
      "needs_background": "light"
     },
     "output_type": "display_data"
    }
   ],
   "source": [
    "display(tag)\n",
    "df_omega_film = pd.read_table('example/461_test/PLD50nmFe2O3_Al2O3/HRXRD_Lab/Ry_Fe2O3_006.ras',sep = '\\s+',comment='*',names = [\"2TH\",\"Intensity\", \"attenuatation\"],header = None)\n",
    "plt.figure()\n",
    "plt.suptitle('Fig. 5:', fontsize=14, fontweight='bold')\n",
    "plt.title('Example Rocking Curve for Film')\n",
    "plt.plot(df_omega_film[df_omega_film.columns[0]],df_omega_film[df_omega_film.columns[1]]*df_omega_film[df_omega_film.columns[2]])\n",
    "plt.yscale('log')\n",
    "plt.xlabel(\"R$_y$($^{\\circ}$)\")\n",
    "plt.ylabel(df_omega_film.columns[1]+\" (counts)\")\n",
    "plt.show()"
   ]
  },
  {
   "cell_type": "markdown",
   "metadata": {},
   "source": [
    "<div class=\"alert alert-block alert-info\">\n",
    "    <strong> Think about it... </strong>\n",
    "    \n",
    "   Note that the $x$-axis in the example rocking curve is labelled R$_y$. However, you performed an $\\omega$ scan so your $x$-axis would be $\\omega$. Explain this discrepancy based on the geometry of the diffractometer.\n",
    "</div>"
   ]
  },
  {
   "cell_type": "markdown",
   "metadata": {},
   "source": [
    "### Follow the instructions and put a check mark in each step as you advance. These steps are to measure the (006) diffraction peak of the substrate (Al$_2$O$_3$) and to perform a rocking curve."
   ]
  },
  {
   "cell_type": "code",
   "execution_count": 193,
   "metadata": {},
   "outputs": [
    {
     "data": {
      "text/html": [
       "<script>\n",
       "code_show=true; \n",
       "function code_toggle() {\n",
       "    if (code_show){\n",
       "        $('div.cell.code_cell.rendered.selected div.input').hide();\n",
       "    } else {\n",
       "        $('div.cell.code_cell.rendered.selected div.input').show();\n",
       "    }\n",
       "    code_show = !code_show\n",
       "} \n",
       "$( document ).ready(code_toggle);\n",
       "</script>\n",
       "(To show/hide this cell's raw code input, click <a href=\"javascript:code_toggle()\">here</a>.)"
      ],
      "text/plain": [
       "<IPython.core.display.HTML object>"
      ]
     },
     "metadata": {},
     "output_type": "display_data"
    },
    {
     "name": "stdout",
     "output_type": "stream",
     "text": [
      "Instructions for SmartLab Studio II\n"
     ]
    },
    {
     "data": {
      "application/vnd.jupyter.widget-view+json": {
       "model_id": "c16ab325f2c44f1ca551c31215480de3",
       "version_major": 2,
       "version_minor": 0
      },
      "text/plain": [
       "GridBox(children=(Checkbox(value=False, description='<strong> Step </strong>1:'), HTMLMath(value='Select the $…"
      ]
     },
     "metadata": {},
     "output_type": "display_data"
    },
    {
     "data": {
      "application/vnd.jupyter.widget-view+json": {
       "model_id": "9b9e3a2ac8444ac68ad3d4a4ca0c1f8f",
       "version_major": 2,
       "version_minor": 0
      },
      "text/plain": [
       "GridBox(children=(Checkbox(value=False, description='<strong> Step </strong>2:'), HTMLMath(value='Select the $…"
      ]
     },
     "metadata": {},
     "output_type": "display_data"
    },
    {
     "data": {
      "application/vnd.jupyter.widget-view+json": {
       "model_id": "d7caba767d4e48078a1650d54ee9d257",
       "version_major": 2,
       "version_minor": 0
      },
      "text/plain": [
       "GridBox(children=(Checkbox(value=False, description='<strong> Step </strong>3:'), HTMLMath(value='Do an $\\\\ome…"
      ]
     },
     "metadata": {},
     "output_type": "display_data"
    },
    {
     "data": {
      "application/vnd.jupyter.widget-view+json": {
       "model_id": "9447311d9277434aa5c36d60fa2aaa9a",
       "version_major": 2,
       "version_minor": 0
      },
      "text/plain": [
       "GridBox(children=(Checkbox(value=False, description='<strong> Step </strong>4:'), HTMLMath(value='Select the R…"
      ]
     },
     "metadata": {},
     "output_type": "display_data"
    },
    {
     "data": {
      "application/vnd.jupyter.widget-view+json": {
       "model_id": "55bf2a8a8e2e48a9985c3497afb46a35",
       "version_major": 2,
       "version_minor": 0
      },
      "text/plain": [
       "GridBox(children=(Checkbox(value=False, description='<strong> Step </strong>5:'), HTMLMath(value='Do an R$_x$ …"
      ]
     },
     "metadata": {},
     "output_type": "display_data"
    },
    {
     "data": {
      "application/vnd.jupyter.widget-view+json": {
       "model_id": "a63da6aa23de481085efb6e2b2b8872f",
       "version_major": 2,
       "version_minor": 0
      },
      "text/plain": [
       "GridBox(children=(Checkbox(value=False, description='<strong> Step </strong>6:'), HTMLMath(value='Repeat $\\\\om…"
      ]
     },
     "metadata": {},
     "output_type": "display_data"
    },
    {
     "data": {
      "application/vnd.jupyter.widget-view+json": {
       "model_id": "0bf8b54abb18432f83697e6c678d1a57",
       "version_major": 2,
       "version_minor": 0
      },
      "text/plain": [
       "GridBox(children=(Checkbox(value=False, description='<strong> Step </strong>7:'), HTMLMath(value='Save $\\\\omeg…"
      ]
     },
     "metadata": {},
     "output_type": "display_data"
    },
    {
     "data": {
      "application/vnd.jupyter.widget-view+json": {
       "model_id": "62b580045b45457e9868ec00413dba46",
       "version_major": 2,
       "version_minor": 0
      },
      "text/plain": [
       "GridBox(children=(Checkbox(value=False, description='<strong> Step </strong>8:'), HTMLMath(value='Write in the…"
      ]
     },
     "metadata": {},
     "output_type": "display_data"
    },
    {
     "data": {
      "application/vnd.jupyter.widget-view+json": {
       "model_id": "846f76a9bcba4651a7460c8acb90bbed",
       "version_major": 2,
       "version_minor": 0
      },
      "text/plain": [
       "GridBox(children=(Checkbox(value=False, description='<strong> Step </strong>9:'), HTMLMath(value='Select the $…"
      ]
     },
     "metadata": {},
     "output_type": "display_data"
    },
    {
     "data": {
      "application/vnd.jupyter.widget-view+json": {
       "model_id": "c5229a48da5b4cc69204fc2c9e432f69",
       "version_major": 2,
       "version_minor": 0
      },
      "text/plain": [
       "GridBox(children=(Checkbox(value=False, description='<strong> Step </strong>10:'), HTMLMath(value='Save $2\\\\th…"
      ]
     },
     "metadata": {},
     "output_type": "display_data"
    },
    {
     "data": {
      "application/vnd.jupyter.widget-view+json": {
       "model_id": "61bfad1407444d77948f5057c3494bea",
       "version_major": 2,
       "version_minor": 0
      },
      "text/plain": [
       "GridBox(children=(Checkbox(value=False, description='<strong> Step </strong>11:'), HTMLMath(value='Write in th…"
      ]
     },
     "metadata": {},
     "output_type": "display_data"
    },
    {
     "data": {
      "application/vnd.jupyter.widget-view+json": {
       "model_id": "0cb5c1720a6d4886ae7ab0d33ba51826",
       "version_major": 2,
       "version_minor": 0
      },
      "text/plain": [
       "Button(button_style='info', description='Finish!', style=ButtonStyle())"
      ]
     },
     "metadata": {},
     "output_type": "display_data"
    }
   ],
   "source": [
    "display(tag)\n",
    "#Displaying a checklist for to do list\n",
    "#https://stackoverflow.com/questions/41469554/python-jupyter-notebook-create-dynamic-checklist-user-input-that-runs-code\n",
    "\n",
    "step_list_sub_guidance = ['Select the $2\\\\theta\\omega$ axis  in Manual Control. Move to the substrate peak you should have seen in your survey scan.',\n",
    "            'Select the $\\omega$ axis in Manual Control. Check the option Move to Peak. Make sure Automatic Attenuator is on.',\n",
    "            'Do an $\\omega$ scan [Relative -.10 to .10, step=0.0006 deg/step, speed=.6 deg/min].',\n",
    "            'Select the R$_x$ axis in Manual Control.  Make sure Automatic Attenuator is on.',\n",
    "            'Do an R$_x$ scan [Relative -1 to 1, step=0.05 deg/step, speed=4 deg/min]. Make sure Move to Peak is checked off. Here, you are optimizing the intensity by rotating the sample in an axis $90^{\\circ}$ off of the R$_y$ axis. We will now perform another $\\omega$ scan to see the effects of aligning R$_x$.',\n",
    "            'Repeat $\\omega$ scan [Relative -.05 to .05, step=0.0006 deg/step, speed=.1 deg/min].',\n",
    "            'Save the $\\omega$ scan in your folder in following format: \"W_Al2O3_006.ras\" This is known as the <strong>Rocking Curve</strong> of the substrate.',\n",
    "            'Write in the <strong>Important Parameters</strong> section above:  FWHM, position, and intensity of the rocking curve of Al$_2$O$_3$ (006). The FWHM is the resolution of the equipment in the $\\omega$ direction. You can find this information in the Smartlab software Data Browser.',\n",
    "            'Select the $2\\\\theta\\omega$ axis. Perform a $2\\\\theta\\omega$ scan [Relative -.10 to .10, step=0.0008 deg/step, speed=0.4 deg/min].',\n",
    "            'Save $2\\\\theta\\omega$ scan in your folder in following format: \"2TW_Al2O3_006.ras\"',\n",
    "            'Write in the <strong>Important Parameters</strong>  section above:  FWHM, position, and intensity of the Al$_2$O$_3$ (006) Bragg Peak. The FWHM is the resolution of the equipment in the $2\\\\theta\\omega$ direction.']\n",
    "\n",
    "\n",
    "# To do list containing all the steps for HRXRD\n",
    "step_list_sub_studio = ['Select the $2\\\\theta\\omega$ axis  in Pro Control. Move to the substrate peak you should have seen in your survey scan.',\n",
    "            'Select the $\\omega$ axis in Pro Control. Check the option Move to Peak and in Set, select FWHM Center for Peak Search Method. Make sure Automatic Attenuator is on.',\n",
    "            'Do an $\\omega$ scan [Relative -.10 to .10, step=0.0006 deg/step, speed=.6 deg/min].',\n",
    "            'Select the R$_x$ axis in Pro Control.  Make sure Automatic Attenuator is on.',\n",
    "            'Do an R$_x$ scan [Relative -1 to 1, step=0.05 deg/step, speed=4 deg/min]. Check that Move to Peak is set correctly. Here, you are optimizing the intensity by rotating the sample in an axis $90^{\\circ}$ off of the R$_y$ axis. We will now perform another $\\omega$ scan to see the effects of aligning R$_x$.',\n",
    "            'Repeat $\\omega$ scan [Relative -.05 to .05, step=0.0006 deg/step, speed=.1 deg/min].',\n",
    "            'Save $\\omega$ scan. Right click on your last $\\omega$ scan in Data Browser. Select export, to File and save in your folder in following format: \"W_Al2O3_006.ras\" This is known as the <strong>Rocking Curve</strong> of the substrate.',\n",
    "            'Write in the <strong>Important Parameters</strong> section above:  FWHM, position, and intensity of the rocking curve of Al$_2$O$_3$ (006). The FWHM is the resolution of the equipment in the $\\omega$ direction. You can find this information in the Smartlab software Data Browser.',\n",
    "            'Select the $2\\\\theta\\omega$ axis. Perform a $2\\\\theta\\omega$ scan [Relative -.10 to .10, step=0.0008 deg/step, speed=0.4 deg/min].',\n",
    "            'Save $2\\\\theta\\omega$ scan. Right click on your last $2\\\\theta\\omega$ scan in Data Browser. Select export, to File and save in your folder in following format: \"2TW_Al2O3_006.ras\"',\n",
    "            'Write in the <strong>Important Parameters</strong>  section above:  FWHM, position, and intensity of the Al$_2$O$_3$ (006) Bragg Peak. The FWHM is the resolution of the equipment in the $2\\\\theta\\omega$ direction.']\n",
    "\n",
    "if (machine_toggle_1.value):\n",
    "    step_list_sub = step_list_sub_guidance\n",
    "    print(\"Instructions for SmartLab Guidance\")\n",
    "else:\n",
    "    step_list_sub = step_list_sub_studio\n",
    "    print(\"Instructions for SmartLab Studio II\")\n",
    "\n",
    "checkbox_array_sub = []\n",
    "for step in step_list_sub:\n",
    "    step_index = str(step_list_sub.index(step)+1)\n",
    "    checkbox = widgets.Checkbox(description = \"<strong> Step </strong>\"+step_index+\":\")\n",
    "    checkbox_array_sub.append(checkbox)\n",
    "    #use HTMLMath widget to get text right\n",
    "    temp_step = widgets.HTMLMath(step)\n",
    "    #set up a GridBox to display properly\n",
    "    box = widgets.GridBox([checkbox, temp_step],layout=Layout(width='100%',\n",
    "            grid_template_columns='20% 80% ',\n",
    "            grid_template_areas='''\n",
    "            \"checkbox temp_step\"\n",
    "            '''))\n",
    "    display(box)\n",
    "    \n",
    "#create finish button that verifies all steps have been completed\n",
    "pb4 = widgets.Button(\n",
    "    description='Finish!',\n",
    "    disabled=False,\n",
    "    button_style='info', # 'success', 'info', 'warning', 'danger' or ''\n",
    ")\n",
    "#defining what the button will do on clicking\n",
    "def on_button_clicked(b):\n",
    "    print(\"------------------------------------------------------------------------------------\")\n",
    "    print(\"clicked on: Finish!\")\n",
    "    steps_completed=0\n",
    "    for checkbox in checkbox_array_sub:\n",
    "        if checkbox.value ==True:\n",
    "            steps_completed+=1\n",
    "            continue;\n",
    "        else:\n",
    "            print(\"You did not complete step \" + str(checkbox_array_sub.index(checkbox)+1))\n",
    "            pb4.button_style='danger'\n",
    "    if steps_completed == len(checkbox_array_sub):\n",
    "        print(\"You completed all the steps. Nice job!\")\n",
    "        pb4.button_style='success'\n",
    "        \n",
    "pb4.on_click(on_button_clicked)\n",
    "display(pb4)"
   ]
  },
  {
   "cell_type": "markdown",
   "metadata": {},
   "source": [
    "Here is an example rocking curve scan for the substrate:"
   ]
  },
  {
   "cell_type": "code",
   "execution_count": 194,
   "metadata": {},
   "outputs": [
    {
     "data": {
      "text/html": [
       "<script>\n",
       "code_show=true; \n",
       "function code_toggle() {\n",
       "    if (code_show){\n",
       "        $('div.cell.code_cell.rendered.selected div.input').hide();\n",
       "    } else {\n",
       "        $('div.cell.code_cell.rendered.selected div.input').show();\n",
       "    }\n",
       "    code_show = !code_show\n",
       "} \n",
       "$( document ).ready(code_toggle);\n",
       "</script>\n",
       "(To show/hide this cell's raw code input, click <a href=\"javascript:code_toggle()\">here</a>.)"
      ],
      "text/plain": [
       "<IPython.core.display.HTML object>"
      ]
     },
     "metadata": {},
     "output_type": "display_data"
    },
    {
     "data": {
      "image/png": "[encoded data removed]",
      "text/plain": [
       "<Figure size 432x288 with 1 Axes>"
      ]
     },
     "metadata": {
      "needs_background": "light"
     },
     "output_type": "display_data"
    }
   ],
   "source": [
    "display(tag)\n",
    "df_omega_sub = pd.read_table('https://raw.githubusercontent.com/josephmccourt2018/lab_jupyter_notebooks/master/example/461_test/PLD50nmFe2O3_Al2O3/HRXRD_Lab/W_Al2O3_006v2.ras',sep = '\\s+',comment='*',names = [\"2TH\",\"Intensity\", \"attenuatation\"],header = None)\n",
    "plt.figure()\n",
    "plt.suptitle('Fig. 6:', fontsize=14, fontweight='bold')\n",
    "plt.title('Example $\\omega$ Scan for Substrate')\n",
    "plt.plot(df_omega_sub[df_omega_sub.columns[0]],df_omega_sub[df_omega_sub.columns[1]]*df_omega_sub[df_omega_sub.columns[2]])\n",
    "plt.yscale('log')\n",
    "plt.xlabel(\"$\\omega$($^{\\circ}$)\")\n",
    "plt.ylabel(df_omega_sub.columns[1]+\" (counts)\")\n",
    "plt.show()\n"
   ]
  },
  {
   "cell_type": "markdown",
   "metadata": {},
   "source": [
    "## _If you have time..._\n",
    "\n",
    "If you complete this part of the lab with time to spare, you may wish to test your understanding of the experiment by looking at the second order Bragg peaks of your film and substrate (e.g. the (00(12)) peak of $\\text{Fe}_2\\text{O}_3$). Calculate where you would theoretically expect to find these peaks based on the crystal structure and perform the same experiment described above. It will be harder to see the second order film peak for $\\text{Fe}_2\\text{O}_3$ than $\\text{Pt}$. Here is an example second order peak $2\\theta\\omega$ scan done for $\\text{Fe}_2\\text{O}_3$:"
   ]
  },
  {
   "cell_type": "code",
   "execution_count": 195,
   "metadata": {},
   "outputs": [
    {
     "data": {
      "text/html": [
       "<script>\n",
       "code_show=true; \n",
       "function code_toggle() {\n",
       "    if (code_show){\n",
       "        $('div.cell.code_cell.rendered.selected div.input').hide();\n",
       "    } else {\n",
       "        $('div.cell.code_cell.rendered.selected div.input').show();\n",
       "    }\n",
       "    code_show = !code_show\n",
       "} \n",
       "$( document ).ready(code_toggle);\n",
       "</script>\n",
       "(To show/hide this cell's raw code input, click <a href=\"javascript:code_toggle()\">here</a>.)"
      ],
      "text/plain": [
       "<IPython.core.display.HTML object>"
      ]
     },
     "metadata": {},
     "output_type": "display_data"
    },
    {
     "data": {
      "image/png": "[encoded data removed]",
      "text/plain": [
       "<Figure size 432x288 with 1 Axes>"
      ]
     },
     "metadata": {
      "needs_background": "light"
     },
     "output_type": "display_data"
    }
   ],
   "source": [
    "display(tag)\n",
    "df_2tw_2 = pd.read_table('https://raw.githubusercontent.com/josephmccourt2018/lab_jupyter_notebooks/master/example/461_test/PLD50nmFe2O3_Al2O3/HRXRD_Lab/2thW_both_0012.ras',sep = '\\s+',comment='*',names = [\"2TH\",\"Intensity\", \"attenuatation\"],header = None)\n",
    "plt.figure()\n",
    "plt.suptitle('Fig. 7:', fontsize=14, fontweight='bold')\n",
    "plt.title('Example $2\\\\theta\\omega$ Scan for Second Order Peaks')\n",
    "plt.plot(df_2tw_2[df_2tw_2.columns[0]],df_2tw_2[df_2tw_2.columns[1]]*df_2tw_2[df_2tw_2.columns[2]])\n",
    "plt.yscale('log')\n",
    "plt.xlabel(\"$2\\\\theta\\omega$($^{\\circ}$)\")\n",
    "plt.ylabel(df_2tw_2.columns[1]+\" (counts)\")\n",
    "plt.show()"
   ]
  },
  {
   "cell_type": "markdown",
   "metadata": {},
   "source": [
    "# 4. Finishing Measurement\n",
    "\n",
    "Congratulations on performing an HRXRD experiment. It is now time to complete some final steps. Always leave the Smartlab in the same state as it was before you began your experiment (e.g. X-ray source turned off, software closed, etc.).\n",
    "\n",
    "### Follow the instructions and put a check mark in each step as you advance.\n",
    "\n",
    "The following experiment will be performed in the *Pro/Manual Control* window of Smartlab Studio 2 software."
   ]
  },
  {
   "cell_type": "code",
   "execution_count": 196,
   "metadata": {},
   "outputs": [
    {
     "data": {
      "text/html": [
       "<script>\n",
       "code_show=true; \n",
       "function code_toggle() {\n",
       "    if (code_show){\n",
       "        $('div.cell.code_cell.rendered.selected div.input').hide();\n",
       "    } else {\n",
       "        $('div.cell.code_cell.rendered.selected div.input').show();\n",
       "    }\n",
       "    code_show = !code_show\n",
       "} \n",
       "$( document ).ready(code_toggle);\n",
       "</script>\n",
       "(To show/hide this cell's raw code input, click <a href=\"javascript:code_toggle()\">here</a>.)"
      ],
      "text/plain": [
       "<IPython.core.display.HTML object>"
      ]
     },
     "metadata": {},
     "output_type": "display_data"
    },
    {
     "data": {
      "application/vnd.jupyter.widget-view+json": {
       "model_id": "e25a6d5b9b4a4cde8f8a283af8e40a3f",
       "version_major": 2,
       "version_minor": 0
      },
      "text/plain": [
       "GridBox(children=(Checkbox(value=False, description='<strong> Step </strong>1:'), HTMLMath(value='Make sure th…"
      ]
     },
     "metadata": {},
     "output_type": "display_data"
    },
    {
     "data": {
      "application/vnd.jupyter.widget-view+json": {
       "model_id": "888553a6c5744b1495ee8c7c031275c5",
       "version_major": 2,
       "version_minor": 0
      },
      "text/plain": [
       "GridBox(children=(Checkbox(value=False, description='<strong> Step </strong>2:'), HTMLMath(value='Open XG Cont…"
      ]
     },
     "metadata": {},
     "output_type": "display_data"
    },
    {
     "data": {
      "application/vnd.jupyter.widget-view+json": {
       "model_id": "e31c743ffd4549f5a3da91ff9385e43b",
       "version_major": 2,
       "version_minor": 0
      },
      "text/plain": [
       "GridBox(children=(Checkbox(value=False, description='<strong> Step </strong>3:'), HTMLMath(value='Turn Off the…"
      ]
     },
     "metadata": {},
     "output_type": "display_data"
    },
    {
     "data": {
      "application/vnd.jupyter.widget-view+json": {
       "model_id": "48a054e320b94d6981f86edd2ca315d2",
       "version_major": 2,
       "version_minor": 0
      },
      "text/plain": [
       "GridBox(children=(Checkbox(value=False, description='<strong> Step </strong>4:'), HTMLMath(value='In the Data …"
      ]
     },
     "metadata": {},
     "output_type": "display_data"
    },
    {
     "data": {
      "application/vnd.jupyter.widget-view+json": {
       "model_id": "3d3c6032f4dc4bb1998ba54feb3f9eea",
       "version_major": 2,
       "version_minor": 0
      },
      "text/plain": [
       "Button(button_style='info', description='Finish!', style=ButtonStyle())"
      ]
     },
     "metadata": {},
     "output_type": "display_data"
    }
   ],
   "source": [
    "display(tag)\n",
    "\n",
    "#Displaying a checklist for to do list\n",
    "#https://stackoverflow.com/questions/41469554/python-jupyter-notebook-create-dynamic-checklist-user-input-that-runs-code\n",
    "\n",
    "\n",
    "# To do list containing all the steps for XRR on SmartLab (Gen 3? or Gen 2? the latest one)\n",
    "step_list_finish = ['Make sure the following motors are set to zero in the H/W Status Tab: $2\\\\theta$, $\\omega$, $2\\\\theta\\chi$, $\\chi$, $\\phi$, R$_x$, R$_y$. If not, open the tab for the specific motor in Pro/Manual Control, put zero and click on Move.',\n",
    "            'Open XG Control.',\n",
    "            'Turn Off the X-Ray by clicking the Off button. There is no need to set the voltage or current to any value.',\n",
    "            'In the Data Browser Window, delete all your scans so next user can start with a clean workspace. Make sure you have all the necessary scans saved.']\n",
    "checkbox_array_finish = []\n",
    "for step in step_list_finish:\n",
    "    step_index = str(step_list_finish.index(step)+1)\n",
    "    checkbox = widgets.Checkbox(description = \"<strong> Step </strong>\"+step_index+\":\")\n",
    "    checkbox_array_finish.append(checkbox)\n",
    "    #use HTMLMath widget to get text right\n",
    "    temp_step = widgets.HTMLMath(step)\n",
    "    #set up a GridBox to display properly\n",
    "    box = widgets.GridBox([checkbox, temp_step],layout=Layout(width='100%',\n",
    "            grid_template_columns='20% 80% ',\n",
    "            grid_template_areas='''\n",
    "            \"checkbox temp_step\"\n",
    "            '''))\n",
    "    display(box)\n",
    "    \n",
    "#create finish button that verifies all steps have been completed\n",
    "pb5 = widgets.Button(\n",
    "    description='Finish!',\n",
    "    disabled=False,\n",
    "    button_style='info', # 'success', 'info', 'warning', 'danger' or ''\n",
    ")\n",
    "#defining what the button will do on clicking\n",
    "def on_button_clicked(b):\n",
    "    print(\"------------------------------------------------------------------------------------\")\n",
    "    print(\"clicked on: Finish!\")\n",
    "    steps_completed=0\n",
    "    for checkbox in checkbox_array_finish:\n",
    "        if checkbox.value ==True:\n",
    "            steps_completed+=1\n",
    "            continue;\n",
    "        else:\n",
    "            print(\"You did not complete step \" + str(checkbox_array_finish.index(checkbox)+1))\n",
    "            pb5.button_style='danger'\n",
    "    if steps_completed == len(checkbox_array_finish):\n",
    "        print(\"You are all set!\")\n",
    "        print(\"Please let us know if anything can be improved.\") \n",
    "        pb5.button_style='success'\n",
    "        \n",
    "pb5.on_click(on_button_clicked)\n",
    "display(pb5)"
   ]
  },
  {
   "cell_type": "markdown",
   "metadata": {},
   "source": [
    "## Summary of the Labs So Far\n",
    "\n",
    "**Lab 1 XRR**: Investigating the thickness, roughness, and electron densities of our film and substrate.\n",
    "\n",
    "**Lab 2 HRXRD Specular**: Determining the out of plane lattice constant for the film and looking at the mosaicity of the film.\n",
    "\n",
    "**_(Upcoming)_ Lab 3 HRXRD Off Specular**: We will determine the in plane order of of the film and figuring out whether or not the film is *textured* (textured implies there is no preferred in plane orientation of the film)"
   ]
  },
  {
   "cell_type": "markdown",
   "metadata": {},
   "source": [
    "# Questions\n",
    "\n",
    "- There is an example $2\\theta$ flat top scan to determine the offset of the alignment. However, if we just move $2\\theta$ to zero (which is within the flattop peak), would it make a difference to perform the scan at the true center of the flat top? I think we should talk about this a bit more as I feel I might be missing something.\n",
    "- In the description part of the experiment, it mentions $2\\theta\\omega$ scans and a description. I think it would be wise for you to go through this and make sure this is talking about $2\\theta\\omega$ scans and NOT $\\theta/2\\theta$ scans. We should also mention why we are performing $2\\theta\\omega$ scans in this lab instead of $\\theta/2\\theta$ scans.\n",
    "- Would you like to mention information about the miscut alignment that will be done beforehand? Or just not mention information regarding the miscut...\n",
    "- Are we still having the students perform preliminary work done with crystal maker? "
   ]
  }
 ],
 "metadata": {
  "kernelspec": {
   "display_name": "Python 3",
   "language": "python",
   "name": "python3"
  },
  "language_info": {
   "codemirror_mode": {
    "name": "ipython",
    "version": 3
   },
   "file_extension": ".py",
   "mimetype": "text/x-python",
   "name": "python",
   "nbconvert_exporter": "python",
   "pygments_lexer": "ipython3",
   "version": "3.7.3"
  }
 },
 "nbformat": 4,
 "nbformat_minor": 2
}
