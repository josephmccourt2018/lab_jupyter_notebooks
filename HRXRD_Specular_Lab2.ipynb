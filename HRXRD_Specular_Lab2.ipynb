{
 "cells": [
  {
   "cell_type": "markdown",
   "metadata": {},
   "source": [
    "&copy; Bedzyk Research Group 2020, Northwestern University"
   ]
  },
  {
   "cell_type": "markdown",
   "metadata": {},
   "source": [
    "<div class=\"alert alert-block alert-warning\">\n",
    "To start this project, in the top menu bar click $\\text{Cell}\\to \\text{ Run All}$. Then, scroll back up to the top of this document.\n",
    "</div>"
   ]
  },
  {
   "cell_type": "code",
   "execution_count": 1,
   "metadata": {
    "scrolled": true
   },
   "outputs": [
    {
     "data": {
      "text/html": [
       "<script>\n",
       "code_show_2=true; \n",
       "function code_toggle_2() {\n",
       " if (code_show_2){\n",
       " $('div.input').hide();\n",
       " } else {\n",
       " $('div.input').show();\n",
       " }\n",
       " code_show_2 = !code_show_2\n",
       "} \n",
       "$( document ).ready(code_toggle_2);\n",
       "</script>\n",
       "The raw code for this Jupyter Notebook is by default hidden for easier reading.\n",
       "To toggle on/off the raw code for this entire notebook, click <a href=\"javascript:code_toggle_2()\">here</a>."
      ],
      "text/plain": [
       "<IPython.core.display.HTML object>"
      ]
     },
     "execution_count": 1,
     "metadata": {},
     "output_type": "execute_result"
    }
   ],
   "source": [
    "#http://blog.nextgenetics.net/?e=102\n",
    "from IPython.display import HTML\n",
    "HTML('''<script>\n",
    "code_show_2=true; \n",
    "function code_toggle_2() {\n",
    " if (code_show_2){\n",
    " $('div.input').hide();\n",
    " } else {\n",
    " $('div.input').show();\n",
    " }\n",
    " code_show_2 = !code_show_2\n",
    "} \n",
    "$( document ).ready(code_toggle_2);\n",
    "</script>\n",
    "The raw code for this Jupyter Notebook is by default hidden for easier reading.\n",
    "To toggle on/off the raw code for this entire notebook, click <a href=\"javascript:code_toggle_2()\">here</a>.''')\n"
   ]
  },
  {
   "cell_type": "markdown",
   "metadata": {},
   "source": [
    "<div class=\"alert alert-block alert-warning\">\n",
    "Raw code is hidden by default for the entire notebook. You can toggle on/off the raw code for this entire notebook by clicking the button above. More importantly, raw code for individual cells can be shown/hidden by using the message/button: \n",
    "    <img src=\"https://github.com/josephmccourt2018/lab_jupyter_notebooks/blob/master/images/show_hide_button.png?raw=true\" /> Hiding the code is mainly for visual purposes and may be useful if you would like a hard copy (i.e. pdf) of this document. However, there are also instances where you will need to show the code cell so you can input different parameters. This button will show up repeatedly throughout this document. Try showing and hiding the code in the cell block below as an example.\n",
    "</div>"
   ]
  },
  {
   "cell_type": "code",
   "execution_count": 2,
   "metadata": {},
   "outputs": [
    {
     "data": {
      "text/html": [
       "<script>\n",
       "code_show=true; \n",
       "function code_toggle() {\n",
       "    if (code_show){\n",
       "        $('div.cell.code_cell.rendered.selected div.input').hide();\n",
       "    } else {\n",
       "        $('div.cell.code_cell.rendered.selected div.input').show();\n",
       "    }\n",
       "    code_show = !code_show\n",
       "} \n",
       "$( document ).ready(code_toggle);\n",
       "</script>\n",
       "(To show/hide this cell's raw code input, click <a href=\"javascript:code_toggle()\">here</a>.)"
      ],
      "text/plain": [
       "<IPython.core.display.HTML object>"
      ]
     },
     "metadata": {},
     "output_type": "display_data"
    }
   ],
   "source": [
    "# importing the necessary libraries and packages for XRR.ipynb\n",
    "import ipywidgets as widgets\n",
    "from ipywidgets import Label, Layout\n",
    "from IPython.display import display, Markdown, clear_output\n",
    "from IPython.display import display\n",
    "from IPython.display import Image\n",
    "#%matplotlib notebook\n",
    "import matplotlib.pyplot as plt\n",
    "import numpy as np\n",
    "import pandas as pd\n",
    "import math\n",
    "from scipy.optimize import curve_fit\n",
    "from scipy.special import erfc\n",
    "from scipy import integrate\n",
    "from IPython.display import IFrame\n",
    "\n",
    "\n",
    "\n",
    "# Taken from https://stackoverflow.com/questions/31517194/how-to-hide-one-specific-cell-input-or-output-in-ipython-notebook\n",
    "# https://gist.github.com/Zsailer/5d1f4e357c78409dd9a5a4e5c61be552\n",
    "\n",
    "# This tag allows the supression of input cells that have to deal with formatting and code.\n",
    "# You are viewing the \"code\" version of the \"click here\" button you just pressed\n",
    "tag = HTML('''<script>\n",
    "code_show=true; \n",
    "function code_toggle() {\n",
    "    if (code_show){\n",
    "        $('div.cell.code_cell.rendered.selected div.input').hide();\n",
    "    } else {\n",
    "        $('div.cell.code_cell.rendered.selected div.input').show();\n",
    "    }\n",
    "    code_show = !code_show\n",
    "} \n",
    "$( document ).ready(code_toggle);\n",
    "</script>\n",
    "(To show/hide this cell's raw code input, click <a href=\"javascript:code_toggle()\">here</a>.)''')\n",
    "display(tag)"
   ]
  },
  {
   "cell_type": "markdown",
   "metadata": {},
   "source": [
    "# Jupyter Notebook Introduction\n",
    "\n",
    "Jupyter Notebook is a an open source web application/user interface that allows users to create and share documents containing code, equations, visualizations, and narrative text by using a combination of different programming languages. In this Jupyter Notebook (*HRXRD.ipynb*), we will be using **Python 3** for all analysis purposes (in the top right corner of this page, you will see the tag Python 3 which tells you the programming language of the notebook). The most important concept of Jupyter Notebooks is the concept of a **cell block**. Clicking on a block of text or code will highlight (in blue in this case) the current cell block you are viewing. Click on this block of text. In the menu bar at the top of this document, you will see a drop down menu: <img src=\"https://github.com/josephmccourt2018/lab_jupyter_notebooks/blob/master/images/markdown_dropdown.png?raw=true\" />\n",
    "\n",
    "**Markdown** is referring the type of this cell block. Markdown is a text formatting language supported in Jupyter Notebook. By *double clicking* on the text you are reading right now, you will see the Markdown version of the cell block. You will see the other types of supported cell blocks by clicking the drop down menu. For example, \"Code\" is another type of cell block you will be seeing in this document and they all contain snippets of Python 3 code. \n",
    "\n",
    "To run code of a particular cell block, click into the cell and either click the run button above: \n",
    "\n",
    "<img src=\"https://github.com/josephmccourt2018/lab_jupyter_notebooks/blob/master/images/run_jupyter.png?raw=true\" />\n",
    "\n",
    "or click \"Shift+Enter\" on your keyboard. Running a cell will also allow you to exit the \"code view\" version of a Markdown cell block. \n",
    "\n",
    "That is all you will need to know for this laboratory exercise. Have fun and we welcome any positive/negative feedback!\n",
    "\n",
    ">**NOTE:** *Do not worry if you do not know Python or Markdown as there is no coding necessary for completing this project. In fact, most code cells can be left hidden for the entire exercise and you never even have to see code!*"
   ]
  },
  {
   "cell_type": "markdown",
   "metadata": {},
   "source": [
    "# Re-accessing X-ray Lab Server\n",
    "\n",
    "<div class=\"alert alert-block alert-danger\">\n",
    "Before beginning, make sure to locate your netID folder. This is where you will be saving all of your data. You should have already created a folder during the X-ray Reflectivity Exercise (Lab 1).\n",
    "<br/><br/>\n",
    "On the lab computer, the location of the server is:\n",
    "<br/><br/>\n",
    "$\\text{This PC} \\to \\text{mrc_xrayfac (\\\\\\\\resfiles.northwestern.edu)(Z:)} \\to \\text{netID folders} \\to \\text{[your_net_ID]}$\n",
    "\n",
    "    \n",
    "You may also wish to mount the server onto your computer. Click the following link and follow the appropriate steps if you would like to do so:\n",
    ">https://kb.northwestern.edu/page.php?id=70525\n",
    "\n",
    "For further clarification, see *XRR.ipynb* in this same directory.\n",
    "\n",
    " \n",
    "</div>"
   ]
  },
  {
   "cell_type": "markdown",
   "metadata": {},
   "source": [
    "# *Before You Begin...*\n",
    "Please verify what SmartLab model you are using. In the cell block below, please click on the machine and software that corresponds to your SmartLab. You will see a screen shot of the software for the machine you click on.\n",
    "\n",
    "After selecting, navigate into the cell block below the screen shot. Click $\\text{Cell}\\to \\text{ Run All Below}$ to update the instructions tailored to your machine.\n",
    "\n",
    "Most of the lab will be performed within the *Pro/Manual Control* window of the Smartlab softwares (circled in red in the screenshots)."
   ]
  },
  {
   "cell_type": "code",
   "execution_count": 3,
   "metadata": {},
   "outputs": [
    {
     "data": {
      "text/html": [
       "<script>\n",
       "code_show=true; \n",
       "function code_toggle() {\n",
       "    if (code_show){\n",
       "        $('div.cell.code_cell.rendered.selected div.input').hide();\n",
       "    } else {\n",
       "        $('div.cell.code_cell.rendered.selected div.input').show();\n",
       "    }\n",
       "    code_show = !code_show\n",
       "} \n",
       "$( document ).ready(code_toggle);\n",
       "</script>\n",
       "(To show/hide this cell's raw code input, click <a href=\"javascript:code_toggle()\">here</a>.)"
      ],
      "text/plain": [
       "<IPython.core.display.HTML object>"
      ]
     },
     "metadata": {},
     "output_type": "display_data"
    },
    {
     "data": {
      "application/vnd.jupyter.widget-view+json": {
       "model_id": "450ffd487eea4bec8e628eda07a64354",
       "version_major": 2,
       "version_minor": 0
      },
      "text/plain": [
       "VBox(children=(Button(button_style='warning', description='Smartlab Gen 1, Guidance', layout=Layout(width='300…"
      ]
     },
     "metadata": {},
     "output_type": "display_data"
    }
   ],
   "source": [
    "display(tag)\n",
    "\n",
    "machine_toggle_1 = widgets.ToggleButton(\n",
    "    value=False,\n",
    ")\n",
    "\n",
    "machine_button_1 = widgets.Button(\n",
    "    description='Smartlab Gen 1, Guidance',\n",
    "    disabled=False,\n",
    "    button_style='Warning', # 'success', 'info', 'warning', 'danger' or ''\n",
    "    layout={'width': '300px'}\n",
    ")\n",
    "\n",
    "machine_toggle_2 = widgets.ToggleButton(\n",
    "    value=False,\n",
    ")\n",
    "\n",
    "machine_button_2 = widgets.Button(\n",
    "    description='Smartlab Gen 2, Studio II',\n",
    "    disabled=False,\n",
    "    button_style='Warning', # 'success', 'info', 'warning', 'danger' or ''\n",
    "    layout={'width': '300px'}\n",
    ")\n",
    "\n",
    "#defining what the button will do on clicking: output a screenshot of each software\n",
    "def on_button_clicked_machine_1(b):\n",
    "    clear_output()\n",
    "    display(machines)\n",
    "    machine_toggle_1.value = True\n",
    "    machine_toggle_2.value = False\n",
    "    display(Image(filename='images/guidance_3.png'))   \n",
    "def on_button_clicked_machine_2(b):\n",
    "    clear_output()\n",
    "    display(machines)\n",
    "    machine_toggle_1.value = False\n",
    "    machine_toggle_2.value = True\n",
    "    display(Image(filename='images/studio_II_3.png'))\n",
    "    \n",
    "\n",
    "machine_button_1.on_click(on_button_clicked_machine_1)\n",
    "machine_button_2.on_click(on_button_clicked_machine_2)\n",
    "        \n",
    "#displaying the buttons for the two types of machines\n",
    "machine_button_layout = widgets.Layout(align_items='center')\n",
    "machines = widgets.VBox(children=[machine_button_1,machine_button_2],layout=machine_button_layout)\n",
    "display(machines)"
   ]
  },
  {
   "cell_type": "markdown",
   "metadata": {},
   "source": [
    "# Click $\\text{Cell}\\to \\text{Run  All  Below}$ when inside of this cell after selecting your instrument."
   ]
  },
  {
   "cell_type": "markdown",
   "metadata": {},
   "source": [
    "### <br/><br/>\n",
    "<div align=\"center\">\n",
    "<font size=\"18\" color=\"#990000\"><b> Thin Film <br/> <br/> High Resolution X-ray Diffraction <br/><br/> (HRXRD) </b></font>\n",
    "</div>\n",
    "\n",
    "# Overview of the technique\n",
    "\n",
    "In the X-ray reflectivity (XRR) measurement of Lab 1 you scanned along the low-Q end of the specular rod in reciprocal space to determine the film thickness, density and interface roughnesses. Here in Lab 2 you will continue to scan along this same specular rod but at a higher Q range that covers the Bragg peaks from the substrate and film. These are for reciprocal space vectors <strong>G</strong><sub>hkl</sub> that are nominally perpendicular to the surface. Because these features are narrower in reciprocal space you need to measure with higher Q resolution.(i.e., Smaller wavelength spread and smaller angular divergence of the incident beam.)  To achieve this we inserted a Ge(220) 2-bounce channel-cut monochromator crystal on the incident beam arm in the position previously occupied by the soller slit. See diagram below. This monochromator only passes Cu K$\\alpha_1$ radiation (and not K$\\alpha_2$). You will use this so-called High-Resolution X-ray Diffraction (HRXRD) method to investigate the out-of-plane registry of the epitaxial film lattice with respect to the single crystal substrate lattice. The cost of higher resolution is lower intensity for the incident beam.\n",
    "<div align=\"center\">\n",
    "<FIGURE> \n",
    "    <img src=\"https://github.com/josephmccourt2018/lab_jupyter_notebooks/blob/master/images/Fig1_HXRD_SmartLab_v2.png?raw=true\" />\n",
    "   <FIGCAPTION> <b>Fig. 1:</b> <i> SmartLab Diffractometer with Ge (220) 2-bounce monochromator option inserted to increase the resolution. \n",
    "</FIGURE>\n",
    "</div>\n",
    "\n",
    "Your substrate is a 10 x 10 x 0.5 mm c-plane sapphire $\\alpha$-Al$_2$O$_3$(001) single crystal. The PLD grown film will be  $\\alpha$-Fe$_2$O$_3$ or Pt with a thickness between 10 and 100 nm.  It will be the same sample you studied in Lab1. HRXRD will allow you to determine the  film's crystallinity (single crystal or textured polycrystalline), out-of-plane lattice constant and single crystal domain size. More specifically for your case, HRXRD  shows whether or not the hexagonal basal planes of the film are parallel to the basal $c$-planes of the substrate.  Prior to starting the HRXRD experiment, you should have used CrystalMaker and SingleCrystal to study the crystal structures of the substrate and film and determined what you expect for the alignment of the film's crystallographic hkl direction with the substrate crystal c-axis, and what are the d-spacings ( and Bragg angles) for the first allowed reflections along surface normal direction for both the substrate and film;  a\n",
    "    nd do the same for the 2nd order Bragg peaks.\n",
    "    \n",
    "\n",
    "In this lab you will perform 2 types of scans:\n",
    "\n",
    "1. $2\\theta$/$\\omega$ scan (also referred to as a radial scan or longitudinal scan in reciprocal space where you are scanning along Q<sub>⊥</sub> direction): This is a <strong>coupled scan</strong>, with the incident beam arm and detector arm rotating with equal steps in opposite directions.(For a positive 2° step in 2$\\theta$ the incident arm rotates   1° clockwise and the detector arm rotates  1° counterclockwise.) Remember that the SmartLab keeps the sample fixed in a horizontal position during these scans. The diffraction peak positions will obey Bragg's Law. The instrument resolution of this scan can be determined from the width of the substrate Bragg peak. The width of the film's Bragg peak is used to determine the single crystal domain size of the film. Compare this to what you found for the film thickness in your Lab 1 XRR measurement.\n",
    "\n",
    "\n",
    "2. $\\omega$ scan (also referred to as a transverse scan in reciprocal space): The incident beam arm and detector arm rotate with equal steps in the same direction with 2$\\theta$  <strong>fixed</strong> at the Bragg condition. This is also know as a <strong>Rocking Curve</strong> (RC) scan. The $\\Delta$$\\omega$ instrument resolution of this scan is determined from the width of the substrate Bragg peak RC. The film's RC width has contributions from the mosaic spread and in-plane domain size. A mosaic crystal or a film is built up by many cristallites (grains) with different tilt angles (δΩ). This is shown in **Fig. 2**. According to δΩ the crystallites can group in ensembles for which Bragg equation will be fulfilled. The rocking curve measurement is commonly used as a figure of merit to evaluate the mosaicity of a thin epitaxial film. The smaller the width of the peak, the better the individual crystallites are aligned and the larger their size.\n",
    "\n",
    "\n",
    "<div align=\"center\">\n",
    "<FIGURE> \n",
    "    <img src=\"https://github.com/josephmccourt2018/lab_jupyter_notebooks/blob/master/images/hrxrd_mosaic.png?raw=true\" />\n",
    "    <br/><br/>\n",
    "   <FIGCAPTION> <b>Fig. 2: </b> <i> X-ray diffraction for (a) ideal single crystal and (b) a mosaic crystal or film</i></FIGCAPTION>\n",
    "    \n",
    "</FIGURE>\n",
    "</div>"
   ]
  },
  {
   "cell_type": "markdown",
   "metadata": {},
   "source": [
    "## What Do We Expect?\n",
    "\n",
    "At what $2\\theta$ value do you expect to find the find the substrate and film diffraction peaks ($\\alpha$-Fe$_2$O$_3$ or Pt and c-plane sapphire $\\alpha$-Al$_2$O$_3$(001))? You should be able to calculate this based on class discussions or preliminary work done with CrystalMaker and SingleCrystal. Make sure you use the correct wavelength 1.5407 Å for 8.0478 keV Cu K$\\alpha$1 X-rays.  Input those values in the table below (show the cell's raw code input below by clicking on the \"click here\" button and enter your values). Then run that cell as well as the cell containing the table. We will compare these expected values to what you measure in this lab exercise."
   ]
  },
  {
   "cell_type": "code",
   "execution_count": 4,
   "metadata": {},
   "outputs": [
    {
     "data": {
      "text/html": [
       "<script>\n",
       "code_show=true; \n",
       "function code_toggle() {\n",
       "    if (code_show){\n",
       "        $('div.cell.code_cell.rendered.selected div.input').hide();\n",
       "    } else {\n",
       "        $('div.cell.code_cell.rendered.selected div.input').show();\n",
       "    }\n",
       "    code_show = !code_show\n",
       "} \n",
       "$( document ).ready(code_toggle);\n",
       "</script>\n",
       "(To show/hide this cell's raw code input, click <a href=\"javascript:code_toggle()\">here</a>.)"
      ],
      "text/plain": [
       "<IPython.core.display.HTML object>"
      ]
     },
     "metadata": {},
     "output_type": "display_data"
    }
   ],
   "source": [
    "display(tag)\n",
    "film = \"Film\"\n",
    "film_2th = \"N/A\"\n",
    "sub_2th = \"N/A\"\n",
    "substrate = \"Substrate\"\n",
    "film_measured = \"N/A\"\n",
    "sub_measured = \"N/A\""
   ]
  },
  {
   "cell_type": "code",
   "execution_count": 5,
   "metadata": {},
   "outputs": [
    {
     "data": {
      "text/markdown": [
       "| Material | 2$\\theta$($\\circ$) (Theoretical) |2$\\theta$($\\circ$) (Measured)  |          \n",
       "|------|------|------|         \n",
       "|   Film | N/A|N/A|         \n",
       "|   Substrate | N/A|N/A|"
      ],
      "text/plain": [
       "<IPython.core.display.Markdown object>"
      ]
     },
     "execution_count": 5,
     "metadata": {},
     "output_type": "execute_result"
    }
   ],
   "source": [
    "Markdown(\"| Material | 2$\\\\theta$($\\circ$) (Theoretical) |2$\\\\theta$($\\circ$) (Measured)  | \\\n",
    "         \\n|------|------|------|\\\n",
    "         \\n|   {} | {}|{}|\\\n",
    "         \\n|   {} | {}|{}|\".format(film,film_2th,film_measured,substrate,sub_2th,sub_measured))"
   ]
  },
  {
   "cell_type": "markdown",
   "metadata": {},
   "source": [
    "## 1. Working with SmartLab"
   ]
  },
  {
   "cell_type": "markdown",
   "metadata": {},
   "source": [
    "Having completed the XRR lab, you should feel more comfortable navigating the SmartLab Guidance or Studio II softwares."
   ]
  },
  {
   "cell_type": "markdown",
   "metadata": {},
   "source": [
    "### Follow the instructions and put a check mark in each step as you advance. These steps are to set up the Smartlab software and initial conditions for the experiment.\n",
    "\n",
    "The following experiment will be performed in the *Pro Control* window of Smartlab Studio 2 software."
   ]
  },
  {
   "cell_type": "code",
   "execution_count": 6,
   "metadata": {},
   "outputs": [
    {
     "data": {
      "text/html": [
       "<script>\n",
       "code_show=true; \n",
       "function code_toggle() {\n",
       "    if (code_show){\n",
       "        $('div.cell.code_cell.rendered.selected div.input').hide();\n",
       "    } else {\n",
       "        $('div.cell.code_cell.rendered.selected div.input').show();\n",
       "    }\n",
       "    code_show = !code_show\n",
       "} \n",
       "$( document ).ready(code_toggle);\n",
       "</script>\n",
       "(To show/hide this cell's raw code input, click <a href=\"javascript:code_toggle()\">here</a>.)"
      ],
      "text/plain": [
       "<IPython.core.display.HTML object>"
      ]
     },
     "metadata": {},
     "output_type": "display_data"
    },
    {
     "data": {
      "application/vnd.jupyter.widget-view+json": {
       "model_id": "efc1bfe7c38e4e0eb4939a24c4096c54",
       "version_major": 2,
       "version_minor": 0
      },
      "text/plain": [
       "GridBox(children=(Checkbox(value=False, description='<strong> Step </strong>1:'), HTMLMath(value='Open XG Cont…"
      ]
     },
     "metadata": {},
     "output_type": "display_data"
    },
    {
     "data": {
      "application/vnd.jupyter.widget-view+json": {
       "model_id": "12945f0f3d67404fb28879df881e5480",
       "version_major": 2,
       "version_minor": 0
      },
      "text/plain": [
       "GridBox(children=(Checkbox(value=False, description='<strong> Step </strong>2:'), HTMLMath(value='Turn on the …"
      ]
     },
     "metadata": {},
     "output_type": "display_data"
    },
    {
     "data": {
      "application/vnd.jupyter.widget-view+json": {
       "model_id": "36a450ec8ba44273bea754f2eb9e46ce",
       "version_major": 2,
       "version_minor": 0
      },
      "text/plain": [
       "GridBox(children=(Checkbox(value=False, description='<strong> Step </strong>3:'), HTMLMath(value='Set the volt…"
      ]
     },
     "metadata": {},
     "output_type": "display_data"
    },
    {
     "data": {
      "application/vnd.jupyter.widget-view+json": {
       "model_id": "601997c6b5674dc7afdbe9785411388f",
       "version_major": 2,
       "version_minor": 0
      },
      "text/plain": [
       "GridBox(children=(Checkbox(value=False, description='<strong> Step </strong>4:'), HTMLMath(value='After the vo…"
      ]
     },
     "metadata": {},
     "output_type": "display_data"
    },
    {
     "data": {
      "application/vnd.jupyter.widget-view+json": {
       "model_id": "478ce091554a43faab8066ebc46e6fbb",
       "version_major": 2,
       "version_minor": 0
      },
      "text/plain": [
       "GridBox(children=(Checkbox(value=False, description='<strong> Step </strong>5:'), HTMLMath(value='Close XG Con…"
      ]
     },
     "metadata": {},
     "output_type": "display_data"
    },
    {
     "data": {
      "application/vnd.jupyter.widget-view+json": {
       "model_id": "f0da1d59f1144f129381f7843c965345",
       "version_major": 2,
       "version_minor": 0
      },
      "text/plain": [
       "GridBox(children=(Checkbox(value=False, description='<strong> Step </strong>6:'), HTMLMath(value='Look at the …"
      ]
     },
     "metadata": {},
     "output_type": "display_data"
    },
    {
     "data": {
      "application/vnd.jupyter.widget-view+json": {
       "model_id": "4c5d7d771f5e4953a97faf9674bf9459",
       "version_major": 2,
       "version_minor": 0
      },
      "text/plain": [
       "Button(button_style='info', description='Finish!', style=ButtonStyle())"
      ]
     },
     "metadata": {},
     "output_type": "display_data"
    }
   ],
   "source": [
    "display(tag)\n",
    "\n",
    "#Displaying a checklist for to do list\n",
    "#https://stackoverflow.com/questions/41469554/python-jupyter-notebook-create-dynamic-checklist-user-input-that-runs-code\n",
    "\n",
    "\n",
    "# To do list containing all the steps for XRR on SmartLab (Gen 3? or Gen 2? the latest one)\n",
    "step_list_getting_started = ['Open XG Control (XG Control is located in the $\\\\text{Control}$ tab on SmartLab Guidance).',\n",
    "            'Turn on the X-Ray tube and wait',\n",
    "            'Set the voltage to $45$ kV. Click on $\\\\text{SET}$ and wait',\n",
    "            'After the voltage has been set, set the current to $160$ mA. Click on $\\\\text{SET}$ and wait',\n",
    "            'Close XG Control and open Pro/Manual Control in the Home Tab',\n",
    "            'Look at the H/W Status Window in the left part of the screen. Make sure the following motors are set to zero in the H/W Status Tab: 2$\\\\theta$, $\\omega$, 2$\\\\theta\\chi$, $\\chi$, $\\phi$, R$_x$, R$_y$. If not, open the tab for the specific motor in Pro Control, type zero in the Move Tab and click on Move. In addition, double-check that the voltage is $45$ kV and current is $160$ mA.']\n",
    "checkbox_array_getting_started = []\n",
    "for step in step_list_getting_started:\n",
    "    step_index = str(step_list_getting_started.index(step)+1)\n",
    "    checkbox = widgets.Checkbox(description = \"<strong> Step </strong>\"+step_index+\":\")\n",
    "    checkbox_array_getting_started.append(checkbox)\n",
    "    #use HTMLMath widget to get text right\n",
    "    temp_step = widgets.HTMLMath(step)\n",
    "    #set up a GridBox to display properly\n",
    "    box = widgets.GridBox([checkbox, temp_step],layout=Layout(width='100%',\n",
    "            grid_template_columns='20% 80% ',\n",
    "            grid_template_areas='''\n",
    "            \"checkbox temp_step\"\n",
    "            '''))\n",
    "    display(box)\n",
    "    \n",
    "#create finish button that verifies all steps have been completed\n",
    "pb1 = widgets.Button(\n",
    "    description='Finish!',\n",
    "    disabled=False,\n",
    "    button_style='info', # 'success', 'info', 'warning', 'danger' or ''\n",
    ")\n",
    "#defining what the button will do on clicking\n",
    "def on_button_clicked(b):\n",
    "    print(\"------------------------------------------------------------------------------------\")\n",
    "    print(\"clicked on: Finish!\")\n",
    "    steps_completed=0\n",
    "    for checkbox in checkbox_array_getting_started:\n",
    "        if checkbox.value ==True:\n",
    "            steps_completed+=1\n",
    "            continue;\n",
    "        else:\n",
    "            print(\"You did not complete step \" + str(checkbox_array_getting_started.index(checkbox)+1))\n",
    "            pb1.button_style='danger'\n",
    "    if steps_completed == len(checkbox_array_getting_started):\n",
    "        print(\"You finished Getting Started with Smartlab. Please, continue to Sample Alignment. Nice job!\")\n",
    "        pb1.button_style='success'\n",
    "        \n",
    "pb1.on_click(on_button_clicked)\n",
    "display(pb1)"
   ]
  },
  {
   "cell_type": "markdown",
   "metadata": {},
   "source": [
    "## 2. Sample Alignment (Thin Film)\n",
    "\n",
    "The steps below should look familiar to you; they are the same steps you performed when aligning your sample for XRR. The difference lies in the set-up of the diffractometer (i.e. the Ge (220) monochromator and removal of incident soller slits). In addition, we will insert a $5$mm length limiting slit. Check with your lab supervisor that your equipment is set up correctly.\n",
    "\n",
    "<div class=\"alert alert-block alert-warning\">\n",
    "    If you ever feel lost when perfroming scans, refer back to <b>Fig. 1</b> to remind yourself of the geometry of each scan type. And, of course, feel free to ask your lab supervisor any questions. They will prove to be much more helpful than any set of instructions.\n",
    "</div>\n",
    "\n",
    "##### Prior to  sample alignment, the optics, sample goniometer, and detector slits have been prealigned by the XRD facility staff.  You can eventually learn how to do this alignment on your own with a set of automated procedures that are part of the SmartLab software control system. "
   ]
  },
  {
   "cell_type": "markdown",
   "metadata": {},
   "source": [
    "### _Important Parameters_\n",
    "\n",
    "The cell below is place where you can record various important parameters that will come up throughout the experiment. \n",
    "\n",
    "Whenever you update the values, make sure to run the cell by clicking into the cell and either clicking the run button above: <img src=\"https://github.com/josephmccourt2018/lab_jupyter_notebooks/blob/master/images/run_jupyter.png?raw=true\" />\n",
    "or by clicking \"Shift+Enter\" on your keyboard.\n",
    "\n",
    "To test if you executed the cell, the parameters and their values will all be listed in the drop down menu below where you can click \"Print Variable\" to see its value.\n",
    "\n",
    "Show the cell block's raw code by clicking the toggle button below and then input your parameter values."
   ]
  },
  {
   "cell_type": "code",
   "execution_count": 7,
   "metadata": {},
   "outputs": [
    {
     "data": {
      "text/html": [
       "<script>\n",
       "code_show=true; \n",
       "function code_toggle() {\n",
       "    if (code_show){\n",
       "        $('div.cell.code_cell.rendered.selected div.input').hide();\n",
       "    } else {\n",
       "        $('div.cell.code_cell.rendered.selected div.input').show();\n",
       "    }\n",
       "    code_show = !code_show\n",
       "} \n",
       "$( document ).ready(code_toggle);\n",
       "</script>\n",
       "(To show/hide this cell's raw code input, click <a href=\"javascript:code_toggle()\">here</a>.)"
      ],
      "text/plain": [
       "<IPython.core.display.HTML object>"
      ]
     },
     "metadata": {},
     "output_type": "display_data"
    }
   ],
   "source": [
    "# Here is a list of important parameters for you to fill out\n",
    "display(tag)\n",
    "\n",
    "th_true_zero = 0.02\n",
    "straight_through_beam = 5e8 #cps\n",
    "\n",
    "# Fundamental peaks\n",
    "film_bragg_FWHM = 1\n",
    "film_bragg_position = 1 \n",
    "film_bragg_intensity = 1\n",
    "film_rocking_FWHM = 1\n",
    "film_rocking_position = 1\n",
    "film_rocking_intensity = 1\n",
    "al2O3_bragg_FWHM = 1\n",
    "al2O3_bragg_position = 1\n",
    "al2O3_bragg_intensity = 1\n",
    "al2O3_rocking_FWHM = 1\n",
    "al2O3_rocking_position = 1\n",
    "al2O3_rocking_intensity = 1\n",
    "\n",
    "# Second order peaks\n",
    "film_bragg_FWHM_2nd = 1\n",
    "film_bragg_position_2nd = 1 \n",
    "film_bragg_intensity_2nd = 1\n",
    "film_rocking_FWHM_2nd = 1\n",
    "film_rocking_position_2nd = 1\n",
    "film_rocking_intensity_2nd = 1\n",
    "al2O3_bragg_FWHM_2nd = 1\n",
    "al2O3_bragg_position_2nd = 1\n",
    "al2O3_bragg_intensity_2nd = 1\n",
    "al2O3_rocking_FWHM_2nd = 1\n",
    "al2O3_rocking_position_2nd = 1\n",
    "al2O3_rocking_intensity_2nd = 1"
   ]
  },
  {
   "cell_type": "code",
   "execution_count": 8,
   "metadata": {},
   "outputs": [
    {
     "data": {
      "application/vnd.jupyter.widget-view+json": {
       "model_id": "ad22b8ac8f7f4f98925623ce56fce42a",
       "version_major": 2,
       "version_minor": 0
      },
      "text/plain": [
       "VBox(children=(Dropdown(options=('th_true_zero', 'straight_through_beam', 'film_bragg_FWHM', 'film_bragg_posit…"
      ]
     },
     "metadata": {},
     "output_type": "display_data"
    }
   ],
   "source": [
    "# selecting variables for button\n",
    "button_variables = ['th_true_zero','straight_through_beam',\n",
    "                    'film_bragg_FWHM','film_bragg_position','film_bragg_intensity',\n",
    "                    'film_rocking_FWHM','film_rocking_position','film_rocking_intensity',\n",
    "                    'al2O3_bragg_FWHM','al2O3_bragg_position','al2O3_bragg_intensity',\n",
    "                    'al2O3_rocking_FWHM','al2O3_rocking_position','al2O3_rocking_intensity',\n",
    "                    'film_bragg_FWHM_2nd','film_bragg_position_2nd','film_bragg_intensity_2nd',\n",
    "                    'film_rocking_FWHM_2nd','film_rocking_position_2nd','film_rocking_intensity_2nd',\n",
    "                    'al2O3_bragg_FWHM_2nd','al2O3_bragg_position_2nd','al2O3_bragg_intensity_2nd',\n",
    "                    'al2O3_rocking_FWHM_2nd','al2O3_rocking_position_2nd','al2O3_rocking_intensity_2nd']\n",
    "funcs = []\n",
    "for i in button_variables:\n",
    "    funcs.append(i)\n",
    " \n",
    "# creating menu with them   \n",
    "button_vars = widgets.Dropdown(\n",
    "    options=funcs)\n",
    "# button, output, function and linkage\n",
    "butt = widgets.Button(description='Print Variable')\n",
    "outt = widgets.Output()\n",
    "def on_butt_clicked(b):\n",
    "    with outt:\n",
    "        clear_output()\n",
    "        #print(type(globals()[button_vars.value]))\n",
    "        print(globals()[button_vars.value])\n",
    "        \n",
    "butt.on_click(on_butt_clicked)\n",
    "# display\n",
    "widgets.VBox([button_vars,butt,outt])"
   ]
  },
  {
   "cell_type": "markdown",
   "metadata": {},
   "source": [
    "## Before Aligning Sample...\n",
    "\n",
    "Before we perform the X-ray Diffraction experiment, we need to look a little more into the alignment of the diffractometer. \n",
    "\n",
    "We are going to perform a $2\\theta$ scan (<b>NOT</b> $2\\theta$/$\\omega$ or $\\theta/ 2\\theta$) to see how well the slits on the detector arm are aligned with the incident beam. The located peak position will tell us our true zero for all of our future $2\\theta$/$\\omega$ scans. This number, should be subtracted from all measured peak values in $2\\theta$/$\\omega$ scans to acquire the true $2\\theta$ peak position value, which in turn is used to calulate the d-spacing of the Bragg peak by Braggs' Law. Note the slight offset of the center of the peak from zero in the example scan below.\n",
    "\n",
    "To perform this scan, set up the slits to the following: IS$=0.5$ mm, RS$_1=0.7$ mm, RS$_2=0.7$ mm. Move the $Z$ position to $-3$ mm (to move the sample out of the incident beam). Perform a relative $2\\theta$ scan from $-0.2$ to $0.2$ with a $0.02$ step size at $0.5$ degree per minute. Note down the value of the $2\\theta$ peak FWHM center position in the <b>Important Parameters</b> section above. You will need this value for your future analysis. This is also the $2\\theta$ position you want for the sample when doing the straight through beam (STB) intensity (cps) measurement and Z-scan sample alignment. The width of the flat top region corresponds to the part of the scan where the width of the incident beam fits inside RS2 slit width without being clipped. The bigger this flat top the more background is included in the scan. The smaller the width, the more susceptible the scan will be to misalignment at different angles of the scan."
   ]
  },
  {
   "cell_type": "code",
   "execution_count": 9,
   "metadata": {},
   "outputs": [
    {
     "data": {
      "text/html": [
       "<script>\n",
       "code_show=true; \n",
       "function code_toggle() {\n",
       "    if (code_show){\n",
       "        $('div.cell.code_cell.rendered.selected div.input').hide();\n",
       "    } else {\n",
       "        $('div.cell.code_cell.rendered.selected div.input').show();\n",
       "    }\n",
       "    code_show = !code_show\n",
       "} \n",
       "$( document ).ready(code_toggle);\n",
       "</script>\n",
       "(To show/hide this cell's raw code input, click <a href=\"javascript:code_toggle()\">here</a>.)"
      ],
      "text/plain": [
       "<IPython.core.display.HTML object>"
      ]
     },
     "metadata": {},
     "output_type": "display_data"
    },
    {
     "data": {
      "image/png": "[encoded data removed]",
      "text/plain": [
       "<Figure size 432x288 with 1 Axes>"
      ]
     },
     "metadata": {
      "needs_background": "light"
     },
     "output_type": "display_data"
    }
   ],
   "source": [
    "display(tag)\n",
    "df_2theta = pd.read_table('https://raw.githubusercontent.com/josephmccourt2018/lab_jupyter_notebooks/master/example/461_test/PLD50nmFe2O3_Al2O3/HRXRD_Lab/2th_stb.ras',sep = '\\s+',comment='*',names = [\"2TH\",\"Intensity\", \"attenuatation\"],header = None)\n",
    "plt.figure()\n",
    "plt.suptitle('Fig. 3:', fontsize=14, fontweight='bold')\n",
    "plt.title('Example $2\\\\theta$ Scan')\n",
    "plt.plot(df_2theta[df_2theta.columns[0]],df_2theta[df_2theta.columns[1]]*df_2theta[df_2theta.columns[2]])\n",
    "plt.yscale('log')\n",
    "plt.xlabel(\"$2\\\\theta$($^{\\circ}$)\")\n",
    "plt.ylabel(df_2theta.columns[1]+\" (counts)\")\n",
    "plt.show()"
   ]
  },
  {
   "cell_type": "markdown",
   "metadata": {},
   "source": [
    "### Follow the instructions and put a check mark in each step as you advance. These steps are to align the thin film sample in preparation for measurements.\n",
    "\n",
    "The following experiment will be performed in the *Pro Control* window of Smartlab Studio 2 software."
   ]
  },
  {
   "cell_type": "code",
   "execution_count": 10,
   "metadata": {},
   "outputs": [
    {
     "data": {
      "text/html": [
       "<script>\n",
       "code_show=true; \n",
       "function code_toggle() {\n",
       "    if (code_show){\n",
       "        $('div.cell.code_cell.rendered.selected div.input').hide();\n",
       "    } else {\n",
       "        $('div.cell.code_cell.rendered.selected div.input').show();\n",
       "    }\n",
       "    code_show = !code_show\n",
       "} \n",
       "$( document ).ready(code_toggle);\n",
       "</script>\n",
       "(To show/hide this cell's raw code input, click <a href=\"javascript:code_toggle()\">here</a>.)"
      ],
      "text/plain": [
       "<IPython.core.display.HTML object>"
      ]
     },
     "metadata": {},
     "output_type": "display_data"
    },
    {
     "name": "stdout",
     "output_type": "stream",
     "text": [
      "Instructions for SmartLab Studio II\n"
     ]
    },
    {
     "data": {
      "application/vnd.jupyter.widget-view+json": {
       "model_id": "761e57f94ea0464181b115f9fb4ef4a2",
       "version_major": 2,
       "version_minor": 0
      },
      "text/plain": [
       "GridBox(children=(Checkbox(value=False, description='<strong> Step </strong>1:'), HTMLMath(value='Make sure th…"
      ]
     },
     "metadata": {},
     "output_type": "display_data"
    },
    {
     "data": {
      "application/vnd.jupyter.widget-view+json": {
       "model_id": "6463c6feadfe4a72bd307f6ba1d3ee10",
       "version_major": 2,
       "version_minor": 0
      },
      "text/plain": [
       "GridBox(children=(Checkbox(value=False, description='<strong> Step </strong>2:'), HTMLMath(value='In Pro Contr…"
      ]
     },
     "metadata": {},
     "output_type": "display_data"
    },
    {
     "data": {
      "application/vnd.jupyter.widget-view+json": {
       "model_id": "de736f8e9d0e48299ce1b90da01fe5cb",
       "version_major": 2,
       "version_minor": 0
      },
      "text/plain": [
       "GridBox(children=(Checkbox(value=False, description='<strong> Step </strong>3:'), HTMLMath(value='Make sure Au…"
      ]
     },
     "metadata": {},
     "output_type": "display_data"
    },
    {
     "data": {
      "application/vnd.jupyter.widget-view+json": {
       "model_id": "9022d8566a534ce090325785a24084ef",
       "version_major": 2,
       "version_minor": 0
      },
      "text/plain": [
       "GridBox(children=(Checkbox(value=False, description='<strong> Step </strong>4:'), HTMLMath(value='Perform an A…"
      ]
     },
     "metadata": {},
     "output_type": "display_data"
    },
    {
     "data": {
      "application/vnd.jupyter.widget-view+json": {
       "model_id": "309afe6fd53d4375830e26e57b03aa31",
       "version_major": 2,
       "version_minor": 0
      },
      "text/plain": [
       "GridBox(children=(Checkbox(value=False, description='<strong> Step </strong>5:'), HTMLMath(value='The scan sho…"
      ]
     },
     "metadata": {},
     "output_type": "display_data"
    },
    {
     "data": {
      "application/vnd.jupyter.widget-view+json": {
       "model_id": "1795e94867fa4f0ea13fb3074d76b0e6",
       "version_major": 2,
       "version_minor": 0
      },
      "text/plain": [
       "GridBox(children=(Checkbox(value=False, description='<strong> Step </strong>6:'), HTMLMath(value='Select R$_y$…"
      ]
     },
     "metadata": {},
     "output_type": "display_data"
    },
    {
     "data": {
      "application/vnd.jupyter.widget-view+json": {
       "model_id": "699d50ba340c44789b8e340fbf1aa998",
       "version_major": 2,
       "version_minor": 0
      },
      "text/plain": [
       "GridBox(children=(Checkbox(value=False, description='<strong> Step </strong>7:'), HTMLMath(value='Perform a R$…"
      ]
     },
     "metadata": {},
     "output_type": "display_data"
    },
    {
     "data": {
      "application/vnd.jupyter.widget-view+json": {
       "model_id": "3c3b9f9052cd4907afc58ff3d8c58664",
       "version_major": 2,
       "version_minor": 0
      },
      "text/plain": [
       "GridBox(children=(Checkbox(value=False, description='<strong> Step </strong>8:'), HTMLMath(value='Select the $…"
      ]
     },
     "metadata": {},
     "output_type": "display_data"
    },
    {
     "data": {
      "application/vnd.jupyter.widget-view+json": {
       "model_id": "c5725a8ac830471e92321835e4c8f438",
       "version_major": 2,
       "version_minor": 0
      },
      "text/plain": [
       "GridBox(children=(Checkbox(value=False, description='<strong> Step </strong>3:'), HTMLMath(value='Make sure Au…"
      ]
     },
     "metadata": {},
     "output_type": "display_data"
    },
    {
     "data": {
      "application/vnd.jupyter.widget-view+json": {
       "model_id": "13018ba21f4d4281bfbd81092b352169",
       "version_major": 2,
       "version_minor": 0
      },
      "text/plain": [
       "GridBox(children=(Checkbox(value=False, description='<strong> Step </strong>10:'), HTMLMath(value='Perform ano…"
      ]
     },
     "metadata": {},
     "output_type": "display_data"
    },
    {
     "data": {
      "application/vnd.jupyter.widget-view+json": {
       "model_id": "9840fa1a5aa74fe0ac6c66dc3cd8b297",
       "version_major": 2,
       "version_minor": 0
      },
      "text/plain": [
       "GridBox(children=(Checkbox(value=False, description='<strong> Step </strong>11:'), HTMLMath(value='Save $Z$ sc…"
      ]
     },
     "metadata": {},
     "output_type": "display_data"
    },
    {
     "data": {
      "application/vnd.jupyter.widget-view+json": {
       "model_id": "0265739c7f09470e97299f2a01de0b95",
       "version_major": 2,
       "version_minor": 0
      },
      "text/plain": [
       "GridBox(children=(Checkbox(value=False, description='<strong> Step </strong>12:'), HTMLMath(value='Record the …"
      ]
     },
     "metadata": {},
     "output_type": "display_data"
    },
    {
     "data": {
      "application/vnd.jupyter.widget-view+json": {
       "model_id": "347bbb3928db452798ae8ec027e8a68e",
       "version_major": 2,
       "version_minor": 0
      },
      "text/plain": [
       "Button(button_style='info', description='Finish!', style=ButtonStyle())"
      ]
     },
     "metadata": {},
     "output_type": "display_data"
    }
   ],
   "source": [
    "display(tag)\n",
    "\n",
    "#Displaying a checklist for to do list\n",
    "#https://stackoverflow.com/questions/41469554/python-jupyter-notebook-create-dynamic-checklist-user-input-that-runs-code\n",
    "\n",
    "alignment_guidance = ['Make sure the sample is centered on the stage (circular plate). If not, ask the XRD facility staff to reposition the sample.',\n",
    "            'In Manual Control, select $Z$ from the Axis list. Make sure slits are the same as they were for the $2\\\\theta$ scan. These slit values were determined specifically for your lab experiment. The reduced intensity caused by the monochromator will be somewhat mitigated by larger slits (compared to the XRR experiment). Ask your supervisor for more information.',\n",
    "            'Make sure Automatic Attenuator is checked in the Scan Tab.',\n",
    "            'Perform an Absolute $Z$ scan by entering the following values [range = $-3$ to $0$ mm, step $= 0.02$ mm/step, speed$=4$ mm/min] and clicking on Scan to start. This is a coarse $Z$ scan done to locate our sample. <b><i>NOTE:</b> The units for the scan speed will actually be mm/min even though the template shows deg/min.',\n",
    "            'The scan should show a flat line, followed by a drop to zero once the beam crosses the sample. You can read off the $Z$ postion values by moving the cross hairs in the Display Area. Move the $Z$ position to the halfway point of this \"drop\" by entering the $Z$ value you read off in the Move box and clicking Move (i.e. when the incoming beam reaches half its intensity).',\n",
    "            'Select R$_y$ from the Axis List. Check the option Move to Peak.',\n",
    "            'Perform a R$_y$ scan [relative -$1$ to $1$, step$=0.01$ deg/step, speed$=4$ deg/min]. Again, make sure Automatic Attenuator is checked. The located peak will be labeled with a red X.',\n",
    "            'Now perform another $Z$ scan [Relative -$0.25$ to $0.25$, step$=0.002$ mm/step, speed$=2$ mm/min]. Make sure the option Relative is selected. Notice, your most recent scan will be colored RED. Again, move to the same \"halfway\" point',\n",
    "            'Save $Z$ scan by clicking on the save icon (\"floppy disk\"). Save in your netID directory in the following format: \"z_stb.ras\".',\n",
    "            'Record the Straight Through Beam Intensity (STB) in the $\\\\textbf{Important Parameters}$ section above. To find the STB, in the top of the screen select the chart tab. Click on Coordinate and place the cursor at the maximum value of your scan. It should be around ($5\\\\times 10^{7}$ cps)']\n",
    "\n",
    "\n",
    "# To do list containing all the steps for XRR on SmartLab Gen 2\n",
    "alignment_studio = ['Make sure the sample is centered on the stage (circular plate). If not, ask the XRD facility staff to reposition the sample.',\n",
    "            'In Pro Control, select $Z$ from the Axis list. Make sure slits are the same as they were for the $2\\\\theta$ scan. These slit values were determined specifically for your lab experiment. The reduced intensity caused by the monochromator will be somewhat mitigated by larger slits (compared to the XRR experiment). Ask your supervisor for more information.',\n",
    "            'Make sure Automatic Attenuator is checked in the Scan Tab.',\n",
    "            'Perform an Absolute $Z$ scan by entering the following values [range = $-3$ to $0$ mm, step $= 0.02$ mm/step, speed$=4$ mm/min] and clicking on Scan to start. This is a coarse $Z$ scan done to locate our sample.',\n",
    "            'The scan should show a flat line, followed by a drop to zero once the beam crosses the sample. You can read off the $Z$ postion values by moving the cross hairs in the Display Area. Move the $Z$ position to the halfway point of this \"drop\" by entering the $Z$ value you read off in the Move box and clicking Move (i.e. when the incoming beam reaches half its intensity).',\n",
    "            'Select R$_y$ from the Axis List. Check the option Move to Peak in the Post scan Tab. There, click on the option $\\\\text{Set...}$ and select Full Width at Half Maximum Center (or Maxium Intensity) for Peak Search Method. Click $\\\\text{Ok}$.',\n",
    "            'Perform a R$_y$ scan [relative -$1$ to $1$, step$=0.01$ deg/step, speed$=4$ deg/min]. Again, make sure Automatic Attenuator is checked. The located peak will be shown with a RED point. We will continuously use this SmartLab feature throughout the lab.',\n",
    "            'Select the $Z$ tab and check the option Move to Peak in the Post scan Tab. There, click on the option $\\\\text{Set...}$ and select Edge Search for peak search method. Click $\\\\text{Ok}$.',\n",
    "            'Make sure Automatic Attenuator is checked in the Scan Tab.',\n",
    "            'Perform another $Z$ scan [Relative -$0.25$ to $0.25$, step$=0.002$ mm/step, speed$=2$ mm/min]. Make sure the option Relative is selected. Click on Scan to start. Notice, your most recent scan will be colored RED.',  \n",
    "            'Save $Z$ scan. Right click on your last $Z$ scan in Data Browser. Select $\\\\text{Export data}\\\\to\\\\text{to File}$ and save in your netID directory in the following format: \"z_stb.ras\". <i><b>NOTE: </b> Make sure to save the scan in the \"ras\" format, NOT \"rasx\". </i>',\n",
    "            'Record the Straight Through Beam Intensity (STB) in the $\\\\textbf{Important Parameters}$ section above. To find the STB, in the top of the screen select the chart tab. Click on Coordinate and place the cursor at the maximum value of your scan. It should be around ($5\\\\times 10^{7}$ cps)']\n",
    "\n",
    "if (machine_toggle_1.value):\n",
    "    step_list_alignment = alignment_guidance\n",
    "    print(\"Instructions for SmartLab Guidance\")\n",
    "else:\n",
    "    step_list_alignment = alignment_studio\n",
    "    print(\"Instructions for SmartLab Studio II\")\n",
    "\n",
    "checkbox_array_alignment= []\n",
    "for step in step_list_alignment:\n",
    "    step_index = str(step_list_alignment.index(step)+1)\n",
    "    checkbox = widgets.Checkbox(description = \"<strong> Step </strong>\"+step_index+\":\")\n",
    "    checkbox_array_alignment.append(checkbox)\n",
    "    #use HTMLMath widget to get text right\n",
    "    temp_step = widgets.HTMLMath(step)\n",
    "    #set up a GridBox to display properly\n",
    "    box = widgets.GridBox([checkbox, temp_step],layout=Layout(width='100%',\n",
    "            grid_template_columns='20% 80% ',\n",
    "            grid_template_areas='''\n",
    "            \"checkbox temp_step\"\n",
    "            '''))\n",
    "    display(box)\n",
    "    \n",
    "#create finish button that verifies all steps have been completed\n",
    "pb2 = widgets.Button(\n",
    "    description='Finish!',\n",
    "    disabled=False,\n",
    "    button_style='info', # 'success', 'info', 'warning', 'danger' or ''\n",
    ")\n",
    "    \n",
    "#defining what the button will do on clicking\n",
    "def on_button_clicked(b):\n",
    "    print(\"------------------------------------------------------------------------------------\")\n",
    "    print(\"clicked on: Finish!\")\n",
    "    steps_completed=0\n",
    "    for checkbox in checkbox_array_alignment:\n",
    "        if checkbox.value ==True:\n",
    "            steps_completed+=1\n",
    "            continue;\n",
    "        else:\n",
    "            print(\"You did not complete step \" + str(checkbox_array_alignment.index(checkbox)+1))\n",
    "            pb2.button_style='danger'\n",
    "    if steps_completed == len(checkbox_array_alignment):\n",
    "        print(\"You finished Sample Alignment. Good Job! Now we are ready to perform High Resolution X-ray Diffraction (HRXRD) on our sample.\")\n",
    "        pb2.button_style='success'\n",
    "        \n",
    "pb2.on_click(on_button_clicked)\n",
    "display(pb2)"
   ]
  },
  {
   "cell_type": "markdown",
   "metadata": {},
   "source": [
    "## 3. Performing HRXRD"
   ]
  },
  {
   "cell_type": "markdown",
   "metadata": {},
   "source": [
    "When the instructions state move to the center of a peak, this implies moving to the center of the FWHM of the peak. In both Guidance and Studio II, this can be done by checking off the Move to Peak box before your scan. Make sure the Move to Peak method is FWHM.\n",
    "\n",
    "Because the incident beam is quite narrow, it is important to align correctly. The substrate produces a very narrow peak and we align to this peak to acquire the best resolution (i.e. aligning $\\omega$ and tilt (R$_x$)). \n",
    "\n",
    "## Alignment of sample R$_x$ and $\\omega$ stage based on substrate Bragg peak:\n",
    "\n",
    "### Follow the instructions and put a check mark in each step as you advance. These steps are to measure the (006) diffraction peak of the substrate (Al$_2$O$_3$) with a longitudinal scan along the direction of the G</strong><sub>006</sub> vector in reciprical space and with a transverse scan or so-called  \"rocking curve\" where the scattering vector Q is fixed in length by fixing $2\\theta$ and it's tip scans along an arc passing through the 006 reciprocal lattice point. Prior to these scans it is necessary to carefully align the G</strong><sub>006</sub> vector perpendicular to the $2\\theta$ axis of the diffractometer by slighly adjusting the tilt  (R$_x$ ) and the $\\omega$ of the sample."
   ]
  },
  {
   "cell_type": "code",
   "execution_count": 11,
   "metadata": {},
   "outputs": [
    {
     "data": {
      "text/html": [
       "<script>\n",
       "code_show=true; \n",
       "function code_toggle() {\n",
       "    if (code_show){\n",
       "        $('div.cell.code_cell.rendered.selected div.input').hide();\n",
       "    } else {\n",
       "        $('div.cell.code_cell.rendered.selected div.input').show();\n",
       "    }\n",
       "    code_show = !code_show\n",
       "} \n",
       "$( document ).ready(code_toggle);\n",
       "</script>\n",
       "(To show/hide this cell's raw code input, click <a href=\"javascript:code_toggle()\">here</a>.)"
      ],
      "text/plain": [
       "<IPython.core.display.HTML object>"
      ]
     },
     "metadata": {},
     "output_type": "display_data"
    },
    {
     "name": "stdout",
     "output_type": "stream",
     "text": [
      "Instructions for SmartLab Studio II\n"
     ]
    },
    {
     "data": {
      "application/vnd.jupyter.widget-view+json": {
       "model_id": "cfdf40d842114daeb877c33bd14ea893",
       "version_major": 2,
       "version_minor": 0
      },
      "text/plain": [
       "GridBox(children=(Checkbox(value=False, description='<strong> Step </strong>1:'), HTMLMath(value='We will perf…"
      ]
     },
     "metadata": {},
     "output_type": "display_data"
    },
    {
     "data": {
      "application/vnd.jupyter.widget-view+json": {
       "model_id": "013384d0197941938597ffb226c41819",
       "version_major": 2,
       "version_minor": 0
      },
      "text/plain": [
       "GridBox(children=(Checkbox(value=False, description='<strong> Step </strong>2:'), HTMLMath(value='Save the pre…"
      ]
     },
     "metadata": {},
     "output_type": "display_data"
    },
    {
     "data": {
      "application/vnd.jupyter.widget-view+json": {
       "model_id": "52b5440be3764b45afd6427ae80e06ff",
       "version_major": 2,
       "version_minor": 0
      },
      "text/plain": [
       "GridBox(children=(Checkbox(value=False, description='<strong> Step </strong>3:'), HTMLMath(value='Select the $…"
      ]
     },
     "metadata": {},
     "output_type": "display_data"
    },
    {
     "data": {
      "application/vnd.jupyter.widget-view+json": {
       "model_id": "e07f3d9d240e4b6e9b1909fe82143849",
       "version_major": 2,
       "version_minor": 0
      },
      "text/plain": [
       "GridBox(children=(Checkbox(value=False, description='<strong> Step </strong>4:'), HTMLMath(value='Select the $…"
      ]
     },
     "metadata": {},
     "output_type": "display_data"
    },
    {
     "data": {
      "application/vnd.jupyter.widget-view+json": {
       "model_id": "51226527a331487c846987f184cb91e5",
       "version_major": 2,
       "version_minor": 0
      },
      "text/plain": [
       "GridBox(children=(Checkbox(value=False, description='<strong> Step </strong>5:'), HTMLMath(value='Do an $\\\\ome…"
      ]
     },
     "metadata": {},
     "output_type": "display_data"
    },
    {
     "data": {
      "application/vnd.jupyter.widget-view+json": {
       "model_id": "92964b9f1a7b4c25ab1edd607f96846b",
       "version_major": 2,
       "version_minor": 0
      },
      "text/plain": [
       "GridBox(children=(Checkbox(value=False, description='<strong> Step </strong>6:'), HTMLMath(value='Select the R…"
      ]
     },
     "metadata": {},
     "output_type": "display_data"
    },
    {
     "data": {
      "application/vnd.jupyter.widget-view+json": {
       "model_id": "57fe0e7e8e7549d7b34bf1581d168b5e",
       "version_major": 2,
       "version_minor": 0
      },
      "text/plain": [
       "GridBox(children=(Checkbox(value=False, description='<strong> Step </strong>7:'), HTMLMath(value='Do an R$_x$ …"
      ]
     },
     "metadata": {},
     "output_type": "display_data"
    },
    {
     "data": {
      "application/vnd.jupyter.widget-view+json": {
       "model_id": "355ace47a20e48cdb8ed9ddaaff65278",
       "version_major": 2,
       "version_minor": 0
      },
      "text/plain": [
       "GridBox(children=(Checkbox(value=False, description='<strong> Step </strong>8:'), HTMLMath(value='Repeat $\\\\om…"
      ]
     },
     "metadata": {},
     "output_type": "display_data"
    },
    {
     "data": {
      "application/vnd.jupyter.widget-view+json": {
       "model_id": "f3600bb96d4048078d7d69f43744c5ee",
       "version_major": 2,
       "version_minor": 0
      },
      "text/plain": [
       "GridBox(children=(Checkbox(value=False, description='<strong> Step </strong>9:'), HTMLMath(value='Save $\\\\omeg…"
      ]
     },
     "metadata": {},
     "output_type": "display_data"
    },
    {
     "data": {
      "application/vnd.jupyter.widget-view+json": {
       "model_id": "aa2db1da229d455190c33d72a79b0d87",
       "version_major": 2,
       "version_minor": 0
      },
      "text/plain": [
       "GridBox(children=(Checkbox(value=False, description='<strong> Step </strong>10:'), HTMLMath(value='Write in th…"
      ]
     },
     "metadata": {},
     "output_type": "display_data"
    },
    {
     "data": {
      "application/vnd.jupyter.widget-view+json": {
       "model_id": "17689b59ac90435285c1d72d6c070019",
       "version_major": 2,
       "version_minor": 0
      },
      "text/plain": [
       "GridBox(children=(Checkbox(value=False, description='<strong> Step </strong>11:'), HTMLMath(value='Select the …"
      ]
     },
     "metadata": {},
     "output_type": "display_data"
    },
    {
     "data": {
      "application/vnd.jupyter.widget-view+json": {
       "model_id": "aced8ba878d84855b6c5cb2ce9178a69",
       "version_major": 2,
       "version_minor": 0
      },
      "text/plain": [
       "GridBox(children=(Checkbox(value=False, description='<strong> Step </strong>12:'), HTMLMath(value='Save $2\\\\th…"
      ]
     },
     "metadata": {},
     "output_type": "display_data"
    },
    {
     "data": {
      "application/vnd.jupyter.widget-view+json": {
       "model_id": "65ea60fdc93549c29c45666b608e03c0",
       "version_major": 2,
       "version_minor": 0
      },
      "text/plain": [
       "GridBox(children=(Checkbox(value=False, description='<strong> Step </strong>13:'), HTMLMath(value='Write in th…"
      ]
     },
     "metadata": {},
     "output_type": "display_data"
    },
    {
     "data": {
      "application/vnd.jupyter.widget-view+json": {
       "model_id": "80afb64aeaec4173b8331153d557c86d",
       "version_major": 2,
       "version_minor": 0
      },
      "text/plain": [
       "Button(button_style='info', description='Finish!', style=ButtonStyle())"
      ]
     },
     "metadata": {},
     "output_type": "display_data"
    }
   ],
   "source": [
    "display(tag)\n",
    "#Displaying a checklist for to do list\n",
    "#https://stackoverflow.com/questions/41469554/python-jupyter-notebook-create-dynamic-checklist-user-input-that-runs-code\n",
    "\n",
    "step_list_sub_guidance = ['We will perform a survey scan over $2\\\\theta$/$\\omega$ $2\\\\theta$/$\\omega$. Select the $2\\\\theta$/$\\omega$ axis in Manual Control and perform an absolute scan from 35 to 45° with step size 0.02° at speed of 2°/minute. The units are in terms of 2$\\\\theta$.',\n",
    "                  'Save the previous scan into your netID directory in the following format: \"2thw_SURVEY.ras\".',               \n",
    "           'Select the $2\\\\theta$/$\\omega$ axis  in Manual Control. Move to the substrate peak you should have seen in your survey scan.',\n",
    "            'Select the $\\omega$ axis in Manual Control. Check the option Move to Peak. Make sure Automatic Attenuator is on.',\n",
    "            'Do an $\\omega$ scan [Relative -.10 to .10, step=0.0006 deg/step, speed=.6 deg/min] and move to center.',\n",
    "            'Select the R$_x$ axis in Manual Control.  Make sure Automatic Attenuator is on.',\n",
    "            'Do an R$_x$ scan [Relative -1 to 1, step=0.05 deg/step, speed=4 deg/min]. Make sure Move to Peak is selected. Here, you are optimizing the intensity by rotating the sample in an axis $90^{\\circ}$ off of the R$_y$ axis. We will now perform another $\\omega$ scan to see the effects of aligning R$_x$.',\n",
    "            'Repeat $\\omega$ scan [Relative -.05 to .05, step=0.0006 deg/step, speed=.1 deg/min] and move to center.',\n",
    "            'Save the $\\omega$ scan in your folder in following format: \"W_Al2O3_006.ras\" This is known as the <strong>Rocking Curve</strong> of the substrate.',\n",
    "            'Write in the <strong>Important Parameters</strong> section above:  FWHM, position, and intensity of the rocking curve of Al$_2$O$_3$ (006). The FWHM is the resolution of the equipment in the $\\omega$ direction. You can find this information in the Smartlab software Data Browser.',\n",
    "            'Select the $2\\\\theta$/$\\omega$ axis. Perform a $2\\\\theta$/$\\omega$ scan [Relative -.10 to .10, step=0.0008 deg/step, speed=0.4 deg/min].',\n",
    "            'Save $2\\\\theta$/$\\omega$ scan in your folder in following format: \"2TW_Al2O3_006.ras\"',\n",
    "            'Write in the <strong>Important Parameters</strong>  section above:  FWHM, position, and intensity of the Al$_2$O$_3$ (006) Bragg Peak. The FWHM is the resolution of the equipment in the $2\\\\theta$/$\\omega$ direction.']\n",
    "\n",
    "\n",
    "# To do list containing all the steps for HRXRD\n",
    "step_list_sub_studio = ['We will perform a survey scan over $2\\\\theta$/$\\omega$. Select the $2\\\\theta$/$\\omega$ axis in Pro Control and perform an absolute scan from 35 to 45° with step size 0.02° at speed of 2°/minute. The units are in terms of 2$\\\\theta$.',\n",
    "                  'Save the previous scan into your netID directory in the following format: \"2thw_SURVEY.ras\".',\n",
    "            'Select the $2\\\\theta$/$\\omega$ axis  in Pro Control. Move to the substrate peak you should have seen in your survey scan.',\n",
    "            'Select the $\\omega$ axis in Pro Control. Check the option Move to Peak and in Set, select FWHM Center for Peak Search Method. Make sure Automatic Attenuator is on.',\n",
    "            'Do an $\\omega$ scan [Relative -.10 to .10, step=0.0006 deg/step, speed=.6 deg/min] and move to center.',\n",
    "            'Select the R$_x$ axis in Pro Control.  Make sure Automatic Attenuator is on.',\n",
    "            'Do an R$_x$ scan [Relative -1 to 1, step=0.05 deg/step, speed=4 deg/min]. Check that Move to Peak is set correctly. Here, you are optimizing the intensity by rotating the sample in an axis $90^{\\circ}$ off of the R$_y$ axis. We will now perform another $\\omega$ scan to see the effects of aligning R$_x$.',\n",
    "            'Repeat $\\omega$ scan [Relative -.05 to .05, step=0.0006 deg/step, speed=.1 deg/min] and move to center.',\n",
    "            'Save $\\omega$ scan. Right click on your last $\\omega$ scan in Data Browser. Select export, to File and save in your folder in following format: \"W_Al2O3_006.ras\" This is known as the <strong>Rocking Curve</strong> of the substrate.',\n",
    "            'Write in the <strong>Important Parameters</strong> section above:  FWHM, position, and intensity of the rocking curve of Al$_2$O$_3$ (006). The FWHM is the resolution of the equipment in the $\\omega$ direction. You can find this information in the Smartlab software Data Browser.',\n",
    "            'Select the $2\\\\theta$/$\\omega$ axis. Perform a $2\\\\theta$/$\\omega$ scan [Relative -.10 to .10, step=0.0008 deg/step, speed=0.4 deg/min].',\n",
    "            'Save $2\\\\theta$/$\\omega$ scan. Right click on your last $2\\\\theta$/$\\omega$ scan in Data Browser. Select export, to File and save in your folder in following format: \"2TW_Al2O3_006.ras\"',\n",
    "            'Write in the <strong>Important Parameters</strong>  section above:  FWHM, position, and intensity of the Al$_2$O$_3$ (006) Bragg Peak. The FWHM is the resolution of the equipment in the $2\\\\theta$/$\\omega$ direction.']\n",
    "\n",
    "if (machine_toggle_1.value):\n",
    "    step_list_sub = step_list_sub_guidance\n",
    "    print(\"Instructions for SmartLab Guidance\")\n",
    "else:\n",
    "    step_list_sub = step_list_sub_studio\n",
    "    print(\"Instructions for SmartLab Studio II\")\n",
    "\n",
    "checkbox_array_sub = []\n",
    "for step in step_list_sub:\n",
    "    step_index = str(step_list_sub.index(step)+1)\n",
    "    checkbox = widgets.Checkbox(description = \"<strong> Step </strong>\"+step_index+\":\")\n",
    "    checkbox_array_sub.append(checkbox)\n",
    "    #use HTMLMath widget to get text right\n",
    "    temp_step = widgets.HTMLMath(step)\n",
    "    #set up a GridBox to display properly\n",
    "    box = widgets.GridBox([checkbox, temp_step],layout=Layout(width='100%',\n",
    "            grid_template_columns='20% 80% ',\n",
    "            grid_template_areas='''\n",
    "            \"checkbox temp_step\"\n",
    "            '''))\n",
    "    display(box)\n",
    "    \n",
    "#create finish button that verifies all steps have been completed\n",
    "pb4 = widgets.Button(\n",
    "    description='Finish!',\n",
    "    disabled=False,\n",
    "    button_style='info', # 'success', 'info', 'warning', 'danger' or ''\n",
    ")\n",
    "#defining what the button will do on clicking\n",
    "def on_button_clicked(b):\n",
    "    print(\"------------------------------------------------------------------------------------\")\n",
    "    print(\"clicked on: Finish!\")\n",
    "    steps_completed=0\n",
    "    for checkbox in checkbox_array_sub:\n",
    "        if checkbox.value ==True:\n",
    "            steps_completed+=1\n",
    "            continue;\n",
    "        else:\n",
    "            print(\"You did not complete step \" + str(checkbox_array_sub.index(checkbox)+1))\n",
    "            pb4.button_style='danger'\n",
    "    if steps_completed == len(checkbox_array_sub):\n",
    "        print(\"You completed all the steps. Nice job!\")\n",
    "        pb4.button_style='success'\n",
    "        \n",
    "pb4.on_click(on_button_clicked)\n",
    "display(pb4)"
   ]
  },
  {
   "cell_type": "markdown",
   "metadata": {},
   "source": [
    "Here is an example rocking curve scan for the substrate:"
   ]
  },
  {
   "cell_type": "code",
   "execution_count": 12,
   "metadata": {},
   "outputs": [
    {
     "data": {
      "text/html": [
       "<script>\n",
       "code_show=true; \n",
       "function code_toggle() {\n",
       "    if (code_show){\n",
       "        $('div.cell.code_cell.rendered.selected div.input').hide();\n",
       "    } else {\n",
       "        $('div.cell.code_cell.rendered.selected div.input').show();\n",
       "    }\n",
       "    code_show = !code_show\n",
       "} \n",
       "$( document ).ready(code_toggle);\n",
       "</script>\n",
       "(To show/hide this cell's raw code input, click <a href=\"javascript:code_toggle()\">here</a>.)"
      ],
      "text/plain": [
       "<IPython.core.display.HTML object>"
      ]
     },
     "metadata": {},
     "output_type": "display_data"
    },
    {
     "data": {
      "image/png": "[encoded data removed]",
      "text/plain": [
       "<Figure size 432x288 with 1 Axes>"
      ]
     },
     "metadata": {
      "needs_background": "light"
     },
     "output_type": "display_data"
    }
   ],
   "source": [
    "display(tag)\n",
    "df_omega_sub = pd.read_table('https://raw.githubusercontent.com/josephmccourt2018/lab_jupyter_notebooks/master/example/461_test/PLD50nmFe2O3_Al2O3/HRXRD_Lab/W_Al2O3_006v2.ras',sep = '\\s+',comment='*',names = [\"2TH\",\"Intensity\", \"attenuatation\"],header = None)\n",
    "plt.figure()\n",
    "plt.suptitle('Fig. 4:', fontsize=14, fontweight='bold')\n",
    "plt.title('Example $\\omega$ Scan for Substrate')\n",
    "plt.plot(df_omega_sub[df_omega_sub.columns[0]],df_omega_sub[df_omega_sub.columns[1]]*df_omega_sub[df_omega_sub.columns[2]])\n",
    "plt.yscale('log')\n",
    "plt.xlabel(\"$\\omega$($^{\\circ}$)\")\n",
    "plt.ylabel(df_omega_sub.columns[1]+\" (counts)\")\n",
    "plt.show()\n"
   ]
  },
  {
   "cell_type": "markdown",
   "metadata": {},
   "source": [
    "### Follow the instructions and put a check mark in each step as you advance. These steps are to measure the fundamental diffraction peak of the film Pt or (Fe$_2$O$_3$) and to perform a rocking curve."
   ]
  },
  {
   "cell_type": "code",
   "execution_count": 13,
   "metadata": {
    "scrolled": false
   },
   "outputs": [
    {
     "data": {
      "text/html": [
       "<script>\n",
       "code_show=true; \n",
       "function code_toggle() {\n",
       "    if (code_show){\n",
       "        $('div.cell.code_cell.rendered.selected div.input').hide();\n",
       "    } else {\n",
       "        $('div.cell.code_cell.rendered.selected div.input').show();\n",
       "    }\n",
       "    code_show = !code_show\n",
       "} \n",
       "$( document ).ready(code_toggle);\n",
       "</script>\n",
       "(To show/hide this cell's raw code input, click <a href=\"javascript:code_toggle()\">here</a>.)"
      ],
      "text/plain": [
       "<IPython.core.display.HTML object>"
      ]
     },
     "metadata": {},
     "output_type": "display_data"
    },
    {
     "name": "stdout",
     "output_type": "stream",
     "text": [
      "Instructions for SmartLab Studio II\n"
     ]
    },
    {
     "data": {
      "application/vnd.jupyter.widget-view+json": {
       "model_id": "c03bb8892220463d9e91a577aa5c04bb",
       "version_major": 2,
       "version_minor": 0
      },
      "text/plain": [
       "GridBox(children=(Checkbox(value=False, description='<strong> Step </strong>1:'), HTMLMath(value='Select the $…"
      ]
     },
     "metadata": {},
     "output_type": "display_data"
    },
    {
     "data": {
      "application/vnd.jupyter.widget-view+json": {
       "model_id": "c403bc5fa72746cdb65046d50b660f67",
       "version_major": 2,
       "version_minor": 0
      },
      "text/plain": [
       "GridBox(children=(Checkbox(value=False, description='<strong> Step </strong>2:'), HTMLMath(value='Perform a  $…"
      ]
     },
     "metadata": {},
     "output_type": "display_data"
    },
    {
     "data": {
      "application/vnd.jupyter.widget-view+json": {
       "model_id": "ddf6097ae8d64a8e994aeea4945e0f5f",
       "version_major": 2,
       "version_minor": 0
      },
      "text/plain": [
       "GridBox(children=(Checkbox(value=False, description='<strong> Step </strong>3:'), HTMLMath(value='Write in the…"
      ]
     },
     "metadata": {},
     "output_type": "display_data"
    },
    {
     "data": {
      "application/vnd.jupyter.widget-view+json": {
       "model_id": "f9e36146b55a4aa68753249240b6d09e",
       "version_major": 2,
       "version_minor": 0
      },
      "text/plain": [
       "GridBox(children=(Checkbox(value=False, description='<strong> Step </strong>4:'), HTMLMath(value='Select the $…"
      ]
     },
     "metadata": {},
     "output_type": "display_data"
    },
    {
     "data": {
      "application/vnd.jupyter.widget-view+json": {
       "model_id": "a5f613fc2a3d470d800282a01c299df8",
       "version_major": 2,
       "version_minor": 0
      },
      "text/plain": [
       "GridBox(children=(Checkbox(value=False, description='<strong> Step </strong>5:'), HTMLMath(value='Save $\\\\omeg…"
      ]
     },
     "metadata": {},
     "output_type": "display_data"
    },
    {
     "data": {
      "application/vnd.jupyter.widget-view+json": {
       "model_id": "0cab98f5ac0748b6961f9f3f601c0d91",
       "version_major": 2,
       "version_minor": 0
      },
      "text/plain": [
       "GridBox(children=(Checkbox(value=False, description='<strong> Step </strong>6:'), HTMLMath(value='Write in the…"
      ]
     },
     "metadata": {},
     "output_type": "display_data"
    },
    {
     "data": {
      "application/vnd.jupyter.widget-view+json": {
       "model_id": "b3359dde57db4bee9f2c0e04c3ba1fd0",
       "version_major": 2,
       "version_minor": 0
      },
      "text/plain": [
       "GridBox(children=(Checkbox(value=False, description='<strong> Step </strong>7:'), HTMLMath(value='Select the $…"
      ]
     },
     "metadata": {},
     "output_type": "display_data"
    },
    {
     "data": {
      "application/vnd.jupyter.widget-view+json": {
       "model_id": "7b7c0e3d542d426895481b404348805a",
       "version_major": 2,
       "version_minor": 0
      },
      "text/plain": [
       "GridBox(children=(Checkbox(value=False, description='<strong> Step </strong>8:'), HTMLMath(value='Save the $2\\…"
      ]
     },
     "metadata": {},
     "output_type": "display_data"
    },
    {
     "data": {
      "application/vnd.jupyter.widget-view+json": {
       "model_id": "4e4279e0c8b64d4ab3ac2748c0d4016e",
       "version_major": 2,
       "version_minor": 0
      },
      "text/plain": [
       "GridBox(children=(Checkbox(value=False, description='<strong> Step </strong>9:'), HTMLMath(value='Repeat steps…"
      ]
     },
     "metadata": {},
     "output_type": "display_data"
    },
    {
     "data": {
      "application/vnd.jupyter.widget-view+json": {
       "model_id": "b2a00cc372364a6a82be10e8e8810816",
       "version_major": 2,
       "version_minor": 0
      },
      "text/plain": [
       "Button(button_style='info', description='Finish!', style=ButtonStyle())"
      ]
     },
     "metadata": {},
     "output_type": "display_data"
    }
   ],
   "source": [
    "display(tag)\n",
    "#Displaying a checklist for to do list\n",
    "#https://stackoverflow.com/questions/41469554/python-jupyter-notebook-create-dynamic-checklist-user-input-that-runs-code\n",
    "\n",
    "step_list_film_guidance = ['Select the $2\\\\theta$/$\\omega$ axis in Manual Control. Move to the Fe$_2$O$_3$ (006) or Pt (111) film peak. You should have seen this peak in your survey scan.',\n",
    "            'Perform a  $2\\\\theta$/$\\omega$ scan [Relative -1° to 1°, step = 0.01°/step, speed=1°/min] and move to center.',\n",
    "            'Write in the <strong>Important Parameters</strong> section above:  FWHM, position, and intensity of the  Fe$_2$O$_3$ (006) or Pt(111)  Bragg Peak.',\n",
    "            'Select the $\\omega$ Axis  in Manual Control. Perform a omega scan [Relative -.5° to .5°, step=0.01°/step, speed=0.5°/min] and move to center.',\n",
    "            'Save $\\omega$ scan. Right click on your last $\\omega$ scan in Data Browser. Select export, to File and save in your folder in following format: \"W_Fe2O3_006.ras\" or \"W_Pt111.ras\" This is known as the <strong>Rocking Curve</strong> of the film.',\n",
    "            'Write in the <strong>Important Parameters</strong> section above:  FWHM, position, and intensity of the rocking curve of Fe$_2$O$_3$ (006) or or Pt(111).',\n",
    "            'Select the $2\\\\theta$/$\\omega$ axis  in Manual Control.  Click on the option Absolute. Perform a long $2\\\\theta$/$\\omega$ scan. The lower limit of your range should correspond to where the Keissig fringes dissapear into the background and the upper limit should be 1° above the substrate Bragg peak or where the Kiessig fringes disappear into the background (whichever is highest) [speed=0.25°/min].  For the step size do approximately 1/10 of the FWHM of the film peak (10 data points per peak is a good \"rule of thumb\").',\n",
    "            'Save the $2\\\\theta$/$\\omega$ scan. \"2thw_HRXRD_BraggPeaks1.ras\" ',\n",
    "            'Repeat steps 1-8 for the second order film and substrate Bragg peaks (change the names of the saved files accordingly).']\n",
    "\n",
    "# To do list containing all the steps for HRXRD\n",
    "step_list_film_studio = [ 'Select the $2\\\\theta$/$\\omega$ axis in Pro Control. Move to the Fe$_2$O$_3$ (006) or Pt (111) film peak. You should have seen this peak in your survey scan.',\n",
    "            'Perform a  $2\\\\theta$/$\\omega$ scan [Relative -1° to 1°, step = 0.01°/step, speed=1°/min] and move to center.',\n",
    "            'Write in the <strong>Important Parameters</strong> section above:  FWHM, position, and intensity of the  Fe$_2$O$_3$ (006) or Pt(111)  Bragg Peak.',\n",
    "            'Select the $\\omega$ Axis  in Pro Control. Perform a omega scan [Relative -.5° to .5°, step=0.01°/step, speed=0.5°/min] and move to center.',\n",
    "            'Save $\\omega$ scan. Right click on your last $\\omega$ scan in Data Browser. Select export, to File and save in your folder in following format: \"W_Fe2O3_006.ras\" or \"W_Pt111.ras\" This is known as the <strong>Rocking Curve</strong> of the film.',\n",
    "            'Write in the <strong>Important Parameters</strong> section above:  FWHM, position, and intensity of the rocking curve of Fe$_2$O$_3$ (006) or or Pt(111).',\n",
    "            'Select the $2\\\\theta$/$\\omega$ axis  in Pro Control.  Click on the option Absolute. Perform a long $2\\\\theta$/$\\omega$ scan. The lower limit of your range should correspond to where the Keissig fringes dissapear into the background and the upper limit should be 1° above the substrate Bragg peak or where the Kiessig fringes disappear into the background (whichever is highest) [speed=0.25°/min].  For the step size do approximately 1/10 of the FWHM of the film peak (10 data points per peak is a good \"rule of thumb\").',\n",
    "            'Save the $2\\\\theta$/$\\omega$ scan. \"2thw_HRXRD_BraggPeaks1.ras\"',\n",
    "            'Repeat steps 1-8 for the second order film and substrate Bragg peaks (change the names of the saved files accordingly).']\n",
    "\n",
    "if (machine_toggle_1.value):\n",
    "    step_list_film = step_list_film_guidance\n",
    "    print(\"Instructions for SmartLab Guidance\")\n",
    "else:\n",
    "    step_list_film = step_list_film_studio\n",
    "    print(\"Instructions for SmartLab Studio II\")\n",
    "\n",
    "checkbox_array_film = []\n",
    "for step in step_list_film:\n",
    "    step_index = str(step_list_film.index(step)+1)\n",
    "    checkbox = widgets.Checkbox(description = \"<strong> Step </strong>\"+step_index+\":\")\n",
    "    checkbox_array_film.append(checkbox)\n",
    "    #use HTMLMath widget to get text right\n",
    "    temp_step = widgets.HTMLMath(step)\n",
    "    #set up a GridBox to display properly\n",
    "    box = widgets.GridBox([checkbox, temp_step],layout=Layout(width='100%',\n",
    "            grid_template_columns='20% 80% ',\n",
    "            grid_template_areas='''\n",
    "            \"checkbox temp_step\"\n",
    "            '''))\n",
    "    display(box)\n",
    "    \n",
    "#create finish button that verifies all steps have been completed\n",
    "pb3 = widgets.Button(\n",
    "    description='Finish!',\n",
    "    disabled=False,\n",
    "    button_style='info', # 'success', 'info', 'warning', 'danger' or ''\n",
    ")\n",
    "#defining what the button will do on clicking\n",
    "def on_button_clicked(b):\n",
    "    print(\"------------------------------------------------------------------------------------\")\n",
    "    print(\"clicked on: Finish!\")\n",
    "    steps_completed=0\n",
    "    for checkbox in checkbox_array_film:\n",
    "        if checkbox.value ==True:\n",
    "            steps_completed+=1\n",
    "            continue;\n",
    "        else:\n",
    "            print(\"You did not complete step \" + str(checkbox_array_film.index(checkbox)+1))\n",
    "            pb3.button_style='danger'\n",
    "    if steps_completed == len(checkbox_array_film):\n",
    "        print(\"You completed all the steps. Nice job!\")\n",
    "        pb3.button_style='success'\n",
    "        \n",
    "pb3.on_click(on_button_clicked)\n",
    "display(pb3)"
   ]
  },
  {
   "cell_type": "markdown",
   "metadata": {},
   "source": [
    "Here is an example scan over $2\\theta$/$\\omega$ that shows peaks due to the film and substrate:"
   ]
  },
  {
   "cell_type": "code",
   "execution_count": 15,
   "metadata": {},
   "outputs": [
    {
     "data": {
      "text/html": [
       "<script>\n",
       "code_show=true; \n",
       "function code_toggle() {\n",
       "    if (code_show){\n",
       "        $('div.cell.code_cell.rendered.selected div.input').hide();\n",
       "    } else {\n",
       "        $('div.cell.code_cell.rendered.selected div.input').show();\n",
       "    }\n",
       "    code_show = !code_show\n",
       "} \n",
       "$( document ).ready(code_toggle);\n",
       "</script>\n",
       "(To show/hide this cell's raw code input, click <a href=\"javascript:code_toggle()\">here</a>.)"
      ],
      "text/plain": [
       "<IPython.core.display.HTML object>"
      ]
     },
     "metadata": {},
     "output_type": "display_data"
    },
    {
     "data": {
      "image/png": "[encoded data removed]",
      "text/plain": [
       "<Figure size 432x288 with 1 Axes>"
      ]
     },
     "metadata": {
      "needs_background": "light"
     },
     "output_type": "display_data"
    }
   ],
   "source": [
    "display(tag)\n",
    "file_surv= \"https://raw.githubusercontent.com/josephmccourt2018/lab_jupyter_notebooks/master/example/461_test/PLD50nmFe2O3_Al2O3/HRXRD_Lab/2thW_both_006.ras\"\n",
    "\n",
    "df_surv = pd.read_table(file_surv,sep = '\\s+',comment='*',names = [\"2TH\",\"Intensity\", \"attenuatation\"],header = None)\n",
    "plt.figure()\n",
    "plt.suptitle('Fig. 5:', fontsize=14, fontweight='bold')\n",
    "plt.title('Example $2\\\\theta$/$\\omega$ scan')\n",
    "plt.plot(df_surv[df_surv.columns[0]],df_surv[df_surv.columns[1]]*df_surv[df_surv.columns[2]]/2.4)\n",
    "#2.4 is seconds per point based on scan speed and step size\n",
    "plt.yscale('log')\n",
    "plt.xlabel(\"2$\\\\theta$($^{\\circ}$)\")\n",
    "plt.ylabel(df_surv.columns[1]+\" (cps)\")\n",
    "plt.show()\n",
    "\n",
    "#scan speed 0.5 deg/min, 0.02 step"
   ]
  },
  {
   "cell_type": "markdown",
   "metadata": {},
   "source": [
    "<div class=\"alert alert-block alert-info\">\n",
    "    <strong> Think about it... </strong>\n",
    "    \n",
    "   As stated in the introduction, the single crystal domain size of the film can be determined by the film Bragg peak. Does this value make sense based on your Lab 1 XRR measurement for the thickness of your film?\n",
    "</div>"
   ]
  },
  {
   "cell_type": "markdown",
   "metadata": {},
   "source": [
    "In addition, your rocking curve for the film should look similar to the following:"
   ]
  },
  {
   "cell_type": "code",
   "execution_count": 17,
   "metadata": {},
   "outputs": [
    {
     "data": {
      "text/html": [
       "<script>\n",
       "code_show=true; \n",
       "function code_toggle() {\n",
       "    if (code_show){\n",
       "        $('div.cell.code_cell.rendered.selected div.input').hide();\n",
       "    } else {\n",
       "        $('div.cell.code_cell.rendered.selected div.input').show();\n",
       "    }\n",
       "    code_show = !code_show\n",
       "} \n",
       "$( document ).ready(code_toggle);\n",
       "</script>\n",
       "(To show/hide this cell's raw code input, click <a href=\"javascript:code_toggle()\">here</a>.)"
      ],
      "text/plain": [
       "<IPython.core.display.HTML object>"
      ]
     },
     "metadata": {},
     "output_type": "display_data"
    },
    {
     "data": {
      "image/png": "[encoded data removed]",
      "text/plain": [
       "<Figure size 432x288 with 1 Axes>"
      ]
     },
     "metadata": {
      "needs_background": "light"
     },
     "output_type": "display_data"
    }
   ],
   "source": [
    "display(tag)\n",
    "file_omega_film=\"https://raw.githubusercontent.com/josephmccourt2018/lab_jupyter_notebooks/master/example/461_test/PLD50nmFe2O3_Al2O3/HRXRD_Lab/Ry_Fe2O3_006.ras\"\n",
    "\n",
    "df_omega_film = pd.read_table(file_omega_film,sep = '\\s+',comment='*',names = [\"2TH\",\"Intensity\", \"attenuatation\"],header = None)\n",
    "plt.figure()\n",
    "plt.suptitle('Fig. 6:', fontsize=14, fontweight='bold')\n",
    "plt.title('Example Rocking Curve for Film')\n",
    "plt.plot(df_omega_film[df_omega_film.columns[0]],df_omega_film[df_omega_film.columns[1]]*df_omega_film[df_omega_film.columns[2]])\n",
    "plt.yscale('log')\n",
    "plt.xlabel(\"R$_y$($^{\\circ}$)\")\n",
    "plt.ylabel(df_omega_film.columns[1]+\" (counts)\")\n",
    "plt.show()"
   ]
  },
  {
   "cell_type": "markdown",
   "metadata": {},
   "source": [
    "<div class=\"alert alert-block alert-info\">\n",
    "    <strong> Think about it... </strong>\n",
    "    \n",
    "   Note that the $x$-axis in the example rocking curve is labelled R$_y$. However, you performed an $\\omega$ scan so your $x$-axis would be $\\omega$. Explain this discrepancy based on the geometry of the diffractometer.\n",
    "</div>"
   ]
  },
  {
   "cell_type": "code",
   "execution_count": null,
   "metadata": {},
   "outputs": [],
   "source": [
    "display(tag)\n",
    "df_2tw_2 = pd.read_table('https://raw.githubusercontent.com/josephmccourt2018/lab_jupyter_notebooks/master/example/461_test/PLD50nmFe2O3_Al2O3/HRXRD_Lab/2thW_both_0012.ras',sep = '\\s+',comment='*',names = [\"2TH\",\"Intensity\", \"attenuatation\"],header = None)\n",
    "plt.figure()\n",
    "plt.suptitle('Fig. 7:', fontsize=14, fontweight='bold')\n",
    "plt.title('Example $2\\\\theta$/$\\omega$ Scan for Second Order Peaks')\n",
    "plt.plot(df_2tw_2[df_2tw_2.columns[0]],df_2tw_2[df_2tw_2.columns[1]]*df_2tw_2[df_2tw_2.columns[2]])\n",
    "plt.yscale('log')\n",
    "plt.xlabel(\"$2\\\\theta$/$\\omega$($^{\\circ}$)\")\n",
    "plt.ylabel(df_2tw_2.columns[1]+\" (counts)\")\n",
    "plt.show()"
   ]
  },
  {
   "cell_type": "markdown",
   "metadata": {},
   "source": [
    "# 4. Finishing Measurement\n",
    "\n",
    "Congratulations on performing an HRXRD experiment. It is now time to complete some final steps. Always leave the Smartlab in the same state as it was before you began your experiment (e.g. X-ray source turned off, software closed, etc.).\n",
    "\n",
    "### Follow the instructions and put a check mark in each step as you advance.\n",
    "\n",
    "The following experiment will be performed in the *Pro/Manual Control* window of Smartlab Studio 2 software."
   ]
  },
  {
   "cell_type": "code",
   "execution_count": null,
   "metadata": {},
   "outputs": [],
   "source": [
    "display(tag)\n",
    "\n",
    "#Displaying a checklist for to do list\n",
    "#https://stackoverflow.com/questions/41469554/python-jupyter-notebook-create-dynamic-checklist-user-input-that-runs-code\n",
    "\n",
    "\n",
    "# To do list containing all the steps for XRR on SmartLab (Gen 3? or Gen 2? the latest one)\n",
    "step_list_finish = ['Make sure the following motors are set to zero in the H/W Status Tab: $2\\\\theta$, $\\omega$, $2\\\\theta\\chi$, $\\chi$, $\\phi$, R$_x$, R$_y$. If not, open the tab for the specific motor in Pro/Manual Control, put zero and click on Move.',\n",
    "            'Open XG Control.',\n",
    "            'Turn Off the X-Ray by clicking the Off button. There is no need to set the voltage or current to any value.',\n",
    "            'In the Data Browser Window, delete all your scans so next user can start with a clean workspace. Make sure you have all the necessary scans saved.']\n",
    "checkbox_array_finish = []\n",
    "for step in step_list_finish:\n",
    "    step_index = str(step_list_finish.index(step)+1)\n",
    "    checkbox = widgets.Checkbox(description = \"<strong> Step </strong>\"+step_index+\":\")\n",
    "    checkbox_array_finish.append(checkbox)\n",
    "    #use HTMLMath widget to get text right\n",
    "    temp_step = widgets.HTMLMath(step)\n",
    "    #set up a GridBox to display properly\n",
    "    box = widgets.GridBox([checkbox, temp_step],layout=Layout(width='100%',\n",
    "            grid_template_columns='20% 80% ',\n",
    "            grid_template_areas='''\n",
    "            \"checkbox temp_step\"\n",
    "            '''))\n",
    "    display(box)\n",
    "    \n",
    "#create finish button that verifies all steps have been completed\n",
    "pb5 = widgets.Button(\n",
    "    description='Finish!',\n",
    "    disabled=False,\n",
    "    button_style='info', # 'success', 'info', 'warning', 'danger' or ''\n",
    ")\n",
    "#defining what the button will do on clicking\n",
    "def on_button_clicked(b):\n",
    "    print(\"------------------------------------------------------------------------------------\")\n",
    "    print(\"clicked on: Finish!\")\n",
    "    steps_completed=0\n",
    "    for checkbox in checkbox_array_finish:\n",
    "        if checkbox.value ==True:\n",
    "            steps_completed+=1\n",
    "            continue;\n",
    "        else:\n",
    "            print(\"You did not complete step \" + str(checkbox_array_finish.index(checkbox)+1))\n",
    "            pb5.button_style='danger'\n",
    "    if steps_completed == len(checkbox_array_finish):\n",
    "        print(\"You are all set!\")\n",
    "        print(\"Please let us know if anything can be improved.\") \n",
    "        pb5.button_style='success'\n",
    "        \n",
    "pb5.on_click(on_button_clicked)\n",
    "display(pb5)"
   ]
  },
  {
   "cell_type": "markdown",
   "metadata": {},
   "source": [
    "## Summary of the Labs So Far\n",
    "\n",
    "**Lab 1 XRR**: Investigating the thickness, roughness, and electron densities of our film and substrate.\n",
    "\n",
    "**Lab 2 HRXRD Specular**: Determining the out of plane lattice constant for the film and looking at the mosaicity of the film.\n",
    "\n",
    "**_(Upcoming)_ Lab 3 HRXRD Off Specular**: We will determine the in plane crystallographic alignment of the film lattice relative to the subtrate lattice. In the process of doing this you will also prove that the film is not textured polycrystale, but is epitaxial ."
   ]
  }
 ],
 "metadata": {
  "kernelspec": {
   "display_name": "Python 3",
   "language": "python",
   "name": "python3"
  },
  "language_info": {
   "codemirror_mode": {
    "name": "ipython",
    "version": 3
   },
   "file_extension": ".py",
   "mimetype": "text/x-python",
   "name": "python",
   "nbconvert_exporter": "python",
   "pygments_lexer": "ipython3",
   "version": "3.7.4"
  }
 },
 "nbformat": 4,
 "nbformat_minor": 2
}
