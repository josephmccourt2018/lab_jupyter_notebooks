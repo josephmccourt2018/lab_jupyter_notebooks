{
 "cells": [
  {
   "cell_type": "markdown",
   "metadata": {},
   "source": [
    "&copy; Bedzyk Research Group 2020, Northwestern University"
   ]
  },
  {
   "cell_type": "markdown",
   "metadata": {},
   "source": [
    "# Download \"Lab_Exercises\" Folder and Start Up Jupyter Notebook with Anaconda Navigator\n",
    "First, navigate to the Canvas page for the MSE 461 course. There, you will find a \"Lab_Exercises\" folder within \"Files\". Download this folder to your personal computer and place it where ever you please (for example: Documents).\n",
    "\n",
    "You should already have Anaconda installed. If not, please refer to \"Installing_Anaconda_and_Jupyter_Notebook.pdf\" in the Files directory on Canvas. Open up the app called Anaconda Navigator. Launch the Jupyter Notebook integrated develoment environment (IDE).\n",
    "\n",
    "Upon opening Jupyter Notebook, you should see something that looks like the following only the folders and files displayed will be those from your own personal computer.\n",
    "\n",
    "\n",
    "<img src=\"https://github.com/josephmccourt2018/lab_jupyter_notebooks/blob/master/images/jupyter_home_screen_shot.png?raw=true\" /> \n",
    "\n",
    "We now want to navigate to the \"Lab_Exercises\" folder you just downloaded. Click on the directories shown in Jupyter Notebook until you are within the \"Lab_Exercises\" folder.\n",
    "\n",
    "Open up \"Starting_Up_Jupyter_Lab_Exercises_Anaconda_Navigator.ipynb\" by clicking on the text. A new tab will open up in your web browser and you should now see a jupyter notebook of the same pdf you are reading! Proceed to the **Jupyter Notebook Introduction** section within the jupyter notebook version of this pdf.\n",
    "\n",
    "The jupyter Home Page will still be an open tab in your web browser. In that tab, you can select other jupyter notebooks in the Lab_Exercises folder to open (for example: XRR_Lab1.ipynb).\n"
   ]
  },
  {
   "cell_type": "markdown",
   "metadata": {},
   "source": [
    "# Jupyter Notebook Introduction\n",
    "\n",
    "Jupyter Notebook is a an open source web application/user interface that allows users to create and share documents containing code, equations, visualizations, and narrative text by using a combination of different programming languages. In our Jupyter Notebooks, we will be using **Python 3** for all analysis purposes (in the top right corner of this page, you will see the tag Python 3 which tells you the programming language of the notebook). The most important concept of Jupyter Notebooks is the concept of a **cell block**. Clicking on a block of text or code will highlight (in blue in this case) the current cell block you are viewing. Click on this block of text. In the menu bar at the top of this document, you will see a drop down menu:  <img src=\"https://github.com/josephmccourt2018/lab_jupyter_notebooks/blob/master/images/markdown_dropdown.png?raw=true\" />\n",
    "\n",
    "**Markdown** is referring the type of this cell block. Markdown is a text formatting language supported in Jupyter Notebook. By *double clicking* on the text you are reading right now, you will see the Markdown version of the cell block. You will see the other types of supported cell blocks by clicking the drop down menu. For example, \"Code\" is another type of cell block you will be seeing in this document and they all contain snippets of Python 3 code. \n",
    "\n",
    "To run code of a particular cell block, click into the cell and either click the run button above: \n",
    "\n",
    "<img src=\"https://github.com/josephmccourt2018/lab_jupyter_notebooks/blob/master/images/run_jupyter.png?raw=true\" />\n",
    "\n",
    "or click \"Shift+Enter\" on your keyboard. Running a cell will also allow you to exit the \"code view\" version of a Markdown cell block. \n",
    "\n",
    "The following code cell block contains a line of code that declares a variable $x$ and assigns it with the value of $3$. Run that cell and try changing the value of $x$ to a different value."
   ]
  },
  {
   "cell_type": "code",
   "execution_count": 1,
   "metadata": {},
   "outputs": [
    {
     "name": "stdout",
     "output_type": "stream",
     "text": [
      "The value of x is 3\n"
     ]
    }
   ],
   "source": [
    "x = 3\n",
    "print(\"The value of x is \" + str(x))"
   ]
  },
  {
   "cell_type": "markdown",
   "metadata": {},
   "source": [
    "You will acquire much more practice with jupyter notebook throughout the lab exercises. This introduction is shown at the beginning of every lab notebook document in case you forget anything.\n",
    "\n",
    "Let us know if you have any questions!\n",
    "\n",
    "<div class=\"alert alert-block alert-warning\">\n",
    "    <strong>FINAL NOTE</strong>:\n",
    "<br><br/>\n",
    "Every time you want to access the jupyter notebooks for lab exercises, you must navigate to the \"Lab_Exercises\" directory!\n",
    "</div>\n"
   ]
  }
 ],
 "metadata": {
  "kernelspec": {
   "display_name": "Python 3",
   "language": "python",
   "name": "python3"
  },
  "language_info": {
   "codemirror_mode": {
    "name": "ipython",
    "version": 3
   },
   "file_extension": ".py",
   "mimetype": "text/x-python",
   "name": "python",
   "nbconvert_exporter": "python",
   "pygments_lexer": "ipython3",
   "version": "3.7.4"
  }
 },
 "nbformat": 4,
 "nbformat_minor": 2
}
