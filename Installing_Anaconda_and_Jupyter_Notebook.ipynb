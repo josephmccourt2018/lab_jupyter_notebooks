{
 "cells": [
  {
   "cell_type": "markdown",
   "metadata": {},
   "source": [
    "&copy; Bedzyk Research Group 2020, Northwestern University"
   ]
  },
  {
   "cell_type": "markdown",
   "metadata": {},
   "source": [
    "# Installing Anaconda\n",
    "\n",
    "Anaconda is an open source Python distribution platform. Downloading Anaconda will allow you execute Python code in an interactive development environment (IDE). \n",
    "\n",
    "To get started, go to the following link:\n",
    ">https://www.anaconda.com/products/individual/\n",
    "\n",
    "Click on Download and install the necessary version for your operating system (Windows, MacOS, Linux). Downloading Python through Anaconda should have downloaded the required package Jupyter notebook. See the following link for more details:\n",
    ">https://jupyter.readthedocs.io/en/latest/install/notebook-classic.html\n",
    "\n",
    "Open a new terminal (Mac OS/Linux) or command prompt (Windows) window and type in the following:\n",
    "\n",
    "<code class=\"language-plaintext highlighter-rouge\">jupyter notebook</code> \n",
    "\n",
    "Jupyter Notebook will now open in your default web browser. It will look similar to this:\n",
    "\n",
    "<img src=\"images/jupyter_home_screen_shot.png\" />\n",
    "\n",
    "If Jupyter Notebook opened in your default web browser, you are all set and may skip the next section. If not, we will manually install Jupyter Notebook in the next section to see if that corrects the issue."
   ]
  },
  {
   "cell_type": "markdown",
   "metadata": {},
   "source": [
    "# Installing Jupyter Notebook (classic)"
   ]
  },
  {
   "cell_type": "markdown",
   "metadata": {},
   "source": [
    "In case Jupyter Notebook did not install when installing Anaconda, these next steps will show you how to install Jupyter Notebook manually. We need the Jupyter Notebook package as this is the IDE we will be using for laboratory exercises.\n",
    "\n",
    "Open a new terminal or command line window and type in the following:\n",
    "\n",
    "<code class=\"language-plaintext highlighter-rouge\">conda install -c conda-forge notebook</code> \n",
    "\n",
    "Now, open another new terminal or command line window and type in the following command:\n",
    "\n",
    "<code class=\"language-plaintext highlighter-rouge\">jupyter notebook</code> \n",
    "\n",
    "<div class=\"alert alert-block alert-danger\">\n",
    "For more information on installation procedures and documentation for Jupyter Notebook:\n",
    "    \n",
    ">https://jupyter.readthedocs.io/en/latest/index.html\n",
    "</div>"
   ]
  },
  {
   "cell_type": "markdown",
   "metadata": {},
   "source": [
    "## **You should now have jupyter notebook installed and running in your default web browser. You can now close the jupyter notebook tabs in your web browser and close the terminal window or command prompt used to open jupyter notebook.** \n",
    "\n",
    "**_Every time you want to run jupyter notebook_**, type in <code class=\"language-plaintext highlighter-rouge\">jupyter notebook</code> into a terminal or command prompt window and hit enter. This will automatically open up a new jupyter notebook session within the directory you entered the command."
   ]
  }
 ],
 "metadata": {
  "kernelspec": {
   "display_name": "Python 3",
   "language": "python",
   "name": "python3"
  },
  "language_info": {
   "codemirror_mode": {
    "name": "ipython",
    "version": 3
   },
   "file_extension": ".py",
   "mimetype": "text/x-python",
   "name": "python",
   "nbconvert_exporter": "python",
   "pygments_lexer": "ipython3",
   "version": "3.7.3"
  }
 },
 "nbformat": 4,
 "nbformat_minor": 2
}
