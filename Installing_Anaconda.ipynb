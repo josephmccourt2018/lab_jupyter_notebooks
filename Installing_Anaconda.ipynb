{
 "cells": [
  {
   "cell_type": "markdown",
   "metadata": {},
   "source": [
    "&copy; Bedzyk Research Group 2020, Northwestern University"
   ]
  },
  {
   "cell_type": "markdown",
   "metadata": {},
   "source": [
    "# Installing Anaconda\n",
    "\n",
    "Anaconda is an open source Python distribution platform. Downloading Anaconda will allow you execute Python code in an interactive development environment (IDE). \n",
    "\n",
    "To get started, go to the following link:\n",
    ">https://www.anaconda.com/products/individual/\n",
    "\n",
    "Follow the steps that appear on your screen as you progress through the installation.\n",
    "\n",
    "Click on Download and install the necessary version for your operating system (Windows, MacOS, Linux). Downloading Python through Anaconda will have downloaded the required package Jupyter notebook. See the following link for more details:\n",
    ">https://jupyter.readthedocs.io/en/latest/install/notebook-classic.html\n",
    "\n",
    "Open up the application Anaconda Navigator. This will take a few moments. You will see the following:\n",
    "\n",
    "<img src=\"images/anaconda_navigator.png\" />\n",
    "\n",
    "Anaconda Navigator displays different integrated development environments (IDE). IDEs provide you with a place write and execue code. We will be using Jupyter Notebook (not Jupyter Lab). In your own time, feel free to open up some of the other options to see what they look like!\n",
    "\n",
    "You should now move on to the \"Starting_Up_Lab_Exercises_Jupyter_Notebooks_Anaconda.pdf\"!"
   ]
  }
 ],
 "metadata": {
  "kernelspec": {
   "display_name": "Python 3",
   "language": "python",
   "name": "python3"
  },
  "language_info": {
   "codemirror_mode": {
    "name": "ipython",
    "version": 3
   },
   "file_extension": ".py",
   "mimetype": "text/x-python",
   "name": "python",
   "nbconvert_exporter": "python",
   "pygments_lexer": "ipython3",
   "version": "3.7.3"
  }
 },
 "nbformat": 4,
 "nbformat_minor": 2
}
