{
 "cells": [
  {
   "cell_type": "code",
   "execution_count": null,
   "metadata": {},
   "outputs": [],
   "source": []
  },
  {
   "cell_type": "markdown",
   "metadata": {},
   "source": [
    "#  Determine Miscut of Surface and Align Phi-Axis\n",
    "*Date of Test Run: 20200910*\n",
    "\n",
    "**A.** Align $\\phi$ axis of the diffractomter with the $c$-axis of the substrate. In doing so, you will be determining the miscut angle of the surface relative to the $c$-planes (basal planes) of the substrate. This should be  between $0^{\\circ}$ and $1^{\\circ}$. The miscut is the result of how the crystal was cut and polished and usually a specification given by the manufacturer. In some cases, there is an intentional miscut of the surface to enhance epitaxial growth in a process where the nucleation occurs at step edges (a particular orientaion). \n",
    "    - Align by adjusting R$_x$ and R$_y$.\n",
    "**B.** $\\phi$ scans as fixed $\\omega$, $\\chi$"
   ]
  },
  {
   "cell_type": "markdown",
   "metadata": {},
   "source": [
    "### Follow the steps below to determine the miscut of the substrate:\n",
    "1. IS = 0.1mm, RS1 = RS2 = 0.2mm for alignment, Soller Slit = $5^{\\circ}$.\n",
    "    - 2$\\theta\\chi$ scan should be around $10^{6}$ cps (-2 to 2 $^{\\circ}$)\n",
    "    - 2$\\theta$ scan, -0.2 to 0.2, flat top looking peak, should be at 0.0018$^{\\circ}$\n",
    "    \n",
    "    \n",
    "2. Align the sample (z-scan) (same steps as before) (also involves R$_y$ scan -1 to 1) ($2\\theta\\omega$ was moved to 1 degree for this part)\n",
    "3. Now move $2\\theta$ to Al$_2$O$_3$ (006) peak ($2\\theta  = 41.6666^{\\circ}$), do a $\\omega$ scan (relative -0.2 to 0.2, 0.001 deg step, 1 deg/min)\n",
    "    - $2\\theta\\omega$, -0.1 to 0.1 relative, 0.002 step, 1 deg/min, peak might not be exactly 41.667 (move to that peak), we will keep $2\\theta$ equal to this value (~41.6674)\n",
    "    - Now do $\\omega$ scans stepping $45^{\\circ}$ in $\\phi$ ($\\phi = $ 0, 45, 90 135, 180, ..., 360), $\\omega$ scans can now be from -0.1 to 0.1 (make a **table** of the $\\omega$ peak values at each $\\phi$ value). Then fit to the equation below.\n",
    "    - Rotate to $\\phi = \\phi_0$\n",
    "    - Do R$_y$ -0.05 to 0.05 relative, 0.01 step, 0.5 deg/min and R$_x$ -2 to 2, 0.1 step, 8 deg/min"
   ]
  },
  {
   "cell_type": "markdown",
   "metadata": {},
   "source": [
    "### Calculating Miscut\n",
    "\n",
    "0. Align in surface normal (you could do this with a laser, but otherwise you use specular reflection from surface to find surface normal, low angle)\n",
    "1. Determine miscut\n",
    "1. Go to (006) peak of sapphire\n",
    "3. $\\omega$ vs. $\\phi$ plot"
   ]
  },
  {
   "cell_type": "markdown",
   "metadata": {},
   "source": [
    "# STEP LIST IN-PLANE SCANS (GENERAL)\n",
    "\n",
    "$$\\omega(\\phi) = \\gamma\\sin(\\phi-\\phi_0)+\\omega_0$$"
   ]
  },
  {
   "cell_type": "code",
   "execution_count": 1,
   "metadata": {},
   "outputs": [
    {
     "name": "stdout",
     "output_type": "stream",
     "text": [
      "gamma = 0.1393379062177215\n",
      "phi_0 = -2.3245997325251224\n",
      "omega_0 = 20.8495\n",
      "2_theta = 41.699\n"
     ]
    },
    {
     "data": {
      "text/plain": [
       "20.8335"
      ]
     },
     "execution_count": 1,
     "metadata": {},
     "output_type": "execute_result"
    },
    {
     "data": {
      "image/png": "[encoded data removed]",
      "text/plain": [
       "<Figure size 432x288 with 1 Axes>"
      ]
     },
     "metadata": {
      "needs_background": "light"
     },
     "output_type": "display_data"
    }
   ],
   "source": [
    "import math\n",
    "import numpy as np\n",
    "import matplotlib.pyplot as plt\n",
    "from scipy.optimize import curve_fit\n",
    "\n",
    "# For test run of 461 lab 3\n",
    "# fitting the miscut curve\n",
    "#phi = [0.,45.,90.,135.,180.,225.,270.,315.]\n",
    "phi = [0.,45.,90.,135.,180.,225.,270.,315.]\n",
    "phi2 = [i * math.pi/180 for i in phi]\n",
    "\n",
    "#measured for Fe2O3 50nm film on 006 sapphire\n",
    "omega = [20.864,20.856,20.843,20.831, 20.829, 20.836, 20.849, 20.859]\n",
    "#measured for Pt 18nm film on 006 sapphire\n",
    "omega2 = [20.856, 20.951, 20.989, 20.944, 20.844, 20.747, 20.710, 20.755]\n",
    "\n",
    "def fit(x,gamma,phi_0,omega_0):\n",
    "    return gamma*np.sin(x-phi_0)+omega_0\n",
    "\n",
    "popt, pcov = curve_fit(fit, phi2, omega2)\n",
    "\n",
    "x=np.arange(0,315)\n",
    "x2 =[i * math.pi/180 for i in x]\n",
    "x3 =[i * 180 / math.pi for i in x2]\n",
    "\n",
    "plt.scatter(phi,omega2)\n",
    "plt.plot(x3,fit(x2,*popt),'g--')\n",
    "plt.xlabel(\"$\\phi$\")\n",
    "plt.ylabel(\"$\\omega$\")\n",
    "\n",
    "print(\"gamma = \" + str(popt[0]))\n",
    "print(\"phi_0 = \" + str(popt[1]*180/math.pi))\n",
    "print(\"omega_0 = \" + str(popt[2]))\n",
    "print(\"2_theta = \"+str(popt[2]*2))\n",
    "41.667/2"
   ]
  },
  {
   "cell_type": "markdown",
   "metadata": {},
   "source": [
    "$\\phi_0$ is the azimuthal angle at which plane is defined perpendicular to the scattering plane"
   ]
  },
  {
   "cell_type": "code",
   "execution_count": null,
   "metadata": {},
   "outputs": [],
   "source": []
  }
 ],
 "metadata": {
  "kernelspec": {
   "display_name": "Python 3",
   "language": "python",
   "name": "python3"
  },
  "language_info": {
   "codemirror_mode": {
    "name": "ipython",
    "version": 3
   },
   "file_extension": ".py",
   "mimetype": "text/x-python",
   "name": "python",
   "nbconvert_exporter": "python",
   "pygments_lexer": "ipython3",
   "version": "3.7.3"
  }
 },
 "nbformat": 4,
 "nbformat_minor": 2
}
