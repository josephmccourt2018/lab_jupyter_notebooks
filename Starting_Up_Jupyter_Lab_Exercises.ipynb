{
 "cells": [
  {
   "cell_type": "markdown",
   "metadata": {},
   "source": [
    "&copy; Bedzyk Research Group 2020, Northwestern University"
   ]
  },
  {
   "cell_type": "markdown",
   "metadata": {},
   "source": [
    "# Download \"Lab_Exercises\" Folder and Start Up Jupyter Notebook\n",
    "First, navigate to the Canvas page for the MSE 461 course. There, you will find a \"Lab_Exercises\" folder within \"Files\". Download this folder to your personal computer and place it whereever you please.\n",
    "\n",
    "Now, open a new terminal/command line window. We now want to navigate to the \"Lab_Exercises\" folder you just downloaded. This is achieved by using the <code class=\"language-plaintext highlighter-rouge\">cd</code> command. The <code class=\"language-plaintext highlighter-rouge\">cd</code> command stands for \"**c**hange  **d**irectory\". Move to the \"Lab_Exercises\" directory on your personal computer. For example, if you saved \"Lab_Exercises\" in \"Documents\", you would navigate to change to the \"Lab_Exerises\" directory by executing the following commands in terminal/command line:\n",
    "\n",
    "<code class=\"language-plaintext highlighter-rouge\">cd Documents</code>\n",
    "\n",
    "<code class=\"language-plaintext highlighter-rouge\">cd Lab_Exercises</code>\n",
    "\n",
    "Now, your terminal window is working within the \"Lab_Exercises\" folder (On Mac OS or Linux, you can check this by executing the \"**p**rint **w**orking **d**irectory\" command: <code class=\"language-plaintext highlighter-rouge\">pwd</code>. For Windows, use the <code class=\"language-plaintext highlighter-rouge\">cd</code> command with no arguments).\n",
    "\n",
    "Within this terminal/command line window, start up jupyter notebook (remember how to do this?). Jupyter notebook should open up in your web browser and you should see the following:\n",
    "<img src=\"images/jupyter_home_screen_shot.png\" />\n",
    "\n",
    "Open up \"Starting_Up_Jupyter_Lab_Exercises.ipynb\" by clicking on the text. You should now see a jupyter notebook of the same pdf you are reading! Proceed to the **Jupyter Notebook Introduction** section within the jupyter notebook version of this pdf.\n"
   ]
  },
  {
   "cell_type": "markdown",
   "metadata": {},
   "source": [
    "# Jupyter Notebook Introduction\n",
    "\n",
    "Jupyter Notebook is a an open source web application/user interface that allows users to create and share documents containing code, equations, visualizations, and narrative text by using a combination of different programming languages. In this Jupyter Notebook (*XRR.ipynb*), we will be using **Python 3** for all analysis purposes (in the top right corner of this page, you will see the tag Python 3 which tells you the programming language of the notebook). The most important concept of Jupyter Notebooks is the concept of a **cell block**. Clicking on a block of text or code will highlight (in blue in this case) the current cell block you are viewing. Click on this block of text. In the menu bar at the top of this document, you will see a drop down menu: <img src=\"images/markdown_dropdown.png\"/> \n",
    "\n",
    "**Markdown** is referring the type of this cell block. Markdown is a text formatting language supported in Jupyter Notebook. By *double clicking* on the text you are reading right now, you will see the Markdown version of the cell block. You will see the other types of supported cell blocks by clicking the drop down menu. For example, \"Code\" is another type of cell block you will be seeing in this document and they all contain snippets of Python 3 code. \n",
    "\n",
    "To run code of a particular cell block, click into the cell and either click the run button above: \n",
    "\n",
    "<img src=\"images/run_jupyter.png\"/>\n",
    "\n",
    "or click \"Shift+Enter\" on your keyboard. Running a cell will also allow you to exit the \"code view\" version of a Markdown cell block. \n",
    "\n",
    "The following code cell block contains a line of code that declares a variable $x$ and assigns it with the value of $3$. Run that cell and try changing the value of $x$ to a different value."
   ]
  },
  {
   "cell_type": "code",
   "execution_count": 3,
   "metadata": {},
   "outputs": [
    {
     "name": "stdout",
     "output_type": "stream",
     "text": [
      "The value of x is 3\n"
     ]
    }
   ],
   "source": [
    "x = 3\n",
    "print(\"The value of x is \" + str(x))"
   ]
  },
  {
   "cell_type": "markdown",
   "metadata": {},
   "source": [
    "You will acquire much more practice with jupyter notebook throughout the lab exercises. This introduction is shown at the beginning of every lab notebook document in case you forget anything.\n",
    "\n",
    "Let us know if you have any questions!\n",
    "\n",
    "<div class=\"alert alert-block alert-warning\">\n",
    "    <strong>FINAL NOTE</strong>:\n",
    "<br><br/>\n",
    "Every time you want to access the jupyter notebooks for lab exercises, you must navigate to the \"Lab_Exercises\" directory!\n",
    "</div>\n"
   ]
  }
 ],
 "metadata": {
  "kernelspec": {
   "display_name": "Python 3",
   "language": "python",
   "name": "python3"
  },
  "language_info": {
   "codemirror_mode": {
    "name": "ipython",
    "version": 3
   },
   "file_extension": ".py",
   "mimetype": "text/x-python",
   "name": "python",
   "nbconvert_exporter": "python",
   "pygments_lexer": "ipython3",
   "version": "3.6.7"
  }
 },
 "nbformat": 4,
 "nbformat_minor": 2
}
